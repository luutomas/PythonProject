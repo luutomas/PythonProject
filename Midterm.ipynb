{
 "cells": [
  {
   "cell_type": "code",
   "execution_count": 1,
   "metadata": {},
   "outputs": [],
   "source": [
    "import numpy as np\n",
    "import pandas as pd \n",
    "import requests\n",
    "from bs4 import BeautifulSoup\n",
    "import pandas as pd\n",
    "import tqdm as tqdm\n",
    "from lxml import html\n",
    "import time"
   ]
  },
  {
   "cell_type": "code",
   "execution_count": 3,
   "metadata": {},
   "outputs": [],
   "source": [
    "def getSoup_test(link):\n",
    "        r = requests.get(link)\n",
    "        r.encoding = 'UTF-8'\n",
    "        return BeautifulSoup(r.text, 'html')"
   ]
  },
  {
   "cell_type": "code",
   "execution_count": 23,
   "metadata": {},
   "outputs": [],
   "source": [
    "bf_test = getSoup_test('https://www.bezrealitky.cz/nemovitosti-byty-domy/595733-nabidka-prodej-bytu')"
   ]
  },
  {
   "cell_type": "code",
   "execution_count": 33,
   "metadata": {},
   "outputs": [],
   "source": [
    "bf_table = bf_test.find('div',{'data-element':\"detail-description\"}).find('table')"
   ]
  },
  {
   "cell_type": "code",
   "execution_count": 92,
   "metadata": {},
   "outputs": [
    {
     "output_type": "execute_result",
     "data": {
      "text/plain": "['Internet:\\n\\nZjistěte rychlost O2 internetu u vás doma.',\n 'Číslo inzerátu:\\n595733',\n 'Dispozice:\\n3+kk',\n 'Plocha:\\n96 m²',\n 'Cena:\\n7.590.000 Kč\\n\\nChci hypotéku\\n\\ni',\n 'Město:\\nPraha',\n 'Městská část:\\nZličín',\n 'Typ vlastnictví:\\nOsobní',\n 'Typ budovy:\\nCihla',\n 'Vybavenost:\\nVybavený\\nChci vybavit s Bonami',\n 'Podlaží:\\n5',\n 'Balkón:\\nAno',\n 'Terasa:\\nNe',\n 'Výtah:\\nNe',\n 'Garáž:\\nNe',\n 'K dispozici od:\\nIhned']"
     },
     "metadata": {},
     "execution_count": 92
    }
   ],
   "source": [
    "table_extract = [i.text.strip() for i in bf_table.findAll('tr')]\n",
    "table_extract"
   ]
  },
  {
   "cell_type": "code",
   "execution_count": 72,
   "metadata": {},
   "outputs": [],
   "source": [
    "data_frame = pd.DataFrame(table_extract)"
   ]
  },
  {
   "cell_type": "code",
   "execution_count": 199,
   "metadata": {},
   "outputs": [
    {
     "output_type": "execute_result",
     "data": {
      "text/plain": "                         value\nmetric                        \nInternet:                     \nČíslo inzerátu:         595733\nDispozice:                3+kk\nPlocha:                  96 m²\nCena:             7.590.000 Kč\nMěsto:                   Praha\nMěstská část:           Zličín\nTyp vlastnictví:        Osobní\nTyp budovy:              Cihla\nVybavenost:           Vybavený\nPodlaží:                     5\nBalkón:                    Ano\nTerasa:                     Ne\nVýtah:                      Ne\nGaráž:                      Ne\nK dispozici od:          Ihned",
      "text/html": "<div>\n<style scoped>\n    .dataframe tbody tr th:only-of-type {\n        vertical-align: middle;\n    }\n\n    .dataframe tbody tr th {\n        vertical-align: top;\n    }\n\n    .dataframe thead th {\n        text-align: right;\n    }\n</style>\n<table border=\"1\" class=\"dataframe\">\n  <thead>\n    <tr style=\"text-align: right;\">\n      <th></th>\n      <th>value</th>\n    </tr>\n    <tr>\n      <th>metric</th>\n      <th></th>\n    </tr>\n  </thead>\n  <tbody>\n    <tr>\n      <th>Internet:</th>\n      <td></td>\n    </tr>\n    <tr>\n      <th>Číslo inzerátu:</th>\n      <td>595733</td>\n    </tr>\n    <tr>\n      <th>Dispozice:</th>\n      <td>3+kk</td>\n    </tr>\n    <tr>\n      <th>Plocha:</th>\n      <td>96 m²</td>\n    </tr>\n    <tr>\n      <th>Cena:</th>\n      <td>7.590.000 Kč</td>\n    </tr>\n    <tr>\n      <th>Město:</th>\n      <td>Praha</td>\n    </tr>\n    <tr>\n      <th>Městská část:</th>\n      <td>Zličín</td>\n    </tr>\n    <tr>\n      <th>Typ vlastnictví:</th>\n      <td>Osobní</td>\n    </tr>\n    <tr>\n      <th>Typ budovy:</th>\n      <td>Cihla</td>\n    </tr>\n    <tr>\n      <th>Vybavenost:</th>\n      <td>Vybavený</td>\n    </tr>\n    <tr>\n      <th>Podlaží:</th>\n      <td>5</td>\n    </tr>\n    <tr>\n      <th>Balkón:</th>\n      <td>Ano</td>\n    </tr>\n    <tr>\n      <th>Terasa:</th>\n      <td>Ne</td>\n    </tr>\n    <tr>\n      <th>Výtah:</th>\n      <td>Ne</td>\n    </tr>\n    <tr>\n      <th>Garáž:</th>\n      <td>Ne</td>\n    </tr>\n    <tr>\n      <th>K dispozici od:</th>\n      <td>Ihned</td>\n    </tr>\n  </tbody>\n</table>\n</div>"
     },
     "metadata": {},
     "execution_count": 199
    }
   ],
   "source": [
    "data_frame_recon = data_frame[0].str.split(\"\\n\", expand = True)\n",
    "df = pd.DataFrame(data_frame_recon[[0,1]])\n",
    "df.columns = ['metric', 'value']\n",
    "df = df.set_index('metric')\n",
    "df"
   ]
  },
  {
   "cell_type": "code",
   "execution_count": 149,
   "metadata": {},
   "outputs": [
    {
     "output_type": "stream",
     "name": "stdout",
     "text": "50.0568199,14.2850438\n"
    },
    {
     "output_type": "execute_result",
     "data": {
      "text/plain": "'50.0568199'"
     },
     "metadata": {},
     "execution_count": 149
    }
   ],
   "source": [
    "bf_map = bf_test.find('div',{'id':\"map\"})\n",
    "x = bf_map.find('iframe')['src'].find('q=') + 2\n",
    "y = bf_map.find('iframe')['src'].find('&key')\n",
    "location = bf_map.find('iframe')['src'][x:y]\n",
    "print(location)\n",
    "str_test = location.split(',')\n",
    "str_test[0]"
   ]
  },
  {
   "cell_type": "code",
   "execution_count": 200,
   "metadata": {},
   "outputs": [
    {
     "output_type": "execute_result",
     "data": {
      "text/plain": "                         value\nInternet:                     \nČíslo inzerátu:         595733\nDispozice:                3+kk\nPlocha:                  96 m²\nCena:             7.590.000 Kč\nMěsto:                   Praha\nMěstská část:           Zličín\nTyp vlastnictví:        Osobní\nTyp budovy:              Cihla\nVybavenost:           Vybavený\nPodlaží:                     5\nBalkón:                    Ano\nTerasa:                     Ne\nVýtah:                      Ne\nGaráž:                      Ne\nK dispozici od:          Ihned\nlat                 50.0568199\nlong                14.2850438",
      "text/html": "<div>\n<style scoped>\n    .dataframe tbody tr th:only-of-type {\n        vertical-align: middle;\n    }\n\n    .dataframe tbody tr th {\n        vertical-align: top;\n    }\n\n    .dataframe thead th {\n        text-align: right;\n    }\n</style>\n<table border=\"1\" class=\"dataframe\">\n  <thead>\n    <tr style=\"text-align: right;\">\n      <th></th>\n      <th>value</th>\n    </tr>\n  </thead>\n  <tbody>\n    <tr>\n      <th>Internet:</th>\n      <td></td>\n    </tr>\n    <tr>\n      <th>Číslo inzerátu:</th>\n      <td>595733</td>\n    </tr>\n    <tr>\n      <th>Dispozice:</th>\n      <td>3+kk</td>\n    </tr>\n    <tr>\n      <th>Plocha:</th>\n      <td>96 m²</td>\n    </tr>\n    <tr>\n      <th>Cena:</th>\n      <td>7.590.000 Kč</td>\n    </tr>\n    <tr>\n      <th>Město:</th>\n      <td>Praha</td>\n    </tr>\n    <tr>\n      <th>Městská část:</th>\n      <td>Zličín</td>\n    </tr>\n    <tr>\n      <th>Typ vlastnictví:</th>\n      <td>Osobní</td>\n    </tr>\n    <tr>\n      <th>Typ budovy:</th>\n      <td>Cihla</td>\n    </tr>\n    <tr>\n      <th>Vybavenost:</th>\n      <td>Vybavený</td>\n    </tr>\n    <tr>\n      <th>Podlaží:</th>\n      <td>5</td>\n    </tr>\n    <tr>\n      <th>Balkón:</th>\n      <td>Ano</td>\n    </tr>\n    <tr>\n      <th>Terasa:</th>\n      <td>Ne</td>\n    </tr>\n    <tr>\n      <th>Výtah:</th>\n      <td>Ne</td>\n    </tr>\n    <tr>\n      <th>Garáž:</th>\n      <td>Ne</td>\n    </tr>\n    <tr>\n      <th>K dispozici od:</th>\n      <td>Ihned</td>\n    </tr>\n    <tr>\n      <th>lat</th>\n      <td>50.0568199</td>\n    </tr>\n    <tr>\n      <th>long</th>\n      <td>14.2850438</td>\n    </tr>\n  </tbody>\n</table>\n</div>"
     },
     "metadata": {},
     "execution_count": 200
    }
   ],
   "source": [
    "loc_dict = {\"lat\" : [str_test[0]], \"long\": [str_test[1]]}\n",
    "loc_dict\n",
    "loc_df = pd.DataFrame.from_dict(loc_dict, orient = 'index', columns = ['value'])\n",
    "df_upd = pd.concat([df, loc_df])\n",
    "df_upd"
   ]
  },
  {
   "cell_type": "code",
   "execution_count": 25,
   "metadata": {},
   "outputs": [],
   "source": [
    "class HouseForSale: \n",
    "    '''\n",
    "    Getting infos from webpage \n",
    "    '''\n",
    "    def __init__(self, link):\n",
    "        '''\n",
    "        Input link to search Books appered in \n",
    "        '''\n",
    "        self.link = link\n",
    "\n",
    "    def getSoup(self):\n",
    "        r = requests.get(self.link)\n",
    "        r.encoding = 'UTF-8'\n",
    "        return BeautifulSoup(r.text, 'html')\n",
    "    \n",
    "    def getParameters(self):\n",
    "        bf = self.getSoup()\n",
    "        bf_table = bf.find('div',{'data-element':\"detail-description\"}).find('table')\n",
    "        table_extract = [i.text.strip() for i in bf_table.findAll('tr')]\n",
    "        df_table = pd.DataFrame(table_extract)\n",
    "        df_table_split = df_table[0].str.split(\"\\n\", expand = True)\n",
    "        df = pd.DataFrame(df_table_split[[0,1]])\n",
    "        df.columns = ['metric', 'value']\n",
    "        df = df.set_index('metric')\n",
    "        return df\n",
    "    \n",
    "    def getMap(self):\n",
    "        bf = self.getSoup()\n",
    "        bf_map = bf.find('div',{'id':\"map\"})\n",
    "        x = bf_map.find('iframe')['src'].find('q=') + 2\n",
    "        y = bf_map.find('iframe')['src'].find('&key')\n",
    "        location = bf_map.find('iframe')['src'][x:y]\n",
    "        loc_str = location.split(',')\n",
    "        loc_dict = {\"lat\" : [loc_str[0]], \"long\": [loc_str[1]]}\n",
    "        loc_df = pd.DataFrame.from_dict(loc_dict, orient = 'index', columns = ['value'])\n",
    "        return loc_df\n",
    "    \n",
    "    def getDf(self):\n",
    "        df_par = self.getParameters()\n",
    "        df_map = self.getMap()\n",
    "        df = pd.concat([df_par, df_map])\n",
    "        return df"
   ]
  },
  {
   "cell_type": "code",
   "execution_count": 26,
   "metadata": {},
   "outputs": [
    {
     "output_type": "execute_result",
     "data": {
      "text/plain": "                         value\nInternet:                     \nČíslo inzerátu:         595733\nDispozice:                3+kk\nPlocha:                  96 m²\nCena:             7.590.000 Kč\nMěsto:                   Praha\nMěstská část:           Zličín\nTyp vlastnictví:        Osobní\nTyp budovy:              Cihla\nVybavenost:           Vybavený\nPodlaží:                     5\nBalkón:                    Ano\nTerasa:                     Ne\nVýtah:                      Ne\nGaráž:                      Ne\nK dispozici od:          Ihned\nlat                 50.0568199\nlong                14.2850438",
      "text/html": "<div>\n<style scoped>\n    .dataframe tbody tr th:only-of-type {\n        vertical-align: middle;\n    }\n\n    .dataframe tbody tr th {\n        vertical-align: top;\n    }\n\n    .dataframe thead th {\n        text-align: right;\n    }\n</style>\n<table border=\"1\" class=\"dataframe\">\n  <thead>\n    <tr style=\"text-align: right;\">\n      <th></th>\n      <th>value</th>\n    </tr>\n  </thead>\n  <tbody>\n    <tr>\n      <th>Internet:</th>\n      <td></td>\n    </tr>\n    <tr>\n      <th>Číslo inzerátu:</th>\n      <td>595733</td>\n    </tr>\n    <tr>\n      <th>Dispozice:</th>\n      <td>3+kk</td>\n    </tr>\n    <tr>\n      <th>Plocha:</th>\n      <td>96 m²</td>\n    </tr>\n    <tr>\n      <th>Cena:</th>\n      <td>7.590.000 Kč</td>\n    </tr>\n    <tr>\n      <th>Město:</th>\n      <td>Praha</td>\n    </tr>\n    <tr>\n      <th>Městská část:</th>\n      <td>Zličín</td>\n    </tr>\n    <tr>\n      <th>Typ vlastnictví:</th>\n      <td>Osobní</td>\n    </tr>\n    <tr>\n      <th>Typ budovy:</th>\n      <td>Cihla</td>\n    </tr>\n    <tr>\n      <th>Vybavenost:</th>\n      <td>Vybavený</td>\n    </tr>\n    <tr>\n      <th>Podlaží:</th>\n      <td>5</td>\n    </tr>\n    <tr>\n      <th>Balkón:</th>\n      <td>Ano</td>\n    </tr>\n    <tr>\n      <th>Terasa:</th>\n      <td>Ne</td>\n    </tr>\n    <tr>\n      <th>Výtah:</th>\n      <td>Ne</td>\n    </tr>\n    <tr>\n      <th>Garáž:</th>\n      <td>Ne</td>\n    </tr>\n    <tr>\n      <th>K dispozici od:</th>\n      <td>Ihned</td>\n    </tr>\n    <tr>\n      <th>lat</th>\n      <td>50.0568199</td>\n    </tr>\n    <tr>\n      <th>long</th>\n      <td>14.2850438</td>\n    </tr>\n  </tbody>\n</table>\n</div>"
     },
     "metadata": {},
     "execution_count": 26
    }
   ],
   "source": [
    "HouseForSale('https://www.bezrealitky.cz/nemovitosti-byty-domy/595733-nabidka-prodej-bytu').getDf()"
   ]
  },
  {
   "cell_type": "code",
   "execution_count": 14,
   "metadata": {},
   "outputs": [],
   "source": [
    "class Downloader:\n",
    "    '''\n",
    "    Download all links for bookchecker to initiate\n",
    "    '''\n",
    "    def __init__(self, link):\n",
    "        '''\n",
    "        Give link to extract links of given webpages\n",
    "        '''\n",
    "        self.link = link\n",
    "    \n",
    "    def getSoup(self):\n",
    "        r = requests.get(self.link)\n",
    "        r.encoding = 'UTF-8'\n",
    "        return BeautifulSoup(r.text, 'lxml')\n",
    "\n",
    "    def getLinks(self):\n",
    "        wp = self.getSoup()\n",
    "        links = wp.find('span',{'id':'Unseen_University_and_the_Wizards'}).parent.previous.previous.parent.parent.parent.find_all('li')\n",
    "        return ['http://wiki.lspace.org' + li.find('a')['href'] for li in links]\n",
    "\n",
    "    def getDataFrame(self):\n",
    "        links = self.getLinks()\n",
    "        name_list = [BookTaker(i).getName() for i in links]\n",
    "        books_list = [BookTaker(i).getBooks() for i in links]\n",
    "        return pd.DataFrame({\"Character\":name_list, \"Books\":books_list})\n",
    "        "
   ]
  }
 ],
 "metadata": {
  "language_info": {
   "name": "python",
   "codemirror_mode": {
    "name": "ipython",
    "version": 3
   },
   "version": "3.8.1-final"
  },
  "orig_nbformat": 2,
  "file_extension": ".py",
  "mimetype": "text/x-python",
  "name": "python",
  "npconvert_exporter": "python",
  "pygments_lexer": "ipython3",
  "version": 3,
  "kernelspec": {
   "name": "python3",
   "display_name": "Python 3"
  }
 },
 "nbformat": 4,
 "nbformat_minor": 2
}