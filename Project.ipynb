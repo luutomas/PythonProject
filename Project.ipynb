{
 "cells": [
  {
   "cell_type": "code",
   "execution_count": 234,
   "metadata": {},
   "outputs": [],
   "source": [
    "import numpy as np\n",
    "import pandas as pd \n",
    "import requests\n",
    "from bs4 import BeautifulSoup\n",
    "import pandas as pd\n",
    "import tqdm as tqdm\n",
    "from lxml import html\n",
    "import time\n",
    "import itertools"
   ]
  },
  {
   "cell_type": "code",
   "execution_count": 188,
   "metadata": {},
   "outputs": [],
   "source": [
    "class HouseForSale: \n",
    "    '''\n",
    "    Getting desired infos from the webpage provided\n",
    "    '''\n",
    "    def __init__(self, link):\n",
    "        '''\n",
    "        Input a link in order to extract the necessary information\n",
    "        '''\n",
    "        self.link = link\n",
    "\n",
    "    def getSoup(self):\n",
    "        r = requests.get(self.link)\n",
    "        r.encoding = 'UTF-8'\n",
    "        return BeautifulSoup(r.text, 'html')\n",
    "    \n",
    "    def getParameters(self):\n",
    "        '''\n",
    "        Get parameters such as price, disposition, the state of the house\n",
    "        '''\n",
    "        bf = self.getSoup()\n",
    "        bf_table = bf.find('div',{'data-element':\"detail-description\"}).find('table')\n",
    "        table_extract = [i.text.strip() for i in bf_table.findAll('tr')]\n",
    "        df_table = pd.DataFrame(table_extract)\n",
    "        df_table_split = df_table[0].str.split(\"\\n\", expand = True)\n",
    "        df = pd.DataFrame(df_table_split[[0,1]])\n",
    "        df.columns = ['metric', 'value']\n",
    "        df = df.set_index('metric')\n",
    "        return df\n",
    "    \n",
    "    def getMap(self):\n",
    "        '''\n",
    "        Get location of the property using embeded google maps longtitute and lattitude parameters\n",
    "        '''\n",
    "        bf = self.getSoup()\n",
    "        bf_map = bf.find('div',{'id':\"map\"})\n",
    "        x = bf_map.find('iframe')['src'].find('q=') + 2 \n",
    "        y = bf_map.find('iframe')['src'].find('&key')\n",
    "        location = bf_map.find('iframe')['src'][x:y]\n",
    "        loc_str = location.split(',')\n",
    "        loc_dict = {\"lat\" : [loc_str[0]], \"long\": [loc_str[1]]}\n",
    "        loc_df = pd.DataFrame.from_dict(loc_dict, orient = 'index', columns = ['value'])\n",
    "        return loc_df\n",
    "    \n",
    "    def getDf(self):\n",
    "        '''\n",
    "        Return a wide dataframe from getMap() and getParameters(), index = latitute and longtitude\n",
    "        '''\n",
    "        df_par = self.getParameters()\n",
    "        df_map = self.getMap()\n",
    "        df = pd.concat([df_par, df_map])\n",
    "        df = pd.melt(df.T, id_vars = ['lat','long'])\n",
    "        return df"
   ]
  },
  {
   "cell_type": "code",
   "execution_count": 210,
   "metadata": {},
   "outputs": [
    {
     "output_type": "execute_result",
     "data": {
      "text/plain": "                                    variable                          value\nlat        long                                                            \n50.0707253 14.3752353              Internet:                               \n           14.3752353        Číslo inzerátu:                         522228\n           14.3752353             Dispozice:                            3+1\n           14.3752353                Plocha:                          75 m²\n           14.3752353                  Cena:                   6.400.000 Kč\n           14.3752353                 Město:                          Praha\n           14.3752353          Městská část:                        Smíchov\n           14.3752353       Typ vlastnictví:                         Osobní\n           14.3752353            Typ budovy:                          Panel\n           14.3752353                  PENB:                              A\n           14.3752353            Vybavenost:                       Vybavený\n           14.3752353               Podlaží:                              2\n           14.3752353                Balkón:                            Ano\n           14.3752353                Terasa:                             Ne\n           14.3752353                 Výtah:                             Ne\n           14.3752353                 Garáž:                             Ne\n           14.3752353        K dispozici od:                          ihned\n           14.3752353          Typ vytápění:                      centrální\n           14.3752353  Podlaží v rámci domu:  první až předposlední podlaží\n50.0519    14.347935               Internet:                               \n           14.347935         Číslo inzerátu:                         603644\n           14.347935              Dispozice:                           4+kk\n           14.347935                 Plocha:                         116 m²\n           14.347935                   Cena:                   8.500.000 Kč\n           14.347935                  Město:                          Praha\n           14.347935           Městská část:                       Stodůlky\n           14.347935        Typ vlastnictví:                         Osobní\n           14.347935             Typ budovy:                          Panel\n           14.347935                   PENB:                              D\n           14.347935                Podlaží:                              8\n           14.347935                 Balkón:                            Ano\n           14.347935                 Terasa:                             Ne\n           14.347935                  Výtah:                            Ano\n           14.347935                  Garáž:                            Ano\n           14.347935         K dispozici od:                     18.04.2020",
      "text/html": "<div>\n<style scoped>\n    .dataframe tbody tr th:only-of-type {\n        vertical-align: middle;\n    }\n\n    .dataframe tbody tr th {\n        vertical-align: top;\n    }\n\n    .dataframe thead th {\n        text-align: right;\n    }\n</style>\n<table border=\"1\" class=\"dataframe\">\n  <thead>\n    <tr style=\"text-align: right;\">\n      <th></th>\n      <th></th>\n      <th>variable</th>\n      <th>value</th>\n    </tr>\n    <tr>\n      <th>lat</th>\n      <th>long</th>\n      <th></th>\n      <th></th>\n    </tr>\n  </thead>\n  <tbody>\n    <tr>\n      <th rowspan=\"19\" valign=\"top\">50.0707253</th>\n      <th>14.3752353</th>\n      <td>Internet:</td>\n      <td></td>\n    </tr>\n    <tr>\n      <th>14.3752353</th>\n      <td>Číslo inzerátu:</td>\n      <td>522228</td>\n    </tr>\n    <tr>\n      <th>14.3752353</th>\n      <td>Dispozice:</td>\n      <td>3+1</td>\n    </tr>\n    <tr>\n      <th>14.3752353</th>\n      <td>Plocha:</td>\n      <td>75 m²</td>\n    </tr>\n    <tr>\n      <th>14.3752353</th>\n      <td>Cena:</td>\n      <td>6.400.000 Kč</td>\n    </tr>\n    <tr>\n      <th>14.3752353</th>\n      <td>Město:</td>\n      <td>Praha</td>\n    </tr>\n    <tr>\n      <th>14.3752353</th>\n      <td>Městská část:</td>\n      <td>Smíchov</td>\n    </tr>\n    <tr>\n      <th>14.3752353</th>\n      <td>Typ vlastnictví:</td>\n      <td>Osobní</td>\n    </tr>\n    <tr>\n      <th>14.3752353</th>\n      <td>Typ budovy:</td>\n      <td>Panel</td>\n    </tr>\n    <tr>\n      <th>14.3752353</th>\n      <td>PENB:</td>\n      <td>A</td>\n    </tr>\n    <tr>\n      <th>14.3752353</th>\n      <td>Vybavenost:</td>\n      <td>Vybavený</td>\n    </tr>\n    <tr>\n      <th>14.3752353</th>\n      <td>Podlaží:</td>\n      <td>2</td>\n    </tr>\n    <tr>\n      <th>14.3752353</th>\n      <td>Balkón:</td>\n      <td>Ano</td>\n    </tr>\n    <tr>\n      <th>14.3752353</th>\n      <td>Terasa:</td>\n      <td>Ne</td>\n    </tr>\n    <tr>\n      <th>14.3752353</th>\n      <td>Výtah:</td>\n      <td>Ne</td>\n    </tr>\n    <tr>\n      <th>14.3752353</th>\n      <td>Garáž:</td>\n      <td>Ne</td>\n    </tr>\n    <tr>\n      <th>14.3752353</th>\n      <td>K dispozici od:</td>\n      <td>ihned</td>\n    </tr>\n    <tr>\n      <th>14.3752353</th>\n      <td>Typ vytápění:</td>\n      <td>centrální</td>\n    </tr>\n    <tr>\n      <th>14.3752353</th>\n      <td>Podlaží v rámci domu:</td>\n      <td>první až předposlední podlaží</td>\n    </tr>\n    <tr>\n      <th rowspan=\"16\" valign=\"top\">50.0519</th>\n      <th>14.347935</th>\n      <td>Internet:</td>\n      <td></td>\n    </tr>\n    <tr>\n      <th>14.347935</th>\n      <td>Číslo inzerátu:</td>\n      <td>603644</td>\n    </tr>\n    <tr>\n      <th>14.347935</th>\n      <td>Dispozice:</td>\n      <td>4+kk</td>\n    </tr>\n    <tr>\n      <th>14.347935</th>\n      <td>Plocha:</td>\n      <td>116 m²</td>\n    </tr>\n    <tr>\n      <th>14.347935</th>\n      <td>Cena:</td>\n      <td>8.500.000 Kč</td>\n    </tr>\n    <tr>\n      <th>14.347935</th>\n      <td>Město:</td>\n      <td>Praha</td>\n    </tr>\n    <tr>\n      <th>14.347935</th>\n      <td>Městská část:</td>\n      <td>Stodůlky</td>\n    </tr>\n    <tr>\n      <th>14.347935</th>\n      <td>Typ vlastnictví:</td>\n      <td>Osobní</td>\n    </tr>\n    <tr>\n      <th>14.347935</th>\n      <td>Typ budovy:</td>\n      <td>Panel</td>\n    </tr>\n    <tr>\n      <th>14.347935</th>\n      <td>PENB:</td>\n      <td>D</td>\n    </tr>\n    <tr>\n      <th>14.347935</th>\n      <td>Podlaží:</td>\n      <td>8</td>\n    </tr>\n    <tr>\n      <th>14.347935</th>\n      <td>Balkón:</td>\n      <td>Ano</td>\n    </tr>\n    <tr>\n      <th>14.347935</th>\n      <td>Terasa:</td>\n      <td>Ne</td>\n    </tr>\n    <tr>\n      <th>14.347935</th>\n      <td>Výtah:</td>\n      <td>Ano</td>\n    </tr>\n    <tr>\n      <th>14.347935</th>\n      <td>Garáž:</td>\n      <td>Ano</td>\n    </tr>\n    <tr>\n      <th>14.347935</th>\n      <td>K dispozici od:</td>\n      <td>18.04.2020</td>\n    </tr>\n  </tbody>\n</table>\n</div>"
     },
     "metadata": {},
     "execution_count": 210
    }
   ],
   "source": [
    "pd.concat([df_test,house_1, house_2])"
   ]
  },
  {
   "cell_type": "markdown",
   "metadata": {},
   "source": [
    "# Downloader class\n",
    "- Manual test\n",
    "- defining class\n",
    "\n",
    "## Manual test"
   ]
  },
  {
   "cell_type": "code",
   "execution_count": 12,
   "metadata": {},
   "outputs": [],
   "source": [
    "def getLinks_test(link):\n",
    "    \n",
    "    page = requests.get(link)\n",
    "    if page.status_code == requests.codes.ok:\n",
    "        wp = getSoup_test(link)\n",
    "        base_url = 'https://www.bezrealitky.cz'\n",
    "        links = wp.findAll('div', {'product__body'})\n",
    "        return [base_url + equity.find('a')['href'] for equity in links]\n",
    "\n",
    "    next_page_text = wp.find('ul', class_=\"pagination justify-content-md-end\").findAll('li')[-1].text\n",
    "\n",
    "    if next_page_text == 'Další >':\n",
    "        next_page_partial = wp.find('ul', class_=\"pagination justify-content-md-end\").findAll('li')[-1].find('a')['href']\n",
    "        next_page_url = base_url + next_page_partial\n",
    "        links = wp.findAll('div', {'product__body'})\n",
    "        return [base_url + equity.find('a')['href'] for equity in links]\n",
    "    # No more 'Next' pages, finish the script\n",
    "    else:\n",
    "        print('Done')"
   ]
  },
  {
   "cell_type": "code",
   "execution_count": 13,
   "metadata": {},
   "outputs": [],
   "source": [
    "l = \"https://www.bezrealitky.cz/vypis/nabidka-prodej/byt/praha?_token=qNLlM7SSvDXIFrdOKHnbj0gv_-OMf7vw6yUc_-ILcFo\"\n",
    "links = getLinks_test(l)"
   ]
  },
  {
   "cell_type": "code",
   "execution_count": 14,
   "metadata": {},
   "outputs": [
    {
     "data": {
      "text/html": [
       "<div>\n",
       "<style scoped>\n",
       "    .dataframe tbody tr th:only-of-type {\n",
       "        vertical-align: middle;\n",
       "    }\n",
       "\n",
       "    .dataframe tbody tr th {\n",
       "        vertical-align: top;\n",
       "    }\n",
       "\n",
       "    .dataframe thead th {\n",
       "        text-align: right;\n",
       "    }\n",
       "</style>\n",
       "<table border=\"1\" class=\"dataframe\">\n",
       "  <thead>\n",
       "    <tr style=\"text-align: right;\">\n",
       "      <th></th>\n",
       "      <th>value</th>\n",
       "    </tr>\n",
       "  </thead>\n",
       "  <tbody>\n",
       "    <tr>\n",
       "      <th>Internet:</th>\n",
       "      <td></td>\n",
       "    </tr>\n",
       "    <tr>\n",
       "      <th>Číslo inzerátu:</th>\n",
       "      <td>602006</td>\n",
       "    </tr>\n",
       "    <tr>\n",
       "      <th>Dispozice:</th>\n",
       "      <td>4+1</td>\n",
       "    </tr>\n",
       "    <tr>\n",
       "      <th>Plocha:</th>\n",
       "      <td>95 m²</td>\n",
       "    </tr>\n",
       "    <tr>\n",
       "      <th>Cena:</th>\n",
       "      <td>3.290.000 Kč</td>\n",
       "    </tr>\n",
       "    <tr>\n",
       "      <th>Město:</th>\n",
       "      <td>Praha</td>\n",
       "    </tr>\n",
       "    <tr>\n",
       "      <th>Městská část:</th>\n",
       "      <td>Řepy</td>\n",
       "    </tr>\n",
       "    <tr>\n",
       "      <th>Typ vlastnictví:</th>\n",
       "      <td>Družstevní</td>\n",
       "    </tr>\n",
       "    <tr>\n",
       "      <th>Typ budovy:</th>\n",
       "      <td>Panel</td>\n",
       "    </tr>\n",
       "    <tr>\n",
       "      <th>PENB:</th>\n",
       "      <td>D</td>\n",
       "    </tr>\n",
       "    <tr>\n",
       "      <th>Vybavenost:</th>\n",
       "      <td>Nevybavený</td>\n",
       "    </tr>\n",
       "    <tr>\n",
       "      <th>Podlaží:</th>\n",
       "      <td>6</td>\n",
       "    </tr>\n",
       "    <tr>\n",
       "      <th>Balkón:</th>\n",
       "      <td>Ano</td>\n",
       "    </tr>\n",
       "    <tr>\n",
       "      <th>Terasa:</th>\n",
       "      <td>Ne</td>\n",
       "    </tr>\n",
       "    <tr>\n",
       "      <th>Výtah:</th>\n",
       "      <td>Ano</td>\n",
       "    </tr>\n",
       "    <tr>\n",
       "      <th>Garáž:</th>\n",
       "      <td>Ne</td>\n",
       "    </tr>\n",
       "    <tr>\n",
       "      <th>K dispozici od:</th>\n",
       "      <td>05.04.2020</td>\n",
       "    </tr>\n",
       "    <tr>\n",
       "      <th>Typ vytápění:</th>\n",
       "      <td>ústřední dálkové</td>\n",
       "    </tr>\n",
       "    <tr>\n",
       "      <th>Rekonstrukce:</th>\n",
       "      <td>jádro</td>\n",
       "    </tr>\n",
       "    <tr>\n",
       "      <th>lat</th>\n",
       "      <td>50.06745</td>\n",
       "    </tr>\n",
       "    <tr>\n",
       "      <th>long</th>\n",
       "      <td>14.302219</td>\n",
       "    </tr>\n",
       "  </tbody>\n",
       "</table>\n",
       "</div>"
      ],
      "text/plain": [
       "                             value\n",
       "Internet:                         \n",
       "Číslo inzerátu:             602006\n",
       "Dispozice:                     4+1\n",
       "Plocha:                      95 m²\n",
       "Cena:                 3.290.000 Kč\n",
       "Město:                       Praha\n",
       "Městská část:                 Řepy\n",
       "Typ vlastnictví:        Družstevní\n",
       "Typ budovy:                  Panel\n",
       "PENB:                            D\n",
       "Vybavenost:             Nevybavený\n",
       "Podlaží:                         6\n",
       "Balkón:                        Ano\n",
       "Terasa:                         Ne\n",
       "Výtah:                         Ano\n",
       "Garáž:                          Ne\n",
       "K dispozici od:         05.04.2020\n",
       "Typ vytápění:     ústřední dálkové\n",
       "Rekonstrukce:                jádro\n",
       "lat                       50.06745\n",
       "long                     14.302219"
      ]
     },
     "execution_count": 14,
     "metadata": {},
     "output_type": "execute_result"
    }
   ],
   "source": [
    "HouseForSale(links[0]).getDf()"
   ]
  },
  {
   "cell_type": "markdown",
   "metadata": {},
   "source": [
    "## Defining class\n",
    "Manual test working - Downloader_single() working\n",
    "Pagination - Downloader_multi() work in progress"
   ]
  },
  {
   "cell_type": "code",
   "execution_count": 16,
   "metadata": {},
   "outputs": [],
   "source": [
    "# Downloader(l)"
   ]
  },
  {
   "cell_type": "code",
   "execution_count": 17,
   "metadata": {},
   "outputs": [],
   "source": [
    "class Downloader_single:\n",
    "    '''\n",
    "    Download all links real estate to initiate\n",
    "    '''\n",
    "    def __init__(self, link):\n",
    "        '''\n",
    "        Give link to extract links of given webpages\n",
    "        '''\n",
    "        self.link = link\n",
    "    \n",
    "    def getSoup(self):\n",
    "        r = requests.get(self.link)\n",
    "        r.encoding = 'UTF-8'\n",
    "        return BeautifulSoup(r.text, 'lxml')\n",
    "\n",
    "    def getLinks(self):\n",
    "        page = requests.get(self.link)\n",
    "        if page.status_code == requests.codes.ok:\n",
    "            wp = self.getSoup()\n",
    "            base_url = 'https://www.bezrealitky.cz'\n",
    "            links = wp.findAll('div', {'product__body'})\n",
    "            return [base_url + equity.find('a')['href'] for equity in links]"
   ]
  },
  {
   "cell_type": "code",
   "execution_count": 18,
   "metadata": {},
   "outputs": [
    {
     "data": {
      "text/plain": [
       "['https://www.bezrealitky.cz/nemovitosti-byty-domy/604370-nabidka-prodej-bytu-spanielova-praha',\n",
       " 'https://www.bezrealitky.cz/nemovitosti-byty-domy/596362-nabidka-prodej-bytu-merhoutova-prague',\n",
       " 'https://www.bezrealitky.cz/nemovitosti-byty-domy/604185-nabidka-prodej-bytu-ucnovska',\n",
       " 'https://www.bezrealitky.cz/nemovitosti-byty-domy/604354-nabidka-prodej-bytu-sanderova',\n",
       " 'https://www.bezrealitky.cz/nemovitosti-byty-domy/602506-nabidka-prodej-bytu-nekvasilova',\n",
       " 'https://www.bezrealitky.cz/nemovitosti-byty-domy/604357-nabidka-prodej-bytu-mantovska',\n",
       " 'https://www.bezrealitky.cz/nemovitosti-byty-domy/604332-nabidka-prodej-bytu-spanielova-praha',\n",
       " 'https://www.bezrealitky.cz/nemovitosti-byty-domy/597584-nabidka-prodej-bytu-v-remizku-praha',\n",
       " 'https://www.bezrealitky.cz/nemovitosti-byty-domy/603606-nabidka-prodej-bytu-tulesicka',\n",
       " 'https://www.bezrealitky.cz/nemovitosti-byty-domy/604353-nabidka-prodej-bytu-za-zameckem-praha']"
      ]
     },
     "execution_count": 18,
     "metadata": {},
     "output_type": "execute_result"
    }
   ],
   "source": [
    "Downloader_single('https://www.bezrealitky.cz/vypis/nabidka-prodej/byt/praha?_token=qNLlM7SSvDXIFrdOKHnbj0gv_-OMf7vw6yUc_-ILcFo&page=3').getLinks()"
   ]
  },
  {
   "cell_type": "code",
   "execution_count": 19,
   "metadata": {},
   "outputs": [],
   "source": [
    "class Downloader_multi:\n",
    "    '''\n",
    "    Download all links real estate to initiate\n",
    "    '''\n",
    "    def __init__(self, link):\n",
    "        '''\n",
    "        Give link to extract links of given webpages\n",
    "        '''\n",
    "        self.link = link\n",
    "    \n",
    "    def getSoup(self):\n",
    "        r = requests.get(self.link)\n",
    "        r.encoding = 'UTF-8'\n",
    "        return BeautifulSoup(r.text, 'lxml')\n",
    "\n",
    "    def getLinks(self):\n",
    "        page = requests.get(self.link)\n",
    "        if page.status_code == requests.codes.ok:\n",
    "            wp = self.getSoup()\n",
    "            base_url = 'https://www.bezrealitky.cz'\n",
    "            links = wp.findAll('div', {'product__body'})\n",
    "            return [base_url + equity.find('a')['href'] for equity in links]\n",
    "        \n",
    "#         if next_page_text == 'Další >':\n",
    "#             next_page_partial = wp.find('ul', class_=\"pagination justify-content-md-end\").findAll('li')[-1].find('a')['href']\n",
    "#             next_page_url = base_url + next_page_partial\n",
    "#             getLinks(next_page_url)\n",
    "#         # No more 'Next' pages, finish the script\n",
    "#         else:\n",
    "#             print('Done')\n",
    "        \n",
    "            \n",
    "        "
   ]
  },
  {
   "cell_type": "code",
   "execution_count": 20,
   "metadata": {},
   "outputs": [
    {
     "data": {
      "text/plain": [
       "[]"
      ]
     },
     "execution_count": 20,
     "metadata": {},
     "output_type": "execute_result"
    }
   ],
   "source": [
    "Downloader_single('https://www.bezrealitky.cz/vypis/nabidka-prodej/byt/praha?_token=qNLlM7SSvDXIFrdOKHnbj0gv_-OMf7vw6yUc_-ILcFo&page=63').getLinks()"
   ]
  },
  {
   "cell_type": "code",
   "execution_count": 34,
   "metadata": {},
   "outputs": [],
   "source": [
    "class Downloader_multi_byJan:\n",
    "    '''\n",
    "    Download all links real estate to initiate\n",
    "    '''\n",
    "    def __init__(self, link):\n",
    "        '''\n",
    "        Give link to extract links of given webpages\n",
    "        '''\n",
    "        self.link = link\n",
    "    \n",
    "    def getSoup(self):\n",
    "            r = requests.get(link)\n",
    "            r.encoding = 'UTF-8'\n",
    "            return BeautifulSoup(r.text, 'lxml')\n",
    "\n",
    "    def getSoupNext(link): \n",
    "            r = requests.get(link)\n",
    "            r.encoding = 'UTF-8'\n",
    "            return BeautifulSoup(r.text, 'lxml')\n",
    "\n",
    "    def getAllPages(self):    \n",
    "            wp = self.getSoup(link)\n",
    "            base_url = 'https://www.bezrealitky.cz'\n",
    "            test_element = wp.find('ul', class_=\"pagination justify-content-md-end\").find('a', rel = 'next')\n",
    "            pglinks = pd.Series(['https://www.bezrealitky.cz/vypis/nabidka-prodej/byt/praha'])\n",
    "            while test_element != None:\n",
    "                    partial_url = wp.find('ul', class_=\"pagination justify-content-md-end\").find('a', rel = 'next')['href']\n",
    "                    next_url = base_url + partial_url\n",
    "                    pglinks = pglinks.append(pd.Series([next_url]), ignore_index = True)\n",
    "                    wp_next = self.getSoupNext(next_url)\n",
    "                    test_element = wp_next.find('ul', class_=\"pagination justify-content-md-end\").find('a', rel = 'next')\n",
    "                    wp = wp_next\n",
    "            else: print(\"Loop is done\")\n",
    "            # return pglinks\n",
    "        \n",
    "    def getLinks(self):\n",
    "            page = requests.get(link)\n",
    "            if page.status_code == requests.codes.ok:\n",
    "                for pg in pglinks:\n",
    "\n",
    "                    wp = self.getSoup()\n",
    "                    base_url = 'https://www.bezrealitky.cz'\n",
    "                    eqlinks = wp.findAll('div', {'product__body'})\n",
    "                    return [base_url_prague + equity.find('a')['href'] for equity in eqlinks]\n"
   ]
  },
  {
   "cell_type": "code",
   "execution_count": 110,
   "metadata": {},
   "outputs": [],
   "source": [
    "Webpage = Downloader_multi_byJan('https://www.bezrealitky.cz/vypis/nabidka-prodej/byt/praha')"
   ]
  },
  {
   "cell_type": "markdown",
   "metadata": {},
   "source": [
    "# Class using outer function\n",
    "This class is using outside function for method helps"
   ]
  },
  {
   "cell_type": "code",
   "execution_count": 283,
   "metadata": {},
   "outputs": [],
   "source": [
    "def getSoup(link):\n",
    "        r = requests.get(link)\n",
    "        r.encoding = 'UTF-8'\n",
    "        return BeautifulSoup(r.text, 'lxml')\n",
    "\n",
    "def getLinks(link):\n",
    "        page = requests.get(link)\n",
    "        if page.status_code == requests.codes.ok:\n",
    "            wp = getSoup(link)\n",
    "            base_url = 'https://www.bezrealitky.cz'\n",
    "            links = wp.findAll('div', {'product__body'})\n",
    "            links_list = list()\n",
    "            for equity in links:\n",
    "                    if 'https://www.bezrealitky.cz' in equity.find('a')['href']:\n",
    "                        links_list.append(equity.find('a')['href'])\n",
    "                    else: \n",
    "                        links_list.append(base_url + equity.find('a')['href'])\n",
    "        return links_list\n",
    "\n",
    "class Downloader_multi_byTiep:\n",
    "    '''\n",
    "    Download all links of real estate properties on the given website\n",
    "    '''\n",
    "    def __init__(self, link):\n",
    "        '''\n",
    "        Provide real estate webpage to extract the properties links\n",
    "        '''\n",
    "        self.link = link\n",
    "\n",
    "    def getAllPages(self):\n",
    "            '''\n",
    "            Get all possible pages from the provided website that contains links\n",
    "            '''    \n",
    "            wp = getSoup(self.link)\n",
    "            base_url = 'https://www.bezrealitky.cz'\n",
    "            test_element = wp.find('ul', class_=\"pagination justify-content-md-end\").find('a', rel = 'next')\n",
    "            links = pd.Series(['https://www.bezrealitky.cz/vypis/nabidka-prodej/byt/praha'])\n",
    "            while test_element != None:\n",
    "                    partial_url = wp.find('ul', class_=\"pagination justify-content-md-end\").find('a', rel = 'next')['href']\n",
    "                    next_url = base_url + partial_url\n",
    "                    links = links.append(pd.Series([next_url]), ignore_index = True)\n",
    "                    wp_next = getSoup(next_url)\n",
    "                    test_element = wp_next.find('ul', class_=\"pagination justify-content-md-end\").find('a', rel = 'next')\n",
    "                    wp = wp_next\n",
    "            else: print(\"Loop is done\")\n",
    "            return list(links)"
   ]
  },
  {
   "cell_type": "code",
   "execution_count": 163,
   "metadata": {},
   "outputs": [
    {
     "output_type": "stream",
     "name": "stdout",
     "text": "Loop is done\n"
    }
   ],
   "source": [
    "links_class = Downloader_multi_byTiep('https://www.bezrealitky.cz/vypis/nabidka-prodej/byt/praha').getAllPages()"
   ]
  },
  {
   "cell_type": "code",
   "execution_count": 284,
   "metadata": {},
   "outputs": [],
   "source": [
    "links_properties = [getLinks(li) for li in links_class]"
   ]
  },
  {
   "cell_type": "code",
   "execution_count": 285,
   "metadata": {},
   "outputs": [],
   "source": [
    "links_properties_unlist = list(itertools.chain(*links_properties))"
   ]
  },
  {
   "cell_type": "code",
   "execution_count": 307,
   "metadata": {},
   "outputs": [
    {
     "output_type": "execute_result",
     "data": {
      "text/plain": "'https://www.bezrealitky.cz/nove-bydleni/vzorova-nemovitost/704-bohdalecke-kvarteto/25709-2-kk-56m2-s-velkou-lodzii-p-4#utm_source=bezrealitky.cz&utm_medium=odkaz&utm_campaign=detail_inzeratu'"
     },
     "metadata": {},
     "execution_count": 307
    }
   ],
   "source": [
    "links_properties_unlist[600]"
   ]
  },
  {
   "cell_type": "markdown",
   "metadata": {},
   "source": [
    "# Links Summary and Next steps explanation\n",
    "There are two types of links in provided by bezrealitky.cz. New format and old format. For each type it is essential to write a class that will extract the needed data properly. For now, we have for the old format. "
   ]
  },
  {
   "cell_type": "code",
   "execution_count": 308,
   "metadata": {},
   "outputs": [],
   "source": [
    "links_properties_unlist_old = [li for li in links_properties_unlist if 'nove-bydleni' not in li]\n",
    "links_properties_unlist_new = [li for li in links_properties_unlist if 'nove-bydleni' in li]\n",
    "print(np.shape(links_properties_unlist_old))\n",
    "print(np.shape(links_properties_unlist_new))\n",
    "print(np.shape(links_properties_unlist))"
   ]
  },
  {
   "cell_type": "code",
   "execution_count": 215,
   "metadata": {},
   "outputs": [
    {
     "output_type": "error",
     "ename": "SyntaxError",
     "evalue": "invalid syntax (<ipython-input-215-8e70010ce893>, line 7)",
     "traceback": [
      "\u001b[0;36m  File \u001b[0;32m\"<ipython-input-215-8e70010ce893>\"\u001b[0;36m, line \u001b[0;32m7\u001b[0m\n\u001b[0;31m    df_test.set_index(['lat'.'long'])\u001b[0m\n\u001b[0m                                  ^\u001b[0m\n\u001b[0;31mSyntaxError\u001b[0m\u001b[0;31m:\u001b[0m invalid syntax\n"
     ]
    }
   ],
   "source": [
    "df_complet = pd.DataFrame()\n",
    "for li in links_properties_test:\n",
    "    df_unit = HouseForSale(li).getDf()\n",
    "    df_test = pd.concat([df_test, df_uni"
   ]
  },
  {
   "cell_type": "code",
   "execution_count": 224,
   "metadata": {},
   "outputs": [
    {
     "output_type": "execute_result",
     "data": {
      "text/plain": "                                  variable  \\\nlat       long                               \n50.041711 14.569642              Internet:   \n          14.569642        Číslo inzerátu:   \n          14.569642             Dispozice:   \n          14.569642                Plocha:   \n          14.569642                  Cena:   \n          14.569642                 Město:   \n          14.569642          Městská část:   \n          14.569642       Typ vlastnictví:   \n          14.569642            Typ budovy:   \n          14.569642            Novostavba:   \n          14.569642                  PENB:   \n          14.569642            Vybavenost:   \n          14.569642               Podlaží:   \n          14.569642                Balkón:   \n          14.569642                Terasa:   \n          14.569642                 Výtah:   \n          14.569642                 Garáž:   \n          14.569642        K dispozici od:   \n          14.569642                 Stáří:   \n          14.569642             Provedení:   \n          14.569642          Typ vytápění:   \n          14.569642  Podlaží v rámci domu:   \n50.06744  14.302724              Internet:   \n          14.302724        Číslo inzerátu:   \n          14.302724             Dispozice:   \n          14.302724                Plocha:   \n          14.302724                  Cena:   \n          14.302724                 Město:   \n          14.302724          Městská část:   \n          14.302724       Typ vlastnictví:   \n...                                    ...   \n50.094149 14.495124                Balkón:   \n          14.495124                Terasa:   \n          14.495124                 Výtah:   \n          14.495124                 Garáž:   \n          14.495124        K dispozici od:   \n          14.495124          Typ vytápění:   \n          14.495124  Podlaží v rámci domu:   \n          14.495124          Rekonstrukce:   \n50.078784 14.48633               Internet:   \n          14.48633         Číslo inzerátu:   \n          14.48633              Dispozice:   \n          14.48633                 Plocha:   \n          14.48633                   Cena:   \n          14.48633                  Město:   \n          14.48633           Městská část:   \n          14.48633        Typ vlastnictví:   \n          14.48633             Typ budovy:   \n          14.48633             Novostavba:   \n          14.48633                   PENB:   \n          14.48633             Vybavenost:   \n          14.48633                Podlaží:   \n          14.48633                 Balkón:   \n          14.48633                 Terasa:   \n          14.48633                  Výtah:   \n          14.48633                  Garáž:   \n          14.48633         K dispozici od:   \n          14.48633              Provedení:   \n          14.48633           Typ vytápění:   \n          14.48633   Podlaží v rámci domu:   \n          14.48633           Rekonstrukce:   \n\n                                                         value  \nlat       long                                                  \n50.041711 14.569642                                             \n          14.569642                                     604357  \n          14.569642                                       2+kk  \n          14.569642                                      56 m²  \n          14.569642                               5.400.000 Kč  \n          14.569642                                      Praha  \n          14.569642                            Horní Měcholupy  \n          14.569642                                     Osobní  \n          14.569642                                      Panel  \n          14.569642                                        Ano  \n          14.569642                                          B  \n          14.569642                                   Vybavený  \n          14.569642                                          1  \n          14.569642                                         Ne  \n          14.569642                                        Ano  \n          14.569642                                         Ne  \n          14.569642                                        Ano  \n          14.569642                                 01.05.2020  \n          14.569642                                     1 - 10  \n          14.569642  standardní: běžné materiály a technologie  \n          14.569642                                  centrální  \n          14.569642                           vyvýšené přízemí  \n50.06744  14.302724                                             \n          14.302724                                     604332  \n          14.302724                                        4+1  \n          14.302724                                      95 m²  \n          14.302724                               3.290.000 Kč  \n          14.302724                                      Praha  \n          14.302724                                       Řepy  \n          14.302724                                 Družstevní  \n...                                                        ...  \n50.094149 14.495124                                         Ne  \n          14.495124                                         Ne  \n          14.495124                                        Ano  \n          14.495124                                         Ne  \n          14.495124                                 01.05.2020  \n          14.495124                           ústřední dálkové  \n          14.495124                           vyvýšené přízemí  \n          14.495124                                        vše  \n50.078784 14.48633                                              \n          14.48633                                      597004  \n          14.48633                                        1+kk  \n          14.48633                                       38 m²  \n          14.48633                                3.736.000 Kč  \n          14.48633                                       Praha  \n          14.48633                                   Strašnice  \n          14.48633                                      Osobní  \n          14.48633                                       Cihla  \n          14.48633                                         Ano  \n          14.48633                                           C  \n          14.48633                                  Nevybavený  \n          14.48633                                           1  \n          14.48633                                          Ne  \n          14.48633                                          Ne  \n          14.48633                                         Ano  \n          14.48633                                          Ne  \n          14.48633                                  17.04.2020  \n          14.48633   standardní: běžné materiály a technologie  \n          14.48633                            ústřední dálkové  \n          14.48633                            vyvýšené přízemí  \n          14.48633                                    interiér  \n\n[188 rows x 2 columns]",
      "text/html": "<div>\n<style scoped>\n    .dataframe tbody tr th:only-of-type {\n        vertical-align: middle;\n    }\n\n    .dataframe tbody tr th {\n        vertical-align: top;\n    }\n\n    .dataframe thead th {\n        text-align: right;\n    }\n</style>\n<table border=\"1\" class=\"dataframe\">\n  <thead>\n    <tr style=\"text-align: right;\">\n      <th></th>\n      <th></th>\n      <th>variable</th>\n      <th>value</th>\n    </tr>\n    <tr>\n      <th>lat</th>\n      <th>long</th>\n      <th></th>\n      <th></th>\n    </tr>\n  </thead>\n  <tbody>\n    <tr>\n      <th rowspan=\"22\" valign=\"top\">50.041711</th>\n      <th>14.569642</th>\n      <td>Internet:</td>\n      <td></td>\n    </tr>\n    <tr>\n      <th>14.569642</th>\n      <td>Číslo inzerátu:</td>\n      <td>604357</td>\n    </tr>\n    <tr>\n      <th>14.569642</th>\n      <td>Dispozice:</td>\n      <td>2+kk</td>\n    </tr>\n    <tr>\n      <th>14.569642</th>\n      <td>Plocha:</td>\n      <td>56 m²</td>\n    </tr>\n    <tr>\n      <th>14.569642</th>\n      <td>Cena:</td>\n      <td>5.400.000 Kč</td>\n    </tr>\n    <tr>\n      <th>14.569642</th>\n      <td>Město:</td>\n      <td>Praha</td>\n    </tr>\n    <tr>\n      <th>14.569642</th>\n      <td>Městská část:</td>\n      <td>Horní Měcholupy</td>\n    </tr>\n    <tr>\n      <th>14.569642</th>\n      <td>Typ vlastnictví:</td>\n      <td>Osobní</td>\n    </tr>\n    <tr>\n      <th>14.569642</th>\n      <td>Typ budovy:</td>\n      <td>Panel</td>\n    </tr>\n    <tr>\n      <th>14.569642</th>\n      <td>Novostavba:</td>\n      <td>Ano</td>\n    </tr>\n    <tr>\n      <th>14.569642</th>\n      <td>PENB:</td>\n      <td>B</td>\n    </tr>\n    <tr>\n      <th>14.569642</th>\n      <td>Vybavenost:</td>\n      <td>Vybavený</td>\n    </tr>\n    <tr>\n      <th>14.569642</th>\n      <td>Podlaží:</td>\n      <td>1</td>\n    </tr>\n    <tr>\n      <th>14.569642</th>\n      <td>Balkón:</td>\n      <td>Ne</td>\n    </tr>\n    <tr>\n      <th>14.569642</th>\n      <td>Terasa:</td>\n      <td>Ano</td>\n    </tr>\n    <tr>\n      <th>14.569642</th>\n      <td>Výtah:</td>\n      <td>Ne</td>\n    </tr>\n    <tr>\n      <th>14.569642</th>\n      <td>Garáž:</td>\n      <td>Ano</td>\n    </tr>\n    <tr>\n      <th>14.569642</th>\n      <td>K dispozici od:</td>\n      <td>01.05.2020</td>\n    </tr>\n    <tr>\n      <th>14.569642</th>\n      <td>Stáří:</td>\n      <td>1 - 10</td>\n    </tr>\n    <tr>\n      <th>14.569642</th>\n      <td>Provedení:</td>\n      <td>standardní: běžné materiály a technologie</td>\n    </tr>\n    <tr>\n      <th>14.569642</th>\n      <td>Typ vytápění:</td>\n      <td>centrální</td>\n    </tr>\n    <tr>\n      <th>14.569642</th>\n      <td>Podlaží v rámci domu:</td>\n      <td>vyvýšené přízemí</td>\n    </tr>\n    <tr>\n      <th rowspan=\"8\" valign=\"top\">50.06744</th>\n      <th>14.302724</th>\n      <td>Internet:</td>\n      <td></td>\n    </tr>\n    <tr>\n      <th>14.302724</th>\n      <td>Číslo inzerátu:</td>\n      <td>604332</td>\n    </tr>\n    <tr>\n      <th>14.302724</th>\n      <td>Dispozice:</td>\n      <td>4+1</td>\n    </tr>\n    <tr>\n      <th>14.302724</th>\n      <td>Plocha:</td>\n      <td>95 m²</td>\n    </tr>\n    <tr>\n      <th>14.302724</th>\n      <td>Cena:</td>\n      <td>3.290.000 Kč</td>\n    </tr>\n    <tr>\n      <th>14.302724</th>\n      <td>Město:</td>\n      <td>Praha</td>\n    </tr>\n    <tr>\n      <th>14.302724</th>\n      <td>Městská část:</td>\n      <td>Řepy</td>\n    </tr>\n    <tr>\n      <th>14.302724</th>\n      <td>Typ vlastnictví:</td>\n      <td>Družstevní</td>\n    </tr>\n    <tr>\n      <th>...</th>\n      <th>...</th>\n      <td>...</td>\n      <td>...</td>\n    </tr>\n    <tr>\n      <th rowspan=\"8\" valign=\"top\">50.094149</th>\n      <th>14.495124</th>\n      <td>Balkón:</td>\n      <td>Ne</td>\n    </tr>\n    <tr>\n      <th>14.495124</th>\n      <td>Terasa:</td>\n      <td>Ne</td>\n    </tr>\n    <tr>\n      <th>14.495124</th>\n      <td>Výtah:</td>\n      <td>Ano</td>\n    </tr>\n    <tr>\n      <th>14.495124</th>\n      <td>Garáž:</td>\n      <td>Ne</td>\n    </tr>\n    <tr>\n      <th>14.495124</th>\n      <td>K dispozici od:</td>\n      <td>01.05.2020</td>\n    </tr>\n    <tr>\n      <th>14.495124</th>\n      <td>Typ vytápění:</td>\n      <td>ústřední dálkové</td>\n    </tr>\n    <tr>\n      <th>14.495124</th>\n      <td>Podlaží v rámci domu:</td>\n      <td>vyvýšené přízemí</td>\n    </tr>\n    <tr>\n      <th>14.495124</th>\n      <td>Rekonstrukce:</td>\n      <td>vše</td>\n    </tr>\n    <tr>\n      <th rowspan=\"22\" valign=\"top\">50.078784</th>\n      <th>14.48633</th>\n      <td>Internet:</td>\n      <td></td>\n    </tr>\n    <tr>\n      <th>14.48633</th>\n      <td>Číslo inzerátu:</td>\n      <td>597004</td>\n    </tr>\n    <tr>\n      <th>14.48633</th>\n      <td>Dispozice:</td>\n      <td>1+kk</td>\n    </tr>\n    <tr>\n      <th>14.48633</th>\n      <td>Plocha:</td>\n      <td>38 m²</td>\n    </tr>\n    <tr>\n      <th>14.48633</th>\n      <td>Cena:</td>\n      <td>3.736.000 Kč</td>\n    </tr>\n    <tr>\n      <th>14.48633</th>\n      <td>Město:</td>\n      <td>Praha</td>\n    </tr>\n    <tr>\n      <th>14.48633</th>\n      <td>Městská část:</td>\n      <td>Strašnice</td>\n    </tr>\n    <tr>\n      <th>14.48633</th>\n      <td>Typ vlastnictví:</td>\n      <td>Osobní</td>\n    </tr>\n    <tr>\n      <th>14.48633</th>\n      <td>Typ budovy:</td>\n      <td>Cihla</td>\n    </tr>\n    <tr>\n      <th>14.48633</th>\n      <td>Novostavba:</td>\n      <td>Ano</td>\n    </tr>\n    <tr>\n      <th>14.48633</th>\n      <td>PENB:</td>\n      <td>C</td>\n    </tr>\n    <tr>\n      <th>14.48633</th>\n      <td>Vybavenost:</td>\n      <td>Nevybavený</td>\n    </tr>\n    <tr>\n      <th>14.48633</th>\n      <td>Podlaží:</td>\n      <td>1</td>\n    </tr>\n    <tr>\n      <th>14.48633</th>\n      <td>Balkón:</td>\n      <td>Ne</td>\n    </tr>\n    <tr>\n      <th>14.48633</th>\n      <td>Terasa:</td>\n      <td>Ne</td>\n    </tr>\n    <tr>\n      <th>14.48633</th>\n      <td>Výtah:</td>\n      <td>Ano</td>\n    </tr>\n    <tr>\n      <th>14.48633</th>\n      <td>Garáž:</td>\n      <td>Ne</td>\n    </tr>\n    <tr>\n      <th>14.48633</th>\n      <td>K dispozici od:</td>\n      <td>17.04.2020</td>\n    </tr>\n    <tr>\n      <th>14.48633</th>\n      <td>Provedení:</td>\n      <td>standardní: běžné materiály a technologie</td>\n    </tr>\n    <tr>\n      <th>14.48633</th>\n      <td>Typ vytápění:</td>\n      <td>ústřední dálkové</td>\n    </tr>\n    <tr>\n      <th>14.48633</th>\n      <td>Podlaží v rámci domu:</td>\n      <td>vyvýšené přízemí</td>\n    </tr>\n    <tr>\n      <th>14.48633</th>\n      <td>Rekonstrukce:</td>\n      <td>interiér</td>\n    </tr>\n  </tbody>\n</table>\n<p>188 rows × 2 columns</p>\n</div>"
     },
     "metadata": {},
     "execution_count": 224
    }
   ],
   "source": [
    "df_test\n",
    "df_test.set_index(['lat','long'])"
   ]
  },
  {
   "cell_type": "code",
   "execution_count": 310,
   "metadata": {},
   "outputs": [],
   "source": [
    "df_complete_sale = pd.DataFrame()\n",
    "for li in links_properties_unlist_old:\n",
    "    df_unit = HouseForSale(li).getDf()\n",
    "    df_complete_sale = pd.concat([df_complete_sale, df_unit])"
   ]
  },
  {
   "cell_type": "code",
   "execution_count": 311,
   "metadata": {},
   "outputs": [
    {
     "output_type": "execute_result",
     "data": {
      "text/plain": "           lat        long               variable  \\\n0    50.024932   14.451379              Internet:   \n1    50.024932   14.451379        Číslo inzerátu:   \n2    50.024932   14.451379             Dispozice:   \n3    50.024932   14.451379                Plocha:   \n4    50.024932   14.451379                  Cena:   \n5    50.024932   14.451379                 Město:   \n6    50.024932   14.451379          Městská část:   \n7    50.024932   14.451379       Typ vlastnictví:   \n8    50.024932   14.451379            Typ budovy:   \n9    50.024932   14.451379                  PENB:   \n10   50.024932   14.451379            Vybavenost:   \n11   50.024932   14.451379               Podlaží:   \n12   50.024932   14.451379                Balkón:   \n13   50.024932   14.451379                Terasa:   \n14   50.024932   14.451379                 Výtah:   \n15   50.024932   14.451379                 Garáž:   \n16   50.024932   14.451379        K dispozici od:   \n0   50.0684925   14.438051              Internet:   \n1   50.0684925   14.438051        Číslo inzerátu:   \n2   50.0684925   14.438051             Dispozice:   \n3   50.0684925   14.438051                Plocha:   \n4   50.0684925   14.438051                  Cena:   \n5   50.0684925   14.438051                 Město:   \n6   50.0684925   14.438051          Městská část:   \n7   50.0684925   14.438051       Typ vlastnictví:   \n8   50.0684925   14.438051            Typ budovy:   \n9   50.0684925   14.438051                  PENB:   \n10  50.0684925   14.438051            Vybavenost:   \n11  50.0684925   14.438051               Podlaží:   \n12  50.0684925   14.438051                Balkón:   \n..         ...         ...                    ...   \n8   50.0830689  14.4668702            Typ budovy:   \n9   50.0830689  14.4668702            Novostavba:   \n10  50.0830689  14.4668702                  PENB:   \n11  50.0830689  14.4668702            Vybavenost:   \n12  50.0830689  14.4668702               Podlaží:   \n13  50.0830689  14.4668702                Balkón:   \n14  50.0830689  14.4668702                Terasa:   \n15  50.0830689  14.4668702                 Výtah:   \n16  50.0830689  14.4668702                 Garáž:   \n17  50.0830689  14.4668702        K dispozici od:   \n18  50.0830689  14.4668702                 Stáří:   \n19  50.0830689  14.4668702             Provedení:   \n20  50.0830689  14.4668702          Typ vytápění:   \n21  50.0830689  14.4668702  Podlaží v rámci domu:   \n22  50.0830689  14.4668702          Rekonstrukce:   \n0   50.0170881  14.5842862              Internet:   \n1   50.0170881  14.5842862        Číslo inzerátu:   \n2   50.0170881  14.5842862             Dispozice:   \n3   50.0170881  14.5842862                Plocha:   \n4   50.0170881  14.5842862                  Cena:   \n5   50.0170881  14.5842862                 Město:   \n6   50.0170881  14.5842862          Městská část:   \n7   50.0170881  14.5842862       Typ vlastnictví:   \n8   50.0170881  14.5842862            Typ budovy:   \n9   50.0170881  14.5842862            Vybavenost:   \n10  50.0170881  14.5842862               Podlaží:   \n11  50.0170881  14.5842862                Balkón:   \n12  50.0170881  14.5842862                Terasa:   \n13  50.0170881  14.5842862                 Výtah:   \n14  50.0170881  14.5842862                 Garáž:   \n\n                                                value  \n0                                                      \n1                                              603779  \n2                                          Garsoniéra  \n3                                               19 m²  \n4                                        2.150.000 Kč  \n5                                               Praha  \n6                                              Lhotka  \n7                                              Osobní  \n8                                               Panel  \n9                                                   G  \n10                                           Vybavený  \n11                                                  6  \n12                                                 Ne  \n13                                                 Ne  \n14                                                Ano  \n15                                                 Ne  \n16                                         01.06.2020  \n0                                                      \n1                                              552708  \n2                                                2+kk  \n3                                               37 m²  \n4                                        5.483.000 Kč  \n5                                               Praha  \n6                                           Vinohrady  \n7                                              Osobní  \n8                                               Cihla  \n9                                                   C  \n10                                         Nevybavený  \n11                                                  3  \n12                                                 Ne  \n..                                                ...  \n8                                    Nízkoenergetický  \n9                                                 Ano  \n10                                                  A  \n11                                           Vybavený  \n12                                                  2  \n13                                                Ano  \n14                                                Ano  \n15                                                Ano  \n16                                                Ano  \n17                                         01.05.2020  \n18                                             1 - 10  \n19  nadstandardní: nadstandardní použité materiály...  \n20                                   ústřední dálkové  \n21                      první až předposlední podlaží  \n22                                                vše  \n0                                                      \n1                                              364496  \n2                                                2+kk  \n3                                               59 m²  \n4                                        4.990.000 Kč  \n5                                               Praha  \n6                                           Pitkovice  \n7                                              Osobní  \n8                                               Cihla  \n9                                            Vybavený  \n10                                                  4  \n11                                                 Ne  \n12                                                 Ne  \n13                                                 Ne  \n14                                                 Ne  \n\n[8236 rows x 4 columns]",
      "text/html": "<div>\n<style scoped>\n    .dataframe tbody tr th:only-of-type {\n        vertical-align: middle;\n    }\n\n    .dataframe tbody tr th {\n        vertical-align: top;\n    }\n\n    .dataframe thead th {\n        text-align: right;\n    }\n</style>\n<table border=\"1\" class=\"dataframe\">\n  <thead>\n    <tr style=\"text-align: right;\">\n      <th></th>\n      <th>lat</th>\n      <th>long</th>\n      <th>variable</th>\n      <th>value</th>\n    </tr>\n  </thead>\n  <tbody>\n    <tr>\n      <th>0</th>\n      <td>50.024932</td>\n      <td>14.451379</td>\n      <td>Internet:</td>\n      <td></td>\n    </tr>\n    <tr>\n      <th>1</th>\n      <td>50.024932</td>\n      <td>14.451379</td>\n      <td>Číslo inzerátu:</td>\n      <td>603779</td>\n    </tr>\n    <tr>\n      <th>2</th>\n      <td>50.024932</td>\n      <td>14.451379</td>\n      <td>Dispozice:</td>\n      <td>Garsoniéra</td>\n    </tr>\n    <tr>\n      <th>3</th>\n      <td>50.024932</td>\n      <td>14.451379</td>\n      <td>Plocha:</td>\n      <td>19 m²</td>\n    </tr>\n    <tr>\n      <th>4</th>\n      <td>50.024932</td>\n      <td>14.451379</td>\n      <td>Cena:</td>\n      <td>2.150.000 Kč</td>\n    </tr>\n    <tr>\n      <th>5</th>\n      <td>50.024932</td>\n      <td>14.451379</td>\n      <td>Město:</td>\n      <td>Praha</td>\n    </tr>\n    <tr>\n      <th>6</th>\n      <td>50.024932</td>\n      <td>14.451379</td>\n      <td>Městská část:</td>\n      <td>Lhotka</td>\n    </tr>\n    <tr>\n      <th>7</th>\n      <td>50.024932</td>\n      <td>14.451379</td>\n      <td>Typ vlastnictví:</td>\n      <td>Osobní</td>\n    </tr>\n    <tr>\n      <th>8</th>\n      <td>50.024932</td>\n      <td>14.451379</td>\n      <td>Typ budovy:</td>\n      <td>Panel</td>\n    </tr>\n    <tr>\n      <th>9</th>\n      <td>50.024932</td>\n      <td>14.451379</td>\n      <td>PENB:</td>\n      <td>G</td>\n    </tr>\n    <tr>\n      <th>10</th>\n      <td>50.024932</td>\n      <td>14.451379</td>\n      <td>Vybavenost:</td>\n      <td>Vybavený</td>\n    </tr>\n    <tr>\n      <th>11</th>\n      <td>50.024932</td>\n      <td>14.451379</td>\n      <td>Podlaží:</td>\n      <td>6</td>\n    </tr>\n    <tr>\n      <th>12</th>\n      <td>50.024932</td>\n      <td>14.451379</td>\n      <td>Balkón:</td>\n      <td>Ne</td>\n    </tr>\n    <tr>\n      <th>13</th>\n      <td>50.024932</td>\n      <td>14.451379</td>\n      <td>Terasa:</td>\n      <td>Ne</td>\n    </tr>\n    <tr>\n      <th>14</th>\n      <td>50.024932</td>\n      <td>14.451379</td>\n      <td>Výtah:</td>\n      <td>Ano</td>\n    </tr>\n    <tr>\n      <th>15</th>\n      <td>50.024932</td>\n      <td>14.451379</td>\n      <td>Garáž:</td>\n      <td>Ne</td>\n    </tr>\n    <tr>\n      <th>16</th>\n      <td>50.024932</td>\n      <td>14.451379</td>\n      <td>K dispozici od:</td>\n      <td>01.06.2020</td>\n    </tr>\n    <tr>\n      <th>0</th>\n      <td>50.0684925</td>\n      <td>14.438051</td>\n      <td>Internet:</td>\n      <td></td>\n    </tr>\n    <tr>\n      <th>1</th>\n      <td>50.0684925</td>\n      <td>14.438051</td>\n      <td>Číslo inzerátu:</td>\n      <td>552708</td>\n    </tr>\n    <tr>\n      <th>2</th>\n      <td>50.0684925</td>\n      <td>14.438051</td>\n      <td>Dispozice:</td>\n      <td>2+kk</td>\n    </tr>\n    <tr>\n      <th>3</th>\n      <td>50.0684925</td>\n      <td>14.438051</td>\n      <td>Plocha:</td>\n      <td>37 m²</td>\n    </tr>\n    <tr>\n      <th>4</th>\n      <td>50.0684925</td>\n      <td>14.438051</td>\n      <td>Cena:</td>\n      <td>5.483.000 Kč</td>\n    </tr>\n    <tr>\n      <th>5</th>\n      <td>50.0684925</td>\n      <td>14.438051</td>\n      <td>Město:</td>\n      <td>Praha</td>\n    </tr>\n    <tr>\n      <th>6</th>\n      <td>50.0684925</td>\n      <td>14.438051</td>\n      <td>Městská část:</td>\n      <td>Vinohrady</td>\n    </tr>\n    <tr>\n      <th>7</th>\n      <td>50.0684925</td>\n      <td>14.438051</td>\n      <td>Typ vlastnictví:</td>\n      <td>Osobní</td>\n    </tr>\n    <tr>\n      <th>8</th>\n      <td>50.0684925</td>\n      <td>14.438051</td>\n      <td>Typ budovy:</td>\n      <td>Cihla</td>\n    </tr>\n    <tr>\n      <th>9</th>\n      <td>50.0684925</td>\n      <td>14.438051</td>\n      <td>PENB:</td>\n      <td>C</td>\n    </tr>\n    <tr>\n      <th>10</th>\n      <td>50.0684925</td>\n      <td>14.438051</td>\n      <td>Vybavenost:</td>\n      <td>Nevybavený</td>\n    </tr>\n    <tr>\n      <th>11</th>\n      <td>50.0684925</td>\n      <td>14.438051</td>\n      <td>Podlaží:</td>\n      <td>3</td>\n    </tr>\n    <tr>\n      <th>12</th>\n      <td>50.0684925</td>\n      <td>14.438051</td>\n      <td>Balkón:</td>\n      <td>Ne</td>\n    </tr>\n    <tr>\n      <th>...</th>\n      <td>...</td>\n      <td>...</td>\n      <td>...</td>\n      <td>...</td>\n    </tr>\n    <tr>\n      <th>8</th>\n      <td>50.0830689</td>\n      <td>14.4668702</td>\n      <td>Typ budovy:</td>\n      <td>Nízkoenergetický</td>\n    </tr>\n    <tr>\n      <th>9</th>\n      <td>50.0830689</td>\n      <td>14.4668702</td>\n      <td>Novostavba:</td>\n      <td>Ano</td>\n    </tr>\n    <tr>\n      <th>10</th>\n      <td>50.0830689</td>\n      <td>14.4668702</td>\n      <td>PENB:</td>\n      <td>A</td>\n    </tr>\n    <tr>\n      <th>11</th>\n      <td>50.0830689</td>\n      <td>14.4668702</td>\n      <td>Vybavenost:</td>\n      <td>Vybavený</td>\n    </tr>\n    <tr>\n      <th>12</th>\n      <td>50.0830689</td>\n      <td>14.4668702</td>\n      <td>Podlaží:</td>\n      <td>2</td>\n    </tr>\n    <tr>\n      <th>13</th>\n      <td>50.0830689</td>\n      <td>14.4668702</td>\n      <td>Balkón:</td>\n      <td>Ano</td>\n    </tr>\n    <tr>\n      <th>14</th>\n      <td>50.0830689</td>\n      <td>14.4668702</td>\n      <td>Terasa:</td>\n      <td>Ano</td>\n    </tr>\n    <tr>\n      <th>15</th>\n      <td>50.0830689</td>\n      <td>14.4668702</td>\n      <td>Výtah:</td>\n      <td>Ano</td>\n    </tr>\n    <tr>\n      <th>16</th>\n      <td>50.0830689</td>\n      <td>14.4668702</td>\n      <td>Garáž:</td>\n      <td>Ano</td>\n    </tr>\n    <tr>\n      <th>17</th>\n      <td>50.0830689</td>\n      <td>14.4668702</td>\n      <td>K dispozici od:</td>\n      <td>01.05.2020</td>\n    </tr>\n    <tr>\n      <th>18</th>\n      <td>50.0830689</td>\n      <td>14.4668702</td>\n      <td>Stáří:</td>\n      <td>1 - 10</td>\n    </tr>\n    <tr>\n      <th>19</th>\n      <td>50.0830689</td>\n      <td>14.4668702</td>\n      <td>Provedení:</td>\n      <td>nadstandardní: nadstandardní použité materiály...</td>\n    </tr>\n    <tr>\n      <th>20</th>\n      <td>50.0830689</td>\n      <td>14.4668702</td>\n      <td>Typ vytápění:</td>\n      <td>ústřední dálkové</td>\n    </tr>\n    <tr>\n      <th>21</th>\n      <td>50.0830689</td>\n      <td>14.4668702</td>\n      <td>Podlaží v rámci domu:</td>\n      <td>první až předposlední podlaží</td>\n    </tr>\n    <tr>\n      <th>22</th>\n      <td>50.0830689</td>\n      <td>14.4668702</td>\n      <td>Rekonstrukce:</td>\n      <td>vše</td>\n    </tr>\n    <tr>\n      <th>0</th>\n      <td>50.0170881</td>\n      <td>14.5842862</td>\n      <td>Internet:</td>\n      <td></td>\n    </tr>\n    <tr>\n      <th>1</th>\n      <td>50.0170881</td>\n      <td>14.5842862</td>\n      <td>Číslo inzerátu:</td>\n      <td>364496</td>\n    </tr>\n    <tr>\n      <th>2</th>\n      <td>50.0170881</td>\n      <td>14.5842862</td>\n      <td>Dispozice:</td>\n      <td>2+kk</td>\n    </tr>\n    <tr>\n      <th>3</th>\n      <td>50.0170881</td>\n      <td>14.5842862</td>\n      <td>Plocha:</td>\n      <td>59 m²</td>\n    </tr>\n    <tr>\n      <th>4</th>\n      <td>50.0170881</td>\n      <td>14.5842862</td>\n      <td>Cena:</td>\n      <td>4.990.000 Kč</td>\n    </tr>\n    <tr>\n      <th>5</th>\n      <td>50.0170881</td>\n      <td>14.5842862</td>\n      <td>Město:</td>\n      <td>Praha</td>\n    </tr>\n    <tr>\n      <th>6</th>\n      <td>50.0170881</td>\n      <td>14.5842862</td>\n      <td>Městská část:</td>\n      <td>Pitkovice</td>\n    </tr>\n    <tr>\n      <th>7</th>\n      <td>50.0170881</td>\n      <td>14.5842862</td>\n      <td>Typ vlastnictví:</td>\n      <td>Osobní</td>\n    </tr>\n    <tr>\n      <th>8</th>\n      <td>50.0170881</td>\n      <td>14.5842862</td>\n      <td>Typ budovy:</td>\n      <td>Cihla</td>\n    </tr>\n    <tr>\n      <th>9</th>\n      <td>50.0170881</td>\n      <td>14.5842862</td>\n      <td>Vybavenost:</td>\n      <td>Vybavený</td>\n    </tr>\n    <tr>\n      <th>10</th>\n      <td>50.0170881</td>\n      <td>14.5842862</td>\n      <td>Podlaží:</td>\n      <td>4</td>\n    </tr>\n    <tr>\n      <th>11</th>\n      <td>50.0170881</td>\n      <td>14.5842862</td>\n      <td>Balkón:</td>\n      <td>Ne</td>\n    </tr>\n    <tr>\n      <th>12</th>\n      <td>50.0170881</td>\n      <td>14.5842862</td>\n      <td>Terasa:</td>\n      <td>Ne</td>\n    </tr>\n    <tr>\n      <th>13</th>\n      <td>50.0170881</td>\n      <td>14.5842862</td>\n      <td>Výtah:</td>\n      <td>Ne</td>\n    </tr>\n    <tr>\n      <th>14</th>\n      <td>50.0170881</td>\n      <td>14.5842862</td>\n      <td>Garáž:</td>\n      <td>Ne</td>\n    </tr>\n  </tbody>\n</table>\n<p>8236 rows × 4 columns</p>\n</div>"
     },
     "metadata": {},
     "execution_count": 311
    }
   ],
   "source": [
    "df_complete_sale"
   ]
  },
  {
   "cell_type": "code",
   "execution_count": 223,
   "metadata": {},
   "outputs": [
    {
     "output_type": "execute_result",
     "data": {
      "text/plain": "(50.106458, 14.659418)     23\n(50.078784, 14.48633)      22\n(50.041711, 14.569642)     22\n(50.058553, 14.282639)     21\n(50.094149, 14.495124)     20\n(50.030721, 14.369716)     18\n(50.053638, 14.355187)     16\n(50.06744, 14.302724)      16\n(50.072871, 14.477979)     15\n(50.0585874, 14.377194)    15\ndtype: int64"
     },
     "metadata": {},
     "execution_count": 223
    }
   ],
   "source": [
    "df_test.set_index(['lat','long']).index.value_counts()"
   ]
  }
 ],
 "metadata": {
  "file_extension": ".py",
  "kernelspec": {
   "display_name": "Python 3",
   "language": "python",
   "name": "python3"
  },
  "language_info": {
   "codemirror_mode": {
    "name": "ipython",
    "version": 3
   },
   "file_extension": ".py",
   "mimetype": "text/x-python",
   "name": "python",
   "nbconvert_exporter": "python",
   "pygments_lexer": "ipython3",
   "version": "3.7.3-final"
  },
  "mimetype": "text/x-python",
  "name": "python",
  "npconvert_exporter": "python",
  "pygments_lexer": "ipython3",
  "version": 3
 },
 "nbformat": 4,
 "nbformat_minor": 4
}