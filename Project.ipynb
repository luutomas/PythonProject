{
 "cells": [
  {
   "cell_type": "code",
   "execution_count": 234,
   "metadata": {},
   "outputs": [],
   "source": [
    "import numpy as np\n",
    "import pandas as pd \n",
    "import requests\n",
    "from bs4 import BeautifulSoup\n",
    "import pandas as pd\n",
    "import tqdm as tqdm\n",
    "from lxml import html\n",
    "import time\n",
    "import itertools"
   ]
  },
  {
   "cell_type": "code",
   "execution_count": 188,
   "metadata": {},
   "outputs": [],
   "source": [
    "class HouseForSale: \n",
    "    '''\n",
    "    Getting desired infos from the webpage provided\n",
    "    '''\n",
    "    def __init__(self, link):\n",
    "        '''\n",
    "        Input a link in order to extract the necessary information\n",
    "        '''\n",
    "        self.link = link\n",
    "\n",
    "    def getSoup(self):\n",
    "        r = requests.get(self.link)\n",
    "        r.encoding = 'UTF-8'\n",
    "        return BeautifulSoup(r.text, 'html')\n",
    "    \n",
    "    def getParameters(self):\n",
    "        '''\n",
    "        Get parameters such as price, disposition, the state of the house\n",
    "        '''\n",
    "        bf = self.getSoup()\n",
    "        bf_table = bf.find('div',{'data-element':\"detail-description\"}).find('table')\n",
    "        table_extract = [i.text.strip() for i in bf_table.findAll('tr')]\n",
    "        df_table = pd.DataFrame(table_extract)\n",
    "        df_table_split = df_table[0].str.split(\"\\n\", expand = True)\n",
    "        df = pd.DataFrame(df_table_split[[0,1]])\n",
    "        df.columns = ['metric', 'value']\n",
    "        df = df.set_index('metric')\n",
    "        return df\n",
    "    \n",
    "    def getMap(self):\n",
    "        '''\n",
    "        Get location of the property using embeded google maps longtitute and lattitude parameters\n",
    "        '''\n",
    "        bf = self.getSoup()\n",
    "        bf_map = bf.find('div',{'id':\"map\"})\n",
    "        x = bf_map.find('iframe')['src'].find('q=') + 2 \n",
    "        y = bf_map.find('iframe')['src'].find('&key')\n",
    "        location = bf_map.find('iframe')['src'][x:y]\n",
    "        loc_str = location.split(',')\n",
    "        loc_dict = {\"lat\" : [loc_str[0]], \"long\": [loc_str[1]]}\n",
    "        loc_df = pd.DataFrame.from_dict(loc_dict, orient = 'index', columns = ['value'])\n",
    "        return loc_df\n",
    "    \n",
    "    def getDf(self):\n",
    "        '''\n",
    "        Return a wide dataframe from getMap() and getParameters(), index = latitute and longtitude\n",
    "        '''\n",
    "        df_par = self.getParameters()\n",
    "        df_map = self.getMap()\n",
    "        df = pd.concat([df_par, df_map])\n",
    "        df = pd.melt(df.T, id_vars = ['lat','long'])\n",
    "        return df"
   ]
  },
  {
   "cell_type": "code",
   "execution_count": 203,
   "metadata": {},
   "outputs": [],
   "source": [
    "house_1 = HouseForSale('https://www.bezrealitky.cz/nemovitosti-byty-domy/522228-nabidka-prodej-bytu-plzenska-hlavni-mesto-praha').getDf()\n",
    "house_1 = house_1.set_index(['lat','long'])"
   ]
  },
  {
   "cell_type": "code",
   "execution_count": 204,
   "metadata": {},
   "outputs": [],
   "source": [
    "house_2 = HouseForSale('https://www.bezrealitky.cz/nemovitosti-byty-domy/603644-nabidka-prodej-bytu-nuslova-prague').getDf()\n",
    "house_2 = house_2.set_index(['lat', 'long'])"
   ]
  },
  {
   "cell_type": "code",
   "execution_count": 210,
   "metadata": {},
   "outputs": [
    {
     "output_type": "execute_result",
     "data": {
      "text/plain": "                                    variable                          value\nlat        long                                                            \n50.0707253 14.3752353              Internet:                               \n           14.3752353        Číslo inzerátu:                         522228\n           14.3752353             Dispozice:                            3+1\n           14.3752353                Plocha:                          75 m²\n           14.3752353                  Cena:                   6.400.000 Kč\n           14.3752353                 Město:                          Praha\n           14.3752353          Městská část:                        Smíchov\n           14.3752353       Typ vlastnictví:                         Osobní\n           14.3752353            Typ budovy:                          Panel\n           14.3752353                  PENB:                              A\n           14.3752353            Vybavenost:                       Vybavený\n           14.3752353               Podlaží:                              2\n           14.3752353                Balkón:                            Ano\n           14.3752353                Terasa:                             Ne\n           14.3752353                 Výtah:                             Ne\n           14.3752353                 Garáž:                             Ne\n           14.3752353        K dispozici od:                          ihned\n           14.3752353          Typ vytápění:                      centrální\n           14.3752353  Podlaží v rámci domu:  první až předposlední podlaží\n50.0519    14.347935               Internet:                               \n           14.347935         Číslo inzerátu:                         603644\n           14.347935              Dispozice:                           4+kk\n           14.347935                 Plocha:                         116 m²\n           14.347935                   Cena:                   8.500.000 Kč\n           14.347935                  Město:                          Praha\n           14.347935           Městská část:                       Stodůlky\n           14.347935        Typ vlastnictví:                         Osobní\n           14.347935             Typ budovy:                          Panel\n           14.347935                   PENB:                              D\n           14.347935                Podlaží:                              8\n           14.347935                 Balkón:                            Ano\n           14.347935                 Terasa:                             Ne\n           14.347935                  Výtah:                            Ano\n           14.347935                  Garáž:                            Ano\n           14.347935         K dispozici od:                     18.04.2020",
      "text/html": "<div>\n<style scoped>\n    .dataframe tbody tr th:only-of-type {\n        vertical-align: middle;\n    }\n\n    .dataframe tbody tr th {\n        vertical-align: top;\n    }\n\n    .dataframe thead th {\n        text-align: right;\n    }\n</style>\n<table border=\"1\" class=\"dataframe\">\n  <thead>\n    <tr style=\"text-align: right;\">\n      <th></th>\n      <th></th>\n      <th>variable</th>\n      <th>value</th>\n    </tr>\n    <tr>\n      <th>lat</th>\n      <th>long</th>\n      <th></th>\n      <th></th>\n    </tr>\n  </thead>\n  <tbody>\n    <tr>\n      <th rowspan=\"19\" valign=\"top\">50.0707253</th>\n      <th>14.3752353</th>\n      <td>Internet:</td>\n      <td></td>\n    </tr>\n    <tr>\n      <th>14.3752353</th>\n      <td>Číslo inzerátu:</td>\n      <td>522228</td>\n    </tr>\n    <tr>\n      <th>14.3752353</th>\n      <td>Dispozice:</td>\n      <td>3+1</td>\n    </tr>\n    <tr>\n      <th>14.3752353</th>\n      <td>Plocha:</td>\n      <td>75 m²</td>\n    </tr>\n    <tr>\n      <th>14.3752353</th>\n      <td>Cena:</td>\n      <td>6.400.000 Kč</td>\n    </tr>\n    <tr>\n      <th>14.3752353</th>\n      <td>Město:</td>\n      <td>Praha</td>\n    </tr>\n    <tr>\n      <th>14.3752353</th>\n      <td>Městská část:</td>\n      <td>Smíchov</td>\n    </tr>\n    <tr>\n      <th>14.3752353</th>\n      <td>Typ vlastnictví:</td>\n      <td>Osobní</td>\n    </tr>\n    <tr>\n      <th>14.3752353</th>\n      <td>Typ budovy:</td>\n      <td>Panel</td>\n    </tr>\n    <tr>\n      <th>14.3752353</th>\n      <td>PENB:</td>\n      <td>A</td>\n    </tr>\n    <tr>\n      <th>14.3752353</th>\n      <td>Vybavenost:</td>\n      <td>Vybavený</td>\n    </tr>\n    <tr>\n      <th>14.3752353</th>\n      <td>Podlaží:</td>\n      <td>2</td>\n    </tr>\n    <tr>\n      <th>14.3752353</th>\n      <td>Balkón:</td>\n      <td>Ano</td>\n    </tr>\n    <tr>\n      <th>14.3752353</th>\n      <td>Terasa:</td>\n      <td>Ne</td>\n    </tr>\n    <tr>\n      <th>14.3752353</th>\n      <td>Výtah:</td>\n      <td>Ne</td>\n    </tr>\n    <tr>\n      <th>14.3752353</th>\n      <td>Garáž:</td>\n      <td>Ne</td>\n    </tr>\n    <tr>\n      <th>14.3752353</th>\n      <td>K dispozici od:</td>\n      <td>ihned</td>\n    </tr>\n    <tr>\n      <th>14.3752353</th>\n      <td>Typ vytápění:</td>\n      <td>centrální</td>\n    </tr>\n    <tr>\n      <th>14.3752353</th>\n      <td>Podlaží v rámci domu:</td>\n      <td>první až předposlední podlaží</td>\n    </tr>\n    <tr>\n      <th rowspan=\"16\" valign=\"top\">50.0519</th>\n      <th>14.347935</th>\n      <td>Internet:</td>\n      <td></td>\n    </tr>\n    <tr>\n      <th>14.347935</th>\n      <td>Číslo inzerátu:</td>\n      <td>603644</td>\n    </tr>\n    <tr>\n      <th>14.347935</th>\n      <td>Dispozice:</td>\n      <td>4+kk</td>\n    </tr>\n    <tr>\n      <th>14.347935</th>\n      <td>Plocha:</td>\n      <td>116 m²</td>\n    </tr>\n    <tr>\n      <th>14.347935</th>\n      <td>Cena:</td>\n      <td>8.500.000 Kč</td>\n    </tr>\n    <tr>\n      <th>14.347935</th>\n      <td>Město:</td>\n      <td>Praha</td>\n    </tr>\n    <tr>\n      <th>14.347935</th>\n      <td>Městská část:</td>\n      <td>Stodůlky</td>\n    </tr>\n    <tr>\n      <th>14.347935</th>\n      <td>Typ vlastnictví:</td>\n      <td>Osobní</td>\n    </tr>\n    <tr>\n      <th>14.347935</th>\n      <td>Typ budovy:</td>\n      <td>Panel</td>\n    </tr>\n    <tr>\n      <th>14.347935</th>\n      <td>PENB:</td>\n      <td>D</td>\n    </tr>\n    <tr>\n      <th>14.347935</th>\n      <td>Podlaží:</td>\n      <td>8</td>\n    </tr>\n    <tr>\n      <th>14.347935</th>\n      <td>Balkón:</td>\n      <td>Ano</td>\n    </tr>\n    <tr>\n      <th>14.347935</th>\n      <td>Terasa:</td>\n      <td>Ne</td>\n    </tr>\n    <tr>\n      <th>14.347935</th>\n      <td>Výtah:</td>\n      <td>Ano</td>\n    </tr>\n    <tr>\n      <th>14.347935</th>\n      <td>Garáž:</td>\n      <td>Ano</td>\n    </tr>\n    <tr>\n      <th>14.347935</th>\n      <td>K dispozici od:</td>\n      <td>18.04.2020</td>\n    </tr>\n  </tbody>\n</table>\n</div>"
     },
     "metadata": {},
     "execution_count": 210
    }
   ],
   "source": [
    "pd.concat([df_test,house_1, house_2])"
   ]
  },
  {
   "cell_type": "markdown",
   "metadata": {},
   "source": [
    "# Downloader class\n",
    "- Manual test\n",
    "- defining class\n",
    "\n",
    "## Manual test"
   ]
  },
  {
   "cell_type": "code",
   "execution_count": 12,
   "metadata": {},
   "outputs": [],
   "source": [
    "def getLinks_test(link):\n",
    "    \n",
    "    page = requests.get(link)\n",
    "    if page.status_code == requests.codes.ok:\n",
    "        wp = getSoup_test(link)\n",
    "        base_url = 'https://www.bezrealitky.cz'\n",
    "        links = wp.findAll('div', {'product__body'})\n",
    "        return [base_url + equity.find('a')['href'] for equity in links]\n",
    "\n",
    "    next_page_text = wp.find('ul', class_=\"pagination justify-content-md-end\").findAll('li')[-1].text\n",
    "\n",
    "    if next_page_text == 'Další >':\n",
    "        next_page_partial = wp.find('ul', class_=\"pagination justify-content-md-end\").findAll('li')[-1].find('a')['href']\n",
    "        next_page_url = base_url + next_page_partial\n",
    "        links = wp.findAll('div', {'product__body'})\n",
    "        return [base_url + equity.find('a')['href'] for equity in links]\n",
    "    # No more 'Next' pages, finish the script\n",
    "    else:\n",
    "        print('Done')"
   ]
  },
  {
   "cell_type": "code",
   "execution_count": 13,
   "metadata": {},
   "outputs": [],
   "source": [
    "l = \"https://www.bezrealitky.cz/vypis/nabidka-prodej/byt/praha?_token=qNLlM7SSvDXIFrdOKHnbj0gv_-OMf7vw6yUc_-ILcFo\"\n",
    "links = getLinks_test(l)"
   ]
  },
  {
   "cell_type": "code",
   "execution_count": 14,
   "metadata": {},
   "outputs": [
    {
     "data": {
      "text/html": [
       "<div>\n",
       "<style scoped>\n",
       "    .dataframe tbody tr th:only-of-type {\n",
       "        vertical-align: middle;\n",
       "    }\n",
       "\n",
       "    .dataframe tbody tr th {\n",
       "        vertical-align: top;\n",
       "    }\n",
       "\n",
       "    .dataframe thead th {\n",
       "        text-align: right;\n",
       "    }\n",
       "</style>\n",
       "<table border=\"1\" class=\"dataframe\">\n",
       "  <thead>\n",
       "    <tr style=\"text-align: right;\">\n",
       "      <th></th>\n",
       "      <th>value</th>\n",
       "    </tr>\n",
       "  </thead>\n",
       "  <tbody>\n",
       "    <tr>\n",
       "      <th>Internet:</th>\n",
       "      <td></td>\n",
       "    </tr>\n",
       "    <tr>\n",
       "      <th>Číslo inzerátu:</th>\n",
       "      <td>602006</td>\n",
       "    </tr>\n",
       "    <tr>\n",
       "      <th>Dispozice:</th>\n",
       "      <td>4+1</td>\n",
       "    </tr>\n",
       "    <tr>\n",
       "      <th>Plocha:</th>\n",
       "      <td>95 m²</td>\n",
       "    </tr>\n",
       "    <tr>\n",
       "      <th>Cena:</th>\n",
       "      <td>3.290.000 Kč</td>\n",
       "    </tr>\n",
       "    <tr>\n",
       "      <th>Město:</th>\n",
       "      <td>Praha</td>\n",
       "    </tr>\n",
       "    <tr>\n",
       "      <th>Městská část:</th>\n",
       "      <td>Řepy</td>\n",
       "    </tr>\n",
       "    <tr>\n",
       "      <th>Typ vlastnictví:</th>\n",
       "      <td>Družstevní</td>\n",
       "    </tr>\n",
       "    <tr>\n",
       "      <th>Typ budovy:</th>\n",
       "      <td>Panel</td>\n",
       "    </tr>\n",
       "    <tr>\n",
       "      <th>PENB:</th>\n",
       "      <td>D</td>\n",
       "    </tr>\n",
       "    <tr>\n",
       "      <th>Vybavenost:</th>\n",
       "      <td>Nevybavený</td>\n",
       "    </tr>\n",
       "    <tr>\n",
       "      <th>Podlaží:</th>\n",
       "      <td>6</td>\n",
       "    </tr>\n",
       "    <tr>\n",
       "      <th>Balkón:</th>\n",
       "      <td>Ano</td>\n",
       "    </tr>\n",
       "    <tr>\n",
       "      <th>Terasa:</th>\n",
       "      <td>Ne</td>\n",
       "    </tr>\n",
       "    <tr>\n",
       "      <th>Výtah:</th>\n",
       "      <td>Ano</td>\n",
       "    </tr>\n",
       "    <tr>\n",
       "      <th>Garáž:</th>\n",
       "      <td>Ne</td>\n",
       "    </tr>\n",
       "    <tr>\n",
       "      <th>K dispozici od:</th>\n",
       "      <td>05.04.2020</td>\n",
       "    </tr>\n",
       "    <tr>\n",
       "      <th>Typ vytápění:</th>\n",
       "      <td>ústřední dálkové</td>\n",
       "    </tr>\n",
       "    <tr>\n",
       "      <th>Rekonstrukce:</th>\n",
       "      <td>jádro</td>\n",
       "    </tr>\n",
       "    <tr>\n",
       "      <th>lat</th>\n",
       "      <td>50.06745</td>\n",
       "    </tr>\n",
       "    <tr>\n",
       "      <th>long</th>\n",
       "      <td>14.302219</td>\n",
       "    </tr>\n",
       "  </tbody>\n",
       "</table>\n",
       "</div>"
      ],
      "text/plain": [
       "                             value\n",
       "Internet:                         \n",
       "Číslo inzerátu:             602006\n",
       "Dispozice:                     4+1\n",
       "Plocha:                      95 m²\n",
       "Cena:                 3.290.000 Kč\n",
       "Město:                       Praha\n",
       "Městská část:                 Řepy\n",
       "Typ vlastnictví:        Družstevní\n",
       "Typ budovy:                  Panel\n",
       "PENB:                            D\n",
       "Vybavenost:             Nevybavený\n",
       "Podlaží:                         6\n",
       "Balkón:                        Ano\n",
       "Terasa:                         Ne\n",
       "Výtah:                         Ano\n",
       "Garáž:                          Ne\n",
       "K dispozici od:         05.04.2020\n",
       "Typ vytápění:     ústřední dálkové\n",
       "Rekonstrukce:                jádro\n",
       "lat                       50.06745\n",
       "long                     14.302219"
      ]
     },
     "execution_count": 14,
     "metadata": {},
     "output_type": "execute_result"
    }
   ],
   "source": [
    "HouseForSale(links[0]).getDf()"
   ]
  },
  {
   "cell_type": "markdown",
   "metadata": {},
   "source": [
    "## Defining class\n",
    "Manual test working - Downloader_single() working\n",
    "Pagination - Downloader_multi() work in progress"
   ]
  },
  {
   "cell_type": "code",
   "execution_count": 16,
   "metadata": {},
   "outputs": [],
   "source": [
    "# Downloader(l)"
   ]
  },
  {
   "cell_type": "code",
   "execution_count": 17,
   "metadata": {},
   "outputs": [],
   "source": [
    "class Downloader_single:\n",
    "    '''\n",
    "    Download all links real estate to initiate\n",
    "    '''\n",
    "    def __init__(self, link):\n",
    "        '''\n",
    "        Give link to extract links of given webpages\n",
    "        '''\n",
    "        self.link = link\n",
    "    \n",
    "    def getSoup(self):\n",
    "        r = requests.get(self.link)\n",
    "        r.encoding = 'UTF-8'\n",
    "        return BeautifulSoup(r.text, 'lxml')\n",
    "\n",
    "    def getLinks(self):\n",
    "        page = requests.get(self.link)\n",
    "        if page.status_code == requests.codes.ok:\n",
    "            wp = self.getSoup()\n",
    "            base_url = 'https://www.bezrealitky.cz'\n",
    "            links = wp.findAll('div', {'product__body'})\n",
    "            return [base_url + equity.find('a')['href'] for equity in links]"
   ]
  },
  {
   "cell_type": "code",
   "execution_count": 18,
   "metadata": {},
   "outputs": [
    {
     "data": {
      "text/plain": [
       "['https://www.bezrealitky.cz/nemovitosti-byty-domy/604370-nabidka-prodej-bytu-spanielova-praha',\n",
       " 'https://www.bezrealitky.cz/nemovitosti-byty-domy/596362-nabidka-prodej-bytu-merhoutova-prague',\n",
       " 'https://www.bezrealitky.cz/nemovitosti-byty-domy/604185-nabidka-prodej-bytu-ucnovska',\n",
       " 'https://www.bezrealitky.cz/nemovitosti-byty-domy/604354-nabidka-prodej-bytu-sanderova',\n",
       " 'https://www.bezrealitky.cz/nemovitosti-byty-domy/602506-nabidka-prodej-bytu-nekvasilova',\n",
       " 'https://www.bezrealitky.cz/nemovitosti-byty-domy/604357-nabidka-prodej-bytu-mantovska',\n",
       " 'https://www.bezrealitky.cz/nemovitosti-byty-domy/604332-nabidka-prodej-bytu-spanielova-praha',\n",
       " 'https://www.bezrealitky.cz/nemovitosti-byty-domy/597584-nabidka-prodej-bytu-v-remizku-praha',\n",
       " 'https://www.bezrealitky.cz/nemovitosti-byty-domy/603606-nabidka-prodej-bytu-tulesicka',\n",
       " 'https://www.bezrealitky.cz/nemovitosti-byty-domy/604353-nabidka-prodej-bytu-za-zameckem-praha']"
      ]
     },
     "execution_count": 18,
     "metadata": {},
     "output_type": "execute_result"
    }
   ],
   "source": [
    "Downloader_single('https://www.bezrealitky.cz/vypis/nabidka-prodej/byt/praha?_token=qNLlM7SSvDXIFrdOKHnbj0gv_-OMf7vw6yUc_-ILcFo&page=3').getLinks()"
   ]
  },
  {
   "cell_type": "code",
   "execution_count": 19,
   "metadata": {},
   "outputs": [],
   "source": [
    "class Downloader_multi:\n",
    "    '''\n",
    "    Download all links real estate to initiate\n",
    "    '''\n",
    "    def __init__(self, link):\n",
    "        '''\n",
    "        Give link to extract links of given webpages\n",
    "        '''\n",
    "        self.link = link\n",
    "    \n",
    "    def getSoup(self):\n",
    "        r = requests.get(self.link)\n",
    "        r.encoding = 'UTF-8'\n",
    "        return BeautifulSoup(r.text, 'lxml')\n",
    "\n",
    "    def getLinks(self):\n",
    "        page = requests.get(self.link)\n",
    "        if page.status_code == requests.codes.ok:\n",
    "            wp = self.getSoup()\n",
    "            base_url = 'https://www.bezrealitky.cz'\n",
    "            links = wp.findAll('div', {'product__body'})\n",
    "            return [base_url + equity.find('a')['href'] for equity in links]\n",
    "        \n",
    "#         if next_page_text == 'Další >':\n",
    "#             next_page_partial = wp.find('ul', class_=\"pagination justify-content-md-end\").findAll('li')[-1].find('a')['href']\n",
    "#             next_page_url = base_url + next_page_partial\n",
    "#             getLinks(next_page_url)\n",
    "#         # No more 'Next' pages, finish the script\n",
    "#         else:\n",
    "#             print('Done')\n",
    "        \n",
    "            \n",
    "        "
   ]
  },
  {
   "cell_type": "code",
   "execution_count": 20,
   "metadata": {},
   "outputs": [
    {
     "data": {
      "text/plain": [
       "[]"
      ]
     },
     "execution_count": 20,
     "metadata": {},
     "output_type": "execute_result"
    }
   ],
   "source": [
    "Downloader_single('https://www.bezrealitky.cz/vypis/nabidka-prodej/byt/praha?_token=qNLlM7SSvDXIFrdOKHnbj0gv_-OMf7vw6yUc_-ILcFo&page=63').getLinks()"
   ]
  },
  {
   "cell_type": "code",
   "execution_count": 34,
   "metadata": {},
   "outputs": [],
   "source": [
    "class Downloader_multi_byJan:\n",
    "    '''\n",
    "    Download all links real estate to initiate\n",
    "    '''\n",
    "    def __init__(self, link):\n",
    "        '''\n",
    "        Give link to extract links of given webpages\n",
    "        '''\n",
    "        self.link = link\n",
    "    \n",
    "    def getSoup(self):\n",
    "            r = requests.get(link)\n",
    "            r.encoding = 'UTF-8'\n",
    "            return BeautifulSoup(r.text, 'lxml')\n",
    "\n",
    "    def getSoupNext(link): \n",
    "            r = requests.get(link)\n",
    "            r.encoding = 'UTF-8'\n",
    "            return BeautifulSoup(r.text, 'lxml')\n",
    "\n",
    "    def getAllPages(self):    \n",
    "            wp = self.getSoup(link)\n",
    "            base_url = 'https://www.bezrealitky.cz'\n",
    "            test_element = wp.find('ul', class_=\"pagination justify-content-md-end\").find('a', rel = 'next')\n",
    "            pglinks = pd.Series(['https://www.bezrealitky.cz/vypis/nabidka-prodej/byt/praha'])\n",
    "            while test_element != None:\n",
    "                    partial_url = wp.find('ul', class_=\"pagination justify-content-md-end\").find('a', rel = 'next')['href']\n",
    "                    next_url = base_url + partial_url\n",
    "                    pglinks = pglinks.append(pd.Series([next_url]), ignore_index = True)\n",
    "                    wp_next = self.getSoupNext(next_url)\n",
    "                    test_element = wp_next.find('ul', class_=\"pagination justify-content-md-end\").find('a', rel = 'next')\n",
    "                    wp = wp_next\n",
    "            else: print(\"Loop is done\")\n",
    "            # return pglinks\n",
    "        \n",
    "    def getLinks(self):\n",
    "            page = requests.get(link)\n",
    "            if page.status_code == requests.codes.ok:\n",
    "                for pg in pglinks:\n",
    "\n",
    "                    wp = self.getSoup()\n",
    "                    base_url = 'https://www.bezrealitky.cz'\n",
    "                    eqlinks = wp.findAll('div', {'product__body'})\n",
    "                    return [base_url_prague + equity.find('a')['href'] for equity in eqlinks]\n"
   ]
  },
  {
   "cell_type": "code",
   "execution_count": 110,
   "metadata": {},
   "outputs": [],
   "source": [
    "Webpage = Downloader_multi_byJan('https://www.bezrealitky.cz/vypis/nabidka-prodej/byt/praha')"
   ]
  },
  {
   "cell_type": "markdown",
   "metadata": {},
   "source": [
    "# Class using outer function\n",
    "This class is using outside function for method helps"
   ]
  },
  {
   "cell_type": "code",
   "execution_count": 162,
   "metadata": {},
   "outputs": [],
   "source": [
    "def getSoup(link):\n",
    "        r = requests.get(link)\n",
    "        r.encoding = 'UTF-8'\n",
    "        return BeautifulSoup(r.text, 'lxml')\n",
    "\n",
    "def getLinks(link):\n",
    "        page = requests.get(link)\n",
    "        if page.status_code == requests.codes.ok:\n",
    "            wp = getSoup(link)\n",
    "            base_url = 'https://www.bezrealitky.cz'\n",
    "            links = wp.findAll('div', {'product__body'})\n",
    "            return [base_url + equity.find('a')['href'] for equity in links]\n",
    "\n",
    "class Downloader_multi_byTiep:\n",
    "    '''\n",
    "    Download all links of real estate properties on the given website\n",
    "    '''\n",
    "    def __init__(self, link):\n",
    "        '''\n",
    "        Provide real estate webpage to extract the properties links\n",
    "        '''\n",
    "        self.link = link\n",
    "\n",
    "    def getAllPages(self):\n",
    "            '''\n",
    "            Get all possible pages from the provided website that contains links\n",
    "            '''    \n",
    "            wp = getSoup(self.link)\n",
    "            base_url = 'https://www.bezrealitky.cz'\n",
    "            test_element = wp.find('ul', class_=\"pagination justify-content-md-end\").find('a', rel = 'next')\n",
    "            links = pd.Series(['https://www.bezrealitky.cz/vypis/nabidka-prodej/byt/praha'])\n",
    "            while test_element != None:\n",
    "                    partial_url = wp.find('ul', class_=\"pagination justify-content-md-end\").find('a', rel = 'next')['href']\n",
    "                    next_url = base_url + partial_url\n",
    "                    links = links.append(pd.Series([next_url]), ignore_index = True)\n",
    "                    wp_next = getSoup(next_url)\n",
    "                    test_element = wp_next.find('ul', class_=\"pagination justify-content-md-end\").find('a', rel = 'next')\n",
    "                    wp = wp_next\n",
    "            else: print(\"Loop is done\")\n",
    "            return list(links)"
   ]
  },
  {
   "cell_type": "code",
   "execution_count": 163,
   "metadata": {},
   "outputs": [
    {
     "output_type": "stream",
     "name": "stdout",
     "text": "Loop is done\n"
    }
   ],
   "source": [
    "links_class = Downloader_multi_byTiep('https://www.bezrealitky.cz/vypis/nabidka-prodej/byt/praha').getAllPages()"
   ]
  },
  {
   "cell_type": "code",
   "execution_count": 164,
   "metadata": {},
   "outputs": [
    {
     "output_type": "execute_result",
     "data": {
      "text/plain": "['https://www.bezrealitky.cz/vypis/nabidka-prodej/byt/praha',\n 'https://www.bezrealitky.cz/vypis/nabidka-prodej/byt/praha?page=2',\n 'https://www.bezrealitky.cz/vypis/nabidka-prodej/byt/praha?page=3',\n 'https://www.bezrealitky.cz/vypis/nabidka-prodej/byt/praha?page=4',\n 'https://www.bezrealitky.cz/vypis/nabidka-prodej/byt/praha?page=5',\n 'https://www.bezrealitky.cz/vypis/nabidka-prodej/byt/praha?page=6',\n 'https://www.bezrealitky.cz/vypis/nabidka-prodej/byt/praha?page=7',\n 'https://www.bezrealitky.cz/vypis/nabidka-prodej/byt/praha?page=8',\n 'https://www.bezrealitky.cz/vypis/nabidka-prodej/byt/praha?page=9',\n 'https://www.bezrealitky.cz/vypis/nabidka-prodej/byt/praha?page=10',\n 'https://www.bezrealitky.cz/vypis/nabidka-prodej/byt/praha?page=11',\n 'https://www.bezrealitky.cz/vypis/nabidka-prodej/byt/praha?page=12',\n 'https://www.bezrealitky.cz/vypis/nabidka-prodej/byt/praha?page=13',\n 'https://www.bezrealitky.cz/vypis/nabidka-prodej/byt/praha?page=14',\n 'https://www.bezrealitky.cz/vypis/nabidka-prodej/byt/praha?page=15',\n 'https://www.bezrealitky.cz/vypis/nabidka-prodej/byt/praha?page=16',\n 'https://www.bezrealitky.cz/vypis/nabidka-prodej/byt/praha?page=17',\n 'https://www.bezrealitky.cz/vypis/nabidka-prodej/byt/praha?page=18',\n 'https://www.bezrealitky.cz/vypis/nabidka-prodej/byt/praha?page=19',\n 'https://www.bezrealitky.cz/vypis/nabidka-prodej/byt/praha?page=20',\n 'https://www.bezrealitky.cz/vypis/nabidka-prodej/byt/praha?page=21',\n 'https://www.bezrealitky.cz/vypis/nabidka-prodej/byt/praha?page=22',\n 'https://www.bezrealitky.cz/vypis/nabidka-prodej/byt/praha?page=23',\n 'https://www.bezrealitky.cz/vypis/nabidka-prodej/byt/praha?page=24',\n 'https://www.bezrealitky.cz/vypis/nabidka-prodej/byt/praha?page=25',\n 'https://www.bezrealitky.cz/vypis/nabidka-prodej/byt/praha?page=26',\n 'https://www.bezrealitky.cz/vypis/nabidka-prodej/byt/praha?page=27',\n 'https://www.bezrealitky.cz/vypis/nabidka-prodej/byt/praha?page=28',\n 'https://www.bezrealitky.cz/vypis/nabidka-prodej/byt/praha?page=29',\n 'https://www.bezrealitky.cz/vypis/nabidka-prodej/byt/praha?page=30',\n 'https://www.bezrealitky.cz/vypis/nabidka-prodej/byt/praha?page=31',\n 'https://www.bezrealitky.cz/vypis/nabidka-prodej/byt/praha?page=32',\n 'https://www.bezrealitky.cz/vypis/nabidka-prodej/byt/praha?page=33',\n 'https://www.bezrealitky.cz/vypis/nabidka-prodej/byt/praha?page=34',\n 'https://www.bezrealitky.cz/vypis/nabidka-prodej/byt/praha?page=35',\n 'https://www.bezrealitky.cz/vypis/nabidka-prodej/byt/praha?page=36',\n 'https://www.bezrealitky.cz/vypis/nabidka-prodej/byt/praha?page=37',\n 'https://www.bezrealitky.cz/vypis/nabidka-prodej/byt/praha?page=38',\n 'https://www.bezrealitky.cz/vypis/nabidka-prodej/byt/praha?page=39',\n 'https://www.bezrealitky.cz/vypis/nabidka-prodej/byt/praha?page=40',\n 'https://www.bezrealitky.cz/vypis/nabidka-prodej/byt/praha?page=41',\n 'https://www.bezrealitky.cz/vypis/nabidka-prodej/byt/praha?page=42',\n 'https://www.bezrealitky.cz/vypis/nabidka-prodej/byt/praha?page=43',\n 'https://www.bezrealitky.cz/vypis/nabidka-prodej/byt/praha?page=44',\n 'https://www.bezrealitky.cz/vypis/nabidka-prodej/byt/praha?page=45',\n 'https://www.bezrealitky.cz/vypis/nabidka-prodej/byt/praha?page=46',\n 'https://www.bezrealitky.cz/vypis/nabidka-prodej/byt/praha?page=47',\n 'https://www.bezrealitky.cz/vypis/nabidka-prodej/byt/praha?page=48',\n 'https://www.bezrealitky.cz/vypis/nabidka-prodej/byt/praha?page=49',\n 'https://www.bezrealitky.cz/vypis/nabidka-prodej/byt/praha?page=50',\n 'https://www.bezrealitky.cz/vypis/nabidka-prodej/byt/praha?page=51',\n 'https://www.bezrealitky.cz/vypis/nabidka-prodej/byt/praha?page=52',\n 'https://www.bezrealitky.cz/vypis/nabidka-prodej/byt/praha?page=53',\n 'https://www.bezrealitky.cz/vypis/nabidka-prodej/byt/praha?page=54',\n 'https://www.bezrealitky.cz/vypis/nabidka-prodej/byt/praha?page=55',\n 'https://www.bezrealitky.cz/vypis/nabidka-prodej/byt/praha?page=56',\n 'https://www.bezrealitky.cz/vypis/nabidka-prodej/byt/praha?page=57',\n 'https://www.bezrealitky.cz/vypis/nabidka-prodej/byt/praha?page=58',\n 'https://www.bezrealitky.cz/vypis/nabidka-prodej/byt/praha?page=59',\n 'https://www.bezrealitky.cz/vypis/nabidka-prodej/byt/praha?page=60',\n 'https://www.bezrealitky.cz/vypis/nabidka-prodej/byt/praha?page=61',\n 'https://www.bezrealitky.cz/vypis/nabidka-prodej/byt/praha?page=62',\n 'https://www.bezrealitky.cz/vypis/nabidka-prodej/byt/praha?page=63']"
     },
     "metadata": {},
     "execution_count": 164
    }
   ],
   "source": [
    "links_class"
   ]
  },
  {
   "cell_type": "code",
   "execution_count": 168,
   "metadata": {},
   "outputs": [],
   "source": [
    "links_properties = [getLinks(li) for li in links_class]"
   ]
  },
  {
   "cell_type": "code",
   "execution_count": 238,
   "metadata": {},
   "outputs": [],
   "source": [
    "links_properties_unlist = list(itertools.chain(*links_properties))"
   ]
  },
  {
   "cell_type": "code",
   "execution_count": 246,
   "metadata": {},
   "outputs": [
    {
     "output_type": "execute_result",
     "data": {
      "text/plain": "(620,)"
     },
     "metadata": {},
     "execution_count": 246
    }
   ],
   "source": [
    "np.shape(links_properties_unlist)"
   ]
  },
  {
   "cell_type": "code",
   "execution_count": 247,
   "metadata": {},
   "outputs": [
    {
     "output_type": "execute_result",
     "data": {
      "text/plain": "<filter at 0x1263174a8>"
     },
     "metadata": {},
     "execution_count": 247
    }
   ],
   "source": []
  },
  {
   "cell_type": "code",
   "execution_count": 169,
   "metadata": {},
   "outputs": [],
   "source": [
    "links_properties_test = getLinks(links_class[4])"
   ]
  },
  {
   "cell_type": "code",
   "execution_count": 172,
   "metadata": {},
   "outputs": [
    {
     "output_type": "execute_result",
     "data": {
      "text/plain": "['https://www.bezrealitky.cz/nemovitosti-byty-domy/604357-nabidka-prodej-bytu-mantovska',\n 'https://www.bezrealitky.cz/nemovitosti-byty-domy/604332-nabidka-prodej-bytu-spanielova-praha',\n 'https://www.bezrealitky.cz/nemovitosti-byty-domy/597584-nabidka-prodej-bytu-v-remizku-praha',\n 'https://www.bezrealitky.cz/nemovitosti-byty-domy/603606-nabidka-prodej-bytu-tulesicka',\n 'https://www.bezrealitky.cz/nemovitosti-byty-domy/604353-nabidka-prodej-bytu-za-zameckem-praha',\n 'https://www.bezrealitky.cz/nemovitosti-byty-domy/539248-nabidka-prodej-bytu',\n 'https://www.bezrealitky.cz/nemovitosti-byty-domy/604154-nabidka-prodej-bytu-uprkova-klanovice',\n 'https://www.bezrealitky.cz/nemovitosti-byty-domy/604305-nabidka-prodej-bytu-omska-praha',\n 'https://www.bezrealitky.cz/nemovitosti-byty-domy/603550-nabidka-prodej-bytu-praha',\n 'https://www.bezrealitky.cz/nemovitosti-byty-domy/597004-nabidka-prodej-bytu-nazovska']"
     },
     "metadata": {},
     "execution_count": 172
    }
   ],
   "source": [
    "links_properties_test"
   ]
  },
  {
   "cell_type": "code",
   "execution_count": 215,
   "metadata": {},
   "outputs": [
    {
     "output_type": "error",
     "ename": "SyntaxError",
     "evalue": "invalid syntax (<ipython-input-215-8e70010ce893>, line 7)",
     "traceback": [
      "\u001b[0;36m  File \u001b[0;32m\"<ipython-input-215-8e70010ce893>\"\u001b[0;36m, line \u001b[0;32m7\u001b[0m\n\u001b[0;31m    df_test.set_index(['lat'.'long'])\u001b[0m\n\u001b[0m                                  ^\u001b[0m\n\u001b[0;31mSyntaxError\u001b[0m\u001b[0;31m:\u001b[0m invalid syntax\n"
     ]
    }
   ],
   "source": [
    "df_complet = pd.DataFrame()\n",
    "for li in links_properties_test:\n",
    "    df_unit = HouseForSale(li).getDf()\n",
    "    df_test = pd.concat([df_test, df_uni"
   ]
  },
  {
   "cell_type": "code",
   "execution_count": 224,
   "metadata": {},
   "outputs": [
    {
     "output_type": "execute_result",
     "data": {
      "text/plain": "                                  variable  \\\nlat       long                               \n50.041711 14.569642              Internet:   \n          14.569642        Číslo inzerátu:   \n          14.569642             Dispozice:   \n          14.569642                Plocha:   \n          14.569642                  Cena:   \n          14.569642                 Město:   \n          14.569642          Městská část:   \n          14.569642       Typ vlastnictví:   \n          14.569642            Typ budovy:   \n          14.569642            Novostavba:   \n          14.569642                  PENB:   \n          14.569642            Vybavenost:   \n          14.569642               Podlaží:   \n          14.569642                Balkón:   \n          14.569642                Terasa:   \n          14.569642                 Výtah:   \n          14.569642                 Garáž:   \n          14.569642        K dispozici od:   \n          14.569642                 Stáří:   \n          14.569642             Provedení:   \n          14.569642          Typ vytápění:   \n          14.569642  Podlaží v rámci domu:   \n50.06744  14.302724              Internet:   \n          14.302724        Číslo inzerátu:   \n          14.302724             Dispozice:   \n          14.302724                Plocha:   \n          14.302724                  Cena:   \n          14.302724                 Město:   \n          14.302724          Městská část:   \n          14.302724       Typ vlastnictví:   \n...                                    ...   \n50.094149 14.495124                Balkón:   \n          14.495124                Terasa:   \n          14.495124                 Výtah:   \n          14.495124                 Garáž:   \n          14.495124        K dispozici od:   \n          14.495124          Typ vytápění:   \n          14.495124  Podlaží v rámci domu:   \n          14.495124          Rekonstrukce:   \n50.078784 14.48633               Internet:   \n          14.48633         Číslo inzerátu:   \n          14.48633              Dispozice:   \n          14.48633                 Plocha:   \n          14.48633                   Cena:   \n          14.48633                  Město:   \n          14.48633           Městská část:   \n          14.48633        Typ vlastnictví:   \n          14.48633             Typ budovy:   \n          14.48633             Novostavba:   \n          14.48633                   PENB:   \n          14.48633             Vybavenost:   \n          14.48633                Podlaží:   \n          14.48633                 Balkón:   \n          14.48633                 Terasa:   \n          14.48633                  Výtah:   \n          14.48633                  Garáž:   \n          14.48633         K dispozici od:   \n          14.48633              Provedení:   \n          14.48633           Typ vytápění:   \n          14.48633   Podlaží v rámci domu:   \n          14.48633           Rekonstrukce:   \n\n                                                         value  \nlat       long                                                  \n50.041711 14.569642                                             \n          14.569642                                     604357  \n          14.569642                                       2+kk  \n          14.569642                                      56 m²  \n          14.569642                               5.400.000 Kč  \n          14.569642                                      Praha  \n          14.569642                            Horní Měcholupy  \n          14.569642                                     Osobní  \n          14.569642                                      Panel  \n          14.569642                                        Ano  \n          14.569642                                          B  \n          14.569642                                   Vybavený  \n          14.569642                                          1  \n          14.569642                                         Ne  \n          14.569642                                        Ano  \n          14.569642                                         Ne  \n          14.569642                                        Ano  \n          14.569642                                 01.05.2020  \n          14.569642                                     1 - 10  \n          14.569642  standardní: běžné materiály a technologie  \n          14.569642                                  centrální  \n          14.569642                           vyvýšené přízemí  \n50.06744  14.302724                                             \n          14.302724                                     604332  \n          14.302724                                        4+1  \n          14.302724                                      95 m²  \n          14.302724                               3.290.000 Kč  \n          14.302724                                      Praha  \n          14.302724                                       Řepy  \n          14.302724                                 Družstevní  \n...                                                        ...  \n50.094149 14.495124                                         Ne  \n          14.495124                                         Ne  \n          14.495124                                        Ano  \n          14.495124                                         Ne  \n          14.495124                                 01.05.2020  \n          14.495124                           ústřední dálkové  \n          14.495124                           vyvýšené přízemí  \n          14.495124                                        vše  \n50.078784 14.48633                                              \n          14.48633                                      597004  \n          14.48633                                        1+kk  \n          14.48633                                       38 m²  \n          14.48633                                3.736.000 Kč  \n          14.48633                                       Praha  \n          14.48633                                   Strašnice  \n          14.48633                                      Osobní  \n          14.48633                                       Cihla  \n          14.48633                                         Ano  \n          14.48633                                           C  \n          14.48633                                  Nevybavený  \n          14.48633                                           1  \n          14.48633                                          Ne  \n          14.48633                                          Ne  \n          14.48633                                         Ano  \n          14.48633                                          Ne  \n          14.48633                                  17.04.2020  \n          14.48633   standardní: běžné materiály a technologie  \n          14.48633                            ústřední dálkové  \n          14.48633                            vyvýšené přízemí  \n          14.48633                                    interiér  \n\n[188 rows x 2 columns]",
      "text/html": "<div>\n<style scoped>\n    .dataframe tbody tr th:only-of-type {\n        vertical-align: middle;\n    }\n\n    .dataframe tbody tr th {\n        vertical-align: top;\n    }\n\n    .dataframe thead th {\n        text-align: right;\n    }\n</style>\n<table border=\"1\" class=\"dataframe\">\n  <thead>\n    <tr style=\"text-align: right;\">\n      <th></th>\n      <th></th>\n      <th>variable</th>\n      <th>value</th>\n    </tr>\n    <tr>\n      <th>lat</th>\n      <th>long</th>\n      <th></th>\n      <th></th>\n    </tr>\n  </thead>\n  <tbody>\n    <tr>\n      <th rowspan=\"22\" valign=\"top\">50.041711</th>\n      <th>14.569642</th>\n      <td>Internet:</td>\n      <td></td>\n    </tr>\n    <tr>\n      <th>14.569642</th>\n      <td>Číslo inzerátu:</td>\n      <td>604357</td>\n    </tr>\n    <tr>\n      <th>14.569642</th>\n      <td>Dispozice:</td>\n      <td>2+kk</td>\n    </tr>\n    <tr>\n      <th>14.569642</th>\n      <td>Plocha:</td>\n      <td>56 m²</td>\n    </tr>\n    <tr>\n      <th>14.569642</th>\n      <td>Cena:</td>\n      <td>5.400.000 Kč</td>\n    </tr>\n    <tr>\n      <th>14.569642</th>\n      <td>Město:</td>\n      <td>Praha</td>\n    </tr>\n    <tr>\n      <th>14.569642</th>\n      <td>Městská část:</td>\n      <td>Horní Měcholupy</td>\n    </tr>\n    <tr>\n      <th>14.569642</th>\n      <td>Typ vlastnictví:</td>\n      <td>Osobní</td>\n    </tr>\n    <tr>\n      <th>14.569642</th>\n      <td>Typ budovy:</td>\n      <td>Panel</td>\n    </tr>\n    <tr>\n      <th>14.569642</th>\n      <td>Novostavba:</td>\n      <td>Ano</td>\n    </tr>\n    <tr>\n      <th>14.569642</th>\n      <td>PENB:</td>\n      <td>B</td>\n    </tr>\n    <tr>\n      <th>14.569642</th>\n      <td>Vybavenost:</td>\n      <td>Vybavený</td>\n    </tr>\n    <tr>\n      <th>14.569642</th>\n      <td>Podlaží:</td>\n      <td>1</td>\n    </tr>\n    <tr>\n      <th>14.569642</th>\n      <td>Balkón:</td>\n      <td>Ne</td>\n    </tr>\n    <tr>\n      <th>14.569642</th>\n      <td>Terasa:</td>\n      <td>Ano</td>\n    </tr>\n    <tr>\n      <th>14.569642</th>\n      <td>Výtah:</td>\n      <td>Ne</td>\n    </tr>\n    <tr>\n      <th>14.569642</th>\n      <td>Garáž:</td>\n      <td>Ano</td>\n    </tr>\n    <tr>\n      <th>14.569642</th>\n      <td>K dispozici od:</td>\n      <td>01.05.2020</td>\n    </tr>\n    <tr>\n      <th>14.569642</th>\n      <td>Stáří:</td>\n      <td>1 - 10</td>\n    </tr>\n    <tr>\n      <th>14.569642</th>\n      <td>Provedení:</td>\n      <td>standardní: běžné materiály a technologie</td>\n    </tr>\n    <tr>\n      <th>14.569642</th>\n      <td>Typ vytápění:</td>\n      <td>centrální</td>\n    </tr>\n    <tr>\n      <th>14.569642</th>\n      <td>Podlaží v rámci domu:</td>\n      <td>vyvýšené přízemí</td>\n    </tr>\n    <tr>\n      <th rowspan=\"8\" valign=\"top\">50.06744</th>\n      <th>14.302724</th>\n      <td>Internet:</td>\n      <td></td>\n    </tr>\n    <tr>\n      <th>14.302724</th>\n      <td>Číslo inzerátu:</td>\n      <td>604332</td>\n    </tr>\n    <tr>\n      <th>14.302724</th>\n      <td>Dispozice:</td>\n      <td>4+1</td>\n    </tr>\n    <tr>\n      <th>14.302724</th>\n      <td>Plocha:</td>\n      <td>95 m²</td>\n    </tr>\n    <tr>\n      <th>14.302724</th>\n      <td>Cena:</td>\n      <td>3.290.000 Kč</td>\n    </tr>\n    <tr>\n      <th>14.302724</th>\n      <td>Město:</td>\n      <td>Praha</td>\n    </tr>\n    <tr>\n      <th>14.302724</th>\n      <td>Městská část:</td>\n      <td>Řepy</td>\n    </tr>\n    <tr>\n      <th>14.302724</th>\n      <td>Typ vlastnictví:</td>\n      <td>Družstevní</td>\n    </tr>\n    <tr>\n      <th>...</th>\n      <th>...</th>\n      <td>...</td>\n      <td>...</td>\n    </tr>\n    <tr>\n      <th rowspan=\"8\" valign=\"top\">50.094149</th>\n      <th>14.495124</th>\n      <td>Balkón:</td>\n      <td>Ne</td>\n    </tr>\n    <tr>\n      <th>14.495124</th>\n      <td>Terasa:</td>\n      <td>Ne</td>\n    </tr>\n    <tr>\n      <th>14.495124</th>\n      <td>Výtah:</td>\n      <td>Ano</td>\n    </tr>\n    <tr>\n      <th>14.495124</th>\n      <td>Garáž:</td>\n      <td>Ne</td>\n    </tr>\n    <tr>\n      <th>14.495124</th>\n      <td>K dispozici od:</td>\n      <td>01.05.2020</td>\n    </tr>\n    <tr>\n      <th>14.495124</th>\n      <td>Typ vytápění:</td>\n      <td>ústřední dálkové</td>\n    </tr>\n    <tr>\n      <th>14.495124</th>\n      <td>Podlaží v rámci domu:</td>\n      <td>vyvýšené přízemí</td>\n    </tr>\n    <tr>\n      <th>14.495124</th>\n      <td>Rekonstrukce:</td>\n      <td>vše</td>\n    </tr>\n    <tr>\n      <th rowspan=\"22\" valign=\"top\">50.078784</th>\n      <th>14.48633</th>\n      <td>Internet:</td>\n      <td></td>\n    </tr>\n    <tr>\n      <th>14.48633</th>\n      <td>Číslo inzerátu:</td>\n      <td>597004</td>\n    </tr>\n    <tr>\n      <th>14.48633</th>\n      <td>Dispozice:</td>\n      <td>1+kk</td>\n    </tr>\n    <tr>\n      <th>14.48633</th>\n      <td>Plocha:</td>\n      <td>38 m²</td>\n    </tr>\n    <tr>\n      <th>14.48633</th>\n      <td>Cena:</td>\n      <td>3.736.000 Kč</td>\n    </tr>\n    <tr>\n      <th>14.48633</th>\n      <td>Město:</td>\n      <td>Praha</td>\n    </tr>\n    <tr>\n      <th>14.48633</th>\n      <td>Městská část:</td>\n      <td>Strašnice</td>\n    </tr>\n    <tr>\n      <th>14.48633</th>\n      <td>Typ vlastnictví:</td>\n      <td>Osobní</td>\n    </tr>\n    <tr>\n      <th>14.48633</th>\n      <td>Typ budovy:</td>\n      <td>Cihla</td>\n    </tr>\n    <tr>\n      <th>14.48633</th>\n      <td>Novostavba:</td>\n      <td>Ano</td>\n    </tr>\n    <tr>\n      <th>14.48633</th>\n      <td>PENB:</td>\n      <td>C</td>\n    </tr>\n    <tr>\n      <th>14.48633</th>\n      <td>Vybavenost:</td>\n      <td>Nevybavený</td>\n    </tr>\n    <tr>\n      <th>14.48633</th>\n      <td>Podlaží:</td>\n      <td>1</td>\n    </tr>\n    <tr>\n      <th>14.48633</th>\n      <td>Balkón:</td>\n      <td>Ne</td>\n    </tr>\n    <tr>\n      <th>14.48633</th>\n      <td>Terasa:</td>\n      <td>Ne</td>\n    </tr>\n    <tr>\n      <th>14.48633</th>\n      <td>Výtah:</td>\n      <td>Ano</td>\n    </tr>\n    <tr>\n      <th>14.48633</th>\n      <td>Garáž:</td>\n      <td>Ne</td>\n    </tr>\n    <tr>\n      <th>14.48633</th>\n      <td>K dispozici od:</td>\n      <td>17.04.2020</td>\n    </tr>\n    <tr>\n      <th>14.48633</th>\n      <td>Provedení:</td>\n      <td>standardní: běžné materiály a technologie</td>\n    </tr>\n    <tr>\n      <th>14.48633</th>\n      <td>Typ vytápění:</td>\n      <td>ústřední dálkové</td>\n    </tr>\n    <tr>\n      <th>14.48633</th>\n      <td>Podlaží v rámci domu:</td>\n      <td>vyvýšené přízemí</td>\n    </tr>\n    <tr>\n      <th>14.48633</th>\n      <td>Rekonstrukce:</td>\n      <td>interiér</td>\n    </tr>\n  </tbody>\n</table>\n<p>188 rows × 2 columns</p>\n</div>"
     },
     "metadata": {},
     "execution_count": 224
    }
   ],
   "source": [
    "df_test\n",
    "df_test.set_index(['lat','long'])"
   ]
  },
  {
   "cell_type": "code",
   "execution_count": 239,
   "metadata": {},
   "outputs": [
    {
     "output_type": "error",
     "ename": "ConnectionError",
     "evalue": "HTTPSConnectionPool(host='www.bezrealitky.czhttps', port=443): Max retries exceeded with url: //www.bezrealitky.cz/nove-bydleni/vzorova-nemovitost/716-rezidence-silver-port/26331-3-kk-91m2-se-zahradou-p-10 (Caused by NewConnectionError('<urllib3.connection.VerifiedHTTPSConnection object at 0x129b87358>: Failed to establish a new connection: [Errno 8] nodename nor servname provided, or not known'))",
     "traceback": [
      "\u001b[0;31m---------------------------------------------------------------------------\u001b[0m",
      "\u001b[0;31mgaierror\u001b[0m                                  Traceback (most recent call last)",
      "\u001b[0;32m~/anaconda3/lib/python3.7/site-packages/urllib3/connection.py\u001b[0m in \u001b[0;36m_new_conn\u001b[0;34m(self)\u001b[0m\n\u001b[1;32m    158\u001b[0m             conn = connection.create_connection(\n\u001b[0;32m--> 159\u001b[0;31m                 (self._dns_host, self.port), self.timeout, **extra_kw)\n\u001b[0m\u001b[1;32m    160\u001b[0m \u001b[0;34m\u001b[0m\u001b[0m\n",
      "\u001b[0;32m~/anaconda3/lib/python3.7/site-packages/urllib3/util/connection.py\u001b[0m in \u001b[0;36mcreate_connection\u001b[0;34m(address, timeout, source_address, socket_options)\u001b[0m\n\u001b[1;32m     56\u001b[0m \u001b[0;34m\u001b[0m\u001b[0m\n\u001b[0;32m---> 57\u001b[0;31m     \u001b[0;32mfor\u001b[0m \u001b[0mres\u001b[0m \u001b[0;32min\u001b[0m \u001b[0msocket\u001b[0m\u001b[0;34m.\u001b[0m\u001b[0mgetaddrinfo\u001b[0m\u001b[0;34m(\u001b[0m\u001b[0mhost\u001b[0m\u001b[0;34m,\u001b[0m \u001b[0mport\u001b[0m\u001b[0;34m,\u001b[0m \u001b[0mfamily\u001b[0m\u001b[0;34m,\u001b[0m \u001b[0msocket\u001b[0m\u001b[0;34m.\u001b[0m\u001b[0mSOCK_STREAM\u001b[0m\u001b[0;34m)\u001b[0m\u001b[0;34m:\u001b[0m\u001b[0;34m\u001b[0m\u001b[0;34m\u001b[0m\u001b[0m\n\u001b[0m\u001b[1;32m     58\u001b[0m         \u001b[0maf\u001b[0m\u001b[0;34m,\u001b[0m \u001b[0msocktype\u001b[0m\u001b[0;34m,\u001b[0m \u001b[0mproto\u001b[0m\u001b[0;34m,\u001b[0m \u001b[0mcanonname\u001b[0m\u001b[0;34m,\u001b[0m \u001b[0msa\u001b[0m \u001b[0;34m=\u001b[0m \u001b[0mres\u001b[0m\u001b[0;34m\u001b[0m\u001b[0;34m\u001b[0m\u001b[0m\n",
      "\u001b[0;32m~/anaconda3/lib/python3.7/socket.py\u001b[0m in \u001b[0;36mgetaddrinfo\u001b[0;34m(host, port, family, type, proto, flags)\u001b[0m\n\u001b[1;32m    747\u001b[0m     \u001b[0maddrlist\u001b[0m \u001b[0;34m=\u001b[0m \u001b[0;34m[\u001b[0m\u001b[0;34m]\u001b[0m\u001b[0;34m\u001b[0m\u001b[0;34m\u001b[0m\u001b[0m\n\u001b[0;32m--> 748\u001b[0;31m     \u001b[0;32mfor\u001b[0m \u001b[0mres\u001b[0m \u001b[0;32min\u001b[0m \u001b[0m_socket\u001b[0m\u001b[0;34m.\u001b[0m\u001b[0mgetaddrinfo\u001b[0m\u001b[0;34m(\u001b[0m\u001b[0mhost\u001b[0m\u001b[0;34m,\u001b[0m \u001b[0mport\u001b[0m\u001b[0;34m,\u001b[0m \u001b[0mfamily\u001b[0m\u001b[0;34m,\u001b[0m \u001b[0mtype\u001b[0m\u001b[0;34m,\u001b[0m \u001b[0mproto\u001b[0m\u001b[0;34m,\u001b[0m \u001b[0mflags\u001b[0m\u001b[0;34m)\u001b[0m\u001b[0;34m:\u001b[0m\u001b[0;34m\u001b[0m\u001b[0;34m\u001b[0m\u001b[0m\n\u001b[0m\u001b[1;32m    749\u001b[0m         \u001b[0maf\u001b[0m\u001b[0;34m,\u001b[0m \u001b[0msocktype\u001b[0m\u001b[0;34m,\u001b[0m \u001b[0mproto\u001b[0m\u001b[0;34m,\u001b[0m \u001b[0mcanonname\u001b[0m\u001b[0;34m,\u001b[0m \u001b[0msa\u001b[0m \u001b[0;34m=\u001b[0m \u001b[0mres\u001b[0m\u001b[0;34m\u001b[0m\u001b[0;34m\u001b[0m\u001b[0m\n",
      "\u001b[0;31mgaierror\u001b[0m: [Errno 8] nodename nor servname provided, or not known",
      "\nDuring handling of the above exception, another exception occurred:\n",
      "\u001b[0;31mNewConnectionError\u001b[0m                        Traceback (most recent call last)",
      "\u001b[0;32m~/anaconda3/lib/python3.7/site-packages/urllib3/connectionpool.py\u001b[0m in \u001b[0;36murlopen\u001b[0;34m(self, method, url, body, headers, retries, redirect, assert_same_host, timeout, pool_timeout, release_conn, chunked, body_pos, **response_kw)\u001b[0m\n\u001b[1;32m    599\u001b[0m                                                   \u001b[0mbody\u001b[0m\u001b[0;34m=\u001b[0m\u001b[0mbody\u001b[0m\u001b[0;34m,\u001b[0m \u001b[0mheaders\u001b[0m\u001b[0;34m=\u001b[0m\u001b[0mheaders\u001b[0m\u001b[0;34m,\u001b[0m\u001b[0;34m\u001b[0m\u001b[0;34m\u001b[0m\u001b[0m\n\u001b[0;32m--> 600\u001b[0;31m                                                   chunked=chunked)\n\u001b[0m\u001b[1;32m    601\u001b[0m \u001b[0;34m\u001b[0m\u001b[0m\n",
      "\u001b[0;32m~/anaconda3/lib/python3.7/site-packages/urllib3/connectionpool.py\u001b[0m in \u001b[0;36m_make_request\u001b[0;34m(self, conn, method, url, timeout, chunked, **httplib_request_kw)\u001b[0m\n\u001b[1;32m    342\u001b[0m         \u001b[0;32mtry\u001b[0m\u001b[0;34m:\u001b[0m\u001b[0;34m\u001b[0m\u001b[0;34m\u001b[0m\u001b[0m\n\u001b[0;32m--> 343\u001b[0;31m             \u001b[0mself\u001b[0m\u001b[0;34m.\u001b[0m\u001b[0m_validate_conn\u001b[0m\u001b[0;34m(\u001b[0m\u001b[0mconn\u001b[0m\u001b[0;34m)\u001b[0m\u001b[0;34m\u001b[0m\u001b[0;34m\u001b[0m\u001b[0m\n\u001b[0m\u001b[1;32m    344\u001b[0m         \u001b[0;32mexcept\u001b[0m \u001b[0;34m(\u001b[0m\u001b[0mSocketTimeout\u001b[0m\u001b[0;34m,\u001b[0m \u001b[0mBaseSSLError\u001b[0m\u001b[0;34m)\u001b[0m \u001b[0;32mas\u001b[0m \u001b[0me\u001b[0m\u001b[0;34m:\u001b[0m\u001b[0;34m\u001b[0m\u001b[0;34m\u001b[0m\u001b[0m\n",
      "\u001b[0;32m~/anaconda3/lib/python3.7/site-packages/urllib3/connectionpool.py\u001b[0m in \u001b[0;36m_validate_conn\u001b[0;34m(self, conn)\u001b[0m\n\u001b[1;32m    838\u001b[0m         \u001b[0;32mif\u001b[0m \u001b[0;32mnot\u001b[0m \u001b[0mgetattr\u001b[0m\u001b[0;34m(\u001b[0m\u001b[0mconn\u001b[0m\u001b[0;34m,\u001b[0m \u001b[0;34m'sock'\u001b[0m\u001b[0;34m,\u001b[0m \u001b[0;32mNone\u001b[0m\u001b[0;34m)\u001b[0m\u001b[0;34m:\u001b[0m  \u001b[0;31m# AppEngine might not have  `.sock`\u001b[0m\u001b[0;34m\u001b[0m\u001b[0;34m\u001b[0m\u001b[0m\n\u001b[0;32m--> 839\u001b[0;31m             \u001b[0mconn\u001b[0m\u001b[0;34m.\u001b[0m\u001b[0mconnect\u001b[0m\u001b[0;34m(\u001b[0m\u001b[0;34m)\u001b[0m\u001b[0;34m\u001b[0m\u001b[0;34m\u001b[0m\u001b[0m\n\u001b[0m\u001b[1;32m    840\u001b[0m \u001b[0;34m\u001b[0m\u001b[0m\n",
      "\u001b[0;32m~/anaconda3/lib/python3.7/site-packages/urllib3/connection.py\u001b[0m in \u001b[0;36mconnect\u001b[0;34m(self)\u001b[0m\n\u001b[1;32m    300\u001b[0m         \u001b[0;31m# Add certificate verification\u001b[0m\u001b[0;34m\u001b[0m\u001b[0;34m\u001b[0m\u001b[0;34m\u001b[0m\u001b[0m\n\u001b[0;32m--> 301\u001b[0;31m         \u001b[0mconn\u001b[0m \u001b[0;34m=\u001b[0m \u001b[0mself\u001b[0m\u001b[0;34m.\u001b[0m\u001b[0m_new_conn\u001b[0m\u001b[0;34m(\u001b[0m\u001b[0;34m)\u001b[0m\u001b[0;34m\u001b[0m\u001b[0;34m\u001b[0m\u001b[0m\n\u001b[0m\u001b[1;32m    302\u001b[0m         \u001b[0mhostname\u001b[0m \u001b[0;34m=\u001b[0m \u001b[0mself\u001b[0m\u001b[0;34m.\u001b[0m\u001b[0mhost\u001b[0m\u001b[0;34m\u001b[0m\u001b[0;34m\u001b[0m\u001b[0m\n",
      "\u001b[0;32m~/anaconda3/lib/python3.7/site-packages/urllib3/connection.py\u001b[0m in \u001b[0;36m_new_conn\u001b[0;34m(self)\u001b[0m\n\u001b[1;32m    167\u001b[0m             raise NewConnectionError(\n\u001b[0;32m--> 168\u001b[0;31m                 self, \"Failed to establish a new connection: %s\" % e)\n\u001b[0m\u001b[1;32m    169\u001b[0m \u001b[0;34m\u001b[0m\u001b[0m\n",
      "\u001b[0;31mNewConnectionError\u001b[0m: <urllib3.connection.VerifiedHTTPSConnection object at 0x129b87358>: Failed to establish a new connection: [Errno 8] nodename nor servname provided, or not known",
      "\nDuring handling of the above exception, another exception occurred:\n",
      "\u001b[0;31mMaxRetryError\u001b[0m                             Traceback (most recent call last)",
      "\u001b[0;32m~/anaconda3/lib/python3.7/site-packages/requests/adapters.py\u001b[0m in \u001b[0;36msend\u001b[0;34m(self, request, stream, timeout, verify, cert, proxies)\u001b[0m\n\u001b[1;32m    448\u001b[0m                     \u001b[0mretries\u001b[0m\u001b[0;34m=\u001b[0m\u001b[0mself\u001b[0m\u001b[0;34m.\u001b[0m\u001b[0mmax_retries\u001b[0m\u001b[0;34m,\u001b[0m\u001b[0;34m\u001b[0m\u001b[0;34m\u001b[0m\u001b[0m\n\u001b[0;32m--> 449\u001b[0;31m                     \u001b[0mtimeout\u001b[0m\u001b[0;34m=\u001b[0m\u001b[0mtimeout\u001b[0m\u001b[0;34m\u001b[0m\u001b[0;34m\u001b[0m\u001b[0m\n\u001b[0m\u001b[1;32m    450\u001b[0m                 )\n",
      "\u001b[0;32m~/anaconda3/lib/python3.7/site-packages/urllib3/connectionpool.py\u001b[0m in \u001b[0;36murlopen\u001b[0;34m(self, method, url, body, headers, retries, redirect, assert_same_host, timeout, pool_timeout, release_conn, chunked, body_pos, **response_kw)\u001b[0m\n\u001b[1;32m    637\u001b[0m             retries = retries.increment(method, url, error=e, _pool=self,\n\u001b[0;32m--> 638\u001b[0;31m                                         _stacktrace=sys.exc_info()[2])\n\u001b[0m\u001b[1;32m    639\u001b[0m             \u001b[0mretries\u001b[0m\u001b[0;34m.\u001b[0m\u001b[0msleep\u001b[0m\u001b[0;34m(\u001b[0m\u001b[0;34m)\u001b[0m\u001b[0;34m\u001b[0m\u001b[0;34m\u001b[0m\u001b[0m\n",
      "\u001b[0;32m~/anaconda3/lib/python3.7/site-packages/urllib3/util/retry.py\u001b[0m in \u001b[0;36mincrement\u001b[0;34m(self, method, url, response, error, _pool, _stacktrace)\u001b[0m\n\u001b[1;32m    398\u001b[0m         \u001b[0;32mif\u001b[0m \u001b[0mnew_retry\u001b[0m\u001b[0;34m.\u001b[0m\u001b[0mis_exhausted\u001b[0m\u001b[0;34m(\u001b[0m\u001b[0;34m)\u001b[0m\u001b[0;34m:\u001b[0m\u001b[0;34m\u001b[0m\u001b[0;34m\u001b[0m\u001b[0m\n\u001b[0;32m--> 399\u001b[0;31m             \u001b[0;32mraise\u001b[0m \u001b[0mMaxRetryError\u001b[0m\u001b[0;34m(\u001b[0m\u001b[0m_pool\u001b[0m\u001b[0;34m,\u001b[0m \u001b[0murl\u001b[0m\u001b[0;34m,\u001b[0m \u001b[0merror\u001b[0m \u001b[0;32mor\u001b[0m \u001b[0mResponseError\u001b[0m\u001b[0;34m(\u001b[0m\u001b[0mcause\u001b[0m\u001b[0;34m)\u001b[0m\u001b[0;34m)\u001b[0m\u001b[0;34m\u001b[0m\u001b[0;34m\u001b[0m\u001b[0m\n\u001b[0m\u001b[1;32m    400\u001b[0m \u001b[0;34m\u001b[0m\u001b[0m\n",
      "\u001b[0;31mMaxRetryError\u001b[0m: HTTPSConnectionPool(host='www.bezrealitky.czhttps', port=443): Max retries exceeded with url: //www.bezrealitky.cz/nove-bydleni/vzorova-nemovitost/716-rezidence-silver-port/26331-3-kk-91m2-se-zahradou-p-10 (Caused by NewConnectionError('<urllib3.connection.VerifiedHTTPSConnection object at 0x129b87358>: Failed to establish a new connection: [Errno 8] nodename nor servname provided, or not known'))",
      "\nDuring handling of the above exception, another exception occurred:\n",
      "\u001b[0;31mConnectionError\u001b[0m                           Traceback (most recent call last)",
      "\u001b[0;32m<ipython-input-239-21508127264e>\u001b[0m in \u001b[0;36m<module>\u001b[0;34m\u001b[0m\n\u001b[1;32m      1\u001b[0m \u001b[0mdf_complete_sale\u001b[0m \u001b[0;34m=\u001b[0m \u001b[0mpd\u001b[0m\u001b[0;34m.\u001b[0m\u001b[0mDataFrame\u001b[0m\u001b[0;34m(\u001b[0m\u001b[0;34m)\u001b[0m\u001b[0;34m\u001b[0m\u001b[0;34m\u001b[0m\u001b[0m\n\u001b[1;32m      2\u001b[0m \u001b[0;32mfor\u001b[0m \u001b[0mli\u001b[0m \u001b[0;32min\u001b[0m \u001b[0mlinks_properties_unlist\u001b[0m\u001b[0;34m:\u001b[0m\u001b[0;34m\u001b[0m\u001b[0;34m\u001b[0m\u001b[0m\n\u001b[0;32m----> 3\u001b[0;31m     \u001b[0mdf_unit\u001b[0m \u001b[0;34m=\u001b[0m \u001b[0mHouseForSale\u001b[0m\u001b[0;34m(\u001b[0m\u001b[0mli\u001b[0m\u001b[0;34m)\u001b[0m\u001b[0;34m.\u001b[0m\u001b[0mgetDf\u001b[0m\u001b[0;34m(\u001b[0m\u001b[0;34m)\u001b[0m\u001b[0;34m\u001b[0m\u001b[0;34m\u001b[0m\u001b[0m\n\u001b[0m\u001b[1;32m      4\u001b[0m     \u001b[0mdf_complete_sale\u001b[0m \u001b[0;34m=\u001b[0m \u001b[0mpd\u001b[0m\u001b[0;34m.\u001b[0m\u001b[0mconcat\u001b[0m\u001b[0;34m(\u001b[0m\u001b[0;34m[\u001b[0m\u001b[0mdf_complete_sale\u001b[0m\u001b[0;34m,\u001b[0m \u001b[0mdf_unit\u001b[0m\u001b[0;34m]\u001b[0m\u001b[0;34m)\u001b[0m\u001b[0;34m\u001b[0m\u001b[0;34m\u001b[0m\u001b[0m\n",
      "\u001b[0;32m<ipython-input-188-29dc5cf25dfc>\u001b[0m in \u001b[0;36mgetDf\u001b[0;34m(self)\u001b[0m\n\u001b[1;32m     46\u001b[0m         \u001b[0mReturn\u001b[0m \u001b[0ma\u001b[0m \u001b[0mwide\u001b[0m \u001b[0mdataframe\u001b[0m \u001b[0;32mfrom\u001b[0m \u001b[0mgetMap\u001b[0m\u001b[0;34m(\u001b[0m\u001b[0;34m)\u001b[0m \u001b[0;32mand\u001b[0m \u001b[0mgetParameters\u001b[0m\u001b[0;34m(\u001b[0m\u001b[0;34m)\u001b[0m\u001b[0;34m,\u001b[0m \u001b[0mindex\u001b[0m \u001b[0;34m=\u001b[0m \u001b[0mlatitute\u001b[0m \u001b[0;32mand\u001b[0m \u001b[0mlongtitude\u001b[0m\u001b[0;34m\u001b[0m\u001b[0;34m\u001b[0m\u001b[0m\n\u001b[1;32m     47\u001b[0m         '''\n\u001b[0;32m---> 48\u001b[0;31m         \u001b[0mdf_par\u001b[0m \u001b[0;34m=\u001b[0m \u001b[0mself\u001b[0m\u001b[0;34m.\u001b[0m\u001b[0mgetParameters\u001b[0m\u001b[0;34m(\u001b[0m\u001b[0;34m)\u001b[0m\u001b[0;34m\u001b[0m\u001b[0;34m\u001b[0m\u001b[0m\n\u001b[0m\u001b[1;32m     49\u001b[0m         \u001b[0mdf_map\u001b[0m \u001b[0;34m=\u001b[0m \u001b[0mself\u001b[0m\u001b[0;34m.\u001b[0m\u001b[0mgetMap\u001b[0m\u001b[0;34m(\u001b[0m\u001b[0;34m)\u001b[0m\u001b[0;34m\u001b[0m\u001b[0;34m\u001b[0m\u001b[0m\n\u001b[1;32m     50\u001b[0m         \u001b[0mdf\u001b[0m \u001b[0;34m=\u001b[0m \u001b[0mpd\u001b[0m\u001b[0;34m.\u001b[0m\u001b[0mconcat\u001b[0m\u001b[0;34m(\u001b[0m\u001b[0;34m[\u001b[0m\u001b[0mdf_par\u001b[0m\u001b[0;34m,\u001b[0m \u001b[0mdf_map\u001b[0m\u001b[0;34m]\u001b[0m\u001b[0;34m)\u001b[0m\u001b[0;34m\u001b[0m\u001b[0;34m\u001b[0m\u001b[0m\n",
      "\u001b[0;32m<ipython-input-188-29dc5cf25dfc>\u001b[0m in \u001b[0;36mgetParameters\u001b[0;34m(self)\u001b[0m\n\u001b[1;32m     18\u001b[0m         \u001b[0mGet\u001b[0m \u001b[0mparameters\u001b[0m \u001b[0msuch\u001b[0m \u001b[0;32mas\u001b[0m \u001b[0mprice\u001b[0m\u001b[0;34m,\u001b[0m \u001b[0mdisposition\u001b[0m\u001b[0;34m,\u001b[0m \u001b[0mthe\u001b[0m \u001b[0mstate\u001b[0m \u001b[0mof\u001b[0m \u001b[0mthe\u001b[0m \u001b[0mhouse\u001b[0m\u001b[0;34m\u001b[0m\u001b[0;34m\u001b[0m\u001b[0m\n\u001b[1;32m     19\u001b[0m         '''\n\u001b[0;32m---> 20\u001b[0;31m         \u001b[0mbf\u001b[0m \u001b[0;34m=\u001b[0m \u001b[0mself\u001b[0m\u001b[0;34m.\u001b[0m\u001b[0mgetSoup\u001b[0m\u001b[0;34m(\u001b[0m\u001b[0;34m)\u001b[0m\u001b[0;34m\u001b[0m\u001b[0;34m\u001b[0m\u001b[0m\n\u001b[0m\u001b[1;32m     21\u001b[0m         \u001b[0mbf_table\u001b[0m \u001b[0;34m=\u001b[0m \u001b[0mbf\u001b[0m\u001b[0;34m.\u001b[0m\u001b[0mfind\u001b[0m\u001b[0;34m(\u001b[0m\u001b[0;34m'div'\u001b[0m\u001b[0;34m,\u001b[0m\u001b[0;34m{\u001b[0m\u001b[0;34m'data-element'\u001b[0m\u001b[0;34m:\u001b[0m\u001b[0;34m\"detail-description\"\u001b[0m\u001b[0;34m}\u001b[0m\u001b[0;34m)\u001b[0m\u001b[0;34m.\u001b[0m\u001b[0mfind\u001b[0m\u001b[0;34m(\u001b[0m\u001b[0;34m'table'\u001b[0m\u001b[0;34m)\u001b[0m\u001b[0;34m\u001b[0m\u001b[0;34m\u001b[0m\u001b[0m\n\u001b[1;32m     22\u001b[0m         \u001b[0mtable_extract\u001b[0m \u001b[0;34m=\u001b[0m \u001b[0;34m[\u001b[0m\u001b[0mi\u001b[0m\u001b[0;34m.\u001b[0m\u001b[0mtext\u001b[0m\u001b[0;34m.\u001b[0m\u001b[0mstrip\u001b[0m\u001b[0;34m(\u001b[0m\u001b[0;34m)\u001b[0m \u001b[0;32mfor\u001b[0m \u001b[0mi\u001b[0m \u001b[0;32min\u001b[0m \u001b[0mbf_table\u001b[0m\u001b[0;34m.\u001b[0m\u001b[0mfindAll\u001b[0m\u001b[0;34m(\u001b[0m\u001b[0;34m'tr'\u001b[0m\u001b[0;34m)\u001b[0m\u001b[0;34m]\u001b[0m\u001b[0;34m\u001b[0m\u001b[0;34m\u001b[0m\u001b[0m\n",
      "\u001b[0;32m<ipython-input-188-29dc5cf25dfc>\u001b[0m in \u001b[0;36mgetSoup\u001b[0;34m(self)\u001b[0m\n\u001b[1;32m     10\u001b[0m \u001b[0;34m\u001b[0m\u001b[0m\n\u001b[1;32m     11\u001b[0m     \u001b[0;32mdef\u001b[0m \u001b[0mgetSoup\u001b[0m\u001b[0;34m(\u001b[0m\u001b[0mself\u001b[0m\u001b[0;34m)\u001b[0m\u001b[0;34m:\u001b[0m\u001b[0;34m\u001b[0m\u001b[0;34m\u001b[0m\u001b[0m\n\u001b[0;32m---> 12\u001b[0;31m         \u001b[0mr\u001b[0m \u001b[0;34m=\u001b[0m \u001b[0mrequests\u001b[0m\u001b[0;34m.\u001b[0m\u001b[0mget\u001b[0m\u001b[0;34m(\u001b[0m\u001b[0mself\u001b[0m\u001b[0;34m.\u001b[0m\u001b[0mlink\u001b[0m\u001b[0;34m)\u001b[0m\u001b[0;34m\u001b[0m\u001b[0;34m\u001b[0m\u001b[0m\n\u001b[0m\u001b[1;32m     13\u001b[0m         \u001b[0mr\u001b[0m\u001b[0;34m.\u001b[0m\u001b[0mencoding\u001b[0m \u001b[0;34m=\u001b[0m \u001b[0;34m'UTF-8'\u001b[0m\u001b[0;34m\u001b[0m\u001b[0;34m\u001b[0m\u001b[0m\n\u001b[1;32m     14\u001b[0m         \u001b[0;32mreturn\u001b[0m \u001b[0mBeautifulSoup\u001b[0m\u001b[0;34m(\u001b[0m\u001b[0mr\u001b[0m\u001b[0;34m.\u001b[0m\u001b[0mtext\u001b[0m\u001b[0;34m,\u001b[0m \u001b[0;34m'html'\u001b[0m\u001b[0;34m)\u001b[0m\u001b[0;34m\u001b[0m\u001b[0;34m\u001b[0m\u001b[0m\n",
      "\u001b[0;32m~/anaconda3/lib/python3.7/site-packages/requests/api.py\u001b[0m in \u001b[0;36mget\u001b[0;34m(url, params, **kwargs)\u001b[0m\n\u001b[1;32m     73\u001b[0m \u001b[0;34m\u001b[0m\u001b[0m\n\u001b[1;32m     74\u001b[0m     \u001b[0mkwargs\u001b[0m\u001b[0;34m.\u001b[0m\u001b[0msetdefault\u001b[0m\u001b[0;34m(\u001b[0m\u001b[0;34m'allow_redirects'\u001b[0m\u001b[0;34m,\u001b[0m \u001b[0;32mTrue\u001b[0m\u001b[0;34m)\u001b[0m\u001b[0;34m\u001b[0m\u001b[0;34m\u001b[0m\u001b[0m\n\u001b[0;32m---> 75\u001b[0;31m     \u001b[0;32mreturn\u001b[0m \u001b[0mrequest\u001b[0m\u001b[0;34m(\u001b[0m\u001b[0;34m'get'\u001b[0m\u001b[0;34m,\u001b[0m \u001b[0murl\u001b[0m\u001b[0;34m,\u001b[0m \u001b[0mparams\u001b[0m\u001b[0;34m=\u001b[0m\u001b[0mparams\u001b[0m\u001b[0;34m,\u001b[0m \u001b[0;34m**\u001b[0m\u001b[0mkwargs\u001b[0m\u001b[0;34m)\u001b[0m\u001b[0;34m\u001b[0m\u001b[0;34m\u001b[0m\u001b[0m\n\u001b[0m\u001b[1;32m     76\u001b[0m \u001b[0;34m\u001b[0m\u001b[0m\n\u001b[1;32m     77\u001b[0m \u001b[0;34m\u001b[0m\u001b[0m\n",
      "\u001b[0;32m~/anaconda3/lib/python3.7/site-packages/requests/api.py\u001b[0m in \u001b[0;36mrequest\u001b[0;34m(method, url, **kwargs)\u001b[0m\n\u001b[1;32m     58\u001b[0m     \u001b[0;31m# cases, and look like a memory leak in others.\u001b[0m\u001b[0;34m\u001b[0m\u001b[0;34m\u001b[0m\u001b[0;34m\u001b[0m\u001b[0m\n\u001b[1;32m     59\u001b[0m     \u001b[0;32mwith\u001b[0m \u001b[0msessions\u001b[0m\u001b[0;34m.\u001b[0m\u001b[0mSession\u001b[0m\u001b[0;34m(\u001b[0m\u001b[0;34m)\u001b[0m \u001b[0;32mas\u001b[0m \u001b[0msession\u001b[0m\u001b[0;34m:\u001b[0m\u001b[0;34m\u001b[0m\u001b[0;34m\u001b[0m\u001b[0m\n\u001b[0;32m---> 60\u001b[0;31m         \u001b[0;32mreturn\u001b[0m \u001b[0msession\u001b[0m\u001b[0;34m.\u001b[0m\u001b[0mrequest\u001b[0m\u001b[0;34m(\u001b[0m\u001b[0mmethod\u001b[0m\u001b[0;34m=\u001b[0m\u001b[0mmethod\u001b[0m\u001b[0;34m,\u001b[0m \u001b[0murl\u001b[0m\u001b[0;34m=\u001b[0m\u001b[0murl\u001b[0m\u001b[0;34m,\u001b[0m \u001b[0;34m**\u001b[0m\u001b[0mkwargs\u001b[0m\u001b[0;34m)\u001b[0m\u001b[0;34m\u001b[0m\u001b[0;34m\u001b[0m\u001b[0m\n\u001b[0m\u001b[1;32m     61\u001b[0m \u001b[0;34m\u001b[0m\u001b[0m\n\u001b[1;32m     62\u001b[0m \u001b[0;34m\u001b[0m\u001b[0m\n",
      "\u001b[0;32m~/anaconda3/lib/python3.7/site-packages/requests/sessions.py\u001b[0m in \u001b[0;36mrequest\u001b[0;34m(self, method, url, params, data, headers, cookies, files, auth, timeout, allow_redirects, proxies, hooks, stream, verify, cert, json)\u001b[0m\n\u001b[1;32m    531\u001b[0m         }\n\u001b[1;32m    532\u001b[0m         \u001b[0msend_kwargs\u001b[0m\u001b[0;34m.\u001b[0m\u001b[0mupdate\u001b[0m\u001b[0;34m(\u001b[0m\u001b[0msettings\u001b[0m\u001b[0;34m)\u001b[0m\u001b[0;34m\u001b[0m\u001b[0;34m\u001b[0m\u001b[0m\n\u001b[0;32m--> 533\u001b[0;31m         \u001b[0mresp\u001b[0m \u001b[0;34m=\u001b[0m \u001b[0mself\u001b[0m\u001b[0;34m.\u001b[0m\u001b[0msend\u001b[0m\u001b[0;34m(\u001b[0m\u001b[0mprep\u001b[0m\u001b[0;34m,\u001b[0m \u001b[0;34m**\u001b[0m\u001b[0msend_kwargs\u001b[0m\u001b[0;34m)\u001b[0m\u001b[0;34m\u001b[0m\u001b[0;34m\u001b[0m\u001b[0m\n\u001b[0m\u001b[1;32m    534\u001b[0m \u001b[0;34m\u001b[0m\u001b[0m\n\u001b[1;32m    535\u001b[0m         \u001b[0;32mreturn\u001b[0m \u001b[0mresp\u001b[0m\u001b[0;34m\u001b[0m\u001b[0;34m\u001b[0m\u001b[0m\n",
      "\u001b[0;32m~/anaconda3/lib/python3.7/site-packages/requests/sessions.py\u001b[0m in \u001b[0;36msend\u001b[0;34m(self, request, **kwargs)\u001b[0m\n\u001b[1;32m    644\u001b[0m \u001b[0;34m\u001b[0m\u001b[0m\n\u001b[1;32m    645\u001b[0m         \u001b[0;31m# Send the request\u001b[0m\u001b[0;34m\u001b[0m\u001b[0;34m\u001b[0m\u001b[0;34m\u001b[0m\u001b[0m\n\u001b[0;32m--> 646\u001b[0;31m         \u001b[0mr\u001b[0m \u001b[0;34m=\u001b[0m \u001b[0madapter\u001b[0m\u001b[0;34m.\u001b[0m\u001b[0msend\u001b[0m\u001b[0;34m(\u001b[0m\u001b[0mrequest\u001b[0m\u001b[0;34m,\u001b[0m \u001b[0;34m**\u001b[0m\u001b[0mkwargs\u001b[0m\u001b[0;34m)\u001b[0m\u001b[0;34m\u001b[0m\u001b[0;34m\u001b[0m\u001b[0m\n\u001b[0m\u001b[1;32m    647\u001b[0m \u001b[0;34m\u001b[0m\u001b[0m\n\u001b[1;32m    648\u001b[0m         \u001b[0;31m# Total elapsed time of the request (approximately)\u001b[0m\u001b[0;34m\u001b[0m\u001b[0;34m\u001b[0m\u001b[0;34m\u001b[0m\u001b[0m\n",
      "\u001b[0;32m~/anaconda3/lib/python3.7/site-packages/requests/adapters.py\u001b[0m in \u001b[0;36msend\u001b[0;34m(self, request, stream, timeout, verify, cert, proxies)\u001b[0m\n\u001b[1;32m    514\u001b[0m                 \u001b[0;32mraise\u001b[0m \u001b[0mSSLError\u001b[0m\u001b[0;34m(\u001b[0m\u001b[0me\u001b[0m\u001b[0;34m,\u001b[0m \u001b[0mrequest\u001b[0m\u001b[0;34m=\u001b[0m\u001b[0mrequest\u001b[0m\u001b[0;34m)\u001b[0m\u001b[0;34m\u001b[0m\u001b[0;34m\u001b[0m\u001b[0m\n\u001b[1;32m    515\u001b[0m \u001b[0;34m\u001b[0m\u001b[0m\n\u001b[0;32m--> 516\u001b[0;31m             \u001b[0;32mraise\u001b[0m \u001b[0mConnectionError\u001b[0m\u001b[0;34m(\u001b[0m\u001b[0me\u001b[0m\u001b[0;34m,\u001b[0m \u001b[0mrequest\u001b[0m\u001b[0;34m=\u001b[0m\u001b[0mrequest\u001b[0m\u001b[0;34m)\u001b[0m\u001b[0;34m\u001b[0m\u001b[0;34m\u001b[0m\u001b[0m\n\u001b[0m\u001b[1;32m    517\u001b[0m \u001b[0;34m\u001b[0m\u001b[0m\n\u001b[1;32m    518\u001b[0m         \u001b[0;32mexcept\u001b[0m \u001b[0mClosedPoolError\u001b[0m \u001b[0;32mas\u001b[0m \u001b[0me\u001b[0m\u001b[0;34m:\u001b[0m\u001b[0;34m\u001b[0m\u001b[0;34m\u001b[0m\u001b[0m\n",
      "\u001b[0;31mConnectionError\u001b[0m: HTTPSConnectionPool(host='www.bezrealitky.czhttps', port=443): Max retries exceeded with url: //www.bezrealitky.cz/nove-bydleni/vzorova-nemovitost/716-rezidence-silver-port/26331-3-kk-91m2-se-zahradou-p-10 (Caused by NewConnectionError('<urllib3.connection.VerifiedHTTPSConnection object at 0x129b87358>: Failed to establish a new connection: [Errno 8] nodename nor servname provided, or not known'))"
     ]
    }
   ],
   "source": [
    "df_complete_sale = pd.DataFrame()\n",
    "for li in links_properties_unlist:\n",
    "    df_unit = HouseForSale(li).getDf()\n",
    "    df_complete_sale = pd.concat([df_complete_sale, df_unit])"
   ]
  },
  {
   "cell_type": "code",
   "execution_count": 223,
   "metadata": {},
   "outputs": [
    {
     "output_type": "execute_result",
     "data": {
      "text/plain": "(50.106458, 14.659418)     23\n(50.078784, 14.48633)      22\n(50.041711, 14.569642)     22\n(50.058553, 14.282639)     21\n(50.094149, 14.495124)     20\n(50.030721, 14.369716)     18\n(50.053638, 14.355187)     16\n(50.06744, 14.302724)      16\n(50.072871, 14.477979)     15\n(50.0585874, 14.377194)    15\ndtype: int64"
     },
     "metadata": {},
     "execution_count": 223
    }
   ],
   "source": [
    "df_test.set_index(['lat','long']).index.value_counts()"
   ]
  },
  {
   "cell_type": "markdown",
   "metadata": {},
   "source": [
    "## Tutorial for pagination\n",
    "link - https://letslearnabout.net/python/beautiful-soup/how-to-get-the-next-page-on-beautiful-soup/#next-page"
   ]
  },
  {
   "cell_type": "code",
   "execution_count": null,
   "metadata": {},
   "outputs": [],
   "source": [
    "def parse_page(next_url):\n",
    "    # HTTP GET requests\n",
    "  page = requests.get(next_url)\n",
    "\n",
    "  # Checking if we successfully fetched the URL\n",
    "  if page.status_code == requests.codes.ok:\n",
    "    bs = BeautifulSoup(page.text, 'lxml')\n",
    "\n",
    "    check_no_results = bs.find('ul', class_=\"SearchResults\").find('p')\n",
    "    if check_no_results and check_no_results.text:\n",
    "        print('Search returned no results.')\n",
    "        return None\n",
    "\n",
    "    # Fetching all items\n",
    "    list_all_cd = bs.findAll('li', class_='ResultItem')\n",
    "\n",
    "    \n",
    "    for cd in list_all_cd:\n",
    "      get_cd_attributes(cd)\n",
    "\n",
    "    next_page_text = bs.find('ul', class_=\"SearchBreadcrumbs\").findAll('li')[-1].text\n",
    "    \n",
    "    if next_page_text == 'Next':\n",
    "        next_page_partial = bs.find('ul', class_=\"SearchBreadcrumbs\").findAll(\n",
    "            'li')[-1].find('a')['href']\n",
    "        next_page_url = base_url + next_page_partial\n",
    "        print(next_page_url)\n",
    "        parse_page(next_page_url)\n",
    "    # No more 'Next' pages, finish the script\n",
    "    else:\n",
    "        export_table_and_print(data)\n",
    "\n",
    "parse_page(search_url)"
   ]
  }
 ],
 "metadata": {
  "file_extension": ".py",
  "kernelspec": {
   "display_name": "Python 3",
   "language": "python",
   "name": "python3"
  },
  "language_info": {
   "codemirror_mode": {
    "name": "ipython",
    "version": 3
   },
   "file_extension": ".py",
   "mimetype": "text/x-python",
   "name": "python",
   "nbconvert_exporter": "python",
   "pygments_lexer": "ipython3",
   "version": "3.7.3-final"
  },
  "mimetype": "text/x-python",
  "name": "python",
  "npconvert_exporter": "python",
  "pygments_lexer": "ipython3",
  "version": 3
 },
 "nbformat": 4,
 "nbformat_minor": 4
}