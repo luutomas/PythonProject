{
 "cells": [
  {
   "cell_type": "code",
   "execution_count": 4,
   "metadata": {},
   "outputs": [],
   "source": [
    "import numpy as np\n",
    "import pandas as pd \n",
    "import requests\n",
    "from bs4 import BeautifulSoup\n",
    "import pandas as pd\n",
    "import tqdm as tqdm\n",
    "from lxml import html\n",
    "import time"
   ]
  },
  {
   "cell_type": "code",
   "execution_count": 5,
   "metadata": {},
   "outputs": [],
   "source": [
    "def getSoup_test(link):\n",
    "        r = requests.get(link)\n",
    "        r.encoding = 'UTF-8'\n",
    "        return BeautifulSoup(r.text, 'html')"
   ]
  },
  {
   "cell_type": "code",
   "execution_count": 6,
   "metadata": {},
   "outputs": [],
   "source": [
    "bf_test = getSoup_test('https://www.bezrealitky.cz/nemovitosti-byty-domy/595733-nabidka-prodej-bytu')"
   ]
  },
  {
   "cell_type": "code",
   "execution_count": 7,
   "metadata": {},
   "outputs": [],
   "source": [
    "bf_table = bf_test.find('div',{'data-element':\"detail-description\"}).find('table')"
   ]
  },
  {
   "cell_type": "code",
   "execution_count": 92,
   "metadata": {},
   "outputs": [
    {
     "data": {
      "text/plain": [
       "['Internet:\\n\\nZjistěte rychlost O2 internetu u vás doma.',\n",
       " 'Číslo inzerátu:\\n595733',\n",
       " 'Dispozice:\\n3+kk',\n",
       " 'Plocha:\\n96 m²',\n",
       " 'Cena:\\n7.590.000 Kč\\n\\nChci hypotéku\\n\\ni',\n",
       " 'Město:\\nPraha',\n",
       " 'Městská část:\\nZličín',\n",
       " 'Typ vlastnictví:\\nOsobní',\n",
       " 'Typ budovy:\\nCihla',\n",
       " 'Vybavenost:\\nVybavený\\nChci vybavit s Bonami',\n",
       " 'Podlaží:\\n5',\n",
       " 'Balkón:\\nAno',\n",
       " 'Terasa:\\nNe',\n",
       " 'Výtah:\\nNe',\n",
       " 'Garáž:\\nNe',\n",
       " 'K dispozici od:\\nIhned']"
      ]
     },
     "execution_count": 92,
     "metadata": {},
     "output_type": "execute_result"
    }
   ],
   "source": [
    "table_extract = [i.text.strip() for i in bf_table.findAll('tr')]\n",
    "table_extract"
   ]
  },
  {
   "cell_type": "code",
   "execution_count": 72,
   "metadata": {},
   "outputs": [],
   "source": [
    "data_frame = pd.DataFrame(table_extract)"
   ]
  },
  {
   "cell_type": "code",
   "execution_count": 199,
   "metadata": {},
   "outputs": [
    {
     "data": {
      "text/html": [
       "<div>\n",
       "<style scoped>\n",
       "    .dataframe tbody tr th:only-of-type {\n",
       "        vertical-align: middle;\n",
       "    }\n",
       "\n",
       "    .dataframe tbody tr th {\n",
       "        vertical-align: top;\n",
       "    }\n",
       "\n",
       "    .dataframe thead th {\n",
       "        text-align: right;\n",
       "    }\n",
       "</style>\n",
       "<table border=\"1\" class=\"dataframe\">\n",
       "  <thead>\n",
       "    <tr style=\"text-align: right;\">\n",
       "      <th></th>\n",
       "      <th>value</th>\n",
       "    </tr>\n",
       "    <tr>\n",
       "      <th>metric</th>\n",
       "      <th></th>\n",
       "    </tr>\n",
       "  </thead>\n",
       "  <tbody>\n",
       "    <tr>\n",
       "      <th>Internet:</th>\n",
       "      <td></td>\n",
       "    </tr>\n",
       "    <tr>\n",
       "      <th>Číslo inzerátu:</th>\n",
       "      <td>595733</td>\n",
       "    </tr>\n",
       "    <tr>\n",
       "      <th>Dispozice:</th>\n",
       "      <td>3+kk</td>\n",
       "    </tr>\n",
       "    <tr>\n",
       "      <th>Plocha:</th>\n",
       "      <td>96 m²</td>\n",
       "    </tr>\n",
       "    <tr>\n",
       "      <th>Cena:</th>\n",
       "      <td>7.590.000 Kč</td>\n",
       "    </tr>\n",
       "    <tr>\n",
       "      <th>Město:</th>\n",
       "      <td>Praha</td>\n",
       "    </tr>\n",
       "    <tr>\n",
       "      <th>Městská část:</th>\n",
       "      <td>Zličín</td>\n",
       "    </tr>\n",
       "    <tr>\n",
       "      <th>Typ vlastnictví:</th>\n",
       "      <td>Osobní</td>\n",
       "    </tr>\n",
       "    <tr>\n",
       "      <th>Typ budovy:</th>\n",
       "      <td>Cihla</td>\n",
       "    </tr>\n",
       "    <tr>\n",
       "      <th>Vybavenost:</th>\n",
       "      <td>Vybavený</td>\n",
       "    </tr>\n",
       "    <tr>\n",
       "      <th>Podlaží:</th>\n",
       "      <td>5</td>\n",
       "    </tr>\n",
       "    <tr>\n",
       "      <th>Balkón:</th>\n",
       "      <td>Ano</td>\n",
       "    </tr>\n",
       "    <tr>\n",
       "      <th>Terasa:</th>\n",
       "      <td>Ne</td>\n",
       "    </tr>\n",
       "    <tr>\n",
       "      <th>Výtah:</th>\n",
       "      <td>Ne</td>\n",
       "    </tr>\n",
       "    <tr>\n",
       "      <th>Garáž:</th>\n",
       "      <td>Ne</td>\n",
       "    </tr>\n",
       "    <tr>\n",
       "      <th>K dispozici od:</th>\n",
       "      <td>Ihned</td>\n",
       "    </tr>\n",
       "  </tbody>\n",
       "</table>\n",
       "</div>"
      ],
      "text/plain": [
       "                         value\n",
       "metric                        \n",
       "Internet:                     \n",
       "Číslo inzerátu:         595733\n",
       "Dispozice:                3+kk\n",
       "Plocha:                  96 m²\n",
       "Cena:             7.590.000 Kč\n",
       "Město:                   Praha\n",
       "Městská část:           Zličín\n",
       "Typ vlastnictví:        Osobní\n",
       "Typ budovy:              Cihla\n",
       "Vybavenost:           Vybavený\n",
       "Podlaží:                     5\n",
       "Balkón:                    Ano\n",
       "Terasa:                     Ne\n",
       "Výtah:                      Ne\n",
       "Garáž:                      Ne\n",
       "K dispozici od:          Ihned"
      ]
     },
     "execution_count": 199,
     "metadata": {},
     "output_type": "execute_result"
    }
   ],
   "source": [
    "data_frame_recon = data_frame[0].str.split(\"\\n\", expand = True)\n",
    "df = pd.DataFrame(data_frame_recon[[0,1]])\n",
    "df.columns = ['metric', 'value']\n",
    "df = df.set_index('metric')\n",
    "df"
   ]
  },
  {
   "cell_type": "code",
   "execution_count": 149,
   "metadata": {},
   "outputs": [
    {
     "name": "stdout",
     "output_type": "stream",
     "text": [
      "50.0568199,14.2850438\n"
     ]
    },
    {
     "data": {
      "text/plain": [
       "'50.0568199'"
      ]
     },
     "execution_count": 149,
     "metadata": {},
     "output_type": "execute_result"
    }
   ],
   "source": [
    "bf_map = bf_test.find('div',{'id':\"map\"})\n",
    "x = bf_map.find('iframe')['src'].find('q=') + 2\n",
    "y = bf_map.find('iframe')['src'].find('&key')\n",
    "location = bf_map.find('iframe')['src'][x:y]\n",
    "print(location)\n",
    "str_test = location.split(',')\n",
    "str_test[0]"
   ]
  },
  {
   "cell_type": "code",
   "execution_count": 200,
   "metadata": {},
   "outputs": [
    {
     "data": {
      "text/html": [
       "<div>\n",
       "<style scoped>\n",
       "    .dataframe tbody tr th:only-of-type {\n",
       "        vertical-align: middle;\n",
       "    }\n",
       "\n",
       "    .dataframe tbody tr th {\n",
       "        vertical-align: top;\n",
       "    }\n",
       "\n",
       "    .dataframe thead th {\n",
       "        text-align: right;\n",
       "    }\n",
       "</style>\n",
       "<table border=\"1\" class=\"dataframe\">\n",
       "  <thead>\n",
       "    <tr style=\"text-align: right;\">\n",
       "      <th></th>\n",
       "      <th>value</th>\n",
       "    </tr>\n",
       "  </thead>\n",
       "  <tbody>\n",
       "    <tr>\n",
       "      <th>Internet:</th>\n",
       "      <td></td>\n",
       "    </tr>\n",
       "    <tr>\n",
       "      <th>Číslo inzerátu:</th>\n",
       "      <td>595733</td>\n",
       "    </tr>\n",
       "    <tr>\n",
       "      <th>Dispozice:</th>\n",
       "      <td>3+kk</td>\n",
       "    </tr>\n",
       "    <tr>\n",
       "      <th>Plocha:</th>\n",
       "      <td>96 m²</td>\n",
       "    </tr>\n",
       "    <tr>\n",
       "      <th>Cena:</th>\n",
       "      <td>7.590.000 Kč</td>\n",
       "    </tr>\n",
       "    <tr>\n",
       "      <th>Město:</th>\n",
       "      <td>Praha</td>\n",
       "    </tr>\n",
       "    <tr>\n",
       "      <th>Městská část:</th>\n",
       "      <td>Zličín</td>\n",
       "    </tr>\n",
       "    <tr>\n",
       "      <th>Typ vlastnictví:</th>\n",
       "      <td>Osobní</td>\n",
       "    </tr>\n",
       "    <tr>\n",
       "      <th>Typ budovy:</th>\n",
       "      <td>Cihla</td>\n",
       "    </tr>\n",
       "    <tr>\n",
       "      <th>Vybavenost:</th>\n",
       "      <td>Vybavený</td>\n",
       "    </tr>\n",
       "    <tr>\n",
       "      <th>Podlaží:</th>\n",
       "      <td>5</td>\n",
       "    </tr>\n",
       "    <tr>\n",
       "      <th>Balkón:</th>\n",
       "      <td>Ano</td>\n",
       "    </tr>\n",
       "    <tr>\n",
       "      <th>Terasa:</th>\n",
       "      <td>Ne</td>\n",
       "    </tr>\n",
       "    <tr>\n",
       "      <th>Výtah:</th>\n",
       "      <td>Ne</td>\n",
       "    </tr>\n",
       "    <tr>\n",
       "      <th>Garáž:</th>\n",
       "      <td>Ne</td>\n",
       "    </tr>\n",
       "    <tr>\n",
       "      <th>K dispozici od:</th>\n",
       "      <td>Ihned</td>\n",
       "    </tr>\n",
       "    <tr>\n",
       "      <th>lat</th>\n",
       "      <td>50.0568199</td>\n",
       "    </tr>\n",
       "    <tr>\n",
       "      <th>long</th>\n",
       "      <td>14.2850438</td>\n",
       "    </tr>\n",
       "  </tbody>\n",
       "</table>\n",
       "</div>"
      ],
      "text/plain": [
       "                         value\n",
       "Internet:                     \n",
       "Číslo inzerátu:         595733\n",
       "Dispozice:                3+kk\n",
       "Plocha:                  96 m²\n",
       "Cena:             7.590.000 Kč\n",
       "Město:                   Praha\n",
       "Městská část:           Zličín\n",
       "Typ vlastnictví:        Osobní\n",
       "Typ budovy:              Cihla\n",
       "Vybavenost:           Vybavený\n",
       "Podlaží:                     5\n",
       "Balkón:                    Ano\n",
       "Terasa:                     Ne\n",
       "Výtah:                      Ne\n",
       "Garáž:                      Ne\n",
       "K dispozici od:          Ihned\n",
       "lat                 50.0568199\n",
       "long                14.2850438"
      ]
     },
     "execution_count": 200,
     "metadata": {},
     "output_type": "execute_result"
    }
   ],
   "source": [
    "loc_dict = {\"lat\" : [str_test[0]], \"long\": [str_test[1]]}\n",
    "loc_dict\n",
    "loc_df = pd.DataFrame.from_dict(loc_dict, orient = 'index', columns = ['value'])\n",
    "df_upd = pd.concat([df, loc_df])\n",
    "df_upd"
   ]
  },
  {
   "cell_type": "code",
   "execution_count": 8,
   "metadata": {},
   "outputs": [],
   "source": [
    "class HouseForSale: \n",
    "    '''\n",
    "    Getting desired infos from the webpage provided\n",
    "    '''\n",
    "    def __init__(self, link):\n",
    "        '''\n",
    "        Input a link in order to extract the necessary information\n",
    "        '''\n",
    "        self.link = link\n",
    "\n",
    "    def getSoup(self):\n",
    "        r = requests.get(self.link)\n",
    "        r.encoding = 'UTF-8'\n",
    "        return BeautifulSoup(r.text, 'html')\n",
    "    \n",
    "    def getParameters(self):\n",
    "        '''\n",
    "        Get parameters such as price, disposition, the state of the house\n",
    "        '''\n",
    "        bf = self.getSoup()\n",
    "        bf_table = bf.find('div',{'data-element':\"detail-description\"}).find('table')\n",
    "        table_extract = [i.text.strip() for i in bf_table.findAll('tr')]\n",
    "        df_table = pd.DataFrame(table_extract)\n",
    "        df_table_split = df_table[0].str.split(\"\\n\", expand = True)\n",
    "        df = pd.DataFrame(df_table_split[[0,1]])\n",
    "        df.columns = ['metric', 'value']\n",
    "        df = df.set_index('metric')\n",
    "        return df\n",
    "    \n",
    "    def getMap(self):\n",
    "        '''\n",
    "        Get location of the property using embeded google maps longtitute and lattitude parameters\n",
    "        '''\n",
    "        bf = self.getSoup()\n",
    "        bf_map = bf.find('div',{'id':\"map\"})\n",
    "        x = bf_map.find('iframe')['src'].find('q=') + 2\n",
    "        y = bf_map.find('iframe')['src'].find('&key')\n",
    "        location = bf_map.find('iframe')['src'][x:y]\n",
    "        loc_str = location.split(',')\n",
    "        loc_dict = {\"lat\" : [loc_str[0]], \"long\": [loc_str[1]]}\n",
    "        loc_df = pd.DataFrame.from_dict(loc_dict, orient = 'index', columns = ['value'])\n",
    "        return loc_df\n",
    "    \n",
    "    def getDf(self):\n",
    "        '''\n",
    "        Return a dataframe from getMap() and getParameters()\n",
    "        '''\n",
    "        df_par = self.getParameters()\n",
    "        df_map = self.getMap()\n",
    "        df = pd.concat([df_par, df_map])\n",
    "        return df"
   ]
  },
  {
   "cell_type": "code",
   "execution_count": 9,
   "metadata": {},
   "outputs": [
    {
     "output_type": "execute_result",
     "data": {
      "text/plain": "                         value\nInternet:                     \nČíslo inzerátu:         595733\nDispozice:                3+kk\nPlocha:                  96 m²\nCena:             7.590.000 Kč\nMěsto:                   Praha\nMěstská část:           Zličín\nTyp vlastnictví:        Osobní\nTyp budovy:              Cihla\nVybavenost:           Vybavený\nPodlaží:                     5\nBalkón:                    Ano\nTerasa:                     Ne\nVýtah:                      Ne\nGaráž:                      Ne\nK dispozici od:          Ihned\nlat                 50.0568199\nlong                14.2850438",
      "text/html": "<div>\n<style scoped>\n    .dataframe tbody tr th:only-of-type {\n        vertical-align: middle;\n    }\n\n    .dataframe tbody tr th {\n        vertical-align: top;\n    }\n\n    .dataframe thead th {\n        text-align: right;\n    }\n</style>\n<table border=\"1\" class=\"dataframe\">\n  <thead>\n    <tr style=\"text-align: right;\">\n      <th></th>\n      <th>value</th>\n    </tr>\n  </thead>\n  <tbody>\n    <tr>\n      <th>Internet:</th>\n      <td></td>\n    </tr>\n    <tr>\n      <th>Číslo inzerátu:</th>\n      <td>595733</td>\n    </tr>\n    <tr>\n      <th>Dispozice:</th>\n      <td>3+kk</td>\n    </tr>\n    <tr>\n      <th>Plocha:</th>\n      <td>96 m²</td>\n    </tr>\n    <tr>\n      <th>Cena:</th>\n      <td>7.590.000 Kč</td>\n    </tr>\n    <tr>\n      <th>Město:</th>\n      <td>Praha</td>\n    </tr>\n    <tr>\n      <th>Městská část:</th>\n      <td>Zličín</td>\n    </tr>\n    <tr>\n      <th>Typ vlastnictví:</th>\n      <td>Osobní</td>\n    </tr>\n    <tr>\n      <th>Typ budovy:</th>\n      <td>Cihla</td>\n    </tr>\n    <tr>\n      <th>Vybavenost:</th>\n      <td>Vybavený</td>\n    </tr>\n    <tr>\n      <th>Podlaží:</th>\n      <td>5</td>\n    </tr>\n    <tr>\n      <th>Balkón:</th>\n      <td>Ano</td>\n    </tr>\n    <tr>\n      <th>Terasa:</th>\n      <td>Ne</td>\n    </tr>\n    <tr>\n      <th>Výtah:</th>\n      <td>Ne</td>\n    </tr>\n    <tr>\n      <th>Garáž:</th>\n      <td>Ne</td>\n    </tr>\n    <tr>\n      <th>K dispozici od:</th>\n      <td>Ihned</td>\n    </tr>\n    <tr>\n      <th>lat</th>\n      <td>50.0568199</td>\n    </tr>\n    <tr>\n      <th>long</th>\n      <td>14.2850438</td>\n    </tr>\n  </tbody>\n</table>\n</div>"
     },
     "metadata": {},
     "execution_count": 9
    }
   ],
   "source": [
    "HouseForSale('https://www.bezrealitky.cz/nemovitosti-byty-domy/595733-nabidka-prodej-bytu').getDf()"
   ]
  },
  {
   "cell_type": "markdown",
   "metadata": {},
   "source": [
    "# Downloader class\n",
    "- Manual test\n",
    "- defining class\n",
    "\n",
    "## Manual test"
   ]
  },
  {
   "cell_type": "code",
   "execution_count": 2,
   "metadata": {},
   "outputs": [],
   "source": [
    "def getLinks_test(link):\n",
    "    \n",
    "    page = requests.get(link)\n",
    "    if page.status_code == requests.codes.ok:\n",
    "        wp = getSoup_test(link)\n",
    "        base_url = 'https://www.bezrealitky.cz'\n",
    "        links = wp.findAll('div', {'product__body'})\n",
    "        return [base_url + equity.find('a')['href'] for equity in links]\n",
    "\n",
    "    next_page_text = wp.find('ul', class_=\"pagination justify-content-md-end\").findAll('li')[-1].text\n",
    "\n",
    "    if next_page_text == 'Další >':\n",
    "        next_page_partial = wp.find('ul', class_=\"pagination justify-content-md-end\").findAll('li')[-1].find('a')['href']\n",
    "        next_page_url = base_url + next_page_partial\n",
    "        links = wp.findAll('div', {'product__body'})\n",
    "        return [base_url + equity.find('a')['href'] for equity in links]\n",
    "    # No more 'Next' pages, finish the script\n",
    "    else:\n",
    "        print('Done')"
   ]
  },
  {
   "cell_type": "code",
   "execution_count": 11,
   "metadata": {},
   "outputs": [],
   "source": [
    "l = \"https://www.bezrealitky.cz/vypis/nabidka-prodej/byt/praha?_token=qNLlM7SSvDXIFrdOKHnbj0gv_-OMf7vw6yUc_-ILcFo\"\n",
    "links = getLinks_test(l)"
   ]
  },
  {
   "cell_type": "code",
   "execution_count": 13,
   "metadata": {},
   "outputs": [
    {
     "output_type": "execute_result",
     "data": {
      "text/plain": "                         value\nInternet:                     \nČíslo inzerátu:         604332\nDispozice:                 4+1\nPlocha:                  95 m²\nCena:             3.290.000 Kč\nMěsto:                   Praha\nMěstská část:             Řepy\nTyp vlastnictví:    Družstevní\nTyp budovy:              Panel\nPENB:                        D\nPodlaží:                     3\nBalkón:                    Ano\nTerasa:                     Ne\nVýtah:                     Ano\nGaráž:                      Ne\nK dispozici od:     22.04.2020\nlat                   50.06744\nlong                 14.302724",
      "text/html": "<div>\n<style scoped>\n    .dataframe tbody tr th:only-of-type {\n        vertical-align: middle;\n    }\n\n    .dataframe tbody tr th {\n        vertical-align: top;\n    }\n\n    .dataframe thead th {\n        text-align: right;\n    }\n</style>\n<table border=\"1\" class=\"dataframe\">\n  <thead>\n    <tr style=\"text-align: right;\">\n      <th></th>\n      <th>value</th>\n    </tr>\n  </thead>\n  <tbody>\n    <tr>\n      <th>Internet:</th>\n      <td></td>\n    </tr>\n    <tr>\n      <th>Číslo inzerátu:</th>\n      <td>604332</td>\n    </tr>\n    <tr>\n      <th>Dispozice:</th>\n      <td>4+1</td>\n    </tr>\n    <tr>\n      <th>Plocha:</th>\n      <td>95 m²</td>\n    </tr>\n    <tr>\n      <th>Cena:</th>\n      <td>3.290.000 Kč</td>\n    </tr>\n    <tr>\n      <th>Město:</th>\n      <td>Praha</td>\n    </tr>\n    <tr>\n      <th>Městská část:</th>\n      <td>Řepy</td>\n    </tr>\n    <tr>\n      <th>Typ vlastnictví:</th>\n      <td>Družstevní</td>\n    </tr>\n    <tr>\n      <th>Typ budovy:</th>\n      <td>Panel</td>\n    </tr>\n    <tr>\n      <th>PENB:</th>\n      <td>D</td>\n    </tr>\n    <tr>\n      <th>Podlaží:</th>\n      <td>3</td>\n    </tr>\n    <tr>\n      <th>Balkón:</th>\n      <td>Ano</td>\n    </tr>\n    <tr>\n      <th>Terasa:</th>\n      <td>Ne</td>\n    </tr>\n    <tr>\n      <th>Výtah:</th>\n      <td>Ano</td>\n    </tr>\n    <tr>\n      <th>Garáž:</th>\n      <td>Ne</td>\n    </tr>\n    <tr>\n      <th>K dispozici od:</th>\n      <td>22.04.2020</td>\n    </tr>\n    <tr>\n      <th>lat</th>\n      <td>50.06744</td>\n    </tr>\n    <tr>\n      <th>long</th>\n      <td>14.302724</td>\n    </tr>\n  </tbody>\n</table>\n</div>"
     },
     "metadata": {},
     "execution_count": 13
    }
   ],
   "source": [
    "HouseForSale(links[0]).getDf()"
   ]
  },
  {
   "cell_type": "markdown",
   "metadata": {},
   "source": [
    "## Defining class\n",
    "Manual test working - Downloader_single() working\n",
    "Pagination - Downloader_multi() work in progress"
   ]
  },
  {
   "cell_type": "code",
   "execution_count": null,
   "metadata": {},
   "outputs": [],
   "source": [
    "Downloader(l)"
   ]
  },
  {
   "cell_type": "code",
   "execution_count": 15,
   "metadata": {},
   "outputs": [],
   "source": [
    "class Downloader_single:\n",
    "    '''\n",
    "    Download all links real estate to initiate\n",
    "    '''\n",
    "    def __init__(self, link):\n",
    "        '''\n",
    "        Give link to extract links of given webpages\n",
    "        '''\n",
    "        self.link = link\n",
    "    \n",
    "    def getSoup(self):\n",
    "        r = requests.get(self.link)\n",
    "        r.encoding = 'UTF-8'\n",
    "        return BeautifulSoup(r.text, 'lxml')\n",
    "\n",
    "    def getLinks(self):\n",
    "        page = requests.get(self.link)\n",
    "        if page.status_code == requests.codes.ok:\n",
    "            wp = self.getSoup()\n",
    "            base_url = 'https://www.bezrealitky.cz'\n",
    "            links = wp.findAll('div', {'product__body'})\n",
    "            return [base_url + equity.find('a')['href'] for equity in links]"
   ]
  },
  {
   "cell_type": "code",
   "execution_count": 17,
   "metadata": {},
   "outputs": [
    {
     "output_type": "execute_result",
     "data": {
      "text/plain": "['https://www.bezrealitky.cz/nemovitosti-byty-domy/603492-nabidka-prodej-bytu-urbankova-prague',\n 'https://www.bezrealitky.cz/nemovitosti-byty-domy/603487-nabidka-prodej-bytu-cernokostelecka-praha',\n 'https://www.bezrealitky.cz/nemovitosti-byty-domy/595733-nabidka-prodej-bytu',\n 'https://www.bezrealitky.cz/nemovitosti-byty-domy/603458-nabidka-prodej-bytu-k-cikance-slivenec',\n 'https://www.bezrealitky.cz/nemovitosti-byty-domy/604132-nabidka-prodej-bytu-jaroslava-foglara-praha',\n 'https://www.bezrealitky.cz/nemovitosti-byty-domy/603452-nabidka-prodej-bytu-u-knezske-louky-praha',\n 'https://www.bezrealitky.cz/nemovitosti-byty-domy/529439-nabidka-prodej-bytu-peroutkova-praha-5',\n 'https://www.bezrealitky.cz/nemovitosti-byty-domy/537563-nabidka-prodej-bytu-peroutkova-praha-5',\n 'https://www.bezrealitky.cz/nemovitosti-byty-domy/552642-nabidka-prodej-bytu-perucka-hlavni-mesto-praha',\n 'https://www.bezrealitky.cz/nemovitosti-byty-domy/552646-nabidka-prodej-bytu-perucka-hlavni-mesto-praha']"
     },
     "metadata": {},
     "execution_count": 17
    }
   ],
   "source": [
    "Downloader_single('https://www.bezrealitky.cz/vypis/nabidka-prodej/byt/praha?_token=qNLlM7SSvDXIFrdOKHnbj0gv_-OMf7vw6yUc_-ILcFo&page=3').getLinks()"
   ]
  },
  {
   "cell_type": "code",
   "execution_count": 19,
   "metadata": {},
   "outputs": [],
   "source": [
    "class Downloader_multi:\n",
    "    '''\n",
    "    Download all links real estate to initiate\n",
    "    '''\n",
    "    def __init__(self, link):\n",
    "        '''\n",
    "        Give link to extract links of given webpages\n",
    "        '''\n",
    "        self.link = link\n",
    "    \n",
    "    def getSoup(self):\n",
    "        r = requests.get(self.link)\n",
    "        r.encoding = 'UTF-8'\n",
    "        return BeautifulSoup(r.text, 'lxml')\n",
    "\n",
    "    def getLinks(self):\n",
    "        page = requests.get(self.link)\n",
    "        if page.status_code == requests.codes.ok:\n",
    "            wp = self.getSoup()\n",
    "            base_url = 'https://www.bezrealitky.cz'\n",
    "            links = wp.findAll('div', {'product__body'})\n",
    "            return [base_url + equity.find('a')['href'] for equity in links]\n",
    "        \n",
    "        next_page_text = wp.find('ul', class_=\"pagination justify-content-md-end\").findAll('li')[-1].text\n",
    "        next_page_link = wp.find('ul', class_=\"pagination justify-content-md-end\").find('a', rel = 'next')\n",
    "        \n",
    "        if next_page_text == 'Další >':\n",
    "            next_page_partial = wp.find('ul', class_=\"pagination justify-content-md-end\").findAll('li')[-1].find('a')['href']\n",
    "            next_page_url = base_url + next_page_partial\n",
    "            getLinks(next_page_url)\n",
    "        # No more 'Next' pages, finish the script\n",
    "        else:\n",
    "            print('Done')\n",
    "        \n",
    "            \n",
    "        "
   ]
  },
  {
   "cell_type": "code",
   "execution_count": 44,
   "metadata": {},
   "outputs": [
    {
     "output_type": "execute_result",
     "data": {
      "text/plain": "['https://www.bezrealitky.cz/nemovitosti-byty-domy/603492-nabidka-prodej-bytu-urbankova-prague',\n 'https://www.bezrealitky.cz/nemovitosti-byty-domy/603487-nabidka-prodej-bytu-cernokostelecka-praha',\n 'https://www.bezrealitky.cz/nemovitosti-byty-domy/595733-nabidka-prodej-bytu',\n 'https://www.bezrealitky.cz/nemovitosti-byty-domy/603458-nabidka-prodej-bytu-k-cikance-slivenec',\n 'https://www.bezrealitky.cz/nemovitosti-byty-domy/604132-nabidka-prodej-bytu-jaroslava-foglara-praha',\n 'https://www.bezrealitky.cz/nemovitosti-byty-domy/603452-nabidka-prodej-bytu-u-knezske-louky-praha',\n 'https://www.bezrealitky.cz/nemovitosti-byty-domy/529439-nabidka-prodej-bytu-peroutkova-praha-5',\n 'https://www.bezrealitky.cz/nemovitosti-byty-domy/537563-nabidka-prodej-bytu-peroutkova-praha-5',\n 'https://www.bezrealitky.cz/nemovitosti-byty-domy/552642-nabidka-prodej-bytu-perucka-hlavni-mesto-praha',\n 'https://www.bezrealitky.cz/nemovitosti-byty-domy/552646-nabidka-prodej-bytu-perucka-hlavni-mesto-praha']"
     },
     "metadata": {},
     "execution_count": 44
    }
   ],
   "source": [
    "Downloader_single('https://www.bezrealitky.cz/vypis/nabidka-prodej/byt/praha?_token=qNLlM7SSvDXIFrdOKHnbj0gv_-OMf7vw6yUc_-ILcFo&page=63').getLinks()"
   ]
  },
  {
   "cell_type": "code",
   "execution_count": 163,
   "metadata": {},
   "outputs": [],
   "source": [
    "class Downloader_multi_byTiep:\n",
    "    '''\n",
    "    Download all links real estate to initiate\n",
    "    '''\n",
    "    def __init__(self, link):\n",
    "        '''\n",
    "        Give link to extract links of given webpages\n",
    "        '''\n",
    "        self.link = link\n",
    "    \n",
    "def getSoup(self):\n",
    "        r = requests.get(link)\n",
    "        r.encoding = 'UTF-8'\n",
    "        return BeautifulSoup(r.text, 'lxml')\n",
    "    \n",
    "def getSoupNext(link): \n",
    "        r = requests.get(link)\n",
    "        r.encoding = 'UTF-8'\n",
    "        return BeautifulSoup(r.text, 'lxml')\n",
    "\n",
    "def getLinks(self):\n",
    "        page = requests.get(link)\n",
    "        if page.status_code == requests.codes.ok:\n",
    "            wp = self.getSoup()\n",
    "            base_url = 'https://www.bezrealitky.cz'\n",
    "            links = wp.findAll('div', {'product__body'})\n",
    "            return [base_url_prague + equity.find('a')['href'] for equity in links]\n",
    "    \n",
    "def getAllPages(self):    \n",
    "        wp = getSoup_test(link)\n",
    "        base_url = 'https://www.bezrealitky.cz'\n",
    "        test_element = wp.find('ul', class_=\"pagination justify-content-md-end\").find('a', rel = 'next')\n",
    "        links = pd.Series(['https://www.bezrealitky.cz/vypis/nabidka-prodej/byt/praha'])\n",
    "        while test_element != None:\n",
    "                partial_url = wp.find('ul', class_=\"pagination justify-content-md-end\").find('a', rel = 'next')['href']\n",
    "                next_url = base_url + partial_url\n",
    "                links = links.append(pd.Series([next_url]), ignore_index = True)\n",
    "                wp_next = getSoupNext_test(next_url)\n",
    "                test_element = wp_next.find('ul', class_=\"pagination justify-content-md-end\").find('a', rel = 'next')\n",
    "                wp = wp_next\n",
    "        else: print(\"Loop is done\")\n",
    "        return links"
   ]
  },
  {
   "cell_type": "code",
   "execution_count": 70,
   "metadata": {},
   "outputs": [
    {
     "output_type": "error",
     "ename": "TypeError",
     "evalue": "getSoupNext() takes 1 positional argument but 2 were given",
     "traceback": [
      "\u001b[0;31m---------------------------------------------------------------------------\u001b[0m",
      "\u001b[0;31mTypeError\u001b[0m                                 Traceback (most recent call last)",
      "\u001b[0;32m<ipython-input-70-4324aa69420b>\u001b[0m in \u001b[0;36m<module>\u001b[0;34m\u001b[0m\n\u001b[0;32m----> 1\u001b[0;31m \u001b[0mDownloader_multi_byTiep\u001b[0m\u001b[0;34m(\u001b[0m\u001b[0;34m'https://www.bezrealitky.cz/vypis/nabidka-prodej/byt/praha'\u001b[0m\u001b[0;34m)\u001b[0m\u001b[0;34m.\u001b[0m\u001b[0mgetSoupNext\u001b[0m\u001b[0;34m(\u001b[0m\u001b[0;34m'https://www.bezrealitky.cz/vypis/nabidka-prodej/byt/praha?page=60'\u001b[0m\u001b[0;34m)\u001b[0m\u001b[0;34m\u001b[0m\u001b[0;34m\u001b[0m\u001b[0m\n\u001b[0m",
      "\u001b[0;31mTypeError\u001b[0m: getSoupNext() takes 1 positional argument but 2 were given"
     ]
    }
   ],
   "source": [
    "Downloader_multi_byTiep('https://www.bezrealitky.cz/vypis/nabidka-prodej/byt/praha').getSoupNext()"
   ]
  },
  {
   "cell_type": "code",
   "execution_count": 161,
   "metadata": {},
   "outputs": [],
   "source": [
    "def getSoup_test(link):\n",
    "        r = requests.get(link)\n",
    "        r.encoding = 'UTF-8'\n",
    "        return BeautifulSoup(r.text, 'lxml')\n",
    "    \n",
    "def getSoupNext_test(link): \n",
    "        r = requests.get(link)\n",
    "        r.encoding = 'UTF-8'\n",
    "        return BeautifulSoup(r.text, 'lxml')\n",
    "\n",
    "def getLinks_test(link):\n",
    "        page = requests.get(link)\n",
    "        if page.status_code == requests.codes.ok:\n",
    "            wp = self.getSoup()\n",
    "            base_url = 'https://www.bezrealitky.cz'\n",
    "            links = wp.findAll('div', {'product__body'})\n",
    "            return [base_url_prague + equity.find('a')['href'] for equity in links]\n",
    "    \n",
    "def getAllPages_test(link):    \n",
    "        wp = getSoup_test(link)\n",
    "        base_url = 'https://www.bezrealitky.cz'\n",
    "        test_element = wp.find('ul', class_=\"pagination justify-content-md-end\").find('a', rel = 'next')\n",
    "        links = pd.Series(['https://www.bezrealitky.cz/vypis/nabidka-prodej/byt/praha'])\n",
    "        while test_element != None:\n",
    "                partial_url = wp.find('ul', class_=\"pagination justify-content-md-end\").find('a', rel = 'next')['href']\n",
    "                next_url = base_url + partial_url\n",
    "                links = links.append(pd.Series([next_url]), ignore_index = True)\n",
    "                wp_next = getSoupNext_test(next_url)\n",
    "                test_element = wp_next.find('ul', class_=\"pagination justify-content-md-end\").find('a', rel = 'next')\n",
    "                wp = wp_next\n",
    "        else: print(\"Loop is done\")\n",
    "        return links"
   ]
  },
  {
   "cell_type": "code",
   "execution_count": 162,
   "metadata": {},
   "outputs": [
    {
     "output_type": "stream",
     "name": "stdout",
     "text": "Loop is done\n"
    },
    {
     "output_type": "execute_result",
     "data": {
      "text/plain": "0     https://www.bezrealitky.cz/vypis/nabidka-prode...\n1     https://www.bezrealitky.cz/vypis/nabidka-prode...\n2     https://www.bezrealitky.cz/vypis/nabidka-prode...\n3     https://www.bezrealitky.cz/vypis/nabidka-prode...\n4     https://www.bezrealitky.cz/vypis/nabidka-prode...\n5     https://www.bezrealitky.cz/vypis/nabidka-prode...\n6     https://www.bezrealitky.cz/vypis/nabidka-prode...\n7     https://www.bezrealitky.cz/vypis/nabidka-prode...\n8     https://www.bezrealitky.cz/vypis/nabidka-prode...\n9     https://www.bezrealitky.cz/vypis/nabidka-prode...\n10    https://www.bezrealitky.cz/vypis/nabidka-prode...\n11    https://www.bezrealitky.cz/vypis/nabidka-prode...\n12    https://www.bezrealitky.cz/vypis/nabidka-prode...\n13    https://www.bezrealitky.cz/vypis/nabidka-prode...\n14    https://www.bezrealitky.cz/vypis/nabidka-prode...\n15    https://www.bezrealitky.cz/vypis/nabidka-prode...\n16    https://www.bezrealitky.cz/vypis/nabidka-prode...\n17    https://www.bezrealitky.cz/vypis/nabidka-prode...\n18    https://www.bezrealitky.cz/vypis/nabidka-prode...\n19    https://www.bezrealitky.cz/vypis/nabidka-prode...\n20    https://www.bezrealitky.cz/vypis/nabidka-prode...\n21    https://www.bezrealitky.cz/vypis/nabidka-prode...\n22    https://www.bezrealitky.cz/vypis/nabidka-prode...\n23    https://www.bezrealitky.cz/vypis/nabidka-prode...\n24    https://www.bezrealitky.cz/vypis/nabidka-prode...\n25    https://www.bezrealitky.cz/vypis/nabidka-prode...\n26    https://www.bezrealitky.cz/vypis/nabidka-prode...\n27    https://www.bezrealitky.cz/vypis/nabidka-prode...\n28    https://www.bezrealitky.cz/vypis/nabidka-prode...\n29    https://www.bezrealitky.cz/vypis/nabidka-prode...\n                            ...                        \n31    https://www.bezrealitky.cz/vypis/nabidka-prode...\n32    https://www.bezrealitky.cz/vypis/nabidka-prode...\n33    https://www.bezrealitky.cz/vypis/nabidka-prode...\n34    https://www.bezrealitky.cz/vypis/nabidka-prode...\n35    https://www.bezrealitky.cz/vypis/nabidka-prode...\n36    https://www.bezrealitky.cz/vypis/nabidka-prode...\n37    https://www.bezrealitky.cz/vypis/nabidka-prode...\n38    https://www.bezrealitky.cz/vypis/nabidka-prode...\n39    https://www.bezrealitky.cz/vypis/nabidka-prode...\n40    https://www.bezrealitky.cz/vypis/nabidka-prode...\n41    https://www.bezrealitky.cz/vypis/nabidka-prode...\n42    https://www.bezrealitky.cz/vypis/nabidka-prode...\n43    https://www.bezrealitky.cz/vypis/nabidka-prode...\n44    https://www.bezrealitky.cz/vypis/nabidka-prode...\n45    https://www.bezrealitky.cz/vypis/nabidka-prode...\n46    https://www.bezrealitky.cz/vypis/nabidka-prode...\n47    https://www.bezrealitky.cz/vypis/nabidka-prode...\n48    https://www.bezrealitky.cz/vypis/nabidka-prode...\n49    https://www.bezrealitky.cz/vypis/nabidka-prode...\n50    https://www.bezrealitky.cz/vypis/nabidka-prode...\n51    https://www.bezrealitky.cz/vypis/nabidka-prode...\n52    https://www.bezrealitky.cz/vypis/nabidka-prode...\n53    https://www.bezrealitky.cz/vypis/nabidka-prode...\n54    https://www.bezrealitky.cz/vypis/nabidka-prode...\n55    https://www.bezrealitky.cz/vypis/nabidka-prode...\n56    https://www.bezrealitky.cz/vypis/nabidka-prode...\n57    https://www.bezrealitky.cz/vypis/nabidka-prode...\n58    https://www.bezrealitky.cz/vypis/nabidka-prode...\n59    https://www.bezrealitky.cz/vypis/nabidka-prode...\n60    https://www.bezrealitky.cz/vypis/nabidka-prode...\nLength: 61, dtype: object"
     },
     "metadata": {},
     "execution_count": 162
    }
   ],
   "source": [
    "links = getAllPages_test('https://www.bezrealitky.cz/vypis/nabidka-prodej/byt/praha')\n",
    "links"
   ]
  },
  {
   "cell_type": "code",
   "execution_count": 160,
   "metadata": {},
   "outputs": [
    {
     "output_type": "execute_result",
     "data": {
      "text/plain": "'https://www.bezrealitky.cz/vypis/nabidka-prodej/byt/praha?page=61'"
     },
     "metadata": {},
     "execution_count": 160
    }
   ],
   "source": [
    "links[1]"
   ]
  },
  {
   "cell_type": "code",
   "execution_count": 157,
   "metadata": {},
   "outputs": [
    {
     "output_type": "stream",
     "name": "stdout",
     "text": "0    https://www.bezrealitky.cz/vypis/nabidka-prode...\n0    https://www.bezrealitky.cz/vypis/nabidka-prode...\ndtype: object\n"
    }
   ],
   "source": [
    "print(links[0])"
   ]
  },
  {
   "cell_type": "code",
   "execution_count": 144,
   "metadata": {},
   "outputs": [
    {
     "output_type": "execute_result",
     "data": {
      "text/plain": "0    https://www.bezrealitky.cz/vypis/nabidka-prode...\ndtype: object"
     },
     "metadata": {},
     "execution_count": 144
    }
   ],
   "source": [
    "links = pd.Series(['https://www.bezrealitky.cz/vypis/nabidka-prodej/byt/praha'])\n",
    "links\n",
    "links.append(pd.Series(['https://www.bezrealitky.cz/vypis/nabidka-prodej/byt/praha?page=2']))\n",
    "links"
   ]
  },
  {
   "cell_type": "code",
   "execution_count": 132,
   "metadata": {},
   "outputs": [],
   "source": [
    "soup = getSoup_test('https://www.bezrealitky.cz/vypis/nabidka-prodej/byt/praha?page=60')"
   ]
  },
  {
   "cell_type": "code",
   "execution_count": 133,
   "metadata": {},
   "outputs": [
    {
     "output_type": "execute_result",
     "data": {
      "text/plain": "True"
     },
     "metadata": {},
     "execution_count": 133
    }
   ],
   "source": [
    "soup.find('ul', class_=\"pagination justify-content-md-end\").find('a', rel = 'next') != None"
   ]
  },
  {
   "cell_type": "markdown",
   "metadata": {},
   "source": [
    "## Tutorial for pagination\n",
    "link - https://letslearnabout.net/python/beautiful-soup/how-to-get-the-next-page-on-beautiful-soup/#next-page"
   ]
  },
  {
   "cell_type": "code",
   "execution_count": null,
   "metadata": {},
   "outputs": [],
   "source": [
    "def parse_page(next_url):\n",
    "    # HTTP GET requests\n",
    "  page = requests.get(next_url)\n",
    "\n",
    "  # Checking if we successfully fetched the URL\n",
    "  if page.status_code == requests.codes.ok:\n",
    "    bs = BeautifulSoup(page.text, 'lxml')\n",
    "\n",
    "    check_no_results = bs.find('ul', class_=\"SearchResults\").find('p')\n",
    "    if check_no_results and check_no_results.text:\n",
    "        print('Search returned no results.')\n",
    "        return None\n",
    "\n",
    "    # Fetching all items\n",
    "    list_all_cd = bs.findAll('li', class_='ResultItem')\n",
    "\n",
    "    \n",
    "    for cd in list_all_cd:\n",
    "      get_cd_attributes(cd)\n",
    "\n",
    "    next_page_text = bs.find('ul', class_=\"SearchBreadcrumbs\").findAll('li')[-1].text\n",
    "    \n",
    "    if next_page_text == 'Next':\n",
    "        next_page_partial = bs.find('ul', class_=\"SearchBreadcrumbs\").findAll(\n",
    "            'li')[-1].find('a')['href']\n",
    "        next_page_url = base_url + next_page_partial\n",
    "        print(next_page_url)\n",
    "        parse_page(next_page_url)\n",
    "    # No more 'Next' pages, finish the script\n",
    "    else:\n",
    "        export_table_and_print(data)\n",
    "\n",
    "parse_page(search_url)"
   ]
  }
 ],
 "metadata": {
  "file_extension": ".py",
  "kernelspec": {
   "display_name": "Python 3",
   "language": "python",
   "name": "python3"
  },
  "language_info": {
   "codemirror_mode": {
    "name": "ipython",
    "version": 3
   },
   "file_extension": ".py",
   "mimetype": "text/x-python",
   "name": "python",
   "nbconvert_exporter": "python",
   "pygments_lexer": "ipython3",
   "version": "3.7.3-final"
  },
  "mimetype": "text/x-python",
  "name": "python",
  "npconvert_exporter": "python",
  "pygments_lexer": "ipython3",
  "version": 3
 },
 "nbformat": 4,
 "nbformat_minor": 4
}