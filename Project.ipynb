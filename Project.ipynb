{
 "cells": [
  {
   "cell_type": "code",
   "execution_count": 1,
   "metadata": {},
   "outputs": [],
   "source": [
    "import numpy as np\n",
    "import pandas as pd \n",
    "import requests\n",
    "from bs4 import BeautifulSoup\n",
    "import pandas as pd\n",
    "import tqdm as tqdm\n",
    "from lxml import html\n",
    "import time\n",
    "import itertools"
   ]
  },
  {
   "cell_type": "code",
   "execution_count": 2,
   "metadata": {},
   "outputs": [],
   "source": [
    "class HouseForSale: \n",
    "    '''\n",
    "    Getting desired infos from the webpage provided for the old format webpage - without 'nove-bydleni' string in its url\n",
    "    '''\n",
    "    def __init__(self, link):\n",
    "        '''\n",
    "        Input a link in order to extract the necessary information\n",
    "        '''\n",
    "        self.link = link\n",
    "\n",
    "    def getSoup(self):\n",
    "        r = requests.get(self.link)\n",
    "        r.encoding = 'UTF-8'\n",
    "        return BeautifulSoup(r.text, 'html')\n",
    "    \n",
    "    def getParameters(self):\n",
    "        '''\n",
    "        Get parameters such as price, disposition, the state of the house\n",
    "        '''\n",
    "        bf = self.getSoup()\n",
    "        bf_table = bf.find('div',{'data-element':\"detail-description\"}).find('table')\n",
    "        table_extract = [i.text.strip() for i in bf_table.findAll('tr')]\n",
    "        df_table = pd.DataFrame(table_extract)\n",
    "        df_table_split = df_table[0].str.split(\"\\n\", expand = True)\n",
    "        df = pd.DataFrame(df_table_split[[0,1]])\n",
    "        df.columns = ['metric', 'value']\n",
    "        df = df.set_index('metric')\n",
    "        return df\n",
    "    \n",
    "    def getMap(self):\n",
    "        '''\n",
    "        Get location of the property using embeded google maps longtitute and lattitude parameters\n",
    "        '''\n",
    "        bf = self.getSoup()\n",
    "        bf_map = bf.find('div',{'id':\"map\"})\n",
    "        x = bf_map.find('iframe')['src'].find('q=') + 2 \n",
    "        y = bf_map.find('iframe')['src'].find('&key')\n",
    "        location = bf_map.find('iframe')['src'][x:y]\n",
    "        loc_str = location.split(',')\n",
    "        loc_dict = {\"lat\" : [loc_str[0]], \"long\": [loc_str[1]]}\n",
    "        loc_df = pd.DataFrame.from_dict(loc_dict, orient = 'index', columns = ['value'])\n",
    "        return loc_df\n",
    "    \n",
    "    def getDf(self):\n",
    "        '''\n",
    "        Return a wide dataframe from getMap() and getParameters(), index = latitute and longtitude\n",
    "        '''\n",
    "        df_par = self.getParameters()\n",
    "        df_map = self.getMap()\n",
    "        df = pd.concat([df_par, df_map])\n",
    "        df = pd.melt(df.T, id_vars = ['lat','long'])\n",
    "        return df"
   ]
  },
  {
   "cell_type": "code",
   "execution_count": 3,
   "metadata": {},
   "outputs": [],
   "source": [
    "class HouseForSaleNew: #In progress\n",
    "    '''\n",
    "    Getting desired infos from the webpage provided for the new format webpage - with 'nove-bydleni' string in url\n",
    "    '''\n",
    "    def __init__(self, link):\n",
    "        '''\n",
    "        Input a link in order to extract the necessary information\n",
    "        '''\n",
    "        self.link = link\n",
    "\n",
    "    def getSoup(self):\n",
    "        r = requests.get(self.link)\n",
    "        r.encoding = 'UTF-8'\n",
    "        return BeautifulSoup(r.text, 'html')\n",
    "    \n",
    "    def getParameters(self): #Done\n",
    "        '''\n",
    "        Get parameters such as price, disposition, the state of the house\n",
    "        '''\n",
    "        bf = self.getSoup()\n",
    "        bf_table = bf.find('div', {'id':'tabInformace'}).find('table')\n",
    "        bf_table\n",
    "        table_extract  = [li.text.strip() for li in list_element.findAll('tr', {'class':'cline'})]\n",
    "        df_table = pd.DataFrame(table_extract)\n",
    "        df_table_split = df_table[0].str.split(\"\\n\", expand = True)\n",
    "        pd.DataFrame(df_table_split[[0,1]], columns = ['metric', 'value'])\n",
    "        df = pd.concat(\n",
    "                        [pd.DataFrame(np.array(df_table_split[[0,1]]), columns = ['metric', 'value']),\n",
    "                        pd.DataFrame(np.array(df_table_split[[2,3]]), columns = ['metric', 'value'])]\n",
    "                        )\n",
    "\n",
    "        return df\n",
    "    \n",
    "     #Cannot really extract the locationdef getMap(self):\n",
    "        '''\n",
    "        Get location of the property using embeded google maps longtitute and lattitude parameters\n",
    "        '''\n",
    "        bf = self.getSoup()\n",
    "        bf_map = bf.find('div',{'id':\"map\"})\n",
    "        x = bf_map.find('iframe')['src'].find('q=') + 2 \n",
    "        y = bf_map.find('iframe')['src'].find('&key')\n",
    "        location = bf_map.find('iframe')['src'][x:y]\n",
    "        loc_str = location.split(',')\n",
    "        loc_dict = {\"lat\" : [loc_str[0]], \"long\": [loc_str[1]]}\n",
    "        loc_df = pd.DataFrame.from_dict(loc_dict, orient = 'index', columns = ['value'])\n",
    "        return loc_df\n",
    "    \n",
    "    def getDf(self):\n",
    "        '''\n",
    "        Return a wide dataframe from getMap() and getParameters(), index = latitute and longtitude\n",
    "        '''\n",
    "        df_par = self.getParameters()\n",
    "        df_map = self.getMap()\n",
    "        df = pd.concat([df_par, df_map])\n",
    "        df = pd.melt(df.T, id_vars = ['lat','long'])\n",
    "        return df"
   ]
  },
  {
   "cell_type": "markdown",
   "metadata": {},
   "source": [
    "# Downloader class\n",
    "- Manual test\n",
    "- defining class\n",
    "\n",
    "## Manual test"
   ]
  },
  {
   "cell_type": "code",
   "execution_count": 12,
   "metadata": {},
   "outputs": [],
   "source": [
    "def getLinks_test(link):\n",
    "    \n",
    "    page = requests.get(link)\n",
    "    if page.status_code == requests.codes.ok:\n",
    "        wp = getSoup_test(link)\n",
    "        base_url = 'https://www.bezrealitky.cz'\n",
    "        links = wp.findAll('div', {'product__body'})\n",
    "        return [base_url + equity.find('a')['href'] for equity in links]\n",
    "\n",
    "    next_page_text = wp.find('ul', class_=\"pagination justify-content-md-end\").findAll('li')[-1].text\n",
    "\n",
    "    if next_page_text == 'Další >':\n",
    "        next_page_partial = wp.find('ul', class_=\"pagination justify-content-md-end\").findAll('li')[-1].find('a')['href']\n",
    "        next_page_url = base_url + next_page_partial\n",
    "        links = wp.findAll('div', {'product__body'})\n",
    "        return [base_url + equity.find('a')['href'] for equity in links]\n",
    "    # No more 'Next' pages, finish the script\n",
    "    else:\n",
    "        print('Done')"
   ]
  },
  {
   "cell_type": "markdown",
   "metadata": {},
   "source": [
    "## Defining class\n",
    "Manual test working - Downloader_single() working\n",
    "Pagination - Downloader_multi() work in progress"
   ]
  },
  {
   "cell_type": "code",
   "execution_count": 17,
   "metadata": {},
   "outputs": [],
   "source": [
    "class Downloader_single:\n",
    "    '''\n",
    "    Download all links real estate to initiate\n",
    "    '''\n",
    "    def __init__(self, link):\n",
    "        '''\n",
    "        Give link to extract links of given webpages\n",
    "        '''\n",
    "        self.link = link\n",
    "    \n",
    "    def getSoup(self):\n",
    "        r = requests.get(self.link)\n",
    "        r.encoding = 'UTF-8'\n",
    "        return BeautifulSoup(r.text, 'lxml')\n",
    "\n",
    "    def getLinks(self):\n",
    "        page = requests.get(self.link)\n",
    "        if page.status_code == requests.codes.ok:\n",
    "            wp = self.getSoup()\n",
    "            base_url = 'https://www.bezrealitky.cz'\n",
    "            links = wp.findAll('div', {'product__body'})\n",
    "            return [base_url + equity.find('a')['href'] for equity in links]"
   ]
  },
  {
   "cell_type": "code",
   "execution_count": 18,
   "metadata": {},
   "outputs": [
    {
     "data": {
      "text/plain": [
       "['https://www.bezrealitky.cz/nemovitosti-byty-domy/604370-nabidka-prodej-bytu-spanielova-praha',\n",
       " 'https://www.bezrealitky.cz/nemovitosti-byty-domy/596362-nabidka-prodej-bytu-merhoutova-prague',\n",
       " 'https://www.bezrealitky.cz/nemovitosti-byty-domy/604185-nabidka-prodej-bytu-ucnovska',\n",
       " 'https://www.bezrealitky.cz/nemovitosti-byty-domy/604354-nabidka-prodej-bytu-sanderova',\n",
       " 'https://www.bezrealitky.cz/nemovitosti-byty-domy/602506-nabidka-prodej-bytu-nekvasilova',\n",
       " 'https://www.bezrealitky.cz/nemovitosti-byty-domy/604357-nabidka-prodej-bytu-mantovska',\n",
       " 'https://www.bezrealitky.cz/nemovitosti-byty-domy/604332-nabidka-prodej-bytu-spanielova-praha',\n",
       " 'https://www.bezrealitky.cz/nemovitosti-byty-domy/597584-nabidka-prodej-bytu-v-remizku-praha',\n",
       " 'https://www.bezrealitky.cz/nemovitosti-byty-domy/603606-nabidka-prodej-bytu-tulesicka',\n",
       " 'https://www.bezrealitky.cz/nemovitosti-byty-domy/604353-nabidka-prodej-bytu-za-zameckem-praha']"
      ]
     },
     "execution_count": 18,
     "metadata": {},
     "output_type": "execute_result"
    }
   ],
   "source": [
    "Downloader_single('https://www.bezrealitky.cz/vypis/nabidka-prodej/byt/praha?_token=qNLlM7SSvDXIFrdOKHnbj0gv_-OMf7vw6yUc_-ILcFo&page=3').getLinks()"
   ]
  },
  {
   "cell_type": "code",
   "execution_count": 19,
   "metadata": {},
   "outputs": [],
   "source": [
    "class Downloader_multi:\n",
    "    '''\n",
    "    Download all links real estate to initiate\n",
    "    '''\n",
    "    def __init__(self, link):\n",
    "        '''\n",
    "        Give link to extract links of given webpages\n",
    "        '''\n",
    "        self.link = link\n",
    "    \n",
    "    def getSoup(self):\n",
    "        r = requests.get(self.link)\n",
    "        r.encoding = 'UTF-8'\n",
    "        return BeautifulSoup(r.text, 'lxml')\n",
    "\n",
    "    def getLinks(self):\n",
    "        page = requests.get(self.link)\n",
    "        if page.status_code == requests.codes.ok:\n",
    "            wp = self.getSoup()\n",
    "            base_url = 'https://www.bezrealitky.cz'\n",
    "            links = wp.findAll('div', {'product__body'})\n",
    "            return [base_url + equity.find('a')['href'] for equity in links]\n",
    "        \n",
    "#         if next_page_text == 'Další >':\n",
    "#             next_page_partial = wp.find('ul', class_=\"pagination justify-content-md-end\").findAll('li')[-1].find('a')['href']\n",
    "#             next_page_url = base_url + next_page_partial\n",
    "#             getLinks(next_page_url)\n",
    "#         # No more 'Next' pages, finish the script\n",
    "#         else:\n",
    "#             print('Done')\n",
    "        \n",
    "            \n",
    "        "
   ]
  },
  {
   "cell_type": "code",
   "execution_count": 20,
   "metadata": {},
   "outputs": [
    {
     "data": {
      "text/plain": [
       "[]"
      ]
     },
     "execution_count": 20,
     "metadata": {},
     "output_type": "execute_result"
    }
   ],
   "source": [
    "Downloader_single('https://www.bezrealitky.cz/vypis/nabidka-prodej/byt/praha?_token=qNLlM7SSvDXIFrdOKHnbj0gv_-OMf7vw6yUc_-ILcFo&page=63').getLinks()"
   ]
  },
  {
   "cell_type": "code",
   "execution_count": 34,
   "metadata": {},
   "outputs": [],
   "source": [
    "class Downloader_multi_byJan:\n",
    "    '''\n",
    "    Download all links real estate to initiate\n",
    "    '''\n",
    "    def __init__(self, link):\n",
    "        '''\n",
    "        Give link to extract links of given webpages\n",
    "        '''\n",
    "        self.link = link\n",
    "    \n",
    "    def getSoup(self):\n",
    "            r = requests.get(link)\n",
    "            r.encoding = 'UTF-8'\n",
    "            return BeautifulSoup(r.text, 'lxml')\n",
    "\n",
    "    def getSoupNext(link): \n",
    "            r = requests.get(link)\n",
    "            r.encoding = 'UTF-8'\n",
    "            return BeautifulSoup(r.text, 'lxml')\n",
    "\n",
    "    def getAllPages(self):    \n",
    "            wp = self.getSoup(link)\n",
    "            base_url = 'https://www.bezrealitky.cz'\n",
    "            test_element = wp.find('ul', class_=\"pagination justify-content-md-end\").find('a', rel = 'next')\n",
    "            pglinks = pd.Series(['https://www.bezrealitky.cz/vypis/nabidka-prodej/byt/praha'])\n",
    "            while test_element != None:\n",
    "                    partial_url = wp.find('ul', class_=\"pagination justify-content-md-end\").find('a', rel = 'next')['href']\n",
    "                    next_url = base_url + partial_url\n",
    "                    pglinks = pglinks.append(pd.Series([next_url]), ignore_index = True)\n",
    "                    wp_next = self.getSoupNext(next_url)\n",
    "                    test_element = wp_next.find('ul', class_=\"pagination justify-content-md-end\").find('a', rel = 'next')\n",
    "                    wp = wp_next\n",
    "            else: print(\"Loop is done\")\n",
    "            # return pglinks\n",
    "        \n",
    "    def getLinks(self):\n",
    "            page = requests.get(link)\n",
    "            if page.status_code == requests.codes.ok:\n",
    "                for pg in pglinks:\n",
    "\n",
    "                    wp = self.getSoup()\n",
    "                    base_url = 'https://www.bezrealitky.cz'\n",
    "                    eqlinks = wp.findAll('div', {'product__body'})\n",
    "                    return [base_url_prague + equity.find('a')['href'] for equity in eqlinks]\n"
   ]
  },
  {
   "cell_type": "code",
   "execution_count": 110,
   "metadata": {},
   "outputs": [],
   "source": [
    "Webpage = Downloader_multi_byJan('https://www.bezrealitky.cz/vypis/nabidka-prodej/byt/praha')"
   ]
  },
  {
   "cell_type": "markdown",
   "metadata": {},
   "source": [
    "# Class using outer function\n",
    "This class is using outside function for creating the method"
   ]
  },
  {
   "cell_type": "code",
   "execution_count": 4,
   "metadata": {},
   "outputs": [],
   "source": [
    "def getSoup(link):\n",
    "        r = requests.get(link)\n",
    "        r.encoding = 'UTF-8'\n",
    "        return BeautifulSoup(r.text, 'lxml')\n",
    "\n",
    "def getLinks(link):\n",
    "        page = requests.get(link)\n",
    "        if page.status_code == requests.codes.ok:\n",
    "            wp = getSoup(link)\n",
    "            base_url = 'https://www.bezrealitky.cz'\n",
    "            links = wp.findAll('div', {'product__body'})\n",
    "            links_list = list()\n",
    "            for equity in links:\n",
    "                    if 'https://www.bezrealitky.cz' in equity.find('a')['href']:\n",
    "                        links_list.append(equity.find('a')['href'])\n",
    "                    else: \n",
    "                        links_list.append(base_url + equity.find('a')['href'])\n",
    "        return links_list\n",
    "\n",
    "class Downloader_multi_byTiep:\n",
    "    '''\n",
    "    Download all links of real estate properties on the given website\n",
    "    '''\n",
    "    def __init__(self, link):\n",
    "        '''\n",
    "        Provide real estate webpage to extract the properties links\n",
    "        '''\n",
    "        self.link = link\n",
    "\n",
    "    def getAllPages(self):\n",
    "            '''\n",
    "            Get all possible pages from the provided website that contains links\n",
    "            '''    \n",
    "            wp = getSoup(self.link)\n",
    "            base_url = 'https://www.bezrealitky.cz'\n",
    "            test_element = wp.find('ul', class_=\"pagination justify-content-md-end\").find('a', rel = 'next')\n",
    "            links = pd.Series(['https://www.bezrealitky.cz/vypis/nabidka-prodej/byt/praha'])\n",
    "            while test_element != None:\n",
    "                    partial_url = wp.find('ul', class_=\"pagination justify-content-md-end\").find('a', rel = 'next')['href']\n",
    "                    next_url = base_url + partial_url\n",
    "                    links = links.append(pd.Series([next_url]), ignore_index = True)\n",
    "                    wp_next = getSoup(next_url)\n",
    "                    test_element = wp_next.find('ul', class_=\"pagination justify-content-md-end\").find('a', rel = 'next')\n",
    "                    wp = wp_next\n",
    "            else: print(\"Loop is done\")\n",
    "            return list(links)"
   ]
  },
  {
   "cell_type": "code",
   "execution_count": 5,
   "metadata": {},
   "outputs": [
    {
     "output_type": "stream",
     "name": "stdout",
     "text": "Loop is done\n"
    }
   ],
   "source": [
    "links_class = Downloader_multi_byTiep('https://www.bezrealitky.cz/vypis/nabidka-prodej/byt/praha/praha-zizkov').getAllPages()"
   ]
  },
  {
   "cell_type": "code",
   "execution_count": 6,
   "metadata": {},
   "outputs": [],
   "source": [
    "links_properties = [getLinks(li) for li in links_class]\n",
    "links_properties_unlist = list(itertools.chain(*links_properties))"
   ]
  },
  {
   "cell_type": "code",
   "execution_count": 7,
   "metadata": {},
   "outputs": [],
   "source": [
    "links_properties_unlist = list(itertools.chain(*links_properties))"
   ]
  },
  {
   "cell_type": "markdown",
   "metadata": {},
   "source": [
    "# Links Summary and Next steps explanation\n",
    "There are two types of links provided by bezrealitky.cz. New format and old format. For each type it is essential to write a class that will extract the needed data properly. For now, we have for the old format. "
   ]
  },
  {
   "cell_type": "code",
   "execution_count": 10,
   "metadata": {},
   "outputs": [
    {
     "output_type": "stream",
     "name": "stdout",
     "text": "(35,)\n(1,)\n(36,)\n"
    }
   ],
   "source": [
    "links_properties_unlist_old = [li for li in links_properties_unlist if 'nove-bydleni' not in li]\n",
    "links_properties_unlist_new = [li for li in links_properties_unlist if 'nove-bydleni' in li]\n",
    "print(np.shape(links_properties_unlist_old))\n",
    "print(np.shape(links_properties_unlist_new))\n",
    "print(np.shape(links_properties_unlist))"
   ]
  },
  {
   "cell_type": "code",
   "execution_count": 26,
   "metadata": {},
   "outputs": [],
   "source": [
    "df_complete_sale = pd.DataFrame()\n",
    "for li in links_properties_unlist_old:\n",
    "    df_unit = HouseForSale(li).getDf()\n",
    "    df_complete_sale = pd.concat([df_complete_sale, df_unit])"
   ]
  },
  {
   "cell_type": "code",
   "execution_count": 28,
   "metadata": {},
   "outputs": [
    {
     "output_type": "execute_result",
     "data": {
      "text/plain": "(649, 4)"
     },
     "metadata": {},
     "execution_count": 28
    }
   ],
   "source": [
    "np.shape(df_complete_sale)"
   ]
  },
  {
   "cell_type": "code",
   "execution_count": 13,
   "metadata": {},
   "outputs": [
    {
     "output_type": "stream",
     "name": "stdout",
     "text": "Loop is done\n"
    }
   ],
   "source": [
    "links_class_rent = Downloader_multi_byTiep('https://www.bezrealitky.cz/vypis/nabidka-pronajem/byt/praha/praha-zizkov').getAllPages()"
   ]
  },
  {
   "cell_type": "code",
   "execution_count": 15,
   "metadata": {},
   "outputs": [],
   "source": [
    "links_properties_rent = [getLinks(li) for li in links_class_rent]\n",
    "links_properties_rent_unlist = list(itertools.chain(*links_properties_rent))"
   ]
  },
  {
   "cell_type": "code",
   "execution_count": 16,
   "metadata": {},
   "outputs": [
    {
     "output_type": "stream",
     "name": "stdout",
     "text": "(230,)\n(1,)\n(231,)\n"
    }
   ],
   "source": [
    "links_properties_rent_unlist_old = [li for li in links_properties_rent_unlist if 'nove-bydleni' not in li]\n",
    "links_properties_rent_unlist_new = [li for li in links_properties_rent_unlist if 'nove-bydleni' in li]\n",
    "print(np.shape(links_properties_rent_unlist_old))\n",
    "print(np.shape(links_properties_rent_unlist_new))\n",
    "print(np.shape(links_properties_rent_unlist))"
   ]
  },
  {
   "cell_type": "code",
   "execution_count": 24,
   "metadata": {},
   "outputs": [
    {
     "output_type": "execute_result",
     "data": {
      "text/plain": "          lat       long          variable       value\n0   50.084425  14.451608         Internet:            \n1   50.084425  14.451608   Číslo inzerátu:      601080\n2   50.084425  14.451608        Dispozice:         1+1\n3   50.084425  14.451608           Plocha:       33 m²\n4   50.084425  14.451608             Cena:   12.000 Kč\n5   50.084425  14.451608         Poplatky:    2.000 Kč\n6   50.084425  14.451608     Vratná kauce:   14.000 Kč\n7   50.084425  14.451608            Město:       Praha\n8   50.084425  14.451608     Městská část:      Žižkov\n9   50.084425  14.451608  Typ vlastnictví:      Osobní\n10  50.084425  14.451608       Typ budovy:       Cihla\n11  50.084425  14.451608             PENB:           B\n12  50.084425  14.451608          Podlaží:           4\n13  50.084425  14.451608           Balkón:          Ne\n14  50.084425  14.451608           Terasa:          Ne\n15  50.084425  14.451608            Výtah:          Ne\n16  50.084425  14.451608            Garáž:          Ne\n17  50.084425  14.451608   K dispozici od:  01.04.2020",
      "text/html": "<div>\n<style scoped>\n    .dataframe tbody tr th:only-of-type {\n        vertical-align: middle;\n    }\n\n    .dataframe tbody tr th {\n        vertical-align: top;\n    }\n\n    .dataframe thead th {\n        text-align: right;\n    }\n</style>\n<table border=\"1\" class=\"dataframe\">\n  <thead>\n    <tr style=\"text-align: right;\">\n      <th></th>\n      <th>lat</th>\n      <th>long</th>\n      <th>variable</th>\n      <th>value</th>\n    </tr>\n  </thead>\n  <tbody>\n    <tr>\n      <th>0</th>\n      <td>50.084425</td>\n      <td>14.451608</td>\n      <td>Internet:</td>\n      <td></td>\n    </tr>\n    <tr>\n      <th>1</th>\n      <td>50.084425</td>\n      <td>14.451608</td>\n      <td>Číslo inzerátu:</td>\n      <td>601080</td>\n    </tr>\n    <tr>\n      <th>2</th>\n      <td>50.084425</td>\n      <td>14.451608</td>\n      <td>Dispozice:</td>\n      <td>1+1</td>\n    </tr>\n    <tr>\n      <th>3</th>\n      <td>50.084425</td>\n      <td>14.451608</td>\n      <td>Plocha:</td>\n      <td>33 m²</td>\n    </tr>\n    <tr>\n      <th>4</th>\n      <td>50.084425</td>\n      <td>14.451608</td>\n      <td>Cena:</td>\n      <td>12.000 Kč</td>\n    </tr>\n    <tr>\n      <th>5</th>\n      <td>50.084425</td>\n      <td>14.451608</td>\n      <td>Poplatky:</td>\n      <td>2.000 Kč</td>\n    </tr>\n    <tr>\n      <th>6</th>\n      <td>50.084425</td>\n      <td>14.451608</td>\n      <td>Vratná kauce:</td>\n      <td>14.000 Kč</td>\n    </tr>\n    <tr>\n      <th>7</th>\n      <td>50.084425</td>\n      <td>14.451608</td>\n      <td>Město:</td>\n      <td>Praha</td>\n    </tr>\n    <tr>\n      <th>8</th>\n      <td>50.084425</td>\n      <td>14.451608</td>\n      <td>Městská část:</td>\n      <td>Žižkov</td>\n    </tr>\n    <tr>\n      <th>9</th>\n      <td>50.084425</td>\n      <td>14.451608</td>\n      <td>Typ vlastnictví:</td>\n      <td>Osobní</td>\n    </tr>\n    <tr>\n      <th>10</th>\n      <td>50.084425</td>\n      <td>14.451608</td>\n      <td>Typ budovy:</td>\n      <td>Cihla</td>\n    </tr>\n    <tr>\n      <th>11</th>\n      <td>50.084425</td>\n      <td>14.451608</td>\n      <td>PENB:</td>\n      <td>B</td>\n    </tr>\n    <tr>\n      <th>12</th>\n      <td>50.084425</td>\n      <td>14.451608</td>\n      <td>Podlaží:</td>\n      <td>4</td>\n    </tr>\n    <tr>\n      <th>13</th>\n      <td>50.084425</td>\n      <td>14.451608</td>\n      <td>Balkón:</td>\n      <td>Ne</td>\n    </tr>\n    <tr>\n      <th>14</th>\n      <td>50.084425</td>\n      <td>14.451608</td>\n      <td>Terasa:</td>\n      <td>Ne</td>\n    </tr>\n    <tr>\n      <th>15</th>\n      <td>50.084425</td>\n      <td>14.451608</td>\n      <td>Výtah:</td>\n      <td>Ne</td>\n    </tr>\n    <tr>\n      <th>16</th>\n      <td>50.084425</td>\n      <td>14.451608</td>\n      <td>Garáž:</td>\n      <td>Ne</td>\n    </tr>\n    <tr>\n      <th>17</th>\n      <td>50.084425</td>\n      <td>14.451608</td>\n      <td>K dispozici od:</td>\n      <td>01.04.2020</td>\n    </tr>\n  </tbody>\n</table>\n</div>"
     },
     "metadata": {},
     "execution_count": 24
    }
   ],
   "source": [
    "HouseForSale(links_properties_rent_unlist[20]).getDf()"
   ]
  },
  {
   "cell_type": "code",
   "execution_count": 25,
   "metadata": {},
   "outputs": [],
   "source": [
    "df_complete_rent = pd.DataFrame()\n",
    "for li in links_properties_rent_unlist_old:\n",
    "    df_unit = HouseForSale(li).getDf()\n",
    "    df_complete_rent = pd.concat([df_complete_rent, df_unit])"
   ]
  },
  {
   "cell_type": "code",
   "execution_count": 27,
   "metadata": {},
   "outputs": [
    {
     "output_type": "execute_result",
     "data": {
      "text/plain": "(4521, 4)"
     },
     "metadata": {},
     "execution_count": 27
    }
   ],
   "source": [
    "np.shape(df_complete_rent)"
   ]
  },
  {
   "cell_type": "code",
   "execution_count": 223,
   "metadata": {},
   "outputs": [
    {
     "output_type": "execute_result",
     "data": {
      "text/plain": "(50.106458, 14.659418)     23\n(50.078784, 14.48633)      22\n(50.041711, 14.569642)     22\n(50.058553, 14.282639)     21\n(50.094149, 14.495124)     20\n(50.030721, 14.369716)     18\n(50.053638, 14.355187)     16\n(50.06744, 14.302724)      16\n(50.072871, 14.477979)     15\n(50.0585874, 14.377194)    15\ndtype: int64"
     },
     "metadata": {},
     "execution_count": 223
    }
   ],
   "source": [
    "df_test.set_index(['lat','long']).index.value_counts()"
   ]
  }
 ],
 "metadata": {
  "file_extension": ".py",
  "kernelspec": {
   "display_name": "Python 3",
   "language": "python",
   "name": "python3"
  },
  "language_info": {
   "codemirror_mode": {
    "name": "ipython",
    "version": 3
   },
   "file_extension": ".py",
   "mimetype": "text/x-python",
   "name": "python",
   "nbconvert_exporter": "python",
   "pygments_lexer": "ipython3",
   "version": "3.7.3-final"
  },
  "mimetype": "text/x-python",
  "name": "python",
  "npconvert_exporter": "python",
  "pygments_lexer": "ipython3",
  "version": 3
 },
 "nbformat": 4,
 "nbformat_minor": 4
}