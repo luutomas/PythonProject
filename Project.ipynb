{
 "cells": [
  {
   "cell_type": "code",
   "execution_count": 234,
   "metadata": {},
   "outputs": [],
   "source": [
    "import numpy as np\n",
    "import pandas as pd \n",
    "import requests\n",
    "from bs4 import BeautifulSoup\n",
    "import pandas as pd\n",
    "import tqdm as tqdm\n",
    "from lxml import html\n",
    "import time\n",
    "import itertools"
   ]
  },
  {
   "cell_type": "code",
   "execution_count": 188,
   "metadata": {},
   "outputs": [],
   "source": [
    "class HouseForSale: \n",
    "    '''\n",
    "    Getting desired infos from the webpage provided for the old format webpage - without 'nove-bydleni' string in its url\n",
    "    '''\n",
    "    def __init__(self, link):\n",
    "        '''\n",
    "        Input a link in order to extract the necessary information\n",
    "        '''\n",
    "        self.link = link\n",
    "\n",
    "    def getSoup(self):\n",
    "        r = requests.get(self.link)\n",
    "        r.encoding = 'UTF-8'\n",
    "        return BeautifulSoup(r.text, 'html')\n",
    "    \n",
    "    def getParameters(self):\n",
    "        '''\n",
    "        Get parameters such as price, disposition, the state of the house\n",
    "        '''\n",
    "        bf = self.getSoup()\n",
    "        bf_table = bf.find('div',{'data-element':\"detail-description\"}).find('table')\n",
    "        table_extract = [i.text.strip() for i in bf_table.findAll('tr')]\n",
    "        df_table = pd.DataFrame(table_extract)\n",
    "        df_table_split = df_table[0].str.split(\"\\n\", expand = True)\n",
    "        df = pd.DataFrame(df_table_split[[0,1]])\n",
    "        df.columns = ['metric', 'value']\n",
    "        df = df.set_index('metric')\n",
    "        return df\n",
    "    \n",
    "    def getMap(self):\n",
    "        '''\n",
    "        Get location of the property using embeded google maps longtitute and lattitude parameters\n",
    "        '''\n",
    "        bf = self.getSoup()\n",
    "        bf_map = bf.find('div',{'id':\"map\"})\n",
    "        x = bf_map.find('iframe')['src'].find('q=') + 2 \n",
    "        y = bf_map.find('iframe')['src'].find('&key')\n",
    "        location = bf_map.find('iframe')['src'][x:y]\n",
    "        loc_str = location.split(',')\n",
    "        loc_dict = {\"lat\" : [loc_str[0]], \"long\": [loc_str[1]]}\n",
    "        loc_df = pd.DataFrame.from_dict(loc_dict, orient = 'index', columns = ['value'])\n",
    "        return loc_df\n",
    "    \n",
    "    def getDf(self):\n",
    "        '''\n",
    "        Return a wide dataframe from getMap() and getParameters(), index = latitute and longtitude\n",
    "        '''\n",
    "        df_par = self.getParameters()\n",
    "        df_map = self.getMap()\n",
    "        df = pd.concat([df_par, df_map])\n",
    "        df = pd.melt(df.T, id_vars = ['lat','long'])\n",
    "        return df"
   ]
  },
  {
   "cell_type": "code",
   "execution_count": 368,
   "metadata": {},
   "outputs": [],
   "source": [
    "class HouseForSaleNew: #In progress\n",
    "    '''\n",
    "    Getting desired infos from the webpage provided for the new format webpage - with 'nove-bydleni' string in url\n",
    "    '''\n",
    "    def __init__(self, link):\n",
    "        '''\n",
    "        Input a link in order to extract the necessary information\n",
    "        '''\n",
    "        self.link = link\n",
    "\n",
    "    def getSoup(self):\n",
    "        r = requests.get(self.link)\n",
    "        r.encoding = 'UTF-8'\n",
    "        return BeautifulSoup(r.text, 'html')\n",
    "    \n",
    "    def getParameters(self): #Done\n",
    "        '''\n",
    "        Get parameters such as price, disposition, the state of the house\n",
    "        '''\n",
    "        bf = self.getSoup()\n",
    "        bf_table = bf.find('div', {'id':'tabInformace'}).find('table')\n",
    "        bf_table\n",
    "        table_extract  = [li.text.strip() for li in list_element.findAll('tr', {'class':'cline'})]\n",
    "        df_table = pd.DataFrame(table_extract)\n",
    "        df_table_split = df_table[0].str.split(\"\\n\", expand = True)\n",
    "        pd.DataFrame(df_table_split[[0,1]], columns = ['metric', 'value'])\n",
    "        df = pd.concat(\n",
    "                        [pd.DataFrame(np.array(df_table_split[[0,1]]), columns = ['metric', 'value']),\n",
    "                        pd.DataFrame(np.array(df_table_split[[2,3]]), columns = ['metric', 'value'])]\n",
    "                        )\n",
    "\n",
    "        return df\n",
    "    \n",
    "     #Cannot really extract the locationdef getMap(self):\n",
    "        '''\n",
    "        Get location of the property using embeded google maps longtitute and lattitude parameters\n",
    "        '''\n",
    "        bf = self.getSoup()\n",
    "        bf_map = bf.find('div',{'id':\"map\"})\n",
    "        x = bf_map.find('iframe')['src'].find('q=') + 2 \n",
    "        y = bf_map.find('iframe')['src'].find('&key')\n",
    "        location = bf_map.find('iframe')['src'][x:y]\n",
    "        loc_str = location.split(',')\n",
    "        loc_dict = {\"lat\" : [loc_str[0]], \"long\": [loc_str[1]]}\n",
    "        loc_df = pd.DataFrame.from_dict(loc_dict, orient = 'index', columns = ['value'])\n",
    "        return loc_df\n",
    "    \n",
    "    def getDf(self):\n",
    "        '''\n",
    "        Return a wide dataframe from getMap() and getParameters(), index = latitute and longtitude\n",
    "        '''\n",
    "        df_par = self.getParameters()\n",
    "        df_map = self.getMap()\n",
    "        df = pd.concat([df_par, df_map])\n",
    "        df = pd.melt(df.T, id_vars = ['lat','long'])\n",
    "        return df"
   ]
  },
  {
   "cell_type": "markdown",
   "metadata": {},
   "source": [
    "# Downloader class\n",
    "- Manual test\n",
    "- defining class\n",
    "\n",
    "## Manual test"
   ]
  },
  {
   "cell_type": "code",
   "execution_count": 12,
   "metadata": {},
   "outputs": [],
   "source": [
    "def getLinks_test(link):\n",
    "    \n",
    "    page = requests.get(link)\n",
    "    if page.status_code == requests.codes.ok:\n",
    "        wp = getSoup_test(link)\n",
    "        base_url = 'https://www.bezrealitky.cz'\n",
    "        links = wp.findAll('div', {'product__body'})\n",
    "        return [base_url + equity.find('a')['href'] for equity in links]\n",
    "\n",
    "    next_page_text = wp.find('ul', class_=\"pagination justify-content-md-end\").findAll('li')[-1].text\n",
    "\n",
    "    if next_page_text == 'Další >':\n",
    "        next_page_partial = wp.find('ul', class_=\"pagination justify-content-md-end\").findAll('li')[-1].find('a')['href']\n",
    "        next_page_url = base_url + next_page_partial\n",
    "        links = wp.findAll('div', {'product__body'})\n",
    "        return [base_url + equity.find('a')['href'] for equity in links]\n",
    "    # No more 'Next' pages, finish the script\n",
    "    else:\n",
    "        print('Done')"
   ]
  },
  {
   "cell_type": "markdown",
   "metadata": {},
   "source": [
    "## Defining class\n",
    "Manual test working - Downloader_single() working\n",
    "Pagination - Downloader_multi() work in progress"
   ]
  },
  {
   "cell_type": "code",
   "execution_count": 17,
   "metadata": {},
   "outputs": [],
   "source": [
    "class Downloader_single:\n",
    "    '''\n",
    "    Download all links real estate to initiate\n",
    "    '''\n",
    "    def __init__(self, link):\n",
    "        '''\n",
    "        Give link to extract links of given webpages\n",
    "        '''\n",
    "        self.link = link\n",
    "    \n",
    "    def getSoup(self):\n",
    "        r = requests.get(self.link)\n",
    "        r.encoding = 'UTF-8'\n",
    "        return BeautifulSoup(r.text, 'lxml')\n",
    "\n",
    "    def getLinks(self):\n",
    "        page = requests.get(self.link)\n",
    "        if page.status_code == requests.codes.ok:\n",
    "            wp = self.getSoup()\n",
    "            base_url = 'https://www.bezrealitky.cz'\n",
    "            links = wp.findAll('div', {'product__body'})\n",
    "            return [base_url + equity.find('a')['href'] for equity in links]"
   ]
  },
  {
   "cell_type": "code",
   "execution_count": 18,
   "metadata": {},
   "outputs": [
    {
     "data": {
      "text/plain": [
       "['https://www.bezrealitky.cz/nemovitosti-byty-domy/604370-nabidka-prodej-bytu-spanielova-praha',\n",
       " 'https://www.bezrealitky.cz/nemovitosti-byty-domy/596362-nabidka-prodej-bytu-merhoutova-prague',\n",
       " 'https://www.bezrealitky.cz/nemovitosti-byty-domy/604185-nabidka-prodej-bytu-ucnovska',\n",
       " 'https://www.bezrealitky.cz/nemovitosti-byty-domy/604354-nabidka-prodej-bytu-sanderova',\n",
       " 'https://www.bezrealitky.cz/nemovitosti-byty-domy/602506-nabidka-prodej-bytu-nekvasilova',\n",
       " 'https://www.bezrealitky.cz/nemovitosti-byty-domy/604357-nabidka-prodej-bytu-mantovska',\n",
       " 'https://www.bezrealitky.cz/nemovitosti-byty-domy/604332-nabidka-prodej-bytu-spanielova-praha',\n",
       " 'https://www.bezrealitky.cz/nemovitosti-byty-domy/597584-nabidka-prodej-bytu-v-remizku-praha',\n",
       " 'https://www.bezrealitky.cz/nemovitosti-byty-domy/603606-nabidka-prodej-bytu-tulesicka',\n",
       " 'https://www.bezrealitky.cz/nemovitosti-byty-domy/604353-nabidka-prodej-bytu-za-zameckem-praha']"
      ]
     },
     "execution_count": 18,
     "metadata": {},
     "output_type": "execute_result"
    }
   ],
   "source": [
    "Downloader_single('https://www.bezrealitky.cz/vypis/nabidka-prodej/byt/praha?_token=qNLlM7SSvDXIFrdOKHnbj0gv_-OMf7vw6yUc_-ILcFo&page=3').getLinks()"
   ]
  },
  {
   "cell_type": "code",
   "execution_count": 19,
   "metadata": {},
   "outputs": [],
   "source": [
    "class Downloader_multi:\n",
    "    '''\n",
    "    Download all links real estate to initiate\n",
    "    '''\n",
    "    def __init__(self, link):\n",
    "        '''\n",
    "        Give link to extract links of given webpages\n",
    "        '''\n",
    "        self.link = link\n",
    "    \n",
    "    def getSoup(self):\n",
    "        r = requests.get(self.link)\n",
    "        r.encoding = 'UTF-8'\n",
    "        return BeautifulSoup(r.text, 'lxml')\n",
    "\n",
    "    def getLinks(self):\n",
    "        page = requests.get(self.link)\n",
    "        if page.status_code == requests.codes.ok:\n",
    "            wp = self.getSoup()\n",
    "            base_url = 'https://www.bezrealitky.cz'\n",
    "            links = wp.findAll('div', {'product__body'})\n",
    "            return [base_url + equity.find('a')['href'] for equity in links]\n",
    "        \n",
    "#         if next_page_text == 'Další >':\n",
    "#             next_page_partial = wp.find('ul', class_=\"pagination justify-content-md-end\").findAll('li')[-1].find('a')['href']\n",
    "#             next_page_url = base_url + next_page_partial\n",
    "#             getLinks(next_page_url)\n",
    "#         # No more 'Next' pages, finish the script\n",
    "#         else:\n",
    "#             print('Done')\n",
    "        \n",
    "            \n",
    "        "
   ]
  },
  {
   "cell_type": "code",
   "execution_count": 20,
   "metadata": {},
   "outputs": [
    {
     "data": {
      "text/plain": [
       "[]"
      ]
     },
     "execution_count": 20,
     "metadata": {},
     "output_type": "execute_result"
    }
   ],
   "source": [
    "Downloader_single('https://www.bezrealitky.cz/vypis/nabidka-prodej/byt/praha?_token=qNLlM7SSvDXIFrdOKHnbj0gv_-OMf7vw6yUc_-ILcFo&page=63').getLinks()"
   ]
  },
  {
   "cell_type": "code",
   "execution_count": 34,
   "metadata": {},
   "outputs": [],
   "source": [
    "class Downloader_multi_byJan:\n",
    "    '''\n",
    "    Download all links real estate to initiate\n",
    "    '''\n",
    "    def __init__(self, link):\n",
    "        '''\n",
    "        Give link to extract links of given webpages\n",
    "        '''\n",
    "        self.link = link\n",
    "    \n",
    "    def getSoup(self):\n",
    "            r = requests.get(link)\n",
    "            r.encoding = 'UTF-8'\n",
    "            return BeautifulSoup(r.text, 'lxml')\n",
    "\n",
    "    def getSoupNext(link): \n",
    "            r = requests.get(link)\n",
    "            r.encoding = 'UTF-8'\n",
    "            return BeautifulSoup(r.text, 'lxml')\n",
    "\n",
    "    def getAllPages(self):    \n",
    "            wp = self.getSoup(link)\n",
    "            base_url = 'https://www.bezrealitky.cz'\n",
    "            test_element = wp.find('ul', class_=\"pagination justify-content-md-end\").find('a', rel = 'next')\n",
    "            pglinks = pd.Series(['https://www.bezrealitky.cz/vypis/nabidka-prodej/byt/praha'])\n",
    "            while test_element != None:\n",
    "                    partial_url = wp.find('ul', class_=\"pagination justify-content-md-end\").find('a', rel = 'next')['href']\n",
    "                    next_url = base_url + partial_url\n",
    "                    pglinks = pglinks.append(pd.Series([next_url]), ignore_index = True)\n",
    "                    wp_next = self.getSoupNext(next_url)\n",
    "                    test_element = wp_next.find('ul', class_=\"pagination justify-content-md-end\").find('a', rel = 'next')\n",
    "                    wp = wp_next\n",
    "            else: print(\"Loop is done\")\n",
    "            # return pglinks\n",
    "        \n",
    "    def getLinks(self):\n",
    "            page = requests.get(link)\n",
    "            if page.status_code == requests.codes.ok:\n",
    "                for pg in pglinks:\n",
    "\n",
    "                    wp = self.getSoup()\n",
    "                    base_url = 'https://www.bezrealitky.cz'\n",
    "                    eqlinks = wp.findAll('div', {'product__body'})\n",
    "                    return [base_url_prague + equity.find('a')['href'] for equity in eqlinks]\n"
   ]
  },
  {
   "cell_type": "code",
   "execution_count": 110,
   "metadata": {},
   "outputs": [],
   "source": [
    "Webpage = Downloader_multi_byJan('https://www.bezrealitky.cz/vypis/nabidka-prodej/byt/praha')"
   ]
  },
  {
   "cell_type": "markdown",
   "metadata": {},
   "source": [
    "# Class using outer function\n",
    "This class is using outside function for creating the method"
   ]
  },
  {
   "cell_type": "code",
   "execution_count": 283,
   "metadata": {},
   "outputs": [],
   "source": [
    "def getSoup(link):\n",
    "        r = requests.get(link)\n",
    "        r.encoding = 'UTF-8'\n",
    "        return BeautifulSoup(r.text, 'lxml')\n",
    "\n",
    "def getLinks(link):\n",
    "        page = requests.get(link)\n",
    "        if page.status_code == requests.codes.ok:\n",
    "            wp = getSoup(link)\n",
    "            base_url = 'https://www.bezrealitky.cz'\n",
    "            links = wp.findAll('div', {'product__body'})\n",
    "            links_list = list()\n",
    "            for equity in links:\n",
    "                    if 'https://www.bezrealitky.cz' in equity.find('a')['href']:\n",
    "                        links_list.append(equity.find('a')['href'])\n",
    "                    else: \n",
    "                        links_list.append(base_url + equity.find('a')['href'])\n",
    "        return links_list\n",
    "\n",
    "class Downloader_multi_byTiep:\n",
    "    '''\n",
    "    Download all links of real estate properties on the given website\n",
    "    '''\n",
    "    def __init__(self, link):\n",
    "        '''\n",
    "        Provide real estate webpage to extract the properties links\n",
    "        '''\n",
    "        self.link = link\n",
    "\n",
    "    def getAllPages(self):\n",
    "            '''\n",
    "            Get all possible pages from the provided website that contains links\n",
    "            '''    \n",
    "            wp = getSoup(self.link)\n",
    "            base_url = 'https://www.bezrealitky.cz'\n",
    "            test_element = wp.find('ul', class_=\"pagination justify-content-md-end\").find('a', rel = 'next')\n",
    "            links = pd.Series(['https://www.bezrealitky.cz/vypis/nabidka-prodej/byt/praha'])\n",
    "            while test_element != None:\n",
    "                    partial_url = wp.find('ul', class_=\"pagination justify-content-md-end\").find('a', rel = 'next')['href']\n",
    "                    next_url = base_url + partial_url\n",
    "                    links = links.append(pd.Series([next_url]), ignore_index = True)\n",
    "                    wp_next = getSoup(next_url)\n",
    "                    test_element = wp_next.find('ul', class_=\"pagination justify-content-md-end\").find('a', rel = 'next')\n",
    "                    wp = wp_next\n",
    "            else: print(\"Loop is done\")\n",
    "            return list(links)"
   ]
  },
  {
   "cell_type": "code",
   "execution_count": 163,
   "metadata": {},
   "outputs": [
    {
     "output_type": "stream",
     "name": "stdout",
     "text": "Loop is done\n"
    }
   ],
   "source": [
    "links_class = Downloader_multi_byTiep('https://www.bezrealitky.cz/vypis/nabidka-prodej/byt/praha').getAllPages()"
   ]
  },
  {
   "cell_type": "code",
   "execution_count": 284,
   "metadata": {},
   "outputs": [],
   "source": [
    "links_properties = [getLinks(li) for li in links_class]\n",
    "links_properties_unlist = list(itertools.chain(*links_properties))"
   ]
  },
  {
   "cell_type": "code",
   "execution_count": 285,
   "metadata": {},
   "outputs": [],
   "source": [
    "links_properties_unlist = list(itertools.chain(*links_properties))"
   ]
  },
  {
   "cell_type": "markdown",
   "metadata": {},
   "source": [
    "# Links Summary and Next steps explanation\n",
    "There are two types of links provided by bezrealitky.cz. New format and old format. For each type it is essential to write a class that will extract the needed data properly. For now, we have for the old format. "
   ]
  },
  {
   "cell_type": "code",
   "execution_count": 308,
   "metadata": {},
   "outputs": [],
   "source": [
    "links_properties_unlist_old = [li for li in links_properties_unlist if 'nove-bydleni' not in li]\n",
    "links_properties_unlist_new = [li for li in links_properties_unlist if 'nove-bydleni' in li]\n",
    "print(np.shape(links_properties_unlist_old))\n",
    "print(np.shape(links_properties_unlist_new))\n",
    "print(np.shape(links_properties_unlist))"
   ]
  },
  {
   "cell_type": "code",
   "execution_count": 310,
   "metadata": {},
   "outputs": [],
   "source": [
    "df_complete_sale = pd.DataFrame()\n",
    "for li in links_properties_unlist_old:\n",
    "    df_unit = HouseForSale(li).getDf()\n",
    "    df_complete_sale = pd.concat([df_complete_sale, df_unit])"
   ]
  },
  {
   "cell_type": "code",
   "execution_count": 311,
   "metadata": {},
   "outputs": [
    {
     "output_type": "execute_result",
     "data": {
      "text/plain": "           lat        long               variable  \\\n0    50.024932   14.451379              Internet:   \n1    50.024932   14.451379        Číslo inzerátu:   \n2    50.024932   14.451379             Dispozice:   \n3    50.024932   14.451379                Plocha:   \n4    50.024932   14.451379                  Cena:   \n5    50.024932   14.451379                 Město:   \n6    50.024932   14.451379          Městská část:   \n7    50.024932   14.451379       Typ vlastnictví:   \n8    50.024932   14.451379            Typ budovy:   \n9    50.024932   14.451379                  PENB:   \n10   50.024932   14.451379            Vybavenost:   \n11   50.024932   14.451379               Podlaží:   \n12   50.024932   14.451379                Balkón:   \n13   50.024932   14.451379                Terasa:   \n14   50.024932   14.451379                 Výtah:   \n15   50.024932   14.451379                 Garáž:   \n16   50.024932   14.451379        K dispozici od:   \n0   50.0684925   14.438051              Internet:   \n1   50.0684925   14.438051        Číslo inzerátu:   \n2   50.0684925   14.438051             Dispozice:   \n3   50.0684925   14.438051                Plocha:   \n4   50.0684925   14.438051                  Cena:   \n5   50.0684925   14.438051                 Město:   \n6   50.0684925   14.438051          Městská část:   \n7   50.0684925   14.438051       Typ vlastnictví:   \n8   50.0684925   14.438051            Typ budovy:   \n9   50.0684925   14.438051                  PENB:   \n10  50.0684925   14.438051            Vybavenost:   \n11  50.0684925   14.438051               Podlaží:   \n12  50.0684925   14.438051                Balkón:   \n..         ...         ...                    ...   \n8   50.0830689  14.4668702            Typ budovy:   \n9   50.0830689  14.4668702            Novostavba:   \n10  50.0830689  14.4668702                  PENB:   \n11  50.0830689  14.4668702            Vybavenost:   \n12  50.0830689  14.4668702               Podlaží:   \n13  50.0830689  14.4668702                Balkón:   \n14  50.0830689  14.4668702                Terasa:   \n15  50.0830689  14.4668702                 Výtah:   \n16  50.0830689  14.4668702                 Garáž:   \n17  50.0830689  14.4668702        K dispozici od:   \n18  50.0830689  14.4668702                 Stáří:   \n19  50.0830689  14.4668702             Provedení:   \n20  50.0830689  14.4668702          Typ vytápění:   \n21  50.0830689  14.4668702  Podlaží v rámci domu:   \n22  50.0830689  14.4668702          Rekonstrukce:   \n0   50.0170881  14.5842862              Internet:   \n1   50.0170881  14.5842862        Číslo inzerátu:   \n2   50.0170881  14.5842862             Dispozice:   \n3   50.0170881  14.5842862                Plocha:   \n4   50.0170881  14.5842862                  Cena:   \n5   50.0170881  14.5842862                 Město:   \n6   50.0170881  14.5842862          Městská část:   \n7   50.0170881  14.5842862       Typ vlastnictví:   \n8   50.0170881  14.5842862            Typ budovy:   \n9   50.0170881  14.5842862            Vybavenost:   \n10  50.0170881  14.5842862               Podlaží:   \n11  50.0170881  14.5842862                Balkón:   \n12  50.0170881  14.5842862                Terasa:   \n13  50.0170881  14.5842862                 Výtah:   \n14  50.0170881  14.5842862                 Garáž:   \n\n                                                value  \n0                                                      \n1                                              603779  \n2                                          Garsoniéra  \n3                                               19 m²  \n4                                        2.150.000 Kč  \n5                                               Praha  \n6                                              Lhotka  \n7                                              Osobní  \n8                                               Panel  \n9                                                   G  \n10                                           Vybavený  \n11                                                  6  \n12                                                 Ne  \n13                                                 Ne  \n14                                                Ano  \n15                                                 Ne  \n16                                         01.06.2020  \n0                                                      \n1                                              552708  \n2                                                2+kk  \n3                                               37 m²  \n4                                        5.483.000 Kč  \n5                                               Praha  \n6                                           Vinohrady  \n7                                              Osobní  \n8                                               Cihla  \n9                                                   C  \n10                                         Nevybavený  \n11                                                  3  \n12                                                 Ne  \n..                                                ...  \n8                                    Nízkoenergetický  \n9                                                 Ano  \n10                                                  A  \n11                                           Vybavený  \n12                                                  2  \n13                                                Ano  \n14                                                Ano  \n15                                                Ano  \n16                                                Ano  \n17                                         01.05.2020  \n18                                             1 - 10  \n19  nadstandardní: nadstandardní použité materiály...  \n20                                   ústřední dálkové  \n21                      první až předposlední podlaží  \n22                                                vše  \n0                                                      \n1                                              364496  \n2                                                2+kk  \n3                                               59 m²  \n4                                        4.990.000 Kč  \n5                                               Praha  \n6                                           Pitkovice  \n7                                              Osobní  \n8                                               Cihla  \n9                                            Vybavený  \n10                                                  4  \n11                                                 Ne  \n12                                                 Ne  \n13                                                 Ne  \n14                                                 Ne  \n\n[8236 rows x 4 columns]",
      "text/html": "<div>\n<style scoped>\n    .dataframe tbody tr th:only-of-type {\n        vertical-align: middle;\n    }\n\n    .dataframe tbody tr th {\n        vertical-align: top;\n    }\n\n    .dataframe thead th {\n        text-align: right;\n    }\n</style>\n<table border=\"1\" class=\"dataframe\">\n  <thead>\n    <tr style=\"text-align: right;\">\n      <th></th>\n      <th>lat</th>\n      <th>long</th>\n      <th>variable</th>\n      <th>value</th>\n    </tr>\n  </thead>\n  <tbody>\n    <tr>\n      <th>0</th>\n      <td>50.024932</td>\n      <td>14.451379</td>\n      <td>Internet:</td>\n      <td></td>\n    </tr>\n    <tr>\n      <th>1</th>\n      <td>50.024932</td>\n      <td>14.451379</td>\n      <td>Číslo inzerátu:</td>\n      <td>603779</td>\n    </tr>\n    <tr>\n      <th>2</th>\n      <td>50.024932</td>\n      <td>14.451379</td>\n      <td>Dispozice:</td>\n      <td>Garsoniéra</td>\n    </tr>\n    <tr>\n      <th>3</th>\n      <td>50.024932</td>\n      <td>14.451379</td>\n      <td>Plocha:</td>\n      <td>19 m²</td>\n    </tr>\n    <tr>\n      <th>4</th>\n      <td>50.024932</td>\n      <td>14.451379</td>\n      <td>Cena:</td>\n      <td>2.150.000 Kč</td>\n    </tr>\n    <tr>\n      <th>5</th>\n      <td>50.024932</td>\n      <td>14.451379</td>\n      <td>Město:</td>\n      <td>Praha</td>\n    </tr>\n    <tr>\n      <th>6</th>\n      <td>50.024932</td>\n      <td>14.451379</td>\n      <td>Městská část:</td>\n      <td>Lhotka</td>\n    </tr>\n    <tr>\n      <th>7</th>\n      <td>50.024932</td>\n      <td>14.451379</td>\n      <td>Typ vlastnictví:</td>\n      <td>Osobní</td>\n    </tr>\n    <tr>\n      <th>8</th>\n      <td>50.024932</td>\n      <td>14.451379</td>\n      <td>Typ budovy:</td>\n      <td>Panel</td>\n    </tr>\n    <tr>\n      <th>9</th>\n      <td>50.024932</td>\n      <td>14.451379</td>\n      <td>PENB:</td>\n      <td>G</td>\n    </tr>\n    <tr>\n      <th>10</th>\n      <td>50.024932</td>\n      <td>14.451379</td>\n      <td>Vybavenost:</td>\n      <td>Vybavený</td>\n    </tr>\n    <tr>\n      <th>11</th>\n      <td>50.024932</td>\n      <td>14.451379</td>\n      <td>Podlaží:</td>\n      <td>6</td>\n    </tr>\n    <tr>\n      <th>12</th>\n      <td>50.024932</td>\n      <td>14.451379</td>\n      <td>Balkón:</td>\n      <td>Ne</td>\n    </tr>\n    <tr>\n      <th>13</th>\n      <td>50.024932</td>\n      <td>14.451379</td>\n      <td>Terasa:</td>\n      <td>Ne</td>\n    </tr>\n    <tr>\n      <th>14</th>\n      <td>50.024932</td>\n      <td>14.451379</td>\n      <td>Výtah:</td>\n      <td>Ano</td>\n    </tr>\n    <tr>\n      <th>15</th>\n      <td>50.024932</td>\n      <td>14.451379</td>\n      <td>Garáž:</td>\n      <td>Ne</td>\n    </tr>\n    <tr>\n      <th>16</th>\n      <td>50.024932</td>\n      <td>14.451379</td>\n      <td>K dispozici od:</td>\n      <td>01.06.2020</td>\n    </tr>\n    <tr>\n      <th>0</th>\n      <td>50.0684925</td>\n      <td>14.438051</td>\n      <td>Internet:</td>\n      <td></td>\n    </tr>\n    <tr>\n      <th>1</th>\n      <td>50.0684925</td>\n      <td>14.438051</td>\n      <td>Číslo inzerátu:</td>\n      <td>552708</td>\n    </tr>\n    <tr>\n      <th>2</th>\n      <td>50.0684925</td>\n      <td>14.438051</td>\n      <td>Dispozice:</td>\n      <td>2+kk</td>\n    </tr>\n    <tr>\n      <th>3</th>\n      <td>50.0684925</td>\n      <td>14.438051</td>\n      <td>Plocha:</td>\n      <td>37 m²</td>\n    </tr>\n    <tr>\n      <th>4</th>\n      <td>50.0684925</td>\n      <td>14.438051</td>\n      <td>Cena:</td>\n      <td>5.483.000 Kč</td>\n    </tr>\n    <tr>\n      <th>5</th>\n      <td>50.0684925</td>\n      <td>14.438051</td>\n      <td>Město:</td>\n      <td>Praha</td>\n    </tr>\n    <tr>\n      <th>6</th>\n      <td>50.0684925</td>\n      <td>14.438051</td>\n      <td>Městská část:</td>\n      <td>Vinohrady</td>\n    </tr>\n    <tr>\n      <th>7</th>\n      <td>50.0684925</td>\n      <td>14.438051</td>\n      <td>Typ vlastnictví:</td>\n      <td>Osobní</td>\n    </tr>\n    <tr>\n      <th>8</th>\n      <td>50.0684925</td>\n      <td>14.438051</td>\n      <td>Typ budovy:</td>\n      <td>Cihla</td>\n    </tr>\n    <tr>\n      <th>9</th>\n      <td>50.0684925</td>\n      <td>14.438051</td>\n      <td>PENB:</td>\n      <td>C</td>\n    </tr>\n    <tr>\n      <th>10</th>\n      <td>50.0684925</td>\n      <td>14.438051</td>\n      <td>Vybavenost:</td>\n      <td>Nevybavený</td>\n    </tr>\n    <tr>\n      <th>11</th>\n      <td>50.0684925</td>\n      <td>14.438051</td>\n      <td>Podlaží:</td>\n      <td>3</td>\n    </tr>\n    <tr>\n      <th>12</th>\n      <td>50.0684925</td>\n      <td>14.438051</td>\n      <td>Balkón:</td>\n      <td>Ne</td>\n    </tr>\n    <tr>\n      <th>...</th>\n      <td>...</td>\n      <td>...</td>\n      <td>...</td>\n      <td>...</td>\n    </tr>\n    <tr>\n      <th>8</th>\n      <td>50.0830689</td>\n      <td>14.4668702</td>\n      <td>Typ budovy:</td>\n      <td>Nízkoenergetický</td>\n    </tr>\n    <tr>\n      <th>9</th>\n      <td>50.0830689</td>\n      <td>14.4668702</td>\n      <td>Novostavba:</td>\n      <td>Ano</td>\n    </tr>\n    <tr>\n      <th>10</th>\n      <td>50.0830689</td>\n      <td>14.4668702</td>\n      <td>PENB:</td>\n      <td>A</td>\n    </tr>\n    <tr>\n      <th>11</th>\n      <td>50.0830689</td>\n      <td>14.4668702</td>\n      <td>Vybavenost:</td>\n      <td>Vybavený</td>\n    </tr>\n    <tr>\n      <th>12</th>\n      <td>50.0830689</td>\n      <td>14.4668702</td>\n      <td>Podlaží:</td>\n      <td>2</td>\n    </tr>\n    <tr>\n      <th>13</th>\n      <td>50.0830689</td>\n      <td>14.4668702</td>\n      <td>Balkón:</td>\n      <td>Ano</td>\n    </tr>\n    <tr>\n      <th>14</th>\n      <td>50.0830689</td>\n      <td>14.4668702</td>\n      <td>Terasa:</td>\n      <td>Ano</td>\n    </tr>\n    <tr>\n      <th>15</th>\n      <td>50.0830689</td>\n      <td>14.4668702</td>\n      <td>Výtah:</td>\n      <td>Ano</td>\n    </tr>\n    <tr>\n      <th>16</th>\n      <td>50.0830689</td>\n      <td>14.4668702</td>\n      <td>Garáž:</td>\n      <td>Ano</td>\n    </tr>\n    <tr>\n      <th>17</th>\n      <td>50.0830689</td>\n      <td>14.4668702</td>\n      <td>K dispozici od:</td>\n      <td>01.05.2020</td>\n    </tr>\n    <tr>\n      <th>18</th>\n      <td>50.0830689</td>\n      <td>14.4668702</td>\n      <td>Stáří:</td>\n      <td>1 - 10</td>\n    </tr>\n    <tr>\n      <th>19</th>\n      <td>50.0830689</td>\n      <td>14.4668702</td>\n      <td>Provedení:</td>\n      <td>nadstandardní: nadstandardní použité materiály...</td>\n    </tr>\n    <tr>\n      <th>20</th>\n      <td>50.0830689</td>\n      <td>14.4668702</td>\n      <td>Typ vytápění:</td>\n      <td>ústřední dálkové</td>\n    </tr>\n    <tr>\n      <th>21</th>\n      <td>50.0830689</td>\n      <td>14.4668702</td>\n      <td>Podlaží v rámci domu:</td>\n      <td>první až předposlední podlaží</td>\n    </tr>\n    <tr>\n      <th>22</th>\n      <td>50.0830689</td>\n      <td>14.4668702</td>\n      <td>Rekonstrukce:</td>\n      <td>vše</td>\n    </tr>\n    <tr>\n      <th>0</th>\n      <td>50.0170881</td>\n      <td>14.5842862</td>\n      <td>Internet:</td>\n      <td></td>\n    </tr>\n    <tr>\n      <th>1</th>\n      <td>50.0170881</td>\n      <td>14.5842862</td>\n      <td>Číslo inzerátu:</td>\n      <td>364496</td>\n    </tr>\n    <tr>\n      <th>2</th>\n      <td>50.0170881</td>\n      <td>14.5842862</td>\n      <td>Dispozice:</td>\n      <td>2+kk</td>\n    </tr>\n    <tr>\n      <th>3</th>\n      <td>50.0170881</td>\n      <td>14.5842862</td>\n      <td>Plocha:</td>\n      <td>59 m²</td>\n    </tr>\n    <tr>\n      <th>4</th>\n      <td>50.0170881</td>\n      <td>14.5842862</td>\n      <td>Cena:</td>\n      <td>4.990.000 Kč</td>\n    </tr>\n    <tr>\n      <th>5</th>\n      <td>50.0170881</td>\n      <td>14.5842862</td>\n      <td>Město:</td>\n      <td>Praha</td>\n    </tr>\n    <tr>\n      <th>6</th>\n      <td>50.0170881</td>\n      <td>14.5842862</td>\n      <td>Městská část:</td>\n      <td>Pitkovice</td>\n    </tr>\n    <tr>\n      <th>7</th>\n      <td>50.0170881</td>\n      <td>14.5842862</td>\n      <td>Typ vlastnictví:</td>\n      <td>Osobní</td>\n    </tr>\n    <tr>\n      <th>8</th>\n      <td>50.0170881</td>\n      <td>14.5842862</td>\n      <td>Typ budovy:</td>\n      <td>Cihla</td>\n    </tr>\n    <tr>\n      <th>9</th>\n      <td>50.0170881</td>\n      <td>14.5842862</td>\n      <td>Vybavenost:</td>\n      <td>Vybavený</td>\n    </tr>\n    <tr>\n      <th>10</th>\n      <td>50.0170881</td>\n      <td>14.5842862</td>\n      <td>Podlaží:</td>\n      <td>4</td>\n    </tr>\n    <tr>\n      <th>11</th>\n      <td>50.0170881</td>\n      <td>14.5842862</td>\n      <td>Balkón:</td>\n      <td>Ne</td>\n    </tr>\n    <tr>\n      <th>12</th>\n      <td>50.0170881</td>\n      <td>14.5842862</td>\n      <td>Terasa:</td>\n      <td>Ne</td>\n    </tr>\n    <tr>\n      <th>13</th>\n      <td>50.0170881</td>\n      <td>14.5842862</td>\n      <td>Výtah:</td>\n      <td>Ne</td>\n    </tr>\n    <tr>\n      <th>14</th>\n      <td>50.0170881</td>\n      <td>14.5842862</td>\n      <td>Garáž:</td>\n      <td>Ne</td>\n    </tr>\n  </tbody>\n</table>\n<p>8236 rows × 4 columns</p>\n</div>"
     },
     "metadata": {},
     "execution_count": 311
    }
   ],
   "source": [
    "df_complete_sale"
   ]
  },
  {
   "cell_type": "code",
   "execution_count": 370,
   "metadata": {},
   "outputs": [
    {
     "output_type": "execute_result",
     "data": {
      "text/plain": "           lat        long          variable       value\n0   50.0825271  14.4562782         Internet:            \n1   50.0825271  14.4562782   Číslo inzerátu:      509005\n2   50.0825271  14.4562782        Dispozice:        1+kk\n3   50.0825271  14.4562782           Plocha:       33 m²\n4   50.0825271  14.4562782             Cena:   11.500 Kč\n5   50.0825271  14.4562782         Poplatky:    3.000 Kč\n6   50.0825271  14.4562782     Vratná kauce:   14.500 Kč\n7   50.0825271  14.4562782            Město:       Praha\n8   50.0825271  14.4562782     Městská část:      Žižkov\n9   50.0825271  14.4562782  Typ vlastnictví:      Osobní\n10  50.0825271  14.4562782       Typ budovy:       Cihla\n11  50.0825271  14.4562782       Vybavenost:    Částečně\n12  50.0825271  14.4562782          Podlaží:           2\n13  50.0825271  14.4562782           Balkón:          Ne\n14  50.0825271  14.4562782           Terasa:          Ne\n15  50.0825271  14.4562782            Výtah:          Ne\n16  50.0825271  14.4562782            Garáž:          Ne\n17  50.0825271  14.4562782   K dispozici od:  24.04.2020",
      "text/html": "<div>\n<style scoped>\n    .dataframe tbody tr th:only-of-type {\n        vertical-align: middle;\n    }\n\n    .dataframe tbody tr th {\n        vertical-align: top;\n    }\n\n    .dataframe thead th {\n        text-align: right;\n    }\n</style>\n<table border=\"1\" class=\"dataframe\">\n  <thead>\n    <tr style=\"text-align: right;\">\n      <th></th>\n      <th>lat</th>\n      <th>long</th>\n      <th>variable</th>\n      <th>value</th>\n    </tr>\n  </thead>\n  <tbody>\n    <tr>\n      <th>0</th>\n      <td>50.0825271</td>\n      <td>14.4562782</td>\n      <td>Internet:</td>\n      <td></td>\n    </tr>\n    <tr>\n      <th>1</th>\n      <td>50.0825271</td>\n      <td>14.4562782</td>\n      <td>Číslo inzerátu:</td>\n      <td>509005</td>\n    </tr>\n    <tr>\n      <th>2</th>\n      <td>50.0825271</td>\n      <td>14.4562782</td>\n      <td>Dispozice:</td>\n      <td>1+kk</td>\n    </tr>\n    <tr>\n      <th>3</th>\n      <td>50.0825271</td>\n      <td>14.4562782</td>\n      <td>Plocha:</td>\n      <td>33 m²</td>\n    </tr>\n    <tr>\n      <th>4</th>\n      <td>50.0825271</td>\n      <td>14.4562782</td>\n      <td>Cena:</td>\n      <td>11.500 Kč</td>\n    </tr>\n    <tr>\n      <th>5</th>\n      <td>50.0825271</td>\n      <td>14.4562782</td>\n      <td>Poplatky:</td>\n      <td>3.000 Kč</td>\n    </tr>\n    <tr>\n      <th>6</th>\n      <td>50.0825271</td>\n      <td>14.4562782</td>\n      <td>Vratná kauce:</td>\n      <td>14.500 Kč</td>\n    </tr>\n    <tr>\n      <th>7</th>\n      <td>50.0825271</td>\n      <td>14.4562782</td>\n      <td>Město:</td>\n      <td>Praha</td>\n    </tr>\n    <tr>\n      <th>8</th>\n      <td>50.0825271</td>\n      <td>14.4562782</td>\n      <td>Městská část:</td>\n      <td>Žižkov</td>\n    </tr>\n    <tr>\n      <th>9</th>\n      <td>50.0825271</td>\n      <td>14.4562782</td>\n      <td>Typ vlastnictví:</td>\n      <td>Osobní</td>\n    </tr>\n    <tr>\n      <th>10</th>\n      <td>50.0825271</td>\n      <td>14.4562782</td>\n      <td>Typ budovy:</td>\n      <td>Cihla</td>\n    </tr>\n    <tr>\n      <th>11</th>\n      <td>50.0825271</td>\n      <td>14.4562782</td>\n      <td>Vybavenost:</td>\n      <td>Částečně</td>\n    </tr>\n    <tr>\n      <th>12</th>\n      <td>50.0825271</td>\n      <td>14.4562782</td>\n      <td>Podlaží:</td>\n      <td>2</td>\n    </tr>\n    <tr>\n      <th>13</th>\n      <td>50.0825271</td>\n      <td>14.4562782</td>\n      <td>Balkón:</td>\n      <td>Ne</td>\n    </tr>\n    <tr>\n      <th>14</th>\n      <td>50.0825271</td>\n      <td>14.4562782</td>\n      <td>Terasa:</td>\n      <td>Ne</td>\n    </tr>\n    <tr>\n      <th>15</th>\n      <td>50.0825271</td>\n      <td>14.4562782</td>\n      <td>Výtah:</td>\n      <td>Ne</td>\n    </tr>\n    <tr>\n      <th>16</th>\n      <td>50.0825271</td>\n      <td>14.4562782</td>\n      <td>Garáž:</td>\n      <td>Ne</td>\n    </tr>\n    <tr>\n      <th>17</th>\n      <td>50.0825271</td>\n      <td>14.4562782</td>\n      <td>K dispozici od:</td>\n      <td>24.04.2020</td>\n    </tr>\n  </tbody>\n</table>\n</div>"
     },
     "metadata": {},
     "execution_count": 370
    }
   ],
   "source": [
    "HouseForSale('https://www.bezrealitky.cz/nemovitosti-byty-domy/509005-nabidka-pronajem-bytu-taboritska-praha-3').getDf()"
   ]
  },
  {
   "cell_type": "code",
   "execution_count": 372,
   "metadata": {},
   "outputs": [
    {
     "output_type": "stream",
     "name": "stdout",
     "text": "Loop is done\n"
    }
   ],
   "source": [
    "links_class_rent = Downloader_multi_byTiep('https://www.bezrealitky.cz/vypis/nabidka-pronajem/byt/praha').getAllPages()"
   ]
  },
  {
   "cell_type": "code",
   "execution_count": 388,
   "metadata": {},
   "outputs": [
    {
     "output_type": "error",
     "ename": "KeyboardInterrupt",
     "evalue": "",
     "traceback": [
      "\u001b[0;31m---------------------------------------------------------------------------\u001b[0m",
      "\u001b[0;31mTypeError\u001b[0m                                 Traceback (most recent call last)",
      "\u001b[0;32m~/anaconda3/lib/python3.7/site-packages/urllib3/connectionpool.py\u001b[0m in \u001b[0;36m_make_request\u001b[0;34m(self, conn, method, url, timeout, chunked, **httplib_request_kw)\u001b[0m\n\u001b[1;32m    376\u001b[0m             \u001b[0;32mtry\u001b[0m\u001b[0;34m:\u001b[0m  \u001b[0;31m# Python 2.7, use buffering of HTTP responses\u001b[0m\u001b[0;34m\u001b[0m\u001b[0;34m\u001b[0m\u001b[0m\n\u001b[0;32m--> 377\u001b[0;31m                 \u001b[0mhttplib_response\u001b[0m \u001b[0;34m=\u001b[0m \u001b[0mconn\u001b[0m\u001b[0;34m.\u001b[0m\u001b[0mgetresponse\u001b[0m\u001b[0;34m(\u001b[0m\u001b[0mbuffering\u001b[0m\u001b[0;34m=\u001b[0m\u001b[0;32mTrue\u001b[0m\u001b[0;34m)\u001b[0m\u001b[0;34m\u001b[0m\u001b[0;34m\u001b[0m\u001b[0m\n\u001b[0m\u001b[1;32m    378\u001b[0m             \u001b[0;32mexcept\u001b[0m \u001b[0mTypeError\u001b[0m\u001b[0;34m:\u001b[0m  \u001b[0;31m# Python 3\u001b[0m\u001b[0;34m\u001b[0m\u001b[0;34m\u001b[0m\u001b[0m\n",
      "\u001b[0;31mTypeError\u001b[0m: getresponse() got an unexpected keyword argument 'buffering'",
      "\nDuring handling of the above exception, another exception occurred:\n",
      "\u001b[0;31mKeyboardInterrupt\u001b[0m                         Traceback (most recent call last)",
      "\u001b[0;32m<ipython-input-388-f384d47d2c27>\u001b[0m in \u001b[0;36m<module>\u001b[0;34m\u001b[0m\n\u001b[0;32m----> 1\u001b[0;31m \u001b[0mlinks_properties_rent\u001b[0m \u001b[0;34m=\u001b[0m \u001b[0;34m[\u001b[0m\u001b[0mgetLinks\u001b[0m\u001b[0;34m(\u001b[0m\u001b[0mli\u001b[0m\u001b[0;34m)\u001b[0m \u001b[0;32mfor\u001b[0m \u001b[0mli\u001b[0m \u001b[0;32min\u001b[0m \u001b[0mlinks_class\u001b[0m\u001b[0;34m]\u001b[0m\u001b[0;34m\u001b[0m\u001b[0;34m\u001b[0m\u001b[0m\n\u001b[0m\u001b[1;32m      2\u001b[0m \u001b[0mlinks_properties_rent_unlist\u001b[0m \u001b[0;34m=\u001b[0m \u001b[0mlist\u001b[0m\u001b[0;34m(\u001b[0m\u001b[0mitertools\u001b[0m\u001b[0;34m.\u001b[0m\u001b[0mchain\u001b[0m\u001b[0;34m(\u001b[0m\u001b[0;34m*\u001b[0m\u001b[0mlinks_properties_rent\u001b[0m\u001b[0;34m)\u001b[0m\u001b[0;34m)\u001b[0m\u001b[0;34m\u001b[0m\u001b[0;34m\u001b[0m\u001b[0m\n",
      "\u001b[0;32m<ipython-input-388-f384d47d2c27>\u001b[0m in \u001b[0;36m<listcomp>\u001b[0;34m(.0)\u001b[0m\n\u001b[0;32m----> 1\u001b[0;31m \u001b[0mlinks_properties_rent\u001b[0m \u001b[0;34m=\u001b[0m \u001b[0;34m[\u001b[0m\u001b[0mgetLinks\u001b[0m\u001b[0;34m(\u001b[0m\u001b[0mli\u001b[0m\u001b[0;34m)\u001b[0m \u001b[0;32mfor\u001b[0m \u001b[0mli\u001b[0m \u001b[0;32min\u001b[0m \u001b[0mlinks_class\u001b[0m\u001b[0;34m]\u001b[0m\u001b[0;34m\u001b[0m\u001b[0;34m\u001b[0m\u001b[0m\n\u001b[0m\u001b[1;32m      2\u001b[0m \u001b[0mlinks_properties_rent_unlist\u001b[0m \u001b[0;34m=\u001b[0m \u001b[0mlist\u001b[0m\u001b[0;34m(\u001b[0m\u001b[0mitertools\u001b[0m\u001b[0;34m.\u001b[0m\u001b[0mchain\u001b[0m\u001b[0;34m(\u001b[0m\u001b[0;34m*\u001b[0m\u001b[0mlinks_properties_rent\u001b[0m\u001b[0;34m)\u001b[0m\u001b[0;34m)\u001b[0m\u001b[0;34m\u001b[0m\u001b[0;34m\u001b[0m\u001b[0m\n",
      "\u001b[0;32m<ipython-input-283-628e2adbdf70>\u001b[0m in \u001b[0;36mgetLinks\u001b[0;34m(link)\u001b[0m\n\u001b[1;32m      7\u001b[0m         \u001b[0mpage\u001b[0m \u001b[0;34m=\u001b[0m \u001b[0mrequests\u001b[0m\u001b[0;34m.\u001b[0m\u001b[0mget\u001b[0m\u001b[0;34m(\u001b[0m\u001b[0mlink\u001b[0m\u001b[0;34m)\u001b[0m\u001b[0;34m\u001b[0m\u001b[0;34m\u001b[0m\u001b[0m\n\u001b[1;32m      8\u001b[0m         \u001b[0;32mif\u001b[0m \u001b[0mpage\u001b[0m\u001b[0;34m.\u001b[0m\u001b[0mstatus_code\u001b[0m \u001b[0;34m==\u001b[0m \u001b[0mrequests\u001b[0m\u001b[0;34m.\u001b[0m\u001b[0mcodes\u001b[0m\u001b[0;34m.\u001b[0m\u001b[0mok\u001b[0m\u001b[0;34m:\u001b[0m\u001b[0;34m\u001b[0m\u001b[0;34m\u001b[0m\u001b[0m\n\u001b[0;32m----> 9\u001b[0;31m             \u001b[0mwp\u001b[0m \u001b[0;34m=\u001b[0m \u001b[0mgetSoup\u001b[0m\u001b[0;34m(\u001b[0m\u001b[0mlink\u001b[0m\u001b[0;34m)\u001b[0m\u001b[0;34m\u001b[0m\u001b[0;34m\u001b[0m\u001b[0m\n\u001b[0m\u001b[1;32m     10\u001b[0m             \u001b[0mbase_url\u001b[0m \u001b[0;34m=\u001b[0m \u001b[0;34m'https://www.bezrealitky.cz'\u001b[0m\u001b[0;34m\u001b[0m\u001b[0;34m\u001b[0m\u001b[0m\n\u001b[1;32m     11\u001b[0m             \u001b[0mlinks\u001b[0m \u001b[0;34m=\u001b[0m \u001b[0mwp\u001b[0m\u001b[0;34m.\u001b[0m\u001b[0mfindAll\u001b[0m\u001b[0;34m(\u001b[0m\u001b[0;34m'div'\u001b[0m\u001b[0;34m,\u001b[0m \u001b[0;34m{\u001b[0m\u001b[0;34m'product__body'\u001b[0m\u001b[0;34m}\u001b[0m\u001b[0;34m)\u001b[0m\u001b[0;34m\u001b[0m\u001b[0;34m\u001b[0m\u001b[0m\n",
      "\u001b[0;32m<ipython-input-283-628e2adbdf70>\u001b[0m in \u001b[0;36mgetSoup\u001b[0;34m(link)\u001b[0m\n\u001b[1;32m      1\u001b[0m \u001b[0;32mdef\u001b[0m \u001b[0mgetSoup\u001b[0m\u001b[0;34m(\u001b[0m\u001b[0mlink\u001b[0m\u001b[0;34m)\u001b[0m\u001b[0;34m:\u001b[0m\u001b[0;34m\u001b[0m\u001b[0;34m\u001b[0m\u001b[0m\n\u001b[0;32m----> 2\u001b[0;31m         \u001b[0mr\u001b[0m \u001b[0;34m=\u001b[0m \u001b[0mrequests\u001b[0m\u001b[0;34m.\u001b[0m\u001b[0mget\u001b[0m\u001b[0;34m(\u001b[0m\u001b[0mlink\u001b[0m\u001b[0;34m)\u001b[0m\u001b[0;34m\u001b[0m\u001b[0;34m\u001b[0m\u001b[0m\n\u001b[0m\u001b[1;32m      3\u001b[0m         \u001b[0mr\u001b[0m\u001b[0;34m.\u001b[0m\u001b[0mencoding\u001b[0m \u001b[0;34m=\u001b[0m \u001b[0;34m'UTF-8'\u001b[0m\u001b[0;34m\u001b[0m\u001b[0;34m\u001b[0m\u001b[0m\n\u001b[1;32m      4\u001b[0m         \u001b[0;32mreturn\u001b[0m \u001b[0mBeautifulSoup\u001b[0m\u001b[0;34m(\u001b[0m\u001b[0mr\u001b[0m\u001b[0;34m.\u001b[0m\u001b[0mtext\u001b[0m\u001b[0;34m,\u001b[0m \u001b[0;34m'lxml'\u001b[0m\u001b[0;34m)\u001b[0m\u001b[0;34m\u001b[0m\u001b[0;34m\u001b[0m\u001b[0m\n\u001b[1;32m      5\u001b[0m \u001b[0;34m\u001b[0m\u001b[0m\n",
      "\u001b[0;32m~/anaconda3/lib/python3.7/site-packages/requests/api.py\u001b[0m in \u001b[0;36mget\u001b[0;34m(url, params, **kwargs)\u001b[0m\n\u001b[1;32m     73\u001b[0m \u001b[0;34m\u001b[0m\u001b[0m\n\u001b[1;32m     74\u001b[0m     \u001b[0mkwargs\u001b[0m\u001b[0;34m.\u001b[0m\u001b[0msetdefault\u001b[0m\u001b[0;34m(\u001b[0m\u001b[0;34m'allow_redirects'\u001b[0m\u001b[0;34m,\u001b[0m \u001b[0;32mTrue\u001b[0m\u001b[0;34m)\u001b[0m\u001b[0;34m\u001b[0m\u001b[0;34m\u001b[0m\u001b[0m\n\u001b[0;32m---> 75\u001b[0;31m     \u001b[0;32mreturn\u001b[0m \u001b[0mrequest\u001b[0m\u001b[0;34m(\u001b[0m\u001b[0;34m'get'\u001b[0m\u001b[0;34m,\u001b[0m \u001b[0murl\u001b[0m\u001b[0;34m,\u001b[0m \u001b[0mparams\u001b[0m\u001b[0;34m=\u001b[0m\u001b[0mparams\u001b[0m\u001b[0;34m,\u001b[0m \u001b[0;34m**\u001b[0m\u001b[0mkwargs\u001b[0m\u001b[0;34m)\u001b[0m\u001b[0;34m\u001b[0m\u001b[0;34m\u001b[0m\u001b[0m\n\u001b[0m\u001b[1;32m     76\u001b[0m \u001b[0;34m\u001b[0m\u001b[0m\n\u001b[1;32m     77\u001b[0m \u001b[0;34m\u001b[0m\u001b[0m\n",
      "\u001b[0;32m~/anaconda3/lib/python3.7/site-packages/requests/api.py\u001b[0m in \u001b[0;36mrequest\u001b[0;34m(method, url, **kwargs)\u001b[0m\n\u001b[1;32m     58\u001b[0m     \u001b[0;31m# cases, and look like a memory leak in others.\u001b[0m\u001b[0;34m\u001b[0m\u001b[0;34m\u001b[0m\u001b[0;34m\u001b[0m\u001b[0m\n\u001b[1;32m     59\u001b[0m     \u001b[0;32mwith\u001b[0m \u001b[0msessions\u001b[0m\u001b[0;34m.\u001b[0m\u001b[0mSession\u001b[0m\u001b[0;34m(\u001b[0m\u001b[0;34m)\u001b[0m \u001b[0;32mas\u001b[0m \u001b[0msession\u001b[0m\u001b[0;34m:\u001b[0m\u001b[0;34m\u001b[0m\u001b[0;34m\u001b[0m\u001b[0m\n\u001b[0;32m---> 60\u001b[0;31m         \u001b[0;32mreturn\u001b[0m \u001b[0msession\u001b[0m\u001b[0;34m.\u001b[0m\u001b[0mrequest\u001b[0m\u001b[0;34m(\u001b[0m\u001b[0mmethod\u001b[0m\u001b[0;34m=\u001b[0m\u001b[0mmethod\u001b[0m\u001b[0;34m,\u001b[0m \u001b[0murl\u001b[0m\u001b[0;34m=\u001b[0m\u001b[0murl\u001b[0m\u001b[0;34m,\u001b[0m \u001b[0;34m**\u001b[0m\u001b[0mkwargs\u001b[0m\u001b[0;34m)\u001b[0m\u001b[0;34m\u001b[0m\u001b[0;34m\u001b[0m\u001b[0m\n\u001b[0m\u001b[1;32m     61\u001b[0m \u001b[0;34m\u001b[0m\u001b[0m\n\u001b[1;32m     62\u001b[0m \u001b[0;34m\u001b[0m\u001b[0m\n",
      "\u001b[0;32m~/anaconda3/lib/python3.7/site-packages/requests/sessions.py\u001b[0m in \u001b[0;36mrequest\u001b[0;34m(self, method, url, params, data, headers, cookies, files, auth, timeout, allow_redirects, proxies, hooks, stream, verify, cert, json)\u001b[0m\n\u001b[1;32m    531\u001b[0m         }\n\u001b[1;32m    532\u001b[0m         \u001b[0msend_kwargs\u001b[0m\u001b[0;34m.\u001b[0m\u001b[0mupdate\u001b[0m\u001b[0;34m(\u001b[0m\u001b[0msettings\u001b[0m\u001b[0;34m)\u001b[0m\u001b[0;34m\u001b[0m\u001b[0;34m\u001b[0m\u001b[0m\n\u001b[0;32m--> 533\u001b[0;31m         \u001b[0mresp\u001b[0m \u001b[0;34m=\u001b[0m \u001b[0mself\u001b[0m\u001b[0;34m.\u001b[0m\u001b[0msend\u001b[0m\u001b[0;34m(\u001b[0m\u001b[0mprep\u001b[0m\u001b[0;34m,\u001b[0m \u001b[0;34m**\u001b[0m\u001b[0msend_kwargs\u001b[0m\u001b[0;34m)\u001b[0m\u001b[0;34m\u001b[0m\u001b[0;34m\u001b[0m\u001b[0m\n\u001b[0m\u001b[1;32m    534\u001b[0m \u001b[0;34m\u001b[0m\u001b[0m\n\u001b[1;32m    535\u001b[0m         \u001b[0;32mreturn\u001b[0m \u001b[0mresp\u001b[0m\u001b[0;34m\u001b[0m\u001b[0;34m\u001b[0m\u001b[0m\n",
      "\u001b[0;32m~/anaconda3/lib/python3.7/site-packages/requests/sessions.py\u001b[0m in \u001b[0;36msend\u001b[0;34m(self, request, **kwargs)\u001b[0m\n\u001b[1;32m    644\u001b[0m \u001b[0;34m\u001b[0m\u001b[0m\n\u001b[1;32m    645\u001b[0m         \u001b[0;31m# Send the request\u001b[0m\u001b[0;34m\u001b[0m\u001b[0;34m\u001b[0m\u001b[0;34m\u001b[0m\u001b[0m\n\u001b[0;32m--> 646\u001b[0;31m         \u001b[0mr\u001b[0m \u001b[0;34m=\u001b[0m \u001b[0madapter\u001b[0m\u001b[0;34m.\u001b[0m\u001b[0msend\u001b[0m\u001b[0;34m(\u001b[0m\u001b[0mrequest\u001b[0m\u001b[0;34m,\u001b[0m \u001b[0;34m**\u001b[0m\u001b[0mkwargs\u001b[0m\u001b[0;34m)\u001b[0m\u001b[0;34m\u001b[0m\u001b[0;34m\u001b[0m\u001b[0m\n\u001b[0m\u001b[1;32m    647\u001b[0m \u001b[0;34m\u001b[0m\u001b[0m\n\u001b[1;32m    648\u001b[0m         \u001b[0;31m# Total elapsed time of the request (approximately)\u001b[0m\u001b[0;34m\u001b[0m\u001b[0;34m\u001b[0m\u001b[0;34m\u001b[0m\u001b[0m\n",
      "\u001b[0;32m~/anaconda3/lib/python3.7/site-packages/requests/adapters.py\u001b[0m in \u001b[0;36msend\u001b[0;34m(self, request, stream, timeout, verify, cert, proxies)\u001b[0m\n\u001b[1;32m    447\u001b[0m                     \u001b[0mdecode_content\u001b[0m\u001b[0;34m=\u001b[0m\u001b[0;32mFalse\u001b[0m\u001b[0;34m,\u001b[0m\u001b[0;34m\u001b[0m\u001b[0;34m\u001b[0m\u001b[0m\n\u001b[1;32m    448\u001b[0m                     \u001b[0mretries\u001b[0m\u001b[0;34m=\u001b[0m\u001b[0mself\u001b[0m\u001b[0;34m.\u001b[0m\u001b[0mmax_retries\u001b[0m\u001b[0;34m,\u001b[0m\u001b[0;34m\u001b[0m\u001b[0;34m\u001b[0m\u001b[0m\n\u001b[0;32m--> 449\u001b[0;31m                     \u001b[0mtimeout\u001b[0m\u001b[0;34m=\u001b[0m\u001b[0mtimeout\u001b[0m\u001b[0;34m\u001b[0m\u001b[0;34m\u001b[0m\u001b[0m\n\u001b[0m\u001b[1;32m    450\u001b[0m                 )\n\u001b[1;32m    451\u001b[0m \u001b[0;34m\u001b[0m\u001b[0m\n",
      "\u001b[0;32m~/anaconda3/lib/python3.7/site-packages/urllib3/connectionpool.py\u001b[0m in \u001b[0;36murlopen\u001b[0;34m(self, method, url, body, headers, retries, redirect, assert_same_host, timeout, pool_timeout, release_conn, chunked, body_pos, **response_kw)\u001b[0m\n\u001b[1;32m    598\u001b[0m                                                   \u001b[0mtimeout\u001b[0m\u001b[0;34m=\u001b[0m\u001b[0mtimeout_obj\u001b[0m\u001b[0;34m,\u001b[0m\u001b[0;34m\u001b[0m\u001b[0;34m\u001b[0m\u001b[0m\n\u001b[1;32m    599\u001b[0m                                                   \u001b[0mbody\u001b[0m\u001b[0;34m=\u001b[0m\u001b[0mbody\u001b[0m\u001b[0;34m,\u001b[0m \u001b[0mheaders\u001b[0m\u001b[0;34m=\u001b[0m\u001b[0mheaders\u001b[0m\u001b[0;34m,\u001b[0m\u001b[0;34m\u001b[0m\u001b[0;34m\u001b[0m\u001b[0m\n\u001b[0;32m--> 600\u001b[0;31m                                                   chunked=chunked)\n\u001b[0m\u001b[1;32m    601\u001b[0m \u001b[0;34m\u001b[0m\u001b[0m\n\u001b[1;32m    602\u001b[0m             \u001b[0;31m# If we're going to release the connection in ``finally:``, then\u001b[0m\u001b[0;34m\u001b[0m\u001b[0;34m\u001b[0m\u001b[0;34m\u001b[0m\u001b[0m\n",
      "\u001b[0;32m~/anaconda3/lib/python3.7/site-packages/urllib3/connectionpool.py\u001b[0m in \u001b[0;36m_make_request\u001b[0;34m(self, conn, method, url, timeout, chunked, **httplib_request_kw)\u001b[0m\n\u001b[1;32m    378\u001b[0m             \u001b[0;32mexcept\u001b[0m \u001b[0mTypeError\u001b[0m\u001b[0;34m:\u001b[0m  \u001b[0;31m# Python 3\u001b[0m\u001b[0;34m\u001b[0m\u001b[0;34m\u001b[0m\u001b[0m\n\u001b[1;32m    379\u001b[0m                 \u001b[0;32mtry\u001b[0m\u001b[0;34m:\u001b[0m\u001b[0;34m\u001b[0m\u001b[0;34m\u001b[0m\u001b[0m\n\u001b[0;32m--> 380\u001b[0;31m                     \u001b[0mhttplib_response\u001b[0m \u001b[0;34m=\u001b[0m \u001b[0mconn\u001b[0m\u001b[0;34m.\u001b[0m\u001b[0mgetresponse\u001b[0m\u001b[0;34m(\u001b[0m\u001b[0;34m)\u001b[0m\u001b[0;34m\u001b[0m\u001b[0;34m\u001b[0m\u001b[0m\n\u001b[0m\u001b[1;32m    381\u001b[0m                 \u001b[0;32mexcept\u001b[0m \u001b[0mException\u001b[0m \u001b[0;32mas\u001b[0m \u001b[0me\u001b[0m\u001b[0;34m:\u001b[0m\u001b[0;34m\u001b[0m\u001b[0;34m\u001b[0m\u001b[0m\n\u001b[1;32m    382\u001b[0m                     \u001b[0;31m# Remove the TypeError from the exception chain in Python 3;\u001b[0m\u001b[0;34m\u001b[0m\u001b[0;34m\u001b[0m\u001b[0;34m\u001b[0m\u001b[0m\n",
      "\u001b[0;32m~/anaconda3/lib/python3.7/http/client.py\u001b[0m in \u001b[0;36mgetresponse\u001b[0;34m(self)\u001b[0m\n\u001b[1;32m   1319\u001b[0m         \u001b[0;32mtry\u001b[0m\u001b[0;34m:\u001b[0m\u001b[0;34m\u001b[0m\u001b[0;34m\u001b[0m\u001b[0m\n\u001b[1;32m   1320\u001b[0m             \u001b[0;32mtry\u001b[0m\u001b[0;34m:\u001b[0m\u001b[0;34m\u001b[0m\u001b[0;34m\u001b[0m\u001b[0m\n\u001b[0;32m-> 1321\u001b[0;31m                 \u001b[0mresponse\u001b[0m\u001b[0;34m.\u001b[0m\u001b[0mbegin\u001b[0m\u001b[0;34m(\u001b[0m\u001b[0;34m)\u001b[0m\u001b[0;34m\u001b[0m\u001b[0;34m\u001b[0m\u001b[0m\n\u001b[0m\u001b[1;32m   1322\u001b[0m             \u001b[0;32mexcept\u001b[0m \u001b[0mConnectionError\u001b[0m\u001b[0;34m:\u001b[0m\u001b[0;34m\u001b[0m\u001b[0;34m\u001b[0m\u001b[0m\n\u001b[1;32m   1323\u001b[0m                 \u001b[0mself\u001b[0m\u001b[0;34m.\u001b[0m\u001b[0mclose\u001b[0m\u001b[0;34m(\u001b[0m\u001b[0;34m)\u001b[0m\u001b[0;34m\u001b[0m\u001b[0;34m\u001b[0m\u001b[0m\n",
      "\u001b[0;32m~/anaconda3/lib/python3.7/http/client.py\u001b[0m in \u001b[0;36mbegin\u001b[0;34m(self)\u001b[0m\n\u001b[1;32m    294\u001b[0m         \u001b[0;31m# read until we get a non-100 response\u001b[0m\u001b[0;34m\u001b[0m\u001b[0;34m\u001b[0m\u001b[0;34m\u001b[0m\u001b[0m\n\u001b[1;32m    295\u001b[0m         \u001b[0;32mwhile\u001b[0m \u001b[0;32mTrue\u001b[0m\u001b[0;34m:\u001b[0m\u001b[0;34m\u001b[0m\u001b[0;34m\u001b[0m\u001b[0m\n\u001b[0;32m--> 296\u001b[0;31m             \u001b[0mversion\u001b[0m\u001b[0;34m,\u001b[0m \u001b[0mstatus\u001b[0m\u001b[0;34m,\u001b[0m \u001b[0mreason\u001b[0m \u001b[0;34m=\u001b[0m \u001b[0mself\u001b[0m\u001b[0;34m.\u001b[0m\u001b[0m_read_status\u001b[0m\u001b[0;34m(\u001b[0m\u001b[0;34m)\u001b[0m\u001b[0;34m\u001b[0m\u001b[0;34m\u001b[0m\u001b[0m\n\u001b[0m\u001b[1;32m    297\u001b[0m             \u001b[0;32mif\u001b[0m \u001b[0mstatus\u001b[0m \u001b[0;34m!=\u001b[0m \u001b[0mCONTINUE\u001b[0m\u001b[0;34m:\u001b[0m\u001b[0;34m\u001b[0m\u001b[0;34m\u001b[0m\u001b[0m\n\u001b[1;32m    298\u001b[0m                 \u001b[0;32mbreak\u001b[0m\u001b[0;34m\u001b[0m\u001b[0;34m\u001b[0m\u001b[0m\n",
      "\u001b[0;32m~/anaconda3/lib/python3.7/http/client.py\u001b[0m in \u001b[0;36m_read_status\u001b[0;34m(self)\u001b[0m\n\u001b[1;32m    255\u001b[0m \u001b[0;34m\u001b[0m\u001b[0m\n\u001b[1;32m    256\u001b[0m     \u001b[0;32mdef\u001b[0m \u001b[0m_read_status\u001b[0m\u001b[0;34m(\u001b[0m\u001b[0mself\u001b[0m\u001b[0;34m)\u001b[0m\u001b[0;34m:\u001b[0m\u001b[0;34m\u001b[0m\u001b[0;34m\u001b[0m\u001b[0m\n\u001b[0;32m--> 257\u001b[0;31m         \u001b[0mline\u001b[0m \u001b[0;34m=\u001b[0m \u001b[0mstr\u001b[0m\u001b[0;34m(\u001b[0m\u001b[0mself\u001b[0m\u001b[0;34m.\u001b[0m\u001b[0mfp\u001b[0m\u001b[0;34m.\u001b[0m\u001b[0mreadline\u001b[0m\u001b[0;34m(\u001b[0m\u001b[0m_MAXLINE\u001b[0m \u001b[0;34m+\u001b[0m \u001b[0;36m1\u001b[0m\u001b[0;34m)\u001b[0m\u001b[0;34m,\u001b[0m \u001b[0;34m\"iso-8859-1\"\u001b[0m\u001b[0;34m)\u001b[0m\u001b[0;34m\u001b[0m\u001b[0;34m\u001b[0m\u001b[0m\n\u001b[0m\u001b[1;32m    258\u001b[0m         \u001b[0;32mif\u001b[0m \u001b[0mlen\u001b[0m\u001b[0;34m(\u001b[0m\u001b[0mline\u001b[0m\u001b[0;34m)\u001b[0m \u001b[0;34m>\u001b[0m \u001b[0m_MAXLINE\u001b[0m\u001b[0;34m:\u001b[0m\u001b[0;34m\u001b[0m\u001b[0;34m\u001b[0m\u001b[0m\n\u001b[1;32m    259\u001b[0m             \u001b[0;32mraise\u001b[0m \u001b[0mLineTooLong\u001b[0m\u001b[0;34m(\u001b[0m\u001b[0;34m\"status line\"\u001b[0m\u001b[0;34m)\u001b[0m\u001b[0;34m\u001b[0m\u001b[0;34m\u001b[0m\u001b[0m\n",
      "\u001b[0;32m~/anaconda3/lib/python3.7/socket.py\u001b[0m in \u001b[0;36mreadinto\u001b[0;34m(self, b)\u001b[0m\n\u001b[1;32m    587\u001b[0m         \u001b[0;32mwhile\u001b[0m \u001b[0;32mTrue\u001b[0m\u001b[0;34m:\u001b[0m\u001b[0;34m\u001b[0m\u001b[0;34m\u001b[0m\u001b[0m\n\u001b[1;32m    588\u001b[0m             \u001b[0;32mtry\u001b[0m\u001b[0;34m:\u001b[0m\u001b[0;34m\u001b[0m\u001b[0;34m\u001b[0m\u001b[0m\n\u001b[0;32m--> 589\u001b[0;31m                 \u001b[0;32mreturn\u001b[0m \u001b[0mself\u001b[0m\u001b[0;34m.\u001b[0m\u001b[0m_sock\u001b[0m\u001b[0;34m.\u001b[0m\u001b[0mrecv_into\u001b[0m\u001b[0;34m(\u001b[0m\u001b[0mb\u001b[0m\u001b[0;34m)\u001b[0m\u001b[0;34m\u001b[0m\u001b[0;34m\u001b[0m\u001b[0m\n\u001b[0m\u001b[1;32m    590\u001b[0m             \u001b[0;32mexcept\u001b[0m \u001b[0mtimeout\u001b[0m\u001b[0;34m:\u001b[0m\u001b[0;34m\u001b[0m\u001b[0;34m\u001b[0m\u001b[0m\n\u001b[1;32m    591\u001b[0m                 \u001b[0mself\u001b[0m\u001b[0;34m.\u001b[0m\u001b[0m_timeout_occurred\u001b[0m \u001b[0;34m=\u001b[0m \u001b[0;32mTrue\u001b[0m\u001b[0;34m\u001b[0m\u001b[0;34m\u001b[0m\u001b[0m\n",
      "\u001b[0;32m~/anaconda3/lib/python3.7/site-packages/urllib3/contrib/pyopenssl.py\u001b[0m in \u001b[0;36mrecv_into\u001b[0;34m(self, *args, **kwargs)\u001b[0m\n\u001b[1;32m    295\u001b[0m     \u001b[0;32mdef\u001b[0m \u001b[0mrecv_into\u001b[0m\u001b[0;34m(\u001b[0m\u001b[0mself\u001b[0m\u001b[0;34m,\u001b[0m \u001b[0;34m*\u001b[0m\u001b[0margs\u001b[0m\u001b[0;34m,\u001b[0m \u001b[0;34m**\u001b[0m\u001b[0mkwargs\u001b[0m\u001b[0;34m)\u001b[0m\u001b[0;34m:\u001b[0m\u001b[0;34m\u001b[0m\u001b[0;34m\u001b[0m\u001b[0m\n\u001b[1;32m    296\u001b[0m         \u001b[0;32mtry\u001b[0m\u001b[0;34m:\u001b[0m\u001b[0;34m\u001b[0m\u001b[0;34m\u001b[0m\u001b[0m\n\u001b[0;32m--> 297\u001b[0;31m             \u001b[0;32mreturn\u001b[0m \u001b[0mself\u001b[0m\u001b[0;34m.\u001b[0m\u001b[0mconnection\u001b[0m\u001b[0;34m.\u001b[0m\u001b[0mrecv_into\u001b[0m\u001b[0;34m(\u001b[0m\u001b[0;34m*\u001b[0m\u001b[0margs\u001b[0m\u001b[0;34m,\u001b[0m \u001b[0;34m**\u001b[0m\u001b[0mkwargs\u001b[0m\u001b[0;34m)\u001b[0m\u001b[0;34m\u001b[0m\u001b[0;34m\u001b[0m\u001b[0m\n\u001b[0m\u001b[1;32m    298\u001b[0m         \u001b[0;32mexcept\u001b[0m \u001b[0mOpenSSL\u001b[0m\u001b[0;34m.\u001b[0m\u001b[0mSSL\u001b[0m\u001b[0;34m.\u001b[0m\u001b[0mSysCallError\u001b[0m \u001b[0;32mas\u001b[0m \u001b[0me\u001b[0m\u001b[0;34m:\u001b[0m\u001b[0;34m\u001b[0m\u001b[0;34m\u001b[0m\u001b[0m\n\u001b[1;32m    299\u001b[0m             \u001b[0;32mif\u001b[0m \u001b[0mself\u001b[0m\u001b[0;34m.\u001b[0m\u001b[0msuppress_ragged_eofs\u001b[0m \u001b[0;32mand\u001b[0m \u001b[0me\u001b[0m\u001b[0;34m.\u001b[0m\u001b[0margs\u001b[0m \u001b[0;34m==\u001b[0m \u001b[0;34m(\u001b[0m\u001b[0;34m-\u001b[0m\u001b[0;36m1\u001b[0m\u001b[0;34m,\u001b[0m \u001b[0;34m'Unexpected EOF'\u001b[0m\u001b[0;34m)\u001b[0m\u001b[0;34m:\u001b[0m\u001b[0;34m\u001b[0m\u001b[0;34m\u001b[0m\u001b[0m\n",
      "\u001b[0;32m~/anaconda3/lib/python3.7/site-packages/OpenSSL/SSL.py\u001b[0m in \u001b[0;36mrecv_into\u001b[0;34m(self, buffer, nbytes, flags)\u001b[0m\n\u001b[1;32m   1819\u001b[0m             \u001b[0mresult\u001b[0m \u001b[0;34m=\u001b[0m \u001b[0m_lib\u001b[0m\u001b[0;34m.\u001b[0m\u001b[0mSSL_peek\u001b[0m\u001b[0;34m(\u001b[0m\u001b[0mself\u001b[0m\u001b[0;34m.\u001b[0m\u001b[0m_ssl\u001b[0m\u001b[0;34m,\u001b[0m \u001b[0mbuf\u001b[0m\u001b[0;34m,\u001b[0m \u001b[0mnbytes\u001b[0m\u001b[0;34m)\u001b[0m\u001b[0;34m\u001b[0m\u001b[0;34m\u001b[0m\u001b[0m\n\u001b[1;32m   1820\u001b[0m         \u001b[0;32melse\u001b[0m\u001b[0;34m:\u001b[0m\u001b[0;34m\u001b[0m\u001b[0;34m\u001b[0m\u001b[0m\n\u001b[0;32m-> 1821\u001b[0;31m             \u001b[0mresult\u001b[0m \u001b[0;34m=\u001b[0m \u001b[0m_lib\u001b[0m\u001b[0;34m.\u001b[0m\u001b[0mSSL_read\u001b[0m\u001b[0;34m(\u001b[0m\u001b[0mself\u001b[0m\u001b[0;34m.\u001b[0m\u001b[0m_ssl\u001b[0m\u001b[0;34m,\u001b[0m \u001b[0mbuf\u001b[0m\u001b[0;34m,\u001b[0m \u001b[0mnbytes\u001b[0m\u001b[0;34m)\u001b[0m\u001b[0;34m\u001b[0m\u001b[0;34m\u001b[0m\u001b[0m\n\u001b[0m\u001b[1;32m   1822\u001b[0m         \u001b[0mself\u001b[0m\u001b[0;34m.\u001b[0m\u001b[0m_raise_ssl_error\u001b[0m\u001b[0;34m(\u001b[0m\u001b[0mself\u001b[0m\u001b[0;34m.\u001b[0m\u001b[0m_ssl\u001b[0m\u001b[0;34m,\u001b[0m \u001b[0mresult\u001b[0m\u001b[0;34m)\u001b[0m\u001b[0;34m\u001b[0m\u001b[0;34m\u001b[0m\u001b[0m\n\u001b[1;32m   1823\u001b[0m \u001b[0;34m\u001b[0m\u001b[0m\n",
      "\u001b[0;31mKeyboardInterrupt\u001b[0m: "
     ]
    }
   ],
   "source": [
    "links_properties_rent = [getLinks(li) for li in links_class]\n",
    "links_properties_rent_unlist = list(itertools.chain(*links_properties_rent))"
   ]
  },
  {
   "cell_type": "code",
   "execution_count": 389,
   "metadata": {},
   "outputs": [
    {
     "output_type": "execute_result",
     "data": {
      "text/plain": "ovitosti-byty-domy/573182-nabidka-prodej-bytu-hlavni-mesto-praha',\n 'https://www.bezrealitky.cz/nove-bydleni/vzorova-nemovitost/682-green-port-strasnice/25522-novy-byt-2-kk-40-m2-p-10#utm_source=bezrealitky.cz&utm_medium=odkaz&utm_campaign=detail_inzeratu',\n 'https://www.bezrealitky.cz/nemovitosti-byty-domy/592993-nabidka-prodej-bytu-generala-janouska-praha',\n 'https://www.bezrealitky.cz/nemovitosti-byty-domy/572998-nabidka-prodej-bytu-platonova-hlavni-mesto-praha',\n 'https://www.bezrealitky.cz/nove-bydleni/vzorova-nemovitost/720-rezidence-italska-8/26502#utm_source=bezrealitky.cz&utm_medium=odkaz&utm_campaign=detail_inzeratu',\n 'https://www.bezrealitky.cz/nove-bydleni/vzorova-nemovitost/662-na-hvezdarne-trebesin/26424-byt-5-kk-3x-terasa-praha-10#utm_source=bezrealitky.cz&utm_medium=odkaz&utm_campaign=detail_inzeratu',\n 'https://www.bezrealitky.cz/nove-bydleni/vzorova-nemovitost/704-bohdalecke-kvarteto/25753-1-kk-39m2-s-balkonem-praha-4#utm_source=bezrealitky.cz&utm_medium=odkaz&utm_campaign=detail_inzeratu',\n 'https://www.bezrealitky.cz/nove-bydleni/vzorova-nemovitost/682-green-port-strasnice/26360-2-kk-51m2-s-lodzii-praha-10#utm_source=bezrealitky.cz&utm_medium=odkaz&utm_campaign=detail_inzeratu',\n 'https://www.bezrealitky.cz/nove-bydleni/vzorova-nemovitost/716-rezidence-silver-port/26347-4-kk-101m2-s-lodzii-praha-10#utm_source=bezrealitky.cz&utm_medium=odkaz&utm_campaign=detail_inzeratu',\n 'https://www.bezrealitky.cz/nove-bydleni/vzorova-nemovitost/682-green-port-strasnice/26362-3-kk-73m2-s-lodzii-praha-10#utm_source=bezrealitky.cz&utm_medium=odkaz&utm_campaign=detail_inzeratu',\n 'https://www.bezrealitky.cz/nove-bydleni/vzorova-nemovitost/720-rezidence-italska-8/26444#utm_source=bezrealitky.cz&utm_medium=odkaz&utm_campaign=detail_inzeratu',\n 'https://www.bezrealitky.cz/nove-bydleni/vzorova-nemovitost/682-green-port-strasnice/26361-3-kk-72-m2-s-lodzii-praha-10#utm_source=bezrealitky.cz&utm_medium=odkaz&utm_campaign=detail_inzeratu',\n 'https://www.bezrealitky.cz/nove-bydleni/vzorova-nemovitost/716-rezidence-silver-port/26315-byt-3-kk-77m2-se-zahradou-p10#utm_source=bezrealitky.cz&utm_medium=odkaz&utm_campaign=detail_inzeratu',\n 'https://www.bezrealitky.cz/nove-bydleni/vzorova-nemovitost/682-green-port-strasnice/24182-3-kk-88m2-s-terasou-praha-10#utm_source=bezrealitky.cz&utm_medium=odkaz&utm_campaign=detail_inzeratu',\n 'https://www.bezrealitky.cz/nove-bydleni/vzorova-nemovitost/716-rezidence-silver-port/26318-3-kk-77-m2-s-lodzii-praha-10#utm_source=bezrealitky.cz&utm_medium=odkaz&utm_campaign=detail_inzeratu',\n 'https://www.bezrealitky.cz/nove-bydleni/vzorova-nemovitost/653-rezidence-michelangelova/23565-4-kk-110m2-s-velkou-terasou#utm_source=bezrealitky.cz&utm_medium=odkaz&utm_campaign=detail_inzeratu',\n 'https://www.bezrealitky.cz/nove-bydleni/vzorova-nemovitost/704-bohdalecke-kvarteto/25708-novy-byt-1-kk-37m2-praha-4#utm_source=bezrealitky.cz&utm_medium=odkaz&utm_campaign=detail_inzeratu',\n 'https://www.bezrealitky.cz/nove-bydleni/vzorova-nemovitost/720-rezidence-italska-8/26440#utm_source=bezrealitky.cz&utm_medium=odkaz&utm_campaign=detail_inzeratu',\n 'https://www.bezrealitky.cz/nove-bydleni/vzorova-nemovitost/704-bohdalecke-kvarteto/25700-novy-pasivni-byt-1-kk-37-18-m2#utm_source=bezrealitky.cz&utm_medium=odkaz&utm_campaign=detail_inzeratu',\n 'https://www.bezrealitky.cz/nove-bydleni/vzorova-nemovitost/704-bohdalecke-kvarteto/25712-4-kk-98m2-s-terasou-praha-4#utm_source=bezrealitky.cz&utm_medium=odkaz&utm_campaign=detail_inzeratu',\n 'https://www.bezrealitky.cz/nove-bydleni/vzorova-nemovitost/662-na-hvezdarne-trebesin/24712-1-kk-34m2-s-velkou-terasou-p10#utm_source=bezrealitky.cz&utm_medium=odkaz&utm_campaign=detail_inzeratu',\n 'https://www.bezrealitky.cz/nove-bydleni/vzorova-nemovitost/720-rezidence-italska-8/26446#utm_source=bezrealitky.cz&utm_medium=odkaz&utm_campaign=detail_inzeratu',\n 'https://www.bezrealitky.cz/nove-bydleni/vzorova-nemovitost/705-ekorezidence-hodkovicky/25650#utm_source=bezrealitky.cz&utm_medium=odkaz&utm_campaign=detail_inzeratu',\n 'https://www.bezrealitky.cz/nove-bydleni/vzorova-nemovitost/704-bohdalecke-kvarteto/25758-novy-byt-2-kk-54m2-praha-4#utm_source=bezrealitky.cz&utm_medium=odkaz&utm_campaign=detail_inzeratu',\n 'https://www.bezrealitky.cz/nove-bydleni/vzorova-nemovitost/720-rezidence-italska-8/26445#utm_source=bezrealitky.cz&utm_medium=odkaz&utm_campaign=detail_inzeratu',\n 'https://www.bezrealitky.cz/nove-bydleni/vzorova-nemovitost/720-rezidence-italska-8/26447#utm_source=bezrealitky.cz&utm_medium=odkaz&utm_campaign=detail_inzeratu',\n 'https://www.bezrealitky.cz/nove-bydleni/vzorova-nemovitost/672-vyladene-byty-horni-mecholupy/25444#utm_source=bezrealitky.cz&utm_medium=odkaz&utm_campaign=detail_inzeratu',\n 'https://www.bezrealitky.cz/nove-bydleni/vzorova-nemovitost/672-vyladene-byty-horni-mecholupy/24206#utm_source=bezrealitky.cz&utm_medium=odkaz&utm_campaign=detail_inzeratu',\n 'https://www.bezrealitky.cz/nove-bydleni/vzorova-nemovitost/716-rezidence-silver-port/26327-3-kk-79m2-s-lodzii-praha-10#utm_source=bezrealitky.cz&utm_medium=odkaz&utm_campaign=detail_inzeratu',\n 'https://www.bezrealitky.cz/nove-bydleni/vzorova-nemovitost/720-rezidence-italska-8/26439#utm_source=bezrealitky.cz&utm_medium=odkaz&utm_campaign=detail_inzeratu',\n 'https://www.bezrealitky.cz/nove-bydleni/vzorova-nemovitost/682-green-port-strasnice/24191-3-kk-78m2-s-velkou-terasou-p10#utm_source=bezrealitky.cz&utm_medium=odkaz&utm_campaign=detail_inzeratu',\n 'https://www.bezrealitky.cz/nove-bydleni/vzorova-nemovitost/720-rezidence-italska-8/26438#utm_source=bezrealitky.cz&utm_medium=odkaz&utm_campaign=detail_inzeratu',\n 'https://www.bezrealitky.cz/nove-bydleni/vzorova-nemovitost/704-bohdalecke-kvarteto/25751-novy-byt-2-kk-55m2-praha-4#utm_source=bezrealitky.cz&utm_medium=odkaz&utm_campaign=detail_inzeratu',\n 'https://www.bezrealitky.cz/nove-bydleni/vzorova-nemovitost/716-rezidence-silver-port/26341-4-kk-109m2-s-lodzii-praha-10#utm_source=bezrealitky.cz&utm_medium=odkaz&utm_campaign=detail_inzeratu',\n 'https://www.bezrealitky.cz/nove-bydleni/vzorova-nemovitost/716-rezidence-silver-port/26343-4-kk-109m2-s-lodzii-praha-10#utm_source=bezrealitky.cz&utm_medium=odkaz&utm_campaign=detail_inzeratu',\n 'https://www.bezrealitky.cz/nove-bydleni/vzorova-nemovitost/716-rezidence-silver-port/26345-3-kk-90m2-se-zahradou-p-10#utm_source=bezrealitky.cz&utm_medium=odkaz&utm_campaign=detail_inzeratu',\n 'https://www.bezrealitky.cz/nove-bydleni/vzorova-nemovitost/653-rezidence-michelangelova/23554-3-kk-91m2-s-balkonem-p-10#utm_source=bezrealitky.cz&utm_medium=odkaz&utm_campaign=detail_inzeratu',\n 'https://www.bezrealitky.cz/nove-bydleni/vzorova-nemovitost/704-bohdalecke-kvarteto/25704-1-kk-37m2-s-lodzii-praha-4#utm_source=bezrealitky.cz&utm_medium=odkaz&utm_campaign=detail_inzeratu',\n 'https://www.bezrealitky.cz/nove-bydleni/vzorova-nemovitost/720-rezidence-italska-8/26443#utm_source=bezrealitky.cz&utm_medium=odkaz&utm_campaign=detail_inzeratu',\n 'https://www.bezrealitky.cz/nove-bydleni/vzorova-nemovitost/720-rezidence-italska-8/26448#utm_source=bezrealitky.cz&utm_medium=odkaz&utm_campaign=detail_inzeratu',\n 'https://www.bezrealitky.cz/nove-bydleni/vzorova-nemovitost/705-ekorezidence-hodkovicky/26426#utm_source=bezrealitky.cz&utm_medium=odkaz&utm_campaign=detail_inzeratu',\n 'https://www.bezrealitky.cz/nove-bydleni/vzorova-nemovitost/672-vyladene-byty-horni-mecholupy/25478#utm_source=bezrealitky.cz&utm_medium=odkaz&utm_campaign=detail_inzeratu',\n 'https://www.bezrealitky.cz/nemovitosti-byty-domy/587602-nabidka-prodej-bytu-olgy-havlove-praha',\n 'https://www.bezrealitky.cz/nove-bydleni/vzorova-nemovitost/682-green-port-strasnice/26365-2-kk-52m2-s-lodzii-praha-10#utm_source=bezrealitky.cz&utm_medium=odkaz&utm_campaign=detail_inzeratu',\n 'https://www.bezrealitky.cz/nove-bydleni/vzorova-nemovitost/662-na-hvezdarne-trebesin/23711-4-kk-93m2-s-balkonem-p-10#utm_source=bezrealitky.cz&utm_medium=odkaz&utm_campaign=detail_inzeratu',\n 'https://www.bezrealitky.cz/nove-bydleni/vzorova-nemovitost/704-bohdalecke-kvarteto/25694-2-kk-56m2-s-terasou-praha-4#utm_source=bezrealitky.cz&utm_medium=odkaz&utm_campaign=detail_inzeratu',\n 'https://www.bezrealitky.cz/nove-bydleni/vzorova-nemovitost/662-na-hvezdarne-trebesin/23720-3-kk-77m2-2x-balkon-praha-10#utm_source=bezrealitky.cz&utm_medium=odkaz&utm_campaign=detail_inzeratu',\n 'https://www.bezrealitky.cz/nove-bydleni/vzorova-nemovitost/682-green-port-strasnice/26358-byt-1-kk-se-zahradou-praha-10#utm_source=bezrealitky.cz&utm_medium=odkaz&utm_campaign=detail_inzeratu',\n 'https://www.bezrealitky.cz/nove-bydleni/vzorova-nemovitost/672-vyladene-byty-horni-mecholupy/24244#utm_source=bezrealitky.cz&utm_medium=odkaz&utm_campaign=detail_inzeratu',\n 'https://www.bezrealitky.cz/nove-bydleni/vzorova-nemovitost/705-ekorezidence-hodkovicky/25630#utm_source=bezrealitky.cz&utm_medium=odkaz&utm_campaign=detail_inzeratu',\n 'https://www.bezrealitky.cz/nove-bydleni/vzorova-nemovitost/672-vyladene-byty-horni-mecholupy/25474#utm_source=bezrealitky.cz&utm_medium=odkaz&utm_campaign=detail_inzeratu',\n 'https://www.bezrealitky.cz/nove-bydleni/vzorova-nemovitost/653-rezidence-michelangelova/23568-4-kk-106-m2-s-terasou-p-10#utm_source=bezrealitky.cz&utm_medium=odkaz&utm_campaign=detail_inzeratu',\n 'https://www.bezrealitky.cz/nove-bydleni/vzorova-nemovitost/716-rezidence-silver-port/26344-4-kk-118m2-2x-terasa-p-10#utm_source=bezrealitky.cz&utm_medium=odkaz&utm_campaign=detail_inzeratu',\n 'https://www.bezrealitky.cz/nove-bydleni/vzorova-nemovitost/716-rezidence-silver-port/26317-byt-3-kk-79-m2-s-lodzii-p-10#utm_source=bezrealitky.cz&utm_medium=odkaz&utm_campaign=detail_inzeratu',\n 'https://www.bezrealitky.cz/nove-bydleni/vzorova-nemovitost/682-green-port-strasnice/26359-1-kk-se-zahradou-praha-10#utm_source=bezrealitky.cz&utm_medium=odkaz&utm_campaign=detail_inzeratu',\n 'https://www.bezrealitky.cz/nove-bydleni/vzorova-nemovitost/704-bohdalecke-kvarteto/25553-2-kk-56-m2-s-terasou-praha-4#utm_source=bezrealitky.cz&utm_medium=odkaz&utm_campaign=detail_inzeratu',\n 'https://www.bezrealitky.cz/nove-bydleni/vzorova-nemovitost/704-bohdalecke-kvarteto/25696-1-kk-37m2-s-lodzii-praha-4#utm_source=bezrealitky.cz&utm_medium=odkaz&utm_campaign=detail_inzeratu',\n 'https://www.bezrealitky.cz/nove-bydleni/vzorova-nemovitost/705-ekorezidence-hodkovicky/25649#utm_source=bezrealitky.cz&utm_medium=odkaz&utm_campaign=detail_inzeratu',\n 'https://www.bezrealitky.cz/nove-bydleni/vzorova-nemovitost/682-green-port-strasnice/24181-2-kk-55m2-s-lodzii-praha-10#utm_source=bezrealitky.cz&utm_medium=odkaz&utm_campaign=detail_inzeratu',\n 'https://www.bezrealitky.cz/nove-bydleni/vzorova-nemovitost/653-rezidence-michelangelova/23551-4-kk-112m2-s-balkonem-praha-10#utm_source=bezrealitky.cz&utm_medium=odkaz&utm_campaign=detail_inzeratu',\n 'https://www.bezrealitky.cz/nove-bydleni/vzorova-nemovitost/716-rezidence-silver-port/26328-3-kk-77m2-s-lodzii-praha-10#utm_source=bezrealitky.cz&utm_medium=odkaz&utm_campaign=detail_inzeratu',\n 'https://www.bezrealitky.cz/nove-bydleni/vzorova-nemovitost/653-rezidence-michelangelova/23552-2-kk-59m2-s-balkonem-praha-10#utm_source=bezrealitky.cz&utm_medium=odkaz&utm_campaign=detail_inzeratu',\n 'https://www.bezrealitky.cz/nove-bydleni/vzorova-nemovitost/705-ekorezidence-hodkovicky/26412#utm_source=bezrealitky.cz&utm_medium=odkaz&utm_campaign=detail_inzeratu',\n 'https://www.bezrealitky.cz/nove-bydleni/vzorova-nemovitost/704-bohdalecke-kvarteto/25699-novy-byt-1-kk-40m2-praha-4#utm_source=bezrealitky.cz&utm_medium=odkaz&utm_campaign=detail_inzeratu',\n 'https://www.bezrealitky.cz/nove-bydleni/vzorova-nemovitost/716-rezidence-silver-port/26357-4-kk-100m2-s-terasou-p-10#utm_source=bezrealitky.cz&utm_medium=odkaz&utm_campaign=detail_inzeratu',\n 'https://www.bezrealitky.cz/nove-bydleni/vzorova-nemovitost/682-green-port-strasnice/25545-pasivni-byt-1-kk-39m2-praha-10#utm_source=bezrealitky.cz&utm_medium=odkaz&utm_campaign=detail_inzeratu',\n 'https://www.bezrealitky.cz/nove-bydleni/vzorova-nemovitost/704-bohdalecke-kvarteto/25728-novy-byt-3-kk-72-39-m2-s-teras#utm_source=bezrealitky.cz&utm_medium=odkaz&utm_campaign=detail_inzeratu',\n 'https://www.bezrealitky.cz/nove-bydleni/vzorova-nemovitost/704-bohdalecke-kvarteto/25701-2-kk-56m2-s-velkou-lodzii-p-4#utm_source=bezrealitky.cz&utm_medium=odkaz&utm_campaign=detail_inzeratu',\n 'https://www.bezrealitky.cz/nove-bydleni/vzorova-nemovitost/672-vyladene-byty-horni-mecholupy/24213#utm_source=bezrealitky.cz&utm_medium=odkaz&utm_campaign=detail_inzeratu',\n 'https://www.bezrealitky.cz/nove-bydleni/vzorova-nemovitost/705-ekorezidence-hodkovicky/25626#utm_source=bezrealitky.cz&utm_medium=odkaz&utm_campaign=detail_inzeratu',\n 'https://www.bezrealitky.cz/nove-bydleni/vzorova-nemovitost/716-rezidence-silver-port/26321-byt-2-kk-53m2-s-lodzii-p-10#utm_source=bezrealitky.cz&utm_medium=odkaz&utm_campaign=detail_inzeratu',\n 'https://www.bezrealitky.cz/nove-bydleni/vzorova-nemovitost/704-bohdalecke-kvarteto/25698-2-kk-57m2-s-balkonem-praha-4#utm_source=bezrealitky.cz&utm_medium=odkaz&utm_campaign=detail_inzeratu',\n 'https://www.bezrealitky.cz/nove-bydleni/vzorova-nemovitost/682-green-port-strasnice/25539-3-kk-99m2-s-velkou-terasou-p10#utm_source=bezrealitky.cz&utm_medium=odkaz&utm_campaign=detail_inzeratu',\n 'https://www.bezrealitky.cz/nove-bydleni/vzorova-nemovitost/682-green-port-strasnice/24188-4-kk-107-m2-s-lodzii-praha-10#utm_source=bezrealitky.cz&utm_medium=odkaz&utm_campaign=detail_inzeratu',\n 'https://www.bezrealitky.cz/nove-bydleni/vzorova-nemovitost/704-bohdalecke-kvarteto/25725-2-kk-60m2-s-balkonem-praha-4#utm_source=bezrealitky.cz&utm_medium=odkaz&utm_campaign=detail_inzeratu',\n 'https://www.bezrealitky.cz/nove-bydleni/vzorova-nemovitost/704-bohdalecke-kvarteto/25692-2-kk-57m2-s-balkonem-praha-4#utm_source=bezrealitky.cz&utm_medium=odkaz&utm_campaign=detail_inzeratu',\n 'https://www.bezrealitky.cz/nove-bydleni/vzorova-nemovitost/704-bohdalecke-kvarteto/25705-2-kk-56m2-s-velkou-lodzii-p-4#utm_source=bezrealitky.cz&utm_medium=odkaz&utm_campaign=detail_inzeratu',\n 'https://www.bezrealitky.cz/nove-bydleni/vzorova-nemovitost/716-rezidence-silver-port/26322-3-kk-79-m2-s-lodzii-praha-10#utm_source=bezrealitky.cz&utm_medium=odkaz&utm_campaign=detail_inzeratu',\n 'https://www.bezrealitky.cz/nove-bydleni/vzorova-nemovitost/716-rezidence-silver-port/26351-3-kk-97m2-se-zahradou-p-10#utm_source=bezrealitky.cz&utm_medium=odkaz&utm_campaign=detail_inzeratu',\n 'https://www.bezrealitky.cz/nove-bydleni/vzorova-nemovitost/704-bohdalecke-kvarteto/25732-2-kk-60m2-s-balkonem-praha-4#utm_source=bezrealitky.cz&utm_medium=odkaz&utm_campaign=detail_inzeratu',\n 'https://www.bezrealitky.cz/nove-bydleni/vzorova-nemovitost/662-na-hvezdarne-trebesin/23716-3-kk-85m2-2x-balkon-p-10#utm_source=bezrealitky.cz&utm_medium=odkaz&utm_campaign=detail_inzeratu',\n 'https://www.bezrealitky.cz/nove-bydleni/vzorova-nemovitost/705-ekorezidence-hodkovicky/25642#utm_source=bezrealitky.cz&utm_medium=odkaz&utm_campaign=detail_inzeratu',\n 'https://www.bezrealitky.cz/nove-bydleni/vzorova-nemovitost/704-bohdalecke-kvarteto/25583-2-kk-56m2-s-terasou-praha-4#utm_source=bezrealitky.cz&utm_medium=odkaz&utm_campaign=detail_inzeratu',\n 'https://www.bezrealitky.cz/nove-bydleni/vzorova-nemovitost/682-green-port-strasnice/25547-3-kk-78m2-s-velkou-terasou-p10#utm_source=bezrealitky.cz&utm_medium=odkaz&utm_campaign=detail_inzeratu',\n 'https://www.bezrealitky.cz/nove-bydleni/vzorova-nemovitost/716-rezidence-silver-port/26349-byt-4-kk-101m2-s-lodzii-p-10#utm_source=bezrealitky.cz&utm_medium=odkaz&utm_campaign=detail_inzeratu',\n 'https://www.bezrealitky.cz/nove-bydleni/vzorova-nemovitost/682-green-port-strasnice/24190-3-kk-98m2-s-terasou-praha-10#utm_source=bezrealitky.cz&utm_medium=odkaz&utm_campaign=detail_inzeratu',\n 'https://www.bezrealitky.cz/nove-bydleni/vzorova-nemovitost/704-bohdalecke-kvarteto/25578-2-kk-56m2-s-terasou-praha-4#utm_source=bezrealitky.cz&utm_medium=odkaz&utm_campaign=detail_inzeratu',\n 'https://www.bezrealitky.cz/nove-bydleni/vzorova-nemovitost/704-bohdalecke-kvarteto/25754-2-kk-60m2-s-balkonem-praha-4#utm_source=bezrealitky.cz&utm_medium=odkaz&utm_campaign=detail_inzeratu',\n 'https://www.bezrealitky.cz/nove-bydleni/vzorova-nemovitost/704-bohdalecke-kvarteto/25563-2-kk-56-m2-s-velkou-lodzii-p-4#utm_source=bezrealitky.cz&utm_medium=odkaz&utm_campaign=detail_inzeratu',\n 'https://www.bezrealitky.cz/nove-bydleni/vzorova-nemovitost/704-bohdalecke-kvarteto/25709-2-kk-56m2-s-velkou-lodzii-p-4#utm_source=bezrealitky.cz&utm_medium=odkaz&utm_campaign=detail_inzeratu',\n 'https://www.bezrealitky.cz/nove-bydleni/vzorova-nemovitost/716-rezidence-silver-port/26350-byt-4-kk-109m2-s-lodzii-p-10#utm_source=bezrealitky.cz&utm_medium=odkaz&utm_campaign=detail_inzeratu',\n 'https://www.bezrealitky.cz/nove-bydleni/vzorova-nemovitost/705-ekorezidence-hodkovicky/25624#utm_source=bezrealitky.cz&utm_medium=odkaz&utm_campaign=detail_inzeratu',\n 'https://www.bezrealitky.cz/nove-bydleni/vzorova-nemovitost/704-bohdalecke-kvarteto/25691-2-kk-56m2-s-velkou-terasou-p-4#utm_source=bezrealitky.cz&utm_medium=odkaz&utm_campaign=detail_inzeratu',\n 'https://www.bezrealitky.cz/nemovitosti-byty-domy/460769-nabidka-prodej-bytu-narodnich-hrdinu-praha',\n 'https://www.bezrealitky.cz/nove-bydleni/vzorova-nemovitost/662-na-hvezdarne-trebesin/23701-3-kk-113m2-s-terasou-p-10#utm_source=bezrealitky.cz&utm_medium=odkaz&utm_campaign=detail_inzeratu',\n 'https://www.bezrealitky.cz/nove-bydleni/vzorova-nemovitost/704-bohdalecke-kvarteto/25582-1-kk-37m2-s-lodzii-praha-4#utm_source=bezrealitky.cz&utm_medium=odkaz&utm_campaign=detail_inzeratu',\n 'https://www.bezrealitky.cz/nove-bydleni/vzorova-nemovitost/704-bohdalecke-kvarteto/25706-2-kk-56m2-s-balkonem-praha-4#utm_source=bezrealitky.cz&utm_medium=odkaz&utm_campaign=detail_inzeratu',\n 'https://www.bezrealitky.cz/nove-bydleni/vzorova-nemovitost/704-bohdalecke-kvarteto/25695-2-kk-57m2-s-balkonem-praha-4#utm_source=bezrealitky.cz&utm_medium=odkaz&utm_campaign=detail_inzeratu',\n 'https://www.bezrealitky.cz/nove-bydleni/vzorova-nemovitost/662-na-hvezdarne-trebesin/23717-3-kk-75m2-2x-balkon-p-10#utm_source=bezrealitky.cz&utm_medium=odkaz&utm_campaign=detail_inzeratu',\n 'https://www.bezrealitky.cz/nove-bydleni/vzorova-nemovitost/704-bohdalecke-kvarteto/25707-pasivni-byt-1-kk-40m2-praha-4#utm_source=bezrealitky.cz&utm_medium=odkaz&utm_campaign=detail_inzeratu',\n 'https://www.bezrealitky.cz/nove-bydleni/vzorova-nemovitost/704-bohdalecke-kvarteto/25568-2-kk-56m2-s-terasou-praha-4#utm_source=bezrealitky.cz&utm_medium=odkaz&utm_campaign=detail_inzeratu',\n 'https://www.bezrealitky.cz/nove-bydleni/vzorova-nemovitost/682-green-port-strasnice/25540-4-kk-113m2-s-terasou-praha-10#utm_source=bezrealitky.cz&utm_medium=odkaz&utm_campaign=detail_inzeratu',\n 'https://www.bezrealitky.cz/nove-bydleni/vzorova-nemovitost/704-bohdalecke-kvarteto/25693-novy-byt-1-kk-37m2-praha-4#utm_source=bezrealitky.cz&utm_medium=odkaz&utm_campaign=detail_inzeratu',\n 'https://www.bezrealitky.cz/nove-bydleni/vzorova-nemovitost/704-bohdalecke-kvarteto/25722-2-kk-60m2-s-balkonem-praha-4#utm_source=bezrealitky.cz&utm_medium=odkaz&utm_campaign=detail_inzeratu',\n 'https://www.bezrealitky.cz/nove-bydleni/vzorova-nemovitost/704-bohdalecke-kvarteto/25554-2-kk-54-m2-s-terasou-praha-4#utm_source=bezrealitky.cz&utm_medium=odkaz&utm_campaign=detail_inzeratu',\n 'https://www.bezrealitky.cz/nove-bydleni/vzorova-nemovitost/704-bohdalecke-kvarteto/25703-pasivni-byt-1-kk-40m2-praha-4#utm_source=bezrealitky.cz&utm_medium=odkaz&utm_campaign=detail_inzeratu',\n 'https://www.bezrealitky.cz/nove-bydleni/vzorova-nemovitost/682-green-port-strasnice/24189-1-kk-38m2-s-balkonem-praha-10#utm_source=bezrealitky.cz&utm_medium=odkaz&utm_campaign=detail_inzeratu',\n 'https://www.bezrealitky.cz/nemovitosti-byty-domy/478574-nabidka-prodej-bytu-v-zapoli-praha-4',\n 'https://www.bezrealitky.cz/nemovitosti-byty-domy/468857-nabidka-prodej-bytu-olsanska-praha',\n 'https://www.bezrealitky.cz/nemovitosti-byty-domy/364496-nabidka-prodej-bytu-k-dalnici']"
     },
     "metadata": {},
     "execution_count": 389
    }
   ],
   "source": [
    "links_properties_rent_unlist"
   ]
  },
  {
   "cell_type": "code",
   "execution_count": 390,
   "metadata": {},
   "outputs": [
    {
     "output_type": "stream",
     "name": "stdout",
     "text": "(461,)\n(161,)\n(622,)\n"
    }
   ],
   "source": [
    "links_properties_rent_unlist_old = [li for li in links_properties_rent_unlist if 'nove-bydleni' not in li]\n",
    "links_properties_rent_unlist_new = [li for li in links_properties_rent_unlist if 'nove-bydleni' in li]\n",
    "print(np.shape(links_properties_rent_unlist_old))\n",
    "print(np.shape(links_properties_rent_unlist_new))\n",
    "print(np.shape(links_properties_rent_unlist))"
   ]
  },
  {
   "cell_type": "code",
   "execution_count": 393,
   "metadata": {},
   "outputs": [
    {
     "output_type": "execute_result",
     "data": {
      "text/plain": "ka-prodej-bytu-k-brusce-praha',\n 'https://www.bezrealitky.cz/nemovitosti-byty-domy/601475-nabidka-prodej-bytu-vitkova-prague',\n 'https://www.bezrealitky.cz/nemovitosti-byty-domy/601464-nabidka-prodej-bytu-ke-strasnicke-praha',\n 'https://www.bezrealitky.cz/nemovitosti-byty-domy/602138-nabidka-prodej-bytu-horni-hrdlorezska-praha',\n 'https://www.bezrealitky.cz/nemovitosti-byty-domy/597153-nabidka-prodej-bytu-brandlova-praha',\n 'https://www.bezrealitky.cz/nemovitosti-byty-domy/594850-nabidka-prodej-bytu-na-morani-praha',\n 'https://www.bezrealitky.cz/nemovitosti-byty-domy/599730-nabidka-prodej-bytu-sudejovicka-ujezd-nad-lesy',\n 'https://www.bezrealitky.cz/nemovitosti-byty-domy/601452-nabidka-prodej-bytu-vita-nejedleho-praha',\n 'https://www.bezrealitky.cz/nemovitosti-byty-domy/601447-nabidka-prodej-bytu-vita-nejedleho-praha',\n 'https://www.bezrealitky.cz/nemovitosti-byty-domy/601441-nabidka-prodej-bytu-vita-nejedleho-praha',\n 'https://www.bezrealitky.cz/nemovitosti-byty-domy/601429-nabidka-prodej-bytu-spojovaci-praha',\n 'https://www.bezrealitky.cz/nemovitosti-byty-domy/591428-nabidka-prodej-bytu-mezilehla-praha',\n 'https://www.bezrealitky.cz/nemovitosti-byty-domy/601724-nabidka-prodej-bytu-krejpskeho-praha',\n 'https://www.bezrealitky.cz/nemovitosti-byty-domy/406626-nabidka-prodej-bytu-hrdlorezska-praha-9',\n 'https://www.bezrealitky.cz/nemovitosti-byty-domy/600750-nabidka-prodej-bytu-ocelarska-praha',\n 'https://www.bezrealitky.cz/nemovitosti-byty-domy/546837-nabidka-prodej-bytu-soukalova-hlavni-mesto-praha',\n 'https://www.bezrealitky.cz/nemovitosti-byty-domy/601361-nabidka-prodej-bytu-murgasova-praha',\n 'https://www.bezrealitky.cz/nemovitosti-byty-domy/602024-nabidka-prodej-bytu-5-kvetna-praha',\n 'https://www.bezrealitky.cz/nemovitosti-byty-domy/589343-nabidka-prodej-bytu-podolska-praha-4',\n 'https://www.bezrealitky.cz/nemovitosti-byty-domy/591586-nabidka-prodej-bytu-vyhledova-praha',\n 'https://www.bezrealitky.cz/nemovitosti-byty-domy/601990-nabidka-prodej-bytu-lucemburska-prague',\n 'https://www.bezrealitky.cz/nemovitosti-byty-domy/601271-nabidka-prodej-bytu-hostinskeho-praha',\n 'https://www.bezrealitky.cz/nemovitosti-byty-domy/553574-nabidka-prodej-bytu-kosicka-praha-10',\n 'https://www.bezrealitky.cz/nemovitosti-byty-domy/586435-nabidka-prodej-bytu-torunska-praha',\n 'https://www.bezrealitky.cz/nemovitosti-byty-domy/601934-nabidka-prodej-bytu-behounkova-praha',\n 'https://www.bezrealitky.cz/nemovitosti-byty-domy/601195-nabidka-prodej-bytu-podolska-prague',\n 'https://www.bezrealitky.cz/nemovitosti-byty-domy/601075-nabidka-prodej-bytu-novorossijska-praha',\n 'https://www.bezrealitky.cz/nemovitosti-byty-domy/601071-nabidka-prodej-bytu-u-skolicky-praha',\n 'https://www.bezrealitky.cz/nemovitosti-byty-domy/597429-nabidka-prodej-bytu-biskupcova-prague',\n 'https://www.bezrealitky.cz/nemovitosti-byty-domy/598505-nabidka-prodej-bytu-pricna-praha',\n 'https://www.bezrealitky.cz/nemovitosti-byty-domy/597298-nabidka-prodej-bytu-hluckova',\n 'https://www.bezrealitky.cz/nemovitosti-byty-domy/601687-nabidka-prodej-bytu-brezenska-praha',\n 'https://www.bezrealitky.cz/nemovitosti-byty-domy/601673-nabidka-prodej-bytu-na-trebesine-praha',\n 'https://www.bezrealitky.cz/nemovitosti-byty-domy/559500-nabidka-prodej-bytu',\n 'https://www.bezrealitky.cz/nemovitosti-byty-domy/601648-nabidka-prodej-bytu-vita-nejedleho-praha',\n 'https://www.bezrealitky.cz/nemovitosti-byty-domy/591884-nabidka-prodej-bytu-ucnovska',\n 'https://www.bezrealitky.cz/nemovitosti-byty-domy/601584-nabidka-prodej-bytu-plzenska-prague',\n 'https://www.bezrealitky.cz/nemovitosti-byty-domy/588300-nabidka-prodej-bytu-ondrickova-praha',\n 'https://www.bezrealitky.cz/nemovitosti-byty-domy/601570-nabidka-prodej-bytu-vondrousova-praha',\n 'https://www.bezrealitky.cz/nemovitosti-byty-domy/601495-nabidka-prodej-bytu-kytlicka-letnany',\n 'https://www.bezrealitky.cz/nemovitosti-byty-domy/573172-nabidka-prodej-bytu',\n 'https://www.bezrealitky.cz/nemovitosti-byty-domy/600778-nabidka-prodej-bytu-petrzilkova-praha',\n 'https://www.bezrealitky.cz/nemovitosti-byty-domy/593657-nabidka-prodej-bytu-moskevska-praha',\n 'https://www.bezrealitky.cz/nemovitosti-byty-domy/578750-nabidka-prodej-bytu',\n 'https://www.bezrealitky.cz/nemovitosti-byty-domy/592913-nabidka-prodej-bytu-ruska-dubi',\n 'https://www.bezrealitky.cz/nemovitosti-byty-domy/600693-nabidka-prodej-bytu-spojovaci-praha',\n 'https://www.bezrealitky.cz/nemovitosti-byty-domy/591429-nabidka-prodej-bytu-sazovicka',\n 'https://www.bezrealitky.cz/nemovitosti-byty-domy/600666-nabidka-prodej-bytu-habrova-praha',\n 'https://www.bezrealitky.cz/nemovitosti-byty-domy/600493-nabidka-prodej-bytu-bydzovskeho-prague',\n 'https://www.bezrealitky.cz/nemovitosti-byty-domy/601412-nabidka-prodej-bytu-slancova-praha',\n 'https://www.bezrealitky.cz/nemovitosti-byty-domy/600612-nabidka-prodej-bytu-charkovska-praha',\n 'https://www.bezrealitky.cz/nemovitosti-byty-domy/593340-nabidka-prodej-bytu-kubelikova-praha',\n 'https://www.bezrealitky.cz/nemovitosti-byty-domy/599272-nabidka-prodej-bytu-letnany',\n 'https://www.bezrealitky.cz/nemovitosti-byty-domy/601315-nabidka-prodej-bytu-ve-smeckach-praha',\n 'https://www.bezrealitky.cz/nemovitosti-byty-domy/600536-nabidka-prodej-bytu-bozdechova-hradec-kralove',\n 'https://www.bezrealitky.cz/nemovitosti-byty-domy/600531-nabidka-prodej-bytu-dvorecke-namesti-praha',\n 'https://www.bezrealitky.cz/nemovitosti-byty-domy/583570-nabidka-prodej-bytu-lucemburska-praha',\n 'https://www.bezrealitky.cz/nemovitosti-byty-domy/596912-nabidka-prodej-bytu-staromestske-namesti-prague',\n 'https://www.bezrealitky.cz/nemovitosti-byty-domy/597074-nabidka-prodej-bytu-boticska-praha',\n 'https://www.bezrealitky.cz/nemovitosti-byty-domy/601179-nabidka-prodej-bytu-sosnovecka-praha',\n 'https://www.bezrealitky.cz/nemovitosti-byty-domy/596471-nabidka-prodej-bytu-vrsovicka-praha',\n 'https://www.bezrealitky.cz/nemovitosti-byty-domy/601153-nabidka-prodej-bytu-krivenicka-praha',\n 'https://www.bezrealitky.cz/nemovitosti-byty-domy/523788-nabidka-prodej-bytu-ostrovni-praha',\n 'https://www.bezrealitky.cz/nemovitosti-byty-domy/601102-nabidka-prodej-bytu-saturnova',\n 'https://www.bezrealitky.cz/nemovitosti-byty-domy/574974-nabidka-prodej-bytu-precechtelova-praha-13',\n 'https://www.bezrealitky.cz/nemovitosti-byty-domy/601050-nabidka-prodej-bytu-zelena-praha',\n 'https://www.bezrealitky.cz/nemovitosti-byty-domy/600426-nabidka-prodej-bytu-mezi-vodami-prague',\n 'https://www.bezrealitky.cz/nemovitosti-byty-domy/588157-nabidka-prodej-bytu-u-domu-sluzeb-praha-12',\n 'https://www.bezrealitky.cz/nemovitosti-byty-domy/517092-nabidka-prodej-bytu',\n 'https://www.bezrealitky.cz/nemovitosti-byty-domy/601026-nabidka-prodej-bytu-na-dolinach-praha',\n 'https://www.bezrealitky.cz/nemovitosti-byty-domy/600998-nabidka-prodej-bytu-spojovaci-praha',\n 'https://www.bezrealitky.cz/nemovitosti-byty-domy/600268-nabidka-prodej-bytu-krupna-praha',\n 'https://www.bezrealitky.cz/nemovitosti-byty-domy/554869-nabidka-prodej-bytu',\n 'https://www.bezrealitky.cz/nemovitosti-byty-domy/596908-nabidka-prodej-bytu-pod-nouzovem-kbely',\n 'https://www.bezrealitky.cz/nemovitosti-byty-domy/600168-nabidka-prodej-bytu-vysocanska-praha',\n 'https://www.bezrealitky.cz/nemovitosti-byty-domy/600153-nabidka-prodej-bytu-bermanova',\n 'https://www.bezrealitky.cz/nemovitosti-byty-domy/600148-nabidka-prodej-bytu-ostrovskeho-praha',\n 'https://www.bezrealitky.cz/nemovitosti-byty-domy/600120-nabidka-prodej-bytu-duchoslavka-praha',\n 'https://www.bezrealitky.cz/nemovitosti-byty-domy/587710-nabidka-prodej-bytu-karasova-praha',\n 'https://www.bezrealitky.cz/nemovitosti-byty-domy/587711-nabidka-prodej-bytu-karoliny-svetle-praha',\n 'https://www.bezrealitky.cz/nemovitosti-byty-domy/600842-nabidka-prodej-bytu-plzenska-praha',\n 'https://www.bezrealitky.cz/nemovitosti-byty-domy/586630-nabidka-prodej-bytu',\n 'https://www.bezrealitky.cz/nemovitosti-byty-domy/600828-nabidka-prodej-bytu-prague',\n 'https://www.bezrealitky.cz/nemovitosti-byty-domy/596645-nabidka-prodej-bytu-gabinova-praha',\n 'https://www.bezrealitky.cz/nemovitosti-byty-domy/537694-nabidka-prodej-bytu-u-mlynskeho-kanalu-hlavni-mesto-praha',\n 'https://www.bezrealitky.cz/nemovitosti-byty-domy/589708-nabidka-prodej-bytu-rohanske-nabrezi-praha',\n 'https://www.bezrealitky.cz/nemovitosti-byty-domy/596148-nabidka-prodej-bytu-malkovskeho-letnany',\n 'https://www.bezrealitky.cz/nemovitosti-byty-domy/600382-nabidka-prodej-bytu',\n 'https://www.bezrealitky.cz/nemovitosti-byty-domy/600747-nabidka-prodej-bytu-santrochova-hradec-kralove',\n 'https://www.bezrealitky.cz/nemovitosti-byty-domy/599926-nabidka-prodej-bytu-skuteckeho-praha',\n 'https://www.bezrealitky.cz/nemovitosti-byty-domy/599268-nabidka-prodej-bytu-svihovska',\n 'https://www.bezrealitky.cz/nemovitosti-byty-domy/599552-nabidka-prodej-bytu-v-predpoli-praha',\n 'https://www.bezrealitky.cz/nemovitosti-byty-domy/599975-nabidka-prodej-bytu',\n 'https://www.bezrealitky.cz/nemovitosti-byty-domy/600647-nabidka-prodej-bytu-belocerkevska-praha',\n 'https://www.bezrealitky.cz/nemovitosti-byty-domy/600617-nabidka-prodej-bytu-vodnanskeho-praha',\n 'https://www.bezrealitky.cz/nemovitosti-byty-domy/599456-nabidka-prodej-bytu-na-zertvach-praha',\n 'https://www.bezrealitky.cz/nemovitosti-byty-domy/596389-nabidka-prodej-bytu-veselska-letnany',\n 'https://www.bezrealitky.cz/nemovitosti-byty-domy/599763-nabidka-prodej-bytu-lublinska-praha',\n 'https://www.bezrealitky.cz/nemovitosti-byty-domy/590118-nabidka-prodej-bytu-poznanska-praha',\n 'https://www.bezrealitky.cz/nemovitosti-byty-domy/600481-nabidka-prodej-bytu-pobrezni-praha',\n 'https://www.bezrealitky.cz/nemovitosti-byty-domy/599708-nabidka-prodej-bytu-nad-udolim-prague',\n 'https://www.bezrealitky.cz/nemovitosti-byty-domy/600423-nabidka-prodej-bytu-honzikova-praha',\n 'https://www.bezrealitky.cz/nemovitosti-byty-domy/599726-nabidka-prodej-bytu-litomericka-praha',\n 'https://www.bezrealitky.cz/nemovitosti-byty-domy/585838-nabidka-prodej-bytu-dvouletky-praha',\n 'https://www.bezrealitky.cz/nemovitosti-byty-domy/584531-nabidka-prodej-bytu-jana-zajice-praha',\n 'https://www.bezrealitky.cz/nemovitosti-byty-domy/600035-nabidka-prodej-bytu-salmovska-praha',\n 'https://www.bezrealitky.cz/nemovitosti-byty-domy/599150-nabidka-prodej-bytu-vrutecka-praha',\n 'https://www.bezrealitky.cz/nemovitosti-byty-domy/600279-nabidka-prodej-bytu-bramborikova-praha',\n 'https://www.bezrealitky.cz/nemovitosti-byty-domy/560530-nabidka-prodej-bytu-honzikova-praha-dolni-mecholupy',\n 'https://www.bezrealitky.cz/nemovitosti-byty-domy/599460-nabidka-prodej-bytu-rezlerova-praha',\n 'https://www.bezrealitky.cz/nemovitosti-byty-domy/600079-nabidka-prodej-bytu-sidlistni-praha',\n 'https://www.bezrealitky.cz/nemovitosti-byty-domy/593020-nabidka-prodej-bytu-janovska-praha',\n 'https://www.bezrealitky.cz/nemovitosti-byty-domy/599351-nabidka-prodej-bytu-umelecka-praha',\n 'https://www.bezrealitky.cz/nemovitosti-byty-domy/600005-nabidka-prodej-bytu-reckova-praha',\n 'https://www.bezrealitky.cz/nemovitosti-byty-domy/598860-nabidka-prodej-bytu-cilkova-praha',\n 'https://www.bezrealitky.cz/nemovitosti-byty-domy/598208-nabidka-prodej-bytu-v-uzlabine-praha',\n 'https://www.bezrealitky.cz/nemovitosti-byty-domy/599293-nabidka-prodej-bytu-pernerova-prague',\n 'https://www.bezrealitky.cz/nemovitosti-byty-domy/599259-nabidka-prodej-bytu-konselska-praha',\n 'https://www.bezrealitky.cz/nemovitosti-byty-domy/599216-nabidka-prodej-bytu-podebradska-hlavni-mesto-praha',\n 'https://www.bezrealitky.cz/nemovitosti-byty-domy/599178-nabidka-prodej-bytu-mala-plynarni-prague',\n 'https://www.bezrealitky.cz/nemovitosti-byty-domy/597760-nabidka-prodej-bytu-kandertova-praha',\n 'https://www.bezrealitky.cz/nemovitosti-byty-domy/599145-nabidka-prodej-bytu-mikulase-z-husi-praha',\n 'https://www.bezrealitky.cz/nemovitosti-byty-domy/599113-nabidka-prodej-bytu-taussigova-praha',\n 'https://www.bezrealitky.cz/nemovitosti-byty-domy/597766-nabidka-prodej-bytu-na-dolinach-praha',\n 'https://www.bezrealitky.cz/nemovitosti-byty-domy/598916-nabidka-prodej-bytu-stibrova-hlavni-mesto-praha',\n 'https://www.bezrealitky.cz/nemovitosti-byty-domy/556699-nabidka-prodej-bytu-ujezd',\n 'https://www.bezrealitky.cz/nemovitosti-byty-domy/598969-nabidka-prodej-bytu-praha',\n 'https://www.bezrealitky.cz/nemovitosti-byty-domy/588690-listing-for-sale-flat-hnezdenska-prague',\n 'https://www.bezrealitky.cz/nemovitosti-byty-domy/598855-nabidka-prodej-bytu-matousova',\n 'https://www.bezrealitky.cz/nemovitosti-byty-domy/566421-nabidka-prodej-bytu-horolezecka-praha-15',\n 'https://www.bezrealitky.cz/nemovitosti-byty-domy/598657-nabidka-prodej-bytu-baskirska-prague',\n 'https://www.bezrealitky.cz/nemovitosti-byty-domy/598123-nabidka-prodej-bytu-budejovicka',\n 'https://www.bezrealitky.cz/nemovitosti-byty-domy/582322-nabidka-prodej-bytu-raichlova',\n 'https://www.bezrealitky.cz/nemovitosti-byty-domy/531209-nabidka-prodej-bytu',\n 'https://www.bezrealitky.cz/nemovitosti-byty-domy/593278-nabidka-prodej-bytu-werichova-hlavni-mesto-praha',\n 'https://www.bezrealitky.cz/nemovitosti-byty-domy/570396-nabidka-prodej-bytu-borovanskeho-praha-13',\n 'https://www.bezrealitky.cz/nemovitosti-byty-domy/598479-nabidka-prodej-bytu-v-zalomu-praha',\n 'https://www.bezrealitky.cz/nemovitosti-byty-domy/598461-nabidka-prodej-bytu-pujmanove-praha',\n 'https://www.bezrealitky.cz/nemovitosti-byty-domy/598435-nabidka-prodej-bytu-k-louzi-praha',\n 'https://www.bezrealitky.cz/nemovitosti-byty-domy/586400-nabidka-prodej-bytu-korunni',\n 'https://www.bezrealitky.cz/nemovitosti-byty-domy/598393-nabidka-prodej-bytu-vresovicka-praha',\n 'https://www.bezrealitky.cz/nemovitosti-byty-domy/580709-nabidka-prodej-bytu-praha-holesovice',\n 'https://www.bezrealitky.cz/nemovitosti-byty-domy/597726-nabidka-prodej-bytu-u-krizku-praha',\n 'https://www.bezrealitky.cz/nemovitosti-byty-domy/596366-nabidka-prodej-bytu-kurzova-praha',\n 'https://www.bezrealitky.cz/nemovitosti-byty-domy/598286-nabidka-prodej-bytu-kolinska-prague',\n 'https://www.bezrealitky.cz/nemovitosti-byty-domy/598304-nabidka-prodej-bytu-kabesova-prague',\n 'https://www.bezrealitky.cz/nemovitosti-byty-domy/598235-nabidka-prodej-bytu-k-lucinam-praha',\n 'https://www.bezrealitky.cz/nemovitosti-byty-domy/560744-nabidka-prodej-bytu-plzenska-praha-5',\n 'https://www.bezrealitky.cz/nemovitosti-byty-domy/598052-nabidka-prodej-bytu-mattioliho-prag',\n 'https://www.bezrealitky.cz/nemovitosti-byty-domy/598081-nabidka-prodej-bytu-hlavackova-praha',\n 'https://www.bezrealitky.cz/nemovitosti-byty-domy/598043-nabidka-prodej-bytu-u-botice-praha',\n 'https://www.bezrealitky.cz/nemovitosti-byty-domy/585786-nabidka-prodej-bytu-cistovicka-praha',\n 'https://www.bezrealitky.cz/nemovitosti-byty-domy/597908-nabidka-prodej-bytu-malkovskeho-letnany',\n 'https://www.bezrealitky.cz/nemovitosti-byty-domy/597858-nabidka-prodej-bytu-pod-vrstevnici-praha',\n 'https://www.bezrealitky.cz/nemovitosti-byty-domy/597856-nabidka-prodej-bytu-vyzlovska-prague',\n 'https://www.bezrealitky.cz/nemovitosti-byty-domy/553579-nabidka-prodej-bytu-kosicka-hlavni-mesto-praha',\n 'https://www.bezrealitky.cz/nemovitosti-byty-domy/597790-nabidka-prodej-bytu-hnevkovskeho-praha',\n 'https://www.bezrealitky.cz/nemovitosti-byty-domy/597786-nabidka-prodej-bytu-planickova-praha',\n 'https://www.bezrealitky.cz/nemovitosti-byty-domy/597671-nabidka-prodej-bytu-seifertova-praha',\n 'https://www.bezrealitky.cz/nemovitosti-byty-domy/597669-nabidka-prodej-bytu-praha',\n 'https://www.bezrealitky.cz/nemovitosti-byty-domy/595586-nabidka-prodej-bytu-krasova-praha',\n 'https://www.bezrealitky.cz/nemovitosti-byty-domy/597468-nabidka-prodej-bytu',\n 'https://www.bezrealitky.cz/nemovitosti-byty-domy/597344-nabidka-prodej-bytu-slezska-praha',\n 'https://www.bezrealitky.cz/nemovitosti-byty-domy/597266-nabidka-prodej-bytu-svehlova-praha',\n 'https://www.bezrealitky.cz/nemovitosti-byty-domy/597242-nabidka-prodej-bytu-pobrezni-prague',\n 'https://www.bezrealitky.cz/nemovitosti-byty-domy/597197-nabidka-prodej-bytu-pisecka-praha',\n 'https://www.bezrealitky.cz/nemovitosti-byty-domy/597107-nabidka-prodej-bytu-na-navsi',\n 'https://www.bezrealitky.cz/nemovitosti-byty-domy/597084-nabidka-prodej-bytu-prachnerova-praha',\n 'https://www.bezrealitky.cz/nemovitosti-byty-domy/597056-nabidka-prodej-bytu-mrazkova',\n 'https://www.bezrealitky.cz/nemovitosti-byty-domy/597285-nabidka-prodej-bytu-toufarova',\n 'https://www.bezrealitky.cz/nemovitosti-byty-domy/596728-nabidka-prodej-bytu-vrsovicka-praha',\n 'https://www.bezrealitky.cz/nemovitosti-byty-domy/596983-nabidka-prodej-bytu-pisecka-praha',\n 'https://www.bezrealitky.cz/nemovitosti-byty-domy/596770-nabidka-prodej-bytu-presticka-praha',\n 'https://www.bezrealitky.cz/nemovitosti-byty-domy/596882-nabidka-prodej-bytu-musilkova-praha',\n 'https://www.bezrealitky.cz/nemovitosti-byty-domy/596847-nabidka-prodej-bytu-klimentska-praha',\n 'https://www.bezrealitky.cz/nemovitosti-byty-domy/493173-nabidka-prodej-bytu-sterboholska-praha-15',\n 'https://www.bezrealitky.cz/nemovitosti-byty-domy/596710-nabidka-prodej-bytu-podskalska-praha',\n 'https://www.bezrealitky.cz/nemovitosti-byty-domy/596704-nabidka-prodej-bytu-podskalska-praha',\n 'https://www.bezrealitky.cz/nemovitosti-byty-domy/573768-nabidka-prodej-bytu-matousova-hlavni-mesto-praha',\n 'https://www.bezrealitky.cz/nemovitosti-byty-domy/592926-nabidka-prodej-bytu-sicherova',\n 'https://www.bezrealitky.cz/nemovitosti-byty-domy/595281-nabidka-prodej-bytu-vitkova-praha',\n 'https://www.bezrealitky.cz/nemovitosti-byty-domy/596041-listing-for-sale-flat-petrohradska-prague',\n 'https://www.bezrealitky.cz/nemovitosti-byty-domy/595372-nabidka-prodej-bytu-subertova-praha',\n 'https://www.bezrealitky.cz/nemovitosti-byty-domy/595350-nabidka-prodej-bytu-na-volanove-praha',\n 'https://www.bezrealitky.cz/nemovitosti-byty-domy/594186-nabidka-prodej-bytu-dalimilova-praha',\n 'https://www.bezrealitky.cz/nemovitosti-byty-domy/594826-nabidka-prodej-bytu-chudenicka-prague',\n 'https://www.bezrealitky.cz/nemovitosti-byty-domy/589296-nabidka-prodej-bytu-ujezd-praha',\n 'https://www.bezrealitky.cz/nemovitosti-byty-domy/595046-nabidka-prodej-bytu-belocerkevska-praha',\n 'https://www.bezrealitky.cz/nemovitosti-byty-domy/594783-nabidka-prodej-bytu-oldrichova-praha',\n 'https://www.bezrealitky.cz/nemovitosti-byty-domy/594694-nabidka-prodej-bytu-jerabinova-praha',\n 'https://www.bezrealitky.cz/nemovitosti-byty-domy/594692-nabidka-prodej-bytu-za-karlinskym-pristavem-praha',\n 'https://www.bezrealitky.cz/nemovitosti-byty-domy/576770-nabidka-prodej-bytu-na-vaclavce-praha-5',\n 'https://www.bezrealitky.cz/nemovitosti-byty-domy/581825-nabidka-prodej-bytu-devonska-praha-5',\n 'https://www.bezrealitky.cz/nemovitosti-byty-domy/594276-nabidka-prodej-bytu-mysliveckova-prague',\n 'https://www.bezrealitky.cz/nemovitosti-byty-domy/581378-nabidka-prodej-bytu-u-libenskeho-pivovaru-praha-8',\n 'https://www.bezrealitky.cz/nemovitosti-byty-domy/594214-nabidka-prodej-bytu-delnicka-praha',\n 'https://www.bezrealitky.cz/nemovitosti-byty-domy/594009-nabidka-prodej-bytu-zeletavska-praha',\n 'https://www.bezrealitky.cz/nemovitosti-byty-domy/593849-nabidka-prodej-bytu-na-veseli-praha',\n 'https://www.bezrealitky.cz/nemovitosti-byty-domy/593271-nabidka-prodej-bytu-ucnovska-praha',\n 'https://www.bezrealitky.cz/nemovitosti-byty-domy/593061-nabidka-prodej-bytu-u-pruhonu-praha',\n 'https://www.bezrealitky.cz/nemovitosti-byty-domy/573182-nabidka-prodej-bytu-hlavni-mesto-praha',\n 'https://www.bezrealitky.cz/nemovitosti-byty-domy/592993-nabidka-prodej-bytu-generala-janouska-praha',\n 'https://www.bezrealitky.cz/nemovitosti-byty-domy/572998-nabidka-prodej-bytu-platonova-hlavni-mesto-praha',\n 'https://www.bezrealitky.cz/nemovitosti-byty-domy/587602-nabidka-prodej-bytu-olgy-havlove-praha',\n 'https://www.bezrealitky.cz/nemovitosti-byty-domy/460769-nabidka-prodej-bytu-narodnich-hrdinu-praha',\n 'https://www.bezrealitky.cz/nemovitosti-byty-domy/478574-nabidka-prodej-bytu-v-zapoli-praha-4',\n 'https://www.bezrealitky.cz/nemovitosti-byty-domy/468857-nabidka-prodej-bytu-olsanska-praha',\n 'https://www.bezrealitky.cz/nemovitosti-byty-domy/364496-nabidka-prodej-bytu-k-dalnici']"
     },
     "metadata": {},
     "execution_count": 393
    }
   ],
   "source": [
    "links_properties_rent_unlist_old "
   ]
  },
  {
   "cell_type": "code",
   "execution_count": 394,
   "metadata": {},
   "outputs": [
    {
     "output_type": "execute_result",
     "data": {
      "text/plain": "          lat       long          variable         value\n0   50.067682  14.500067         Internet:              \n1   50.067682  14.500067   Číslo inzerátu:        590323\n2   50.067682  14.500067        Dispozice:           2+1\n3   50.067682  14.500067           Plocha:         71 m²\n4   50.067682  14.500067             Cena:  5.370.000 Kč\n5   50.067682  14.500067            Město:         Praha\n6   50.067682  14.500067     Městská část:     Strašnice\n7   50.067682  14.500067  Typ vlastnictví:        Osobní\n8   50.067682  14.500067       Typ budovy:         Panel\n9   50.067682  14.500067             PENB:             G\n10  50.067682  14.500067          Podlaží:             2\n11  50.067682  14.500067           Balkón:            Ne\n12  50.067682  14.500067           Terasa:            Ne\n13  50.067682  14.500067            Výtah:            Ne\n14  50.067682  14.500067            Garáž:            Ne\n15  50.067682  14.500067   K dispozici od:    14.01.2020",
      "text/html": "<div>\n<style scoped>\n    .dataframe tbody tr th:only-of-type {\n        vertical-align: middle;\n    }\n\n    .dataframe tbody tr th {\n        vertical-align: top;\n    }\n\n    .dataframe thead th {\n        text-align: right;\n    }\n</style>\n<table border=\"1\" class=\"dataframe\">\n  <thead>\n    <tr style=\"text-align: right;\">\n      <th></th>\n      <th>lat</th>\n      <th>long</th>\n      <th>variable</th>\n      <th>value</th>\n    </tr>\n  </thead>\n  <tbody>\n    <tr>\n      <th>0</th>\n      <td>50.067682</td>\n      <td>14.500067</td>\n      <td>Internet:</td>\n      <td></td>\n    </tr>\n    <tr>\n      <th>1</th>\n      <td>50.067682</td>\n      <td>14.500067</td>\n      <td>Číslo inzerátu:</td>\n      <td>590323</td>\n    </tr>\n    <tr>\n      <th>2</th>\n      <td>50.067682</td>\n      <td>14.500067</td>\n      <td>Dispozice:</td>\n      <td>2+1</td>\n    </tr>\n    <tr>\n      <th>3</th>\n      <td>50.067682</td>\n      <td>14.500067</td>\n      <td>Plocha:</td>\n      <td>71 m²</td>\n    </tr>\n    <tr>\n      <th>4</th>\n      <td>50.067682</td>\n      <td>14.500067</td>\n      <td>Cena:</td>\n      <td>5.370.000 Kč</td>\n    </tr>\n    <tr>\n      <th>5</th>\n      <td>50.067682</td>\n      <td>14.500067</td>\n      <td>Město:</td>\n      <td>Praha</td>\n    </tr>\n    <tr>\n      <th>6</th>\n      <td>50.067682</td>\n      <td>14.500067</td>\n      <td>Městská část:</td>\n      <td>Strašnice</td>\n    </tr>\n    <tr>\n      <th>7</th>\n      <td>50.067682</td>\n      <td>14.500067</td>\n      <td>Typ vlastnictví:</td>\n      <td>Osobní</td>\n    </tr>\n    <tr>\n      <th>8</th>\n      <td>50.067682</td>\n      <td>14.500067</td>\n      <td>Typ budovy:</td>\n      <td>Panel</td>\n    </tr>\n    <tr>\n      <th>9</th>\n      <td>50.067682</td>\n      <td>14.500067</td>\n      <td>PENB:</td>\n      <td>G</td>\n    </tr>\n    <tr>\n      <th>10</th>\n      <td>50.067682</td>\n      <td>14.500067</td>\n      <td>Podlaží:</td>\n      <td>2</td>\n    </tr>\n    <tr>\n      <th>11</th>\n      <td>50.067682</td>\n      <td>14.500067</td>\n      <td>Balkón:</td>\n      <td>Ne</td>\n    </tr>\n    <tr>\n      <th>12</th>\n      <td>50.067682</td>\n      <td>14.500067</td>\n      <td>Terasa:</td>\n      <td>Ne</td>\n    </tr>\n    <tr>\n      <th>13</th>\n      <td>50.067682</td>\n      <td>14.500067</td>\n      <td>Výtah:</td>\n      <td>Ne</td>\n    </tr>\n    <tr>\n      <th>14</th>\n      <td>50.067682</td>\n      <td>14.500067</td>\n      <td>Garáž:</td>\n      <td>Ne</td>\n    </tr>\n    <tr>\n      <th>15</th>\n      <td>50.067682</td>\n      <td>14.500067</td>\n      <td>K dispozici od:</td>\n      <td>14.01.2020</td>\n    </tr>\n  </tbody>\n</table>\n</div>"
     },
     "metadata": {},
     "execution_count": 394
    }
   ],
   "source": [
    "HouseForSale(links_properties_rent_unlist[15]).getDf()"
   ]
  },
  {
   "cell_type": "code",
   "execution_count": 382,
   "metadata": {},
   "outputs": [],
   "source": [
    "df_complete_rent = pd.DataFrame()\n",
    "for li in links_properties_rent_unlist_old:\n",
    "    df_unit = HouseForSale(li).getDf()\n",
    "    df_complete_sale = pd.concat([df_complete_rent, df_unit])"
   ]
  },
  {
   "cell_type": "code",
   "execution_count": 400,
   "metadata": {},
   "outputs": [
    {
     "output_type": "execute_result",
     "data": {
      "text/plain": "           lat       long               variable  \\\n0   50.0585874  14.377194              Internet:   \n1   50.0585874  14.377194        Číslo inzerátu:   \n2   50.0585874  14.377194             Dispozice:   \n3   50.0585874  14.377194                Plocha:   \n4   50.0585874  14.377194                  Cena:   \n5   50.0585874  14.377194                 Město:   \n6   50.0585874  14.377194          Městská část:   \n7   50.0585874  14.377194       Typ vlastnictví:   \n8   50.0585874  14.377194            Typ budovy:   \n9   50.0585874  14.377194            Vybavenost:   \n10  50.0585874  14.377194               Podlaží:   \n11  50.0585874  14.377194                Balkón:   \n12  50.0585874  14.377194                Terasa:   \n13  50.0585874  14.377194                 Výtah:   \n14  50.0585874  14.377194                 Garáž:   \n0     50.07484  14.500885              Internet:   \n1     50.07484  14.500885        Číslo inzerátu:   \n2     50.07484  14.500885             Dispozice:   \n3     50.07484  14.500885                Plocha:   \n4     50.07484  14.500885                  Cena:   \n5     50.07484  14.500885                 Město:   \n6     50.07484  14.500885          Městská část:   \n7     50.07484  14.500885       Typ vlastnictví:   \n8     50.07484  14.500885            Typ budovy:   \n9     50.07484  14.500885                  PENB:   \n10    50.07484  14.500885            Vybavenost:   \n11    50.07484  14.500885               Podlaží:   \n12    50.07484  14.500885                Balkón:   \n13    50.07484  14.500885                Terasa:   \n14    50.07484  14.500885                 Výtah:   \n15    50.07484  14.500885                 Garáž:   \n16    50.07484  14.500885        K dispozici od:   \n17    50.07484  14.500885             Provedení:   \n18    50.07484  14.500885  Podlaží v rámci domu:   \n\n                                        value  \n0                                              \n1                                      561292  \n2                                        1+kk  \n3                                       23 m²  \n4                                2.708.000 Kč  \n5                                       Praha  \n6                                    Jinonice  \n7                                      Osobní  \n8                                       Panel  \n9                                  Nevybavený  \n10                                          2  \n11                                         Ne  \n12                                         Ne  \n13                                         Ne  \n14                                         Ne  \n0                                              \n1                                      584343  \n2                                         2+1  \n3                                       65 m²  \n4                                6.250.000 Kč  \n5                                       Praha  \n6                                   Strašnice  \n7                                      Osobní  \n8                                       Cihla  \n9                                           G  \n10                                   Vybavený  \n11                                          2  \n12                                         Ne  \n13                                         Ne  \n14                                         Ne  \n15                                         Ne  \n16                                 01.12.2019  \n17  standardní: běžné materiály a technologie  \n18              první až předposlední podlaží  ",
      "text/html": "<div>\n<style scoped>\n    .dataframe tbody tr th:only-of-type {\n        vertical-align: middle;\n    }\n\n    .dataframe tbody tr th {\n        vertical-align: top;\n    }\n\n    .dataframe thead th {\n        text-align: right;\n    }\n</style>\n<table border=\"1\" class=\"dataframe\">\n  <thead>\n    <tr style=\"text-align: right;\">\n      <th></th>\n      <th>lat</th>\n      <th>long</th>\n      <th>variable</th>\n      <th>value</th>\n    </tr>\n  </thead>\n  <tbody>\n    <tr>\n      <th>0</th>\n      <td>50.0585874</td>\n      <td>14.377194</td>\n      <td>Internet:</td>\n      <td></td>\n    </tr>\n    <tr>\n      <th>1</th>\n      <td>50.0585874</td>\n      <td>14.377194</td>\n      <td>Číslo inzerátu:</td>\n      <td>561292</td>\n    </tr>\n    <tr>\n      <th>2</th>\n      <td>50.0585874</td>\n      <td>14.377194</td>\n      <td>Dispozice:</td>\n      <td>1+kk</td>\n    </tr>\n    <tr>\n      <th>3</th>\n      <td>50.0585874</td>\n      <td>14.377194</td>\n      <td>Plocha:</td>\n      <td>23 m²</td>\n    </tr>\n    <tr>\n      <th>4</th>\n      <td>50.0585874</td>\n      <td>14.377194</td>\n      <td>Cena:</td>\n      <td>2.708.000 Kč</td>\n    </tr>\n    <tr>\n      <th>5</th>\n      <td>50.0585874</td>\n      <td>14.377194</td>\n      <td>Město:</td>\n      <td>Praha</td>\n    </tr>\n    <tr>\n      <th>6</th>\n      <td>50.0585874</td>\n      <td>14.377194</td>\n      <td>Městská část:</td>\n      <td>Jinonice</td>\n    </tr>\n    <tr>\n      <th>7</th>\n      <td>50.0585874</td>\n      <td>14.377194</td>\n      <td>Typ vlastnictví:</td>\n      <td>Osobní</td>\n    </tr>\n    <tr>\n      <th>8</th>\n      <td>50.0585874</td>\n      <td>14.377194</td>\n      <td>Typ budovy:</td>\n      <td>Panel</td>\n    </tr>\n    <tr>\n      <th>9</th>\n      <td>50.0585874</td>\n      <td>14.377194</td>\n      <td>Vybavenost:</td>\n      <td>Nevybavený</td>\n    </tr>\n    <tr>\n      <th>10</th>\n      <td>50.0585874</td>\n      <td>14.377194</td>\n      <td>Podlaží:</td>\n      <td>2</td>\n    </tr>\n    <tr>\n      <th>11</th>\n      <td>50.0585874</td>\n      <td>14.377194</td>\n      <td>Balkón:</td>\n      <td>Ne</td>\n    </tr>\n    <tr>\n      <th>12</th>\n      <td>50.0585874</td>\n      <td>14.377194</td>\n      <td>Terasa:</td>\n      <td>Ne</td>\n    </tr>\n    <tr>\n      <th>13</th>\n      <td>50.0585874</td>\n      <td>14.377194</td>\n      <td>Výtah:</td>\n      <td>Ne</td>\n    </tr>\n    <tr>\n      <th>14</th>\n      <td>50.0585874</td>\n      <td>14.377194</td>\n      <td>Garáž:</td>\n      <td>Ne</td>\n    </tr>\n    <tr>\n      <th>0</th>\n      <td>50.07484</td>\n      <td>14.500885</td>\n      <td>Internet:</td>\n      <td></td>\n    </tr>\n    <tr>\n      <th>1</th>\n      <td>50.07484</td>\n      <td>14.500885</td>\n      <td>Číslo inzerátu:</td>\n      <td>584343</td>\n    </tr>\n    <tr>\n      <th>2</th>\n      <td>50.07484</td>\n      <td>14.500885</td>\n      <td>Dispozice:</td>\n      <td>2+1</td>\n    </tr>\n    <tr>\n      <th>3</th>\n      <td>50.07484</td>\n      <td>14.500885</td>\n      <td>Plocha:</td>\n      <td>65 m²</td>\n    </tr>\n    <tr>\n      <th>4</th>\n      <td>50.07484</td>\n      <td>14.500885</td>\n      <td>Cena:</td>\n      <td>6.250.000 Kč</td>\n    </tr>\n    <tr>\n      <th>5</th>\n      <td>50.07484</td>\n      <td>14.500885</td>\n      <td>Město:</td>\n      <td>Praha</td>\n    </tr>\n    <tr>\n      <th>6</th>\n      <td>50.07484</td>\n      <td>14.500885</td>\n      <td>Městská část:</td>\n      <td>Strašnice</td>\n    </tr>\n    <tr>\n      <th>7</th>\n      <td>50.07484</td>\n      <td>14.500885</td>\n      <td>Typ vlastnictví:</td>\n      <td>Osobní</td>\n    </tr>\n    <tr>\n      <th>8</th>\n      <td>50.07484</td>\n      <td>14.500885</td>\n      <td>Typ budovy:</td>\n      <td>Cihla</td>\n    </tr>\n    <tr>\n      <th>9</th>\n      <td>50.07484</td>\n      <td>14.500885</td>\n      <td>PENB:</td>\n      <td>G</td>\n    </tr>\n    <tr>\n      <th>10</th>\n      <td>50.07484</td>\n      <td>14.500885</td>\n      <td>Vybavenost:</td>\n      <td>Vybavený</td>\n    </tr>\n    <tr>\n      <th>11</th>\n      <td>50.07484</td>\n      <td>14.500885</td>\n      <td>Podlaží:</td>\n      <td>2</td>\n    </tr>\n    <tr>\n      <th>12</th>\n      <td>50.07484</td>\n      <td>14.500885</td>\n      <td>Balkón:</td>\n      <td>Ne</td>\n    </tr>\n    <tr>\n      <th>13</th>\n      <td>50.07484</td>\n      <td>14.500885</td>\n      <td>Terasa:</td>\n      <td>Ne</td>\n    </tr>\n    <tr>\n      <th>14</th>\n      <td>50.07484</td>\n      <td>14.500885</td>\n      <td>Výtah:</td>\n      <td>Ne</td>\n    </tr>\n    <tr>\n      <th>15</th>\n      <td>50.07484</td>\n      <td>14.500885</td>\n      <td>Garáž:</td>\n      <td>Ne</td>\n    </tr>\n    <tr>\n      <th>16</th>\n      <td>50.07484</td>\n      <td>14.500885</td>\n      <td>K dispozici od:</td>\n      <td>01.12.2019</td>\n    </tr>\n    <tr>\n      <th>17</th>\n      <td>50.07484</td>\n      <td>14.500885</td>\n      <td>Provedení:</td>\n      <td>standardní: běžné materiály a technologie</td>\n    </tr>\n    <tr>\n      <th>18</th>\n      <td>50.07484</td>\n      <td>14.500885</td>\n      <td>Podlaží v rámci domu:</td>\n      <td>první až předposlední podlaží</td>\n    </tr>\n  </tbody>\n</table>\n</div>"
     },
     "metadata": {},
     "execution_count": 400
    }
   ],
   "source": [
    "house_1 = HouseForSale(links_properties_rent_unlist_old[10]).getDf()\n",
    "house_2 = HouseForSale(links_properties_rent_unlist_old[20]).getDf()\n",
    "pd.concat([house_1,house_2])"
   ]
  },
  {
   "cell_type": "code",
   "execution_count": 399,
   "metadata": {},
   "outputs": [
    {
     "output_type": "execute_result",
     "data": {
      "text/plain": "(0, 0)"
     },
     "metadata": {},
     "execution_count": 399
    }
   ],
   "source": [
    "np.shape(df_complete_rent)"
   ]
  },
  {
   "cell_type": "code",
   "execution_count": 223,
   "metadata": {},
   "outputs": [
    {
     "output_type": "execute_result",
     "data": {
      "text/plain": "(50.106458, 14.659418)     23\n(50.078784, 14.48633)      22\n(50.041711, 14.569642)     22\n(50.058553, 14.282639)     21\n(50.094149, 14.495124)     20\n(50.030721, 14.369716)     18\n(50.053638, 14.355187)     16\n(50.06744, 14.302724)      16\n(50.072871, 14.477979)     15\n(50.0585874, 14.377194)    15\ndtype: int64"
     },
     "metadata": {},
     "execution_count": 223
    }
   ],
   "source": [
    "df_test.set_index(['lat','long']).index.value_counts()"
   ]
  }
 ],
 "metadata": {
  "file_extension": ".py",
  "kernelspec": {
   "display_name": "Python 3",
   "language": "python",
   "name": "python3"
  },
  "language_info": {
   "codemirror_mode": {
    "name": "ipython",
    "version": 3
   },
   "file_extension": ".py",
   "mimetype": "text/x-python",
   "name": "python",
   "nbconvert_exporter": "python",
   "pygments_lexer": "ipython3",
   "version": "3.7.3-final"
  },
  "mimetype": "text/x-python",
  "name": "python",
  "npconvert_exporter": "python",
  "pygments_lexer": "ipython3",
  "version": 3
 },
 "nbformat": 4,
 "nbformat_minor": 4
}