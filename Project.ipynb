{
 "cells": [
  {
   "cell_type": "code",
   "execution_count": 3,
   "metadata": {},
   "outputs": [],
   "source": [
    "import numpy as np\n",
    "import pandas as pd \n",
    "import requests\n",
    "from bs4 import BeautifulSoup\n",
    "import pandas as pd\n",
    "import tqdm as tqdm\n",
    "from lxml import html\n",
    "import time"
   ]
  },
  {
   "cell_type": "code",
   "execution_count": 109,
   "metadata": {},
   "outputs": [],
   "source": [
    "class HouseForSale: \n",
    "    '''\n",
    "    Getting desired infos from the webpage provided\n",
    "    '''\n",
    "    def __init__(self, link):\n",
    "        '''\n",
    "        Input a link in order to extract the necessary information\n",
    "        '''\n",
    "        self.link = link\n",
    "\n",
    "    def getSoup(self):\n",
    "        r = requests.get(self.link)\n",
    "        r.encoding = 'UTF-8'\n",
    "        return BeautifulSoup(r.text, 'html')\n",
    "    \n",
    "    def getParameters(self):\n",
    "        '''\n",
    "        Get parameters such as price, disposition, the state of the house\n",
    "        '''\n",
    "        bf = self.getSoup()\n",
    "        bf_table = bf.find('div',{'data-element':\"detail-description\"}).find('table')\n",
    "        table_extract = [i.text.strip() for i in bf_table.findAll('tr')]\n",
    "        df_table = pd.DataFrame(table_extract)\n",
    "        df_table_split = df_table[0].str.split(\"\\n\", expand = True)\n",
    "        df = pd.DataFrame(df_table_split[[0,1]])\n",
    "        df.columns = ['metric', 'value']\n",
    "        df = df.set_index('metric')\n",
    "        return df\n",
    "    \n",
    "    def getMap(self):\n",
    "        '''\n",
    "        Get location of the property using embeded google maps longtitute and lattitude parameters\n",
    "        '''\n",
    "        bf = self.getSoup()\n",
    "        bf_map = bf.find('div',{'id':\"map\"})\n",
    "        x = bf_map.find('iframe')['src'].find('q=') + 2 \n",
    "        y = bf_map.find('iframe')['src'].find('&key')\n",
    "        location = bf_map.find('iframe')['src'][x:y]\n",
    "        loc_str = location.split(',')\n",
    "        loc_dict = {\"lat\" : [loc_str[0]], \"long\": [loc_str[1]]}\n",
    "        loc_df = pd.DataFrame.from_dict(loc_dict, orient = 'index', columns = ['value'])\n",
    "        return loc_df\n",
    "    \n",
    "    def getDf(self):\n",
    "        '''\n",
    "        Return a wide dataframe from getMap() and getParameters(), index = latitute and longtitude\n",
    "        '''\n",
    "        df_par = self.getParameters()\n",
    "        df_map = self.getMap()\n",
    "        df = pd.concat([df_par, df_map])\n",
    "        df = df.T.set_index('lat', 'long')\n",
    "        return df"
   ]
  },
  {
   "cell_type": "code",
   "execution_count": 107,
   "metadata": {},
   "outputs": [],
   "source": [
    "one_house = HouseForSale('https://www.bezrealitky.cz/nemovitosti-byty-domy/595733-nabidka-prodej-bytu')"
   ]
  },
  {
   "cell_type": "markdown",
   "metadata": {},
   "source": [
    "# Downloader class\n",
    "- Manual test\n",
    "- defining class\n",
    "\n",
    "## Manual test"
   ]
  },
  {
   "cell_type": "code",
   "execution_count": 12,
   "metadata": {},
   "outputs": [],
   "source": [
    "def getLinks_test(link):\n",
    "    \n",
    "    page = requests.get(link)\n",
    "    if page.status_code == requests.codes.ok:\n",
    "        wp = getSoup_test(link)\n",
    "        base_url = 'https://www.bezrealitky.cz'\n",
    "        links = wp.findAll('div', {'product__body'})\n",
    "        return [base_url + equity.find('a')['href'] for equity in links]\n",
    "\n",
    "    next_page_text = wp.find('ul', class_=\"pagination justify-content-md-end\").findAll('li')[-1].text\n",
    "\n",
    "    if next_page_text == 'Další >':\n",
    "        next_page_partial = wp.find('ul', class_=\"pagination justify-content-md-end\").findAll('li')[-1].find('a')['href']\n",
    "        next_page_url = base_url + next_page_partial\n",
    "        links = wp.findAll('div', {'product__body'})\n",
    "        return [base_url + equity.find('a')['href'] for equity in links]\n",
    "    # No more 'Next' pages, finish the script\n",
    "    else:\n",
    "        print('Done')"
   ]
  },
  {
   "cell_type": "code",
   "execution_count": 13,
   "metadata": {},
   "outputs": [],
   "source": [
    "l = \"https://www.bezrealitky.cz/vypis/nabidka-prodej/byt/praha?_token=qNLlM7SSvDXIFrdOKHnbj0gv_-OMf7vw6yUc_-ILcFo\"\n",
    "links = getLinks_test(l)"
   ]
  },
  {
   "cell_type": "code",
   "execution_count": 14,
   "metadata": {},
   "outputs": [
    {
     "data": {
      "text/html": [
       "<div>\n",
       "<style scoped>\n",
       "    .dataframe tbody tr th:only-of-type {\n",
       "        vertical-align: middle;\n",
       "    }\n",
       "\n",
       "    .dataframe tbody tr th {\n",
       "        vertical-align: top;\n",
       "    }\n",
       "\n",
       "    .dataframe thead th {\n",
       "        text-align: right;\n",
       "    }\n",
       "</style>\n",
       "<table border=\"1\" class=\"dataframe\">\n",
       "  <thead>\n",
       "    <tr style=\"text-align: right;\">\n",
       "      <th></th>\n",
       "      <th>value</th>\n",
       "    </tr>\n",
       "  </thead>\n",
       "  <tbody>\n",
       "    <tr>\n",
       "      <th>Internet:</th>\n",
       "      <td></td>\n",
       "    </tr>\n",
       "    <tr>\n",
       "      <th>Číslo inzerátu:</th>\n",
       "      <td>602006</td>\n",
       "    </tr>\n",
       "    <tr>\n",
       "      <th>Dispozice:</th>\n",
       "      <td>4+1</td>\n",
       "    </tr>\n",
       "    <tr>\n",
       "      <th>Plocha:</th>\n",
       "      <td>95 m²</td>\n",
       "    </tr>\n",
       "    <tr>\n",
       "      <th>Cena:</th>\n",
       "      <td>3.290.000 Kč</td>\n",
       "    </tr>\n",
       "    <tr>\n",
       "      <th>Město:</th>\n",
       "      <td>Praha</td>\n",
       "    </tr>\n",
       "    <tr>\n",
       "      <th>Městská část:</th>\n",
       "      <td>Řepy</td>\n",
       "    </tr>\n",
       "    <tr>\n",
       "      <th>Typ vlastnictví:</th>\n",
       "      <td>Družstevní</td>\n",
       "    </tr>\n",
       "    <tr>\n",
       "      <th>Typ budovy:</th>\n",
       "      <td>Panel</td>\n",
       "    </tr>\n",
       "    <tr>\n",
       "      <th>PENB:</th>\n",
       "      <td>D</td>\n",
       "    </tr>\n",
       "    <tr>\n",
       "      <th>Vybavenost:</th>\n",
       "      <td>Nevybavený</td>\n",
       "    </tr>\n",
       "    <tr>\n",
       "      <th>Podlaží:</th>\n",
       "      <td>6</td>\n",
       "    </tr>\n",
       "    <tr>\n",
       "      <th>Balkón:</th>\n",
       "      <td>Ano</td>\n",
       "    </tr>\n",
       "    <tr>\n",
       "      <th>Terasa:</th>\n",
       "      <td>Ne</td>\n",
       "    </tr>\n",
       "    <tr>\n",
       "      <th>Výtah:</th>\n",
       "      <td>Ano</td>\n",
       "    </tr>\n",
       "    <tr>\n",
       "      <th>Garáž:</th>\n",
       "      <td>Ne</td>\n",
       "    </tr>\n",
       "    <tr>\n",
       "      <th>K dispozici od:</th>\n",
       "      <td>05.04.2020</td>\n",
       "    </tr>\n",
       "    <tr>\n",
       "      <th>Typ vytápění:</th>\n",
       "      <td>ústřední dálkové</td>\n",
       "    </tr>\n",
       "    <tr>\n",
       "      <th>Rekonstrukce:</th>\n",
       "      <td>jádro</td>\n",
       "    </tr>\n",
       "    <tr>\n",
       "      <th>lat</th>\n",
       "      <td>50.06745</td>\n",
       "    </tr>\n",
       "    <tr>\n",
       "      <th>long</th>\n",
       "      <td>14.302219</td>\n",
       "    </tr>\n",
       "  </tbody>\n",
       "</table>\n",
       "</div>"
      ],
      "text/plain": [
       "                             value\n",
       "Internet:                         \n",
       "Číslo inzerátu:             602006\n",
       "Dispozice:                     4+1\n",
       "Plocha:                      95 m²\n",
       "Cena:                 3.290.000 Kč\n",
       "Město:                       Praha\n",
       "Městská část:                 Řepy\n",
       "Typ vlastnictví:        Družstevní\n",
       "Typ budovy:                  Panel\n",
       "PENB:                            D\n",
       "Vybavenost:             Nevybavený\n",
       "Podlaží:                         6\n",
       "Balkón:                        Ano\n",
       "Terasa:                         Ne\n",
       "Výtah:                         Ano\n",
       "Garáž:                          Ne\n",
       "K dispozici od:         05.04.2020\n",
       "Typ vytápění:     ústřední dálkové\n",
       "Rekonstrukce:                jádro\n",
       "lat                       50.06745\n",
       "long                     14.302219"
      ]
     },
     "execution_count": 14,
     "metadata": {},
     "output_type": "execute_result"
    }
   ],
   "source": [
    "HouseForSale(links[0]).getDf()"
   ]
  },
  {
   "cell_type": "markdown",
   "metadata": {},
   "source": [
    "## Defining class\n",
    "Manual test working - Downloader_single() working\n",
    "Pagination - Downloader_multi() work in progress"
   ]
  },
  {
   "cell_type": "code",
   "execution_count": 16,
   "metadata": {},
   "outputs": [],
   "source": [
    "# Downloader(l)"
   ]
  },
  {
   "cell_type": "code",
   "execution_count": 17,
   "metadata": {},
   "outputs": [],
   "source": [
    "class Downloader_single:\n",
    "    '''\n",
    "    Download all links real estate to initiate\n",
    "    '''\n",
    "    def __init__(self, link):\n",
    "        '''\n",
    "        Give link to extract links of given webpages\n",
    "        '''\n",
    "        self.link = link\n",
    "    \n",
    "    def getSoup(self):\n",
    "        r = requests.get(self.link)\n",
    "        r.encoding = 'UTF-8'\n",
    "        return BeautifulSoup(r.text, 'lxml')\n",
    "\n",
    "    def getLinks(self):\n",
    "        page = requests.get(self.link)\n",
    "        if page.status_code == requests.codes.ok:\n",
    "            wp = self.getSoup()\n",
    "            base_url = 'https://www.bezrealitky.cz'\n",
    "            links = wp.findAll('div', {'product__body'})\n",
    "            return [base_url + equity.find('a')['href'] for equity in links]"
   ]
  },
  {
   "cell_type": "code",
   "execution_count": 18,
   "metadata": {},
   "outputs": [
    {
     "data": {
      "text/plain": [
       "['https://www.bezrealitky.cz/nemovitosti-byty-domy/604370-nabidka-prodej-bytu-spanielova-praha',\n",
       " 'https://www.bezrealitky.cz/nemovitosti-byty-domy/596362-nabidka-prodej-bytu-merhoutova-prague',\n",
       " 'https://www.bezrealitky.cz/nemovitosti-byty-domy/604185-nabidka-prodej-bytu-ucnovska',\n",
       " 'https://www.bezrealitky.cz/nemovitosti-byty-domy/604354-nabidka-prodej-bytu-sanderova',\n",
       " 'https://www.bezrealitky.cz/nemovitosti-byty-domy/602506-nabidka-prodej-bytu-nekvasilova',\n",
       " 'https://www.bezrealitky.cz/nemovitosti-byty-domy/604357-nabidka-prodej-bytu-mantovska',\n",
       " 'https://www.bezrealitky.cz/nemovitosti-byty-domy/604332-nabidka-prodej-bytu-spanielova-praha',\n",
       " 'https://www.bezrealitky.cz/nemovitosti-byty-domy/597584-nabidka-prodej-bytu-v-remizku-praha',\n",
       " 'https://www.bezrealitky.cz/nemovitosti-byty-domy/603606-nabidka-prodej-bytu-tulesicka',\n",
       " 'https://www.bezrealitky.cz/nemovitosti-byty-domy/604353-nabidka-prodej-bytu-za-zameckem-praha']"
      ]
     },
     "execution_count": 18,
     "metadata": {},
     "output_type": "execute_result"
    }
   ],
   "source": [
    "Downloader_single('https://www.bezrealitky.cz/vypis/nabidka-prodej/byt/praha?_token=qNLlM7SSvDXIFrdOKHnbj0gv_-OMf7vw6yUc_-ILcFo&page=3').getLinks()"
   ]
  },
  {
   "cell_type": "code",
   "execution_count": 19,
   "metadata": {},
   "outputs": [],
   "source": [
    "class Downloader_multi:\n",
    "    '''\n",
    "    Download all links real estate to initiate\n",
    "    '''\n",
    "    def __init__(self, link):\n",
    "        '''\n",
    "        Give link to extract links of given webpages\n",
    "        '''\n",
    "        self.link = link\n",
    "    \n",
    "    def getSoup(self):\n",
    "        r = requests.get(self.link)\n",
    "        r.encoding = 'UTF-8'\n",
    "        return BeautifulSoup(r.text, 'lxml')\n",
    "\n",
    "    def getLinks(self):\n",
    "        page = requests.get(self.link)\n",
    "        if page.status_code == requests.codes.ok:\n",
    "            wp = self.getSoup()\n",
    "            base_url = 'https://www.bezrealitky.cz'\n",
    "            links = wp.findAll('div', {'product__body'})\n",
    "            return [base_url + equity.find('a')['href'] for equity in links]\n",
    "        \n",
    "#         if next_page_text == 'Další >':\n",
    "#             next_page_partial = wp.find('ul', class_=\"pagination justify-content-md-end\").findAll('li')[-1].find('a')['href']\n",
    "#             next_page_url = base_url + next_page_partial\n",
    "#             getLinks(next_page_url)\n",
    "#         # No more 'Next' pages, finish the script\n",
    "#         else:\n",
    "#             print('Done')\n",
    "        \n",
    "            \n",
    "        "
   ]
  },
  {
   "cell_type": "code",
   "execution_count": 20,
   "metadata": {},
   "outputs": [
    {
     "data": {
      "text/plain": [
       "[]"
      ]
     },
     "execution_count": 20,
     "metadata": {},
     "output_type": "execute_result"
    }
   ],
   "source": [
    "Downloader_single('https://www.bezrealitky.cz/vypis/nabidka-prodej/byt/praha?_token=qNLlM7SSvDXIFrdOKHnbj0gv_-OMf7vw6yUc_-ILcFo&page=63').getLinks()"
   ]
  },
  {
   "cell_type": "code",
   "execution_count": 34,
   "metadata": {},
   "outputs": [],
   "source": [
    "class Downloader_multi_byJan:\n",
    "    '''\n",
    "    Download all links real estate to initiate\n",
    "    '''\n",
    "    def __init__(self, link):\n",
    "        '''\n",
    "        Give link to extract links of given webpages\n",
    "        '''\n",
    "        self.link = link\n",
    "    \n",
    "    def getSoup(self):\n",
    "            r = requests.get(link)\n",
    "            r.encoding = 'UTF-8'\n",
    "            return BeautifulSoup(r.text, 'lxml')\n",
    "\n",
    "    def getSoupNext(link): \n",
    "            r = requests.get(link)\n",
    "            r.encoding = 'UTF-8'\n",
    "            return BeautifulSoup(r.text, 'lxml')\n",
    "\n",
    "    def getAllPages(self):    \n",
    "            wp = self.getSoup(link)\n",
    "            base_url = 'https://www.bezrealitky.cz'\n",
    "            test_element = wp.find('ul', class_=\"pagination justify-content-md-end\").find('a', rel = 'next')\n",
    "            pglinks = pd.Series(['https://www.bezrealitky.cz/vypis/nabidka-prodej/byt/praha'])\n",
    "            while test_element != None:\n",
    "                    partial_url = wp.find('ul', class_=\"pagination justify-content-md-end\").find('a', rel = 'next')['href']\n",
    "                    next_url = base_url + partial_url\n",
    "                    pglinks = pglinks.append(pd.Series([next_url]), ignore_index = True)\n",
    "                    wp_next = self.getSoupNext(next_url)\n",
    "                    test_element = wp_next.find('ul', class_=\"pagination justify-content-md-end\").find('a', rel = 'next')\n",
    "                    wp = wp_next\n",
    "            else: print(\"Loop is done\")\n",
    "            # return pglinks\n",
    "        \n",
    "    def getLinks(self):\n",
    "            page = requests.get(link)\n",
    "            if page.status_code == requests.codes.ok:\n",
    "                for pg in pglinks:\n",
    "\n",
    "                    wp = self.getSoup()\n",
    "                    base_url = 'https://www.bezrealitky.cz'\n",
    "                    eqlinks = wp.findAll('div', {'product__body'})\n",
    "                    return [base_url_prague + equity.find('a')['href'] for equity in eqlinks]\n"
   ]
  },
  {
   "cell_type": "code",
   "execution_count": 27,
   "metadata": {},
   "outputs": [],
   "source": [
    "Webpage = Downloader_multi_byJan('https://www.bezrealitky.cz/vypis/nabidka-prodej/byt/praha')"
   ]
  },
  {
   "cell_type": "code",
   "execution_count": 35,
   "metadata": {},
   "outputs": [
    {
     "output_type": "error",
     "ename": "TypeError",
     "evalue": "getSoupNext() takes 1 positional argument but 2 were given",
     "traceback": [
      "\u001b[0;31m---------------------------------------------------------------------------\u001b[0m",
      "\u001b[0;31mTypeError\u001b[0m                                 Traceback (most recent call last)",
      "\u001b[0;32m<ipython-input-35-799582665e4e>\u001b[0m in \u001b[0;36m<module>\u001b[0;34m\u001b[0m\n\u001b[0;32m----> 1\u001b[0;31m \u001b[0mWebpage\u001b[0m\u001b[0;34m.\u001b[0m\u001b[0mgetSoupNext\u001b[0m\u001b[0;34m(\u001b[0m\u001b[0;34m'https://www.bezrealitky.cz/vypis/nabidka-prodej/byt/praha'\u001b[0m\u001b[0;34m)\u001b[0m\u001b[0;34m\u001b[0m\u001b[0;34m\u001b[0m\u001b[0m\n\u001b[0m",
      "\u001b[0;31mTypeError\u001b[0m: getSoupNext() takes 1 positional argument but 2 were given"
     ]
    }
   ],
   "source": [
    "Webpage.getSoupNext('https://www.bezrealitky.cz/vypis/nabidka-prodej/byt/praha')"
   ]
  },
  {
   "cell_type": "code",
   "execution_count": 15,
   "metadata": {},
   "outputs": [],
   "source": [
    "class Downloader_multi_byTiep:\n",
    "    '''\n",
    "    Download all links real estate to initiate\n",
    "    '''\n",
    "    def __init__(self, link):\n",
    "        '''\n",
    "        Give link to extract links of given webpages\n",
    "        '''\n",
    "        self.link = link\n",
    "    \n",
    "    def getSoup(self):\n",
    "            r = requests.get(link)\n",
    "            r.encoding = 'UTF-8'\n",
    "            return BeautifulSoup(r.text, 'lxml')\n",
    "\n",
    "    def getSoupNext(link): \n",
    "            r = requests.get(link)\n",
    "            r.encoding = 'UTF-8'\n",
    "            return BeautifulSoup(r.text, 'lxml')\n",
    "\n",
    "    def getLinks(self):\n",
    "            page = requests.get(link)\n",
    "            if page.status_code == requests.codes.ok:\n",
    "                wp = self.getSoup()\n",
    "                base_url = 'https://www.bezrealitky.cz'\n",
    "                links = wp.findAll('div', {'product__body'})\n",
    "                return [base_url_prague + equity.find('a')['href'] for equity in links]\n",
    "\n",
    "    def getAllPages(self):    \n",
    "            wp = getSoup_test(link)\n",
    "            base_url = 'https://www.bezrealitky.cz'\n",
    "            test_element = wp.find('ul', class_=\"pagination justify-content-md-end\").find('a', rel = 'next')\n",
    "            links = pd.Series(['https://www.bezrealitky.cz/vypis/nabidka-prodej/byt/praha'])\n",
    "            while test_element != None:\n",
    "                    partial_url = wp.find('ul', class_=\"pagination justify-content-md-end\").find('a', rel = 'next')['href']\n",
    "                    next_url = base_url + partial_url\n",
    "                    links = links.append(pd.Series([next_url]), ignore_index = True)\n",
    "                    wp_next = getSoupNext_test(next_url)\n",
    "                    test_element = wp_next.find('ul', class_=\"pagination justify-content-md-end\").find('a', rel = 'next')\n",
    "                    wp = wp_next\n",
    "            else: print(\"Loop is done\")\n",
    "            return links"
   ]
  },
  {
   "cell_type": "code",
   "execution_count": 17,
   "metadata": {},
   "outputs": [
    {
     "output_type": "error",
     "ename": "NameError",
     "evalue": "name 'getSoup_test' is not defined",
     "traceback": [
      "\u001b[0;31m---------------------------------------------------------------------------\u001b[0m",
      "\u001b[0;31mNameError\u001b[0m                                 Traceback (most recent call last)",
      "\u001b[0;32m<ipython-input-17-8709ebd66e95>\u001b[0m in \u001b[0;36m<module>\u001b[0;34m\u001b[0m\n\u001b[0;32m----> 1\u001b[0;31m \u001b[0mDownloader_multi_byTiep\u001b[0m\u001b[0;34m(\u001b[0m\u001b[0;34m'https://www.bezrealitky.cz/vypis/nabidka-prodej/byt/praha'\u001b[0m\u001b[0;34m)\u001b[0m\u001b[0;34m.\u001b[0m\u001b[0mgetAllPages\u001b[0m\u001b[0;34m(\u001b[0m\u001b[0;34m)\u001b[0m\u001b[0;34m\u001b[0m\u001b[0;34m\u001b[0m\u001b[0m\n\u001b[0m",
      "\u001b[0;32m<ipython-input-15-d91edcb31346>\u001b[0m in \u001b[0;36mgetAllPages\u001b[0;34m(self)\u001b[0m\n\u001b[1;32m     28\u001b[0m \u001b[0;34m\u001b[0m\u001b[0m\n\u001b[1;32m     29\u001b[0m     \u001b[0;32mdef\u001b[0m \u001b[0mgetAllPages\u001b[0m\u001b[0;34m(\u001b[0m\u001b[0mself\u001b[0m\u001b[0;34m)\u001b[0m\u001b[0;34m:\u001b[0m\u001b[0;34m\u001b[0m\u001b[0;34m\u001b[0m\u001b[0m\n\u001b[0;32m---> 30\u001b[0;31m             \u001b[0mwp\u001b[0m \u001b[0;34m=\u001b[0m \u001b[0mgetSoup_test\u001b[0m\u001b[0;34m(\u001b[0m\u001b[0mlink\u001b[0m\u001b[0;34m)\u001b[0m\u001b[0;34m\u001b[0m\u001b[0;34m\u001b[0m\u001b[0m\n\u001b[0m\u001b[1;32m     31\u001b[0m             \u001b[0mbase_url\u001b[0m \u001b[0;34m=\u001b[0m \u001b[0;34m'https://www.bezrealitky.cz'\u001b[0m\u001b[0;34m\u001b[0m\u001b[0;34m\u001b[0m\u001b[0m\n\u001b[1;32m     32\u001b[0m             \u001b[0mtest_element\u001b[0m \u001b[0;34m=\u001b[0m \u001b[0mwp\u001b[0m\u001b[0;34m.\u001b[0m\u001b[0mfind\u001b[0m\u001b[0;34m(\u001b[0m\u001b[0;34m'ul'\u001b[0m\u001b[0;34m,\u001b[0m \u001b[0mclass_\u001b[0m\u001b[0;34m=\u001b[0m\u001b[0;34m\"pagination justify-content-md-end\"\u001b[0m\u001b[0;34m)\u001b[0m\u001b[0;34m.\u001b[0m\u001b[0mfind\u001b[0m\u001b[0;34m(\u001b[0m\u001b[0;34m'a'\u001b[0m\u001b[0;34m,\u001b[0m \u001b[0mrel\u001b[0m \u001b[0;34m=\u001b[0m \u001b[0;34m'next'\u001b[0m\u001b[0;34m)\u001b[0m\u001b[0;34m\u001b[0m\u001b[0;34m\u001b[0m\u001b[0m\n",
      "\u001b[0;31mNameError\u001b[0m: name 'getSoup_test' is not defined"
     ]
    }
   ],
   "source": [
    "Downloader_multi_byTiep('https://www.bezrealitky.cz/vypis/nabidka-prodej/byt/praha').getAllPages()"
   ]
  },
  {
   "cell_type": "code",
   "execution_count": 24,
   "metadata": {},
   "outputs": [],
   "source": [
    "def getSoup_test(link):\n",
    "        r = requests.get(link)\n",
    "        r.encoding = 'UTF-8'\n",
    "        return BeautifulSoup(r.text, 'lxml')\n",
    "    \n",
    "def getSoupNext_test(link): \n",
    "        r = requests.get(link)\n",
    "        r.encoding = 'UTF-8'\n",
    "        return BeautifulSoup(r.text, 'lxml')\n",
    "\n",
    "def getLinks_test(link):\n",
    "        page = requests.get(link)\n",
    "        if page.status_code == requests.codes.ok:\n",
    "            wp = self.getSoup()\n",
    "            base_url = 'https://www.bezrealitky.cz'\n",
    "            links = wp.findAll('div', {'product__body'})\n",
    "            return [base_url_prague + equity.find('a')['href'] for equity in links]\n",
    "    \n",
    "def getAllPages_test(link):    \n",
    "        wp = getSoup_test(link)\n",
    "        base_url = 'https://www.bezrealitky.cz'\n",
    "        test_element = wp.find('ul', class_=\"pagination justify-content-md-end\").find('a', rel = 'next')\n",
    "        links = pd.Series(['https://www.bezrealitky.cz/vypis/nabidka-prodej/byt/praha'])\n",
    "        while test_element != None:\n",
    "                partial_url = wp.find('ul', class_=\"pagination justify-content-md-end\").find('a', rel = 'next')['href']\n",
    "                next_url = base_url + partial_url\n",
    "                links = links.append(pd.Series([next_url]), ignore_index = True)\n",
    "                wp_next = getSoupNext_test(next_url)\n",
    "                test_element = wp_next.find('ul', class_=\"pagination justify-content-md-end\").find('a', rel = 'next')\n",
    "                wp = wp_next\n",
    "        else: print(\"Loop is done\")\n",
    "        return links"
   ]
  },
  {
   "cell_type": "code",
   "execution_count": 25,
   "metadata": {},
   "outputs": [
    {
     "name": "stdout",
     "output_type": "stream",
     "text": [
      "Loop is done\n"
     ]
    },
    {
     "data": {
      "text/plain": [
       "0     https://www.bezrealitky.cz/vypis/nabidka-prode...\n",
       "1     https://www.bezrealitky.cz/vypis/nabidka-prode...\n",
       "2     https://www.bezrealitky.cz/vypis/nabidka-prode...\n",
       "3     https://www.bezrealitky.cz/vypis/nabidka-prode...\n",
       "4     https://www.bezrealitky.cz/vypis/nabidka-prode...\n",
       "5     https://www.bezrealitky.cz/vypis/nabidka-prode...\n",
       "6     https://www.bezrealitky.cz/vypis/nabidka-prode...\n",
       "7     https://www.bezrealitky.cz/vypis/nabidka-prode...\n",
       "8     https://www.bezrealitky.cz/vypis/nabidka-prode...\n",
       "9     https://www.bezrealitky.cz/vypis/nabidka-prode...\n",
       "10    https://www.bezrealitky.cz/vypis/nabidka-prode...\n",
       "11    https://www.bezrealitky.cz/vypis/nabidka-prode...\n",
       "12    https://www.bezrealitky.cz/vypis/nabidka-prode...\n",
       "13    https://www.bezrealitky.cz/vypis/nabidka-prode...\n",
       "14    https://www.bezrealitky.cz/vypis/nabidka-prode...\n",
       "15    https://www.bezrealitky.cz/vypis/nabidka-prode...\n",
       "16    https://www.bezrealitky.cz/vypis/nabidka-prode...\n",
       "17    https://www.bezrealitky.cz/vypis/nabidka-prode...\n",
       "18    https://www.bezrealitky.cz/vypis/nabidka-prode...\n",
       "19    https://www.bezrealitky.cz/vypis/nabidka-prode...\n",
       "20    https://www.bezrealitky.cz/vypis/nabidka-prode...\n",
       "21    https://www.bezrealitky.cz/vypis/nabidka-prode...\n",
       "22    https://www.bezrealitky.cz/vypis/nabidka-prode...\n",
       "23    https://www.bezrealitky.cz/vypis/nabidka-prode...\n",
       "24    https://www.bezrealitky.cz/vypis/nabidka-prode...\n",
       "25    https://www.bezrealitky.cz/vypis/nabidka-prode...\n",
       "26    https://www.bezrealitky.cz/vypis/nabidka-prode...\n",
       "27    https://www.bezrealitky.cz/vypis/nabidka-prode...\n",
       "28    https://www.bezrealitky.cz/vypis/nabidka-prode...\n",
       "29    https://www.bezrealitky.cz/vypis/nabidka-prode...\n",
       "                            ...                        \n",
       "32    https://www.bezrealitky.cz/vypis/nabidka-prode...\n",
       "33    https://www.bezrealitky.cz/vypis/nabidka-prode...\n",
       "34    https://www.bezrealitky.cz/vypis/nabidka-prode...\n",
       "35    https://www.bezrealitky.cz/vypis/nabidka-prode...\n",
       "36    https://www.bezrealitky.cz/vypis/nabidka-prode...\n",
       "37    https://www.bezrealitky.cz/vypis/nabidka-prode...\n",
       "38    https://www.bezrealitky.cz/vypis/nabidka-prode...\n",
       "39    https://www.bezrealitky.cz/vypis/nabidka-prode...\n",
       "40    https://www.bezrealitky.cz/vypis/nabidka-prode...\n",
       "41    https://www.bezrealitky.cz/vypis/nabidka-prode...\n",
       "42    https://www.bezrealitky.cz/vypis/nabidka-prode...\n",
       "43    https://www.bezrealitky.cz/vypis/nabidka-prode...\n",
       "44    https://www.bezrealitky.cz/vypis/nabidka-prode...\n",
       "45    https://www.bezrealitky.cz/vypis/nabidka-prode...\n",
       "46    https://www.bezrealitky.cz/vypis/nabidka-prode...\n",
       "47    https://www.bezrealitky.cz/vypis/nabidka-prode...\n",
       "48    https://www.bezrealitky.cz/vypis/nabidka-prode...\n",
       "49    https://www.bezrealitky.cz/vypis/nabidka-prode...\n",
       "50    https://www.bezrealitky.cz/vypis/nabidka-prode...\n",
       "51    https://www.bezrealitky.cz/vypis/nabidka-prode...\n",
       "52    https://www.bezrealitky.cz/vypis/nabidka-prode...\n",
       "53    https://www.bezrealitky.cz/vypis/nabidka-prode...\n",
       "54    https://www.bezrealitky.cz/vypis/nabidka-prode...\n",
       "55    https://www.bezrealitky.cz/vypis/nabidka-prode...\n",
       "56    https://www.bezrealitky.cz/vypis/nabidka-prode...\n",
       "57    https://www.bezrealitky.cz/vypis/nabidka-prode...\n",
       "58    https://www.bezrealitky.cz/vypis/nabidka-prode...\n",
       "59    https://www.bezrealitky.cz/vypis/nabidka-prode...\n",
       "60    https://www.bezrealitky.cz/vypis/nabidka-prode...\n",
       "61    https://www.bezrealitky.cz/vypis/nabidka-prode...\n",
       "Length: 62, dtype: object"
      ]
     },
     "execution_count": 25,
     "metadata": {},
     "output_type": "execute_result"
    }
   ],
   "source": [
    "links = getAllPages_test('https://www.bezrealitky.cz/vypis/nabidka-prodej/byt/praha')\n",
    "links"
   ]
  },
  {
   "cell_type": "code",
   "execution_count": 26,
   "metadata": {},
   "outputs": [
    {
     "data": {
      "text/plain": [
       "'https://www.bezrealitky.cz/vypis/nabidka-prodej/byt/praha?page=2'"
      ]
     },
     "execution_count": 26,
     "metadata": {},
     "output_type": "execute_result"
    }
   ],
   "source": [
    "links[1]"
   ]
  },
  {
   "cell_type": "code",
   "execution_count": 27,
   "metadata": {},
   "outputs": [
    {
     "name": "stdout",
     "output_type": "stream",
     "text": [
      "https://www.bezrealitky.cz/vypis/nabidka-prodej/byt/praha\n"
     ]
    }
   ],
   "source": [
    "print(links[0])"
   ]
  },
  {
   "cell_type": "code",
   "execution_count": 28,
   "metadata": {},
   "outputs": [
    {
     "data": {
      "text/plain": [
       "0    https://www.bezrealitky.cz/vypis/nabidka-prode...\n",
       "dtype: object"
      ]
     },
     "execution_count": 28,
     "metadata": {},
     "output_type": "execute_result"
    }
   ],
   "source": [
    "links = pd.Series(['https://www.bezrealitky.cz/vypis/nabidka-prodej/byt/praha'])\n",
    "links\n",
    "links.append(pd.Series(['https://www.bezrealitky.cz/vypis/nabidka-prodej/byt/praha?page=2']))\n",
    "links"
   ]
  },
  {
   "cell_type": "code",
   "execution_count": 29,
   "metadata": {},
   "outputs": [],
   "source": [
    "soup = getSoup_test('https://www.bezrealitky.cz/vypis/nabidka-prodej/byt/praha?page=60')"
   ]
  },
  {
   "cell_type": "code",
   "execution_count": 30,
   "metadata": {},
   "outputs": [
    {
     "data": {
      "text/plain": [
       "True"
      ]
     },
     "execution_count": 30,
     "metadata": {},
     "output_type": "execute_result"
    }
   ],
   "source": [
    "soup.find('ul', class_=\"pagination justify-content-md-end\").find('a', rel = 'next') != None"
   ]
  },
  {
   "cell_type": "markdown",
   "metadata": {},
   "source": [
    "## Tutorial for pagination\n",
    "link - https://letslearnabout.net/python/beautiful-soup/how-to-get-the-next-page-on-beautiful-soup/#next-page"
   ]
  },
  {
   "cell_type": "code",
   "execution_count": null,
   "metadata": {},
   "outputs": [],
   "source": [
    "def parse_page(next_url):\n",
    "    # HTTP GET requests\n",
    "  page = requests.get(next_url)\n",
    "\n",
    "  # Checking if we successfully fetched the URL\n",
    "  if page.status_code == requests.codes.ok:\n",
    "    bs = BeautifulSoup(page.text, 'lxml')\n",
    "\n",
    "    check_no_results = bs.find('ul', class_=\"SearchResults\").find('p')\n",
    "    if check_no_results and check_no_results.text:\n",
    "        print('Search returned no results.')\n",
    "        return None\n",
    "\n",
    "    # Fetching all items\n",
    "    list_all_cd = bs.findAll('li', class_='ResultItem')\n",
    "\n",
    "    \n",
    "    for cd in list_all_cd:\n",
    "      get_cd_attributes(cd)\n",
    "\n",
    "    next_page_text = bs.find('ul', class_=\"SearchBreadcrumbs\").findAll('li')[-1].text\n",
    "    \n",
    "    if next_page_text == 'Next':\n",
    "        next_page_partial = bs.find('ul', class_=\"SearchBreadcrumbs\").findAll(\n",
    "            'li')[-1].find('a')['href']\n",
    "        next_page_url = base_url + next_page_partial\n",
    "        print(next_page_url)\n",
    "        parse_page(next_page_url)\n",
    "    # No more 'Next' pages, finish the script\n",
    "    else:\n",
    "        export_table_and_print(data)\n",
    "\n",
    "parse_page(search_url)"
   ]
  }
 ],
 "metadata": {
  "file_extension": ".py",
  "kernelspec": {
   "display_name": "Python 3",
   "language": "python",
   "name": "python3"
  },
  "language_info": {
   "codemirror_mode": {
    "name": "ipython",
    "version": 3
   },
   "file_extension": ".py",
   "mimetype": "text/x-python",
   "name": "python",
   "nbconvert_exporter": "python",
   "pygments_lexer": "ipython3",
   "version": "3.7.3-final"
  },
  "mimetype": "text/x-python",
  "name": "python",
  "npconvert_exporter": "python",
  "pygments_lexer": "ipython3",
  "version": 3
 },
 "nbformat": 4,
 "nbformat_minor": 4
}